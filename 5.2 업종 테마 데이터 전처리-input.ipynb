{
 "cells": [
  {
   "cell_type": "markdown",
   "metadata": {
    "id": "N1aXMBB33W3h"
   },
   "source": [
    "[![Open In Colab](https://colab.research.google.com/assets/colab-badge.svg)](https://colab.research.google.com/github/corazzon/finance-data-analysis/blob/main/5.2%20%EC%97%85%EC%A2%85%20%ED%85%8C%EB%A7%88%20%EB%8D%B0%EC%9D%B4%ED%84%B0%20%EC%A0%84%EC%B2%98%EB%A6%AC-input.ipynb)\n",
    "\n",
    "## 업종/테마 전처리 미션확인\n",
    "\n",
    "* 팀장님이 우리 회사와 유사한 업종과 테마로 사업을 하고 있는 종목을 수집해서 분석해 달라는 미션을 주셨습니다.\n",
    "* 코스피에서 해당 업종 혹은 테마의 시가총액이 가장 많은 종목을 찾아주세요.\n",
    "* 해당 업종/테마의 거래량이 가장 많은 종목을 찾아주세요.\n",
    "* 최근 52주 최고가에서 현재가 기준으로 가장 손실이 크게 난 종목은 어떤 종목일까요?\n",
    "* 거래대금이 20위 안에 있는 코스피 종목 중에 \"PER\"가 가장 낮은 종목은 무엇일까요?\n",
    "\n",
    "\n",
    "### 주요 업종/테마\n",
    "\n",
    "* 실습에 참고해 보세요.\n",
    "* 제약 업종 : https://finance.naver.com/sise/sise_group_detail.nhn?type=upjong&no=35\n",
    "* 의료기기 : https://finance.naver.com/sise/sise_group_detail.nhn?type=theme&no=175\n",
    "* 코로나19(덱사메타손) : https://finance.naver.com/sise/sise_group_detail.nhn?type=theme&no=442\n",
    "* 제약업체 : https://finance.naver.com/sise/sise_group_detail.nhn?type=theme&no=172\n",
    "* 바이오시밀러(복제 바이오의약품) : https://finance.naver.com/sise/sise_group_detail.nhn?type=theme&no=241"
   ]
  },
  {
   "cell_type": "code",
   "execution_count": 1,
   "metadata": {
    "id": "kgkrSMtY3W3h"
   },
   "outputs": [],
   "source": [
    "# 라이브러리 로드하기 : 데이터 분석을 위한 pandas, 수치계산을 위한 numpy\n",
    "import pandas as pd\n",
    "import numpy as np"
   ]
  },
  {
   "cell_type": "code",
   "execution_count": 4,
   "metadata": {
    "id": "CKsCqpoA3W3i",
    "scrolled": true
   },
   "outputs": [
    {
     "data": {
      "text/plain": [
       "(158, 49)"
      ]
     },
     "execution_count": 4,
     "metadata": {},
     "output_type": "execute_result"
    }
   ],
   "source": [
    "# 4.업종/테마주 수집시에 저장해 두었던 csv 파일을 다시 읽어옵니다.\n",
    "# 'upjong_no_35_연-월-일.csv'\n",
    "# 종목코드는 꼭 문자형태로 불러옵니다. dtype={\"종목코드\":np.object}\n",
    "file_name = \"upjong_no_261_2022-07-12.csv\"\n",
    "raw = pd.read_csv(file_name, dtype={'종목코드':object})\n",
    "raw.shape"
   ]
  },
  {
   "cell_type": "code",
   "execution_count": 5,
   "metadata": {},
   "outputs": [
    {
     "data": {
      "text/html": [
       "<div>\n",
       "<style scoped>\n",
       "    .dataframe tbody tr th:only-of-type {\n",
       "        vertical-align: middle;\n",
       "    }\n",
       "\n",
       "    .dataframe tbody tr th {\n",
       "        vertical-align: top;\n",
       "    }\n",
       "\n",
       "    .dataframe thead th {\n",
       "        text-align: right;\n",
       "    }\n",
       "</style>\n",
       "<table border=\"1\" class=\"dataframe\">\n",
       "  <thead>\n",
       "    <tr style=\"text-align: right;\">\n",
       "      <th></th>\n",
       "      <th>종목명</th>\n",
       "      <th>현재가</th>\n",
       "      <th>전일비</th>\n",
       "      <th>등락률</th>\n",
       "      <th>매수호가</th>\n",
       "      <th>매도호가</th>\n",
       "      <th>거래량</th>\n",
       "      <th>거래대금</th>\n",
       "      <th>전일거래량</th>\n",
       "      <th>조회일자</th>\n",
       "      <th>...</th>\n",
       "      <th>PBRlBPS (2022.03)</th>\n",
       "      <th>배당수익률</th>\n",
       "      <th>동일업종 PER</th>\n",
       "      <th>동일업종 등락률</th>\n",
       "      <th>배당수익률l2021.12</th>\n",
       "      <th>PERlEPS(2021.12)</th>\n",
       "      <th>PBRlBPS (2021.12)</th>\n",
       "      <th>PERlEPS(2022.02)</th>\n",
       "      <th>PBRlBPS (2022.02)</th>\n",
       "      <th>배당수익률l2021.11</th>\n",
       "    </tr>\n",
       "  </thead>\n",
       "  <tbody>\n",
       "    <tr>\n",
       "      <th>0</th>\n",
       "      <td>카이노스메드 *</td>\n",
       "      <td>11450.0</td>\n",
       "      <td>1520.0</td>\n",
       "      <td>+15.31%</td>\n",
       "      <td>9610.0</td>\n",
       "      <td>9930.0</td>\n",
       "      <td>125641.0</td>\n",
       "      <td>1413.0</td>\n",
       "      <td>0.0</td>\n",
       "      <td>2022-07-12</td>\n",
       "      <td>...</td>\n",
       "      <td>125.82배  l  79원</td>\n",
       "      <td>NaN</td>\n",
       "      <td>106.06배</td>\n",
       "      <td>+0.27%</td>\n",
       "      <td>NaN</td>\n",
       "      <td>NaN</td>\n",
       "      <td>NaN</td>\n",
       "      <td>NaN</td>\n",
       "      <td>NaN</td>\n",
       "      <td>NaN</td>\n",
       "    </tr>\n",
       "    <tr>\n",
       "      <th>1</th>\n",
       "      <td>일동제약</td>\n",
       "      <td>38350.0</td>\n",
       "      <td>2900.0</td>\n",
       "      <td>+8.18%</td>\n",
       "      <td>36600.0</td>\n",
       "      <td>36650.0</td>\n",
       "      <td>1291093.0</td>\n",
       "      <td>49785.0</td>\n",
       "      <td>6060869.0</td>\n",
       "      <td>2022-07-12</td>\n",
       "      <td>...</td>\n",
       "      <td>5.47배  l  7,471원</td>\n",
       "      <td>NaN</td>\n",
       "      <td>106.06배</td>\n",
       "      <td>+0.29%</td>\n",
       "      <td>NaN</td>\n",
       "      <td>NaN</td>\n",
       "      <td>NaN</td>\n",
       "      <td>NaN</td>\n",
       "      <td>NaN</td>\n",
       "      <td>NaN</td>\n",
       "    </tr>\n",
       "    <tr>\n",
       "      <th>2</th>\n",
       "      <td>이글벳 *</td>\n",
       "      <td>6640.0</td>\n",
       "      <td>470.0</td>\n",
       "      <td>+7.62%</td>\n",
       "      <td>6050.0</td>\n",
       "      <td>6150.0</td>\n",
       "      <td>362894.0</td>\n",
       "      <td>2395.0</td>\n",
       "      <td>31238.0</td>\n",
       "      <td>2022-07-12</td>\n",
       "      <td>...</td>\n",
       "      <td>1.87배  l  3,391원</td>\n",
       "      <td>NaN</td>\n",
       "      <td>106.06배</td>\n",
       "      <td>+0.27%</td>\n",
       "      <td>0.79%</td>\n",
       "      <td>NaN</td>\n",
       "      <td>NaN</td>\n",
       "      <td>NaN</td>\n",
       "      <td>NaN</td>\n",
       "      <td>NaN</td>\n",
       "    </tr>\n",
       "    <tr>\n",
       "      <th>3</th>\n",
       "      <td>애드바이오텍 *</td>\n",
       "      <td>5000.0</td>\n",
       "      <td>230.0</td>\n",
       "      <td>+4.82%</td>\n",
       "      <td>4715.0</td>\n",
       "      <td>4950.0</td>\n",
       "      <td>18666.0</td>\n",
       "      <td>91.0</td>\n",
       "      <td>54126.0</td>\n",
       "      <td>2022-07-12</td>\n",
       "      <td>...</td>\n",
       "      <td>NaN</td>\n",
       "      <td>NaN</td>\n",
       "      <td>106.06배</td>\n",
       "      <td>+0.29%</td>\n",
       "      <td>NaN</td>\n",
       "      <td>N/A  l  -347원</td>\n",
       "      <td>3.20배  l  1,530원</td>\n",
       "      <td>NaN</td>\n",
       "      <td>NaN</td>\n",
       "      <td>NaN</td>\n",
       "    </tr>\n",
       "    <tr>\n",
       "      <th>4</th>\n",
       "      <td>신풍제약우</td>\n",
       "      <td>48600.0</td>\n",
       "      <td>1600.0</td>\n",
       "      <td>+3.40%</td>\n",
       "      <td>48650.0</td>\n",
       "      <td>48700.0</td>\n",
       "      <td>2085.0</td>\n",
       "      <td>101.0</td>\n",
       "      <td>29385.0</td>\n",
       "      <td>2022-07-12</td>\n",
       "      <td>...</td>\n",
       "      <td>6.91배  l  6,792원</td>\n",
       "      <td>NaN</td>\n",
       "      <td>106.06배</td>\n",
       "      <td>+0.27%</td>\n",
       "      <td>NaN</td>\n",
       "      <td>NaN</td>\n",
       "      <td>NaN</td>\n",
       "      <td>NaN</td>\n",
       "      <td>NaN</td>\n",
       "      <td>NaN</td>\n",
       "    </tr>\n",
       "  </tbody>\n",
       "</table>\n",
       "<p>5 rows × 49 columns</p>\n",
       "</div>"
      ],
      "text/plain": [
       "        종목명      현재가     전일비      등락률     매수호가     매도호가        거래량     거래대금  \\\n",
       "0  카이노스메드 *  11450.0  1520.0  +15.31%   9610.0   9930.0   125641.0   1413.0   \n",
       "1      일동제약  38350.0  2900.0   +8.18%  36600.0  36650.0  1291093.0  49785.0   \n",
       "2     이글벳 *   6640.0   470.0   +7.62%   6050.0   6150.0   362894.0   2395.0   \n",
       "3  애드바이오텍 *   5000.0   230.0   +4.82%   4715.0   4950.0    18666.0     91.0   \n",
       "4     신풍제약우  48600.0  1600.0   +3.40%  48650.0  48700.0     2085.0    101.0   \n",
       "\n",
       "       전일거래량        조회일자  ... PBRlBPS (2022.03) 배당수익률  동일업종 PER  동일업종 등락률  \\\n",
       "0        0.0  2022-07-12  ...   125.82배  l  79원   NaN   106.06배    +0.27%   \n",
       "1  6060869.0  2022-07-12  ...  5.47배  l  7,471원   NaN   106.06배    +0.29%   \n",
       "2    31238.0  2022-07-12  ...  1.87배  l  3,391원   NaN   106.06배    +0.27%   \n",
       "3    54126.0  2022-07-12  ...               NaN   NaN   106.06배    +0.29%   \n",
       "4    29385.0  2022-07-12  ...  6.91배  l  6,792원   NaN   106.06배    +0.27%   \n",
       "\n",
       "   배당수익률l2021.12  PERlEPS(2021.12)  PBRlBPS (2021.12)  PERlEPS(2022.02)  \\\n",
       "0            NaN               NaN                NaN               NaN   \n",
       "1            NaN               NaN                NaN               NaN   \n",
       "2          0.79%               NaN                NaN               NaN   \n",
       "3            NaN     N/A  l  -347원   3.20배  l  1,530원               NaN   \n",
       "4            NaN               NaN                NaN               NaN   \n",
       "\n",
       "   PBRlBPS (2022.02)  배당수익률l2021.11  \n",
       "0                NaN            NaN  \n",
       "1                NaN            NaN  \n",
       "2                NaN            NaN  \n",
       "3                NaN            NaN  \n",
       "4                NaN            NaN  \n",
       "\n",
       "[5 rows x 49 columns]"
      ]
     },
     "execution_count": 5,
     "metadata": {},
     "output_type": "execute_result"
    }
   ],
   "source": [
    "# 미리보기 합니다.\n",
    "raw.head()"
   ]
  },
  {
   "cell_type": "markdown",
   "metadata": {},
   "source": [
    "## 전체 컬럼 출력하기"
   ]
  },
  {
   "cell_type": "code",
   "execution_count": 7,
   "metadata": {},
   "outputs": [],
   "source": [
    "# 전체 컬럼이 출력되도록 display 설정을 변경합니다.\n",
    "pd.options.display.max_columns = None"
   ]
  },
  {
   "cell_type": "code",
   "execution_count": 8,
   "metadata": {},
   "outputs": [
    {
     "data": {
      "text/html": [
       "<div>\n",
       "<style scoped>\n",
       "    .dataframe tbody tr th:only-of-type {\n",
       "        vertical-align: middle;\n",
       "    }\n",
       "\n",
       "    .dataframe tbody tr th {\n",
       "        vertical-align: top;\n",
       "    }\n",
       "\n",
       "    .dataframe thead th {\n",
       "        text-align: right;\n",
       "    }\n",
       "</style>\n",
       "<table border=\"1\" class=\"dataframe\">\n",
       "  <thead>\n",
       "    <tr style=\"text-align: right;\">\n",
       "      <th></th>\n",
       "      <th>종목명</th>\n",
       "      <th>현재가</th>\n",
       "      <th>전일비</th>\n",
       "      <th>등락률</th>\n",
       "      <th>매수호가</th>\n",
       "      <th>매도호가</th>\n",
       "      <th>거래량</th>\n",
       "      <th>거래대금</th>\n",
       "      <th>전일거래량</th>\n",
       "      <th>조회일자</th>\n",
       "      <th>종목명_전처리</th>\n",
       "      <th>종목코드</th>\n",
       "      <th>매출액</th>\n",
       "      <th>영업이익</th>\n",
       "      <th>당기순이익</th>\n",
       "      <th>영업이익률</th>\n",
       "      <th>순이익률</th>\n",
       "      <th>ROE(지배주주)</th>\n",
       "      <th>부채비율</th>\n",
       "      <th>당좌비율</th>\n",
       "      <th>유보율</th>\n",
       "      <th>EPS(원)</th>\n",
       "      <th>PER(배)</th>\n",
       "      <th>BPS(원)</th>\n",
       "      <th>PBR(배)</th>\n",
       "      <th>주당배당금(원)</th>\n",
       "      <th>시가배당률(%)</th>\n",
       "      <th>배당성향(%)</th>\n",
       "      <th>시가총액</th>\n",
       "      <th>시가총액순위</th>\n",
       "      <th>상장주식수</th>\n",
       "      <th>액면가l매매단위</th>\n",
       "      <th>외국인한도주식수(A)</th>\n",
       "      <th>외국인보유주식수(B)</th>\n",
       "      <th>외국인소진율(B/A)</th>\n",
       "      <th>투자의견l목표주가</th>\n",
       "      <th>52주최고l최저</th>\n",
       "      <th>PERlEPS(2022.03)</th>\n",
       "      <th>추정PERlEPS</th>\n",
       "      <th>PBRlBPS (2022.03)</th>\n",
       "      <th>배당수익률</th>\n",
       "      <th>동일업종 PER</th>\n",
       "      <th>동일업종 등락률</th>\n",
       "      <th>배당수익률l2021.12</th>\n",
       "      <th>PERlEPS(2021.12)</th>\n",
       "      <th>PBRlBPS (2021.12)</th>\n",
       "      <th>PERlEPS(2022.02)</th>\n",
       "      <th>PBRlBPS (2022.02)</th>\n",
       "      <th>배당수익률l2021.11</th>\n",
       "    </tr>\n",
       "  </thead>\n",
       "  <tbody>\n",
       "    <tr>\n",
       "      <th>0</th>\n",
       "      <td>카이노스메드 *</td>\n",
       "      <td>11450.0</td>\n",
       "      <td>1520.0</td>\n",
       "      <td>+15.31%</td>\n",
       "      <td>9610.0</td>\n",
       "      <td>9930.0</td>\n",
       "      <td>125641.0</td>\n",
       "      <td>1413.0</td>\n",
       "      <td>0.0</td>\n",
       "      <td>2022-07-12</td>\n",
       "      <td>카이노스메드</td>\n",
       "      <td>284620</td>\n",
       "      <td>NaN</td>\n",
       "      <td>NaN</td>\n",
       "      <td>NaN</td>\n",
       "      <td>NaN</td>\n",
       "      <td>NaN</td>\n",
       "      <td>NaN</td>\n",
       "      <td>NaN</td>\n",
       "      <td>NaN</td>\n",
       "      <td>NaN</td>\n",
       "      <td>NaN</td>\n",
       "      <td>NaN</td>\n",
       "      <td>NaN</td>\n",
       "      <td>NaN</td>\n",
       "      <td>NaN</td>\n",
       "      <td>NaN</td>\n",
       "      <td>NaN</td>\n",
       "      <td>2,219  억원</td>\n",
       "      <td>코스닥 362위</td>\n",
       "      <td>22322396</td>\n",
       "      <td>500원  l  1주</td>\n",
       "      <td>22322396</td>\n",
       "      <td>828098</td>\n",
       "      <td>3.71%</td>\n",
       "      <td>N/A  l  N/A</td>\n",
       "      <td>21,510  l  8,629</td>\n",
       "      <td>N/A  l  -770원</td>\n",
       "      <td>N/A  l  N/A</td>\n",
       "      <td>125.82배  l  79원</td>\n",
       "      <td>NaN</td>\n",
       "      <td>106.06배</td>\n",
       "      <td>+0.27%</td>\n",
       "      <td>NaN</td>\n",
       "      <td>NaN</td>\n",
       "      <td>NaN</td>\n",
       "      <td>NaN</td>\n",
       "      <td>NaN</td>\n",
       "      <td>NaN</td>\n",
       "    </tr>\n",
       "    <tr>\n",
       "      <th>1</th>\n",
       "      <td>일동제약</td>\n",
       "      <td>38350.0</td>\n",
       "      <td>2900.0</td>\n",
       "      <td>+8.18%</td>\n",
       "      <td>36600.0</td>\n",
       "      <td>36650.0</td>\n",
       "      <td>1291093.0</td>\n",
       "      <td>49785.0</td>\n",
       "      <td>6060869.0</td>\n",
       "      <td>2022-07-12</td>\n",
       "      <td>일동제약</td>\n",
       "      <td>249420</td>\n",
       "      <td>1530.0</td>\n",
       "      <td>-60.0</td>\n",
       "      <td>-210.0</td>\n",
       "      <td>-3.92</td>\n",
       "      <td>-13.73</td>\n",
       "      <td>NaN</td>\n",
       "      <td>NaN</td>\n",
       "      <td>NaN</td>\n",
       "      <td>NaN</td>\n",
       "      <td>NaN</td>\n",
       "      <td>NaN</td>\n",
       "      <td>NaN</td>\n",
       "      <td>NaN</td>\n",
       "      <td>NaN</td>\n",
       "      <td>NaN</td>\n",
       "      <td>NaN</td>\n",
       "      <td>1조  949  억원</td>\n",
       "      <td>코스피 200위</td>\n",
       "      <td>26803285</td>\n",
       "      <td>1,000원  l  1주</td>\n",
       "      <td>26803285</td>\n",
       "      <td>1088414</td>\n",
       "      <td>4.06%</td>\n",
       "      <td>4.00매수  l  50,000</td>\n",
       "      <td>79,500  l  12,400</td>\n",
       "      <td>N/A  l  -8,637원</td>\n",
       "      <td>N/A  l  N/A</td>\n",
       "      <td>5.47배  l  7,471원</td>\n",
       "      <td>NaN</td>\n",
       "      <td>106.06배</td>\n",
       "      <td>+0.29%</td>\n",
       "      <td>NaN</td>\n",
       "      <td>NaN</td>\n",
       "      <td>NaN</td>\n",
       "      <td>NaN</td>\n",
       "      <td>NaN</td>\n",
       "      <td>NaN</td>\n",
       "    </tr>\n",
       "    <tr>\n",
       "      <th>2</th>\n",
       "      <td>이글벳 *</td>\n",
       "      <td>6640.0</td>\n",
       "      <td>470.0</td>\n",
       "      <td>+7.62%</td>\n",
       "      <td>6050.0</td>\n",
       "      <td>6150.0</td>\n",
       "      <td>362894.0</td>\n",
       "      <td>2395.0</td>\n",
       "      <td>31238.0</td>\n",
       "      <td>2022-07-12</td>\n",
       "      <td>이글벳</td>\n",
       "      <td>044960</td>\n",
       "      <td>NaN</td>\n",
       "      <td>NaN</td>\n",
       "      <td>NaN</td>\n",
       "      <td>NaN</td>\n",
       "      <td>NaN</td>\n",
       "      <td>NaN</td>\n",
       "      <td>NaN</td>\n",
       "      <td>NaN</td>\n",
       "      <td>NaN</td>\n",
       "      <td>NaN</td>\n",
       "      <td>NaN</td>\n",
       "      <td>NaN</td>\n",
       "      <td>NaN</td>\n",
       "      <td>NaN</td>\n",
       "      <td>NaN</td>\n",
       "      <td>NaN</td>\n",
       "      <td>803  억원</td>\n",
       "      <td>코스닥 996위</td>\n",
       "      <td>12641883</td>\n",
       "      <td>500원  l  1주</td>\n",
       "      <td>12641883</td>\n",
       "      <td>139638</td>\n",
       "      <td>1.10%</td>\n",
       "      <td>N/A  l  N/A</td>\n",
       "      <td>9,700  l  5,600</td>\n",
       "      <td>21.03배  l  302원</td>\n",
       "      <td>N/A  l  N/A</td>\n",
       "      <td>1.87배  l  3,391원</td>\n",
       "      <td>NaN</td>\n",
       "      <td>106.06배</td>\n",
       "      <td>+0.27%</td>\n",
       "      <td>0.79%</td>\n",
       "      <td>NaN</td>\n",
       "      <td>NaN</td>\n",
       "      <td>NaN</td>\n",
       "      <td>NaN</td>\n",
       "      <td>NaN</td>\n",
       "    </tr>\n",
       "    <tr>\n",
       "      <th>3</th>\n",
       "      <td>애드바이오텍 *</td>\n",
       "      <td>5000.0</td>\n",
       "      <td>230.0</td>\n",
       "      <td>+4.82%</td>\n",
       "      <td>4715.0</td>\n",
       "      <td>4950.0</td>\n",
       "      <td>18666.0</td>\n",
       "      <td>91.0</td>\n",
       "      <td>54126.0</td>\n",
       "      <td>2022-07-12</td>\n",
       "      <td>애드바이오텍</td>\n",
       "      <td>179530</td>\n",
       "      <td>NaN</td>\n",
       "      <td>NaN</td>\n",
       "      <td>NaN</td>\n",
       "      <td>NaN</td>\n",
       "      <td>NaN</td>\n",
       "      <td>NaN</td>\n",
       "      <td>NaN</td>\n",
       "      <td>NaN</td>\n",
       "      <td>NaN</td>\n",
       "      <td>NaN</td>\n",
       "      <td>NaN</td>\n",
       "      <td>NaN</td>\n",
       "      <td>NaN</td>\n",
       "      <td>NaN</td>\n",
       "      <td>NaN</td>\n",
       "      <td>NaN</td>\n",
       "      <td>448  억원</td>\n",
       "      <td>코스닥 1357위</td>\n",
       "      <td>9140444</td>\n",
       "      <td>500원  l  1주</td>\n",
       "      <td>9140444</td>\n",
       "      <td>270546</td>\n",
       "      <td>2.96%</td>\n",
       "      <td>N/A  l  N/A</td>\n",
       "      <td>11,400  l  4,485</td>\n",
       "      <td>NaN</td>\n",
       "      <td>N/A  l  N/A</td>\n",
       "      <td>NaN</td>\n",
       "      <td>NaN</td>\n",
       "      <td>106.06배</td>\n",
       "      <td>+0.29%</td>\n",
       "      <td>NaN</td>\n",
       "      <td>N/A  l  -347원</td>\n",
       "      <td>3.20배  l  1,530원</td>\n",
       "      <td>NaN</td>\n",
       "      <td>NaN</td>\n",
       "      <td>NaN</td>\n",
       "    </tr>\n",
       "    <tr>\n",
       "      <th>4</th>\n",
       "      <td>신풍제약우</td>\n",
       "      <td>48600.0</td>\n",
       "      <td>1600.0</td>\n",
       "      <td>+3.40%</td>\n",
       "      <td>48650.0</td>\n",
       "      <td>48700.0</td>\n",
       "      <td>2085.0</td>\n",
       "      <td>101.0</td>\n",
       "      <td>29385.0</td>\n",
       "      <td>2022-07-12</td>\n",
       "      <td>신풍제약우</td>\n",
       "      <td>019175</td>\n",
       "      <td>NaN</td>\n",
       "      <td>NaN</td>\n",
       "      <td>NaN</td>\n",
       "      <td>NaN</td>\n",
       "      <td>NaN</td>\n",
       "      <td>NaN</td>\n",
       "      <td>NaN</td>\n",
       "      <td>NaN</td>\n",
       "      <td>NaN</td>\n",
       "      <td>NaN</td>\n",
       "      <td>NaN</td>\n",
       "      <td>NaN</td>\n",
       "      <td>NaN</td>\n",
       "      <td>NaN</td>\n",
       "      <td>NaN</td>\n",
       "      <td>NaN</td>\n",
       "      <td>1,032  억원</td>\n",
       "      <td>코스피 794위</td>\n",
       "      <td>2200000</td>\n",
       "      <td>500원  l  1주</td>\n",
       "      <td>2200000</td>\n",
       "      <td>8518</td>\n",
       "      <td>0.39%</td>\n",
       "      <td>N/A  l  N/A</td>\n",
       "      <td>135,000  l  30,950</td>\n",
       "      <td>N/A  l  -333원</td>\n",
       "      <td>N/A  l  N/A</td>\n",
       "      <td>6.91배  l  6,792원</td>\n",
       "      <td>NaN</td>\n",
       "      <td>106.06배</td>\n",
       "      <td>+0.27%</td>\n",
       "      <td>NaN</td>\n",
       "      <td>NaN</td>\n",
       "      <td>NaN</td>\n",
       "      <td>NaN</td>\n",
       "      <td>NaN</td>\n",
       "      <td>NaN</td>\n",
       "    </tr>\n",
       "  </tbody>\n",
       "</table>\n",
       "</div>"
      ],
      "text/plain": [
       "        종목명      현재가     전일비      등락률     매수호가     매도호가        거래량     거래대금  \\\n",
       "0  카이노스메드 *  11450.0  1520.0  +15.31%   9610.0   9930.0   125641.0   1413.0   \n",
       "1      일동제약  38350.0  2900.0   +8.18%  36600.0  36650.0  1291093.0  49785.0   \n",
       "2     이글벳 *   6640.0   470.0   +7.62%   6050.0   6150.0   362894.0   2395.0   \n",
       "3  애드바이오텍 *   5000.0   230.0   +4.82%   4715.0   4950.0    18666.0     91.0   \n",
       "4     신풍제약우  48600.0  1600.0   +3.40%  48650.0  48700.0     2085.0    101.0   \n",
       "\n",
       "       전일거래량        조회일자 종목명_전처리    종목코드     매출액  영업이익  당기순이익  영업이익률   순이익률  \\\n",
       "0        0.0  2022-07-12  카이노스메드  284620     NaN   NaN    NaN    NaN    NaN   \n",
       "1  6060869.0  2022-07-12    일동제약  249420  1530.0 -60.0 -210.0  -3.92 -13.73   \n",
       "2    31238.0  2022-07-12     이글벳  044960     NaN   NaN    NaN    NaN    NaN   \n",
       "3    54126.0  2022-07-12  애드바이오텍  179530     NaN   NaN    NaN    NaN    NaN   \n",
       "4    29385.0  2022-07-12   신풍제약우  019175     NaN   NaN    NaN    NaN    NaN   \n",
       "\n",
       "   ROE(지배주주)  부채비율  당좌비율  유보율  EPS(원)  PER(배)  BPS(원)  PBR(배)  주당배당금(원)  \\\n",
       "0        NaN   NaN   NaN  NaN     NaN     NaN     NaN     NaN       NaN   \n",
       "1        NaN   NaN   NaN  NaN     NaN     NaN     NaN     NaN       NaN   \n",
       "2        NaN   NaN   NaN  NaN     NaN     NaN     NaN     NaN       NaN   \n",
       "3        NaN   NaN   NaN  NaN     NaN     NaN     NaN     NaN       NaN   \n",
       "4        NaN   NaN   NaN  NaN     NaN     NaN     NaN     NaN       NaN   \n",
       "\n",
       "   시가배당률(%)  배당성향(%)         시가총액     시가총액순위     상장주식수       액면가l매매단위  \\\n",
       "0       NaN      NaN    2,219  억원   코스닥 362위  22322396    500원  l  1주   \n",
       "1       NaN      NaN  1조  949  억원   코스피 200위  26803285  1,000원  l  1주   \n",
       "2       NaN      NaN      803  억원   코스닥 996위  12641883    500원  l  1주   \n",
       "3       NaN      NaN      448  억원  코스닥 1357위   9140444    500원  l  1주   \n",
       "4       NaN      NaN    1,032  억원   코스피 794위   2200000    500원  l  1주   \n",
       "\n",
       "   외국인한도주식수(A)  외국인보유주식수(B) 외국인소진율(B/A)          투자의견l목표주가  \\\n",
       "0     22322396       828098       3.71%        N/A  l  N/A   \n",
       "1     26803285      1088414       4.06%  4.00매수  l  50,000   \n",
       "2     12641883       139638       1.10%        N/A  l  N/A   \n",
       "3      9140444       270546       2.96%        N/A  l  N/A   \n",
       "4      2200000         8518       0.39%        N/A  l  N/A   \n",
       "\n",
       "             52주최고l최저 PERlEPS(2022.03)    추정PERlEPS PBRlBPS (2022.03)  배당수익률  \\\n",
       "0    21,510  l  8,629    N/A  l  -770원  N/A  l  N/A   125.82배  l  79원    NaN   \n",
       "1   79,500  l  12,400  N/A  l  -8,637원  N/A  l  N/A  5.47배  l  7,471원    NaN   \n",
       "2     9,700  l  5,600  21.03배  l  302원  N/A  l  N/A  1.87배  l  3,391원    NaN   \n",
       "3    11,400  l  4,485              NaN  N/A  l  N/A               NaN    NaN   \n",
       "4  135,000  l  30,950    N/A  l  -333원  N/A  l  N/A  6.91배  l  6,792원    NaN   \n",
       "\n",
       "  동일업종 PER 동일업종 등락률 배당수익률l2021.12 PERlEPS(2021.12) PBRlBPS (2021.12)  \\\n",
       "0  106.06배   +0.27%           NaN              NaN               NaN   \n",
       "1  106.06배   +0.29%           NaN              NaN               NaN   \n",
       "2  106.06배   +0.27%         0.79%              NaN               NaN   \n",
       "3  106.06배   +0.29%           NaN    N/A  l  -347원  3.20배  l  1,530원   \n",
       "4  106.06배   +0.27%           NaN              NaN               NaN   \n",
       "\n",
       "  PERlEPS(2022.02) PBRlBPS (2022.02) 배당수익률l2021.11  \n",
       "0              NaN               NaN           NaN  \n",
       "1              NaN               NaN           NaN  \n",
       "2              NaN               NaN           NaN  \n",
       "3              NaN               NaN           NaN  \n",
       "4              NaN               NaN           NaN  "
      ]
     },
     "execution_count": 8,
     "metadata": {},
     "output_type": "execute_result"
    }
   ],
   "source": [
    "# 전체 컬럼이 보이는지 확인합니다.\n",
    "raw.head()"
   ]
  },
  {
   "cell_type": "code",
   "execution_count": 9,
   "metadata": {
    "id": "zLTrJOYZ3W3i"
   },
   "outputs": [
    {
     "data": {
      "text/plain": [
       "Index(['종목명', '현재가', '전일비', '등락률', '매수호가', '매도호가', '거래량', '거래대금', '전일거래량',\n",
       "       '조회일자', '종목명_전처리', '종목코드', '매출액', '영업이익', '당기순이익', '영업이익률', '순이익률',\n",
       "       'ROE(지배주주)', '부채비율', '당좌비율', '유보율', 'EPS(원)', 'PER(배)', 'BPS(원)',\n",
       "       'PBR(배)', '주당배당금(원)', '시가배당률(%)', '배당성향(%)', '시가총액', '시가총액순위', '상장주식수',\n",
       "       '액면가l매매단위', '외국인한도주식수(A)', '외국인보유주식수(B)', '외국인소진율(B/A)', '투자의견l목표주가',\n",
       "       '52주최고l최저', 'PERlEPS(2022.03)', '추정PERlEPS', 'PBRlBPS (2022.03)',\n",
       "       '배당수익률', '동일업종 PER', '동일업종 등락률', '배당수익률l2021.12', 'PERlEPS(2021.12)',\n",
       "       'PBRlBPS (2021.12)', 'PERlEPS(2022.02)', 'PBRlBPS (2022.02)',\n",
       "       '배당수익률l2021.11'],\n",
       "      dtype='object')"
      ]
     },
     "execution_count": 9,
     "metadata": {},
     "output_type": "execute_result"
    }
   ],
   "source": [
    "# DataFrame의 column만 따로 봅니다.\n",
    "raw.columns"
   ]
  },
  {
   "cell_type": "markdown",
   "metadata": {},
   "source": [
    "## 결측치"
   ]
  },
  {
   "cell_type": "code",
   "execution_count": null,
   "metadata": {},
   "outputs": [],
   "source": []
  },
  {
   "cell_type": "code",
   "execution_count": 11,
   "metadata": {},
   "outputs": [
    {
     "data": {
      "text/plain": [
       "종목명                    0\n",
       "현재가                    0\n",
       "전일비                    0\n",
       "등락률                    0\n",
       "매수호가                   0\n",
       "매도호가                   0\n",
       "거래량                    0\n",
       "거래대금                   0\n",
       "전일거래량                  0\n",
       "조회일자                   0\n",
       "종목명_전처리                0\n",
       "종목코드                   0\n",
       "매출액                  124\n",
       "영업이익                 125\n",
       "당기순이익                130\n",
       "영업이익률                125\n",
       "순이익률                 130\n",
       "ROE(지배주주)            158\n",
       "부채비율                 158\n",
       "당좌비율                 158\n",
       "유보율                  158\n",
       "EPS(원)               132\n",
       "PER(배)               132\n",
       "BPS(원)               158\n",
       "PBR(배)               158\n",
       "주당배당금(원)             158\n",
       "시가배당률(%)             158\n",
       "배당성향(%)              158\n",
       "시가총액                   0\n",
       "시가총액순위                 0\n",
       "상장주식수                  0\n",
       "액면가l매매단위               2\n",
       "외국인한도주식수(A)            0\n",
       "외국인보유주식수(B)            0\n",
       "외국인소진율(B/A)            0\n",
       "투자의견l목표주가              0\n",
       "52주최고l최저               0\n",
       "PERlEPS(2022.03)       8\n",
       "추정PERlEPS              0\n",
       "PBRlBPS (2022.03)      8\n",
       "배당수익률                158\n",
       "동일업종 PER               0\n",
       "동일업종 등락률               0\n",
       "배당수익률l2021.12         79\n",
       "PERlEPS(2021.12)     151\n",
       "PBRlBPS (2021.12)    151\n",
       "PERlEPS(2022.02)     157\n",
       "PBRlBPS (2022.02)    157\n",
       "배당수익률l2021.11        157\n",
       "dtype: int64"
      ]
     },
     "execution_count": 11,
     "metadata": {},
     "output_type": "execute_result"
    }
   ],
   "source": [
    "# 결측치의 합계를 구합니다.\n",
    "raw.isnull().sum()"
   ]
  },
  {
   "cell_type": "code",
   "execution_count": 12,
   "metadata": {},
   "outputs": [
    {
     "data": {
      "text/plain": [
       "종목명                    0.000000\n",
       "현재가                    0.000000\n",
       "전일비                    0.000000\n",
       "등락률                    0.000000\n",
       "매수호가                   0.000000\n",
       "매도호가                   0.000000\n",
       "거래량                    0.000000\n",
       "거래대금                   0.000000\n",
       "전일거래량                  0.000000\n",
       "조회일자                   0.000000\n",
       "종목명_전처리                0.000000\n",
       "종목코드                   0.000000\n",
       "매출액                   78.481013\n",
       "영업이익                  79.113924\n",
       "당기순이익                 82.278481\n",
       "영업이익률                 79.113924\n",
       "순이익률                  82.278481\n",
       "ROE(지배주주)            100.000000\n",
       "부채비율                 100.000000\n",
       "당좌비율                 100.000000\n",
       "유보율                  100.000000\n",
       "EPS(원)                83.544304\n",
       "PER(배)                83.544304\n",
       "BPS(원)               100.000000\n",
       "PBR(배)               100.000000\n",
       "주당배당금(원)             100.000000\n",
       "시가배당률(%)             100.000000\n",
       "배당성향(%)              100.000000\n",
       "시가총액                   0.000000\n",
       "시가총액순위                 0.000000\n",
       "상장주식수                  0.000000\n",
       "액면가l매매단위               1.265823\n",
       "외국인한도주식수(A)            0.000000\n",
       "외국인보유주식수(B)            0.000000\n",
       "외국인소진율(B/A)            0.000000\n",
       "투자의견l목표주가              0.000000\n",
       "52주최고l최저               0.000000\n",
       "PERlEPS(2022.03)       5.063291\n",
       "추정PERlEPS              0.000000\n",
       "PBRlBPS (2022.03)      5.063291\n",
       "배당수익률                100.000000\n",
       "동일업종 PER               0.000000\n",
       "동일업종 등락률               0.000000\n",
       "배당수익률l2021.12         50.000000\n",
       "PERlEPS(2021.12)      95.569620\n",
       "PBRlBPS (2021.12)     95.569620\n",
       "PERlEPS(2022.02)      99.367089\n",
       "PBRlBPS (2022.02)     99.367089\n",
       "배당수익률l2021.11         99.367089\n",
       "dtype: float64"
      ]
     },
     "execution_count": 12,
     "metadata": {},
     "output_type": "execute_result"
    }
   ],
   "source": [
    "# 결측치의 비율을 구합니다.\n",
    "raw.isnull().mean() * 100"
   ]
  },
  {
   "cell_type": "code",
   "execution_count": 13,
   "metadata": {},
   "outputs": [
    {
     "data": {
      "text/plain": [
       "(158, 49)"
      ]
     },
     "execution_count": 13,
     "metadata": {},
     "output_type": "execute_result"
    }
   ],
   "source": [
    "# 결측치 제거 전에 행과 열의 수를 봅니다.\n",
    "raw.shape"
   ]
  },
  {
   "cell_type": "code",
   "execution_count": 16,
   "metadata": {},
   "outputs": [
    {
     "data": {
      "text/plain": [
       "(158, 39)"
      ]
     },
     "execution_count": 16,
     "metadata": {},
     "output_type": "execute_result"
    }
   ],
   "source": [
    "# 전체가 결측치인 컬럼은 삭제 합니다.\n",
    "# df\n",
    "df = raw.dropna(axis=1, how='all').copy()\n",
    "df.shape"
   ]
  },
  {
   "cell_type": "code",
   "execution_count": 17,
   "metadata": {},
   "outputs": [
    {
     "data": {
      "text/plain": [
       "10"
      ]
     },
     "execution_count": 17,
     "metadata": {},
     "output_type": "execute_result"
    }
   ],
   "source": [
    "# 삭제된 컬럼의 수를 계산해 봅니다.\n",
    "raw.shape[1] - df.shape[1]"
   ]
  },
  {
   "cell_type": "code",
   "execution_count": 18,
   "metadata": {},
   "outputs": [
    {
     "name": "stdout",
     "output_type": "stream",
     "text": [
      "<class 'pandas.core.frame.DataFrame'>\n",
      "RangeIndex: 158 entries, 0 to 157\n",
      "Data columns (total 39 columns):\n",
      " #   Column             Non-Null Count  Dtype  \n",
      "---  ------             --------------  -----  \n",
      " 0   종목명                158 non-null    object \n",
      " 1   현재가                158 non-null    float64\n",
      " 2   전일비                158 non-null    float64\n",
      " 3   등락률                158 non-null    object \n",
      " 4   매수호가               158 non-null    float64\n",
      " 5   매도호가               158 non-null    float64\n",
      " 6   거래량                158 non-null    float64\n",
      " 7   거래대금               158 non-null    float64\n",
      " 8   전일거래량              158 non-null    float64\n",
      " 9   조회일자               158 non-null    object \n",
      " 10  종목명_전처리            158 non-null    object \n",
      " 11  종목코드               158 non-null    object \n",
      " 12  매출액                34 non-null     float64\n",
      " 13  영업이익               33 non-null     float64\n",
      " 14  당기순이익              28 non-null     float64\n",
      " 15  영업이익률              33 non-null     float64\n",
      " 16  순이익률               28 non-null     float64\n",
      " 17  EPS(원)             26 non-null     float64\n",
      " 18  PER(배)             26 non-null     float64\n",
      " 19  시가총액               158 non-null    object \n",
      " 20  시가총액순위             158 non-null    object \n",
      " 21  상장주식수              158 non-null    int64  \n",
      " 22  액면가l매매단위           156 non-null    object \n",
      " 23  외국인한도주식수(A)        158 non-null    int64  \n",
      " 24  외국인보유주식수(B)        158 non-null    int64  \n",
      " 25  외국인소진율(B/A)        158 non-null    object \n",
      " 26  투자의견l목표주가          158 non-null    object \n",
      " 27  52주최고l최저           158 non-null    object \n",
      " 28  PERlEPS(2022.03)   150 non-null    object \n",
      " 29  추정PERlEPS          158 non-null    object \n",
      " 30  PBRlBPS (2022.03)  150 non-null    object \n",
      " 31  동일업종 PER           158 non-null    object \n",
      " 32  동일업종 등락률           158 non-null    object \n",
      " 33  배당수익률l2021.12      79 non-null     object \n",
      " 34  PERlEPS(2021.12)   7 non-null      object \n",
      " 35  PBRlBPS (2021.12)  7 non-null      object \n",
      " 36  PERlEPS(2022.02)   1 non-null      object \n",
      " 37  PBRlBPS (2022.02)  1 non-null      object \n",
      " 38  배당수익률l2021.11      1 non-null      object \n",
      "dtypes: float64(14), int64(3), object(22)\n",
      "memory usage: 48.3+ KB\n"
     ]
    }
   ],
   "source": [
    "# info를 통해 결측치 데이터 타입을 확인합니다.\n",
    "df.info()"
   ]
  },
  {
   "cell_type": "markdown",
   "metadata": {
    "id": "G5Xlnb_63W3i"
   },
   "source": [
    "## 파생변수 만들기와 텍스트 데이터 다루기\n",
    "<img src=\"https://pandas.pydata.org/docs/_images/05_newcolumn_1.svg\">\n",
    "\n",
    "* 코스피/코스닥 구분 만들기\n",
    "* 시가총액 순위 분리하기\n",
    "* 액면가l매매단위\n",
    "* 52주최고l최저"
   ]
  },
  {
   "cell_type": "markdown",
   "metadata": {},
   "source": [
    "### 코스피/코스닥 컬럼 만들기"
   ]
  },
  {
   "cell_type": "code",
   "execution_count": 27,
   "metadata": {
    "scrolled": false
   },
   "outputs": [],
   "source": [
    "# \"코스피/코스닥\" 컬럼을 만듭니다.\n",
    "#  * 는 코스닥 종목입니다. str.endswith 를 사용합니다.\n",
    "df.loc[df[\"종목명\"].str.endswith(\"*\"), \"코스피/코스닥\"] = \"코스닥\"\n",
    "df.loc[~df[\"종목명\"].str.endswith(\"*\"), \"코스피/코스닥\"] = \"코스피\""
   ]
  },
  {
   "cell_type": "code",
   "execution_count": 28,
   "metadata": {},
   "outputs": [
    {
     "data": {
      "text/plain": [
       "0    코스닥\n",
       "1    코스피\n",
       "2    코스닥\n",
       "3    코스닥\n",
       "4    코스피\n",
       "Name: 코스피/코스닥, dtype: object"
      ]
     },
     "execution_count": 28,
     "metadata": {},
     "output_type": "execute_result"
    }
   ],
   "source": [
    "df['코스피/코스닥'].head()"
   ]
  },
  {
   "cell_type": "code",
   "execution_count": 29,
   "metadata": {},
   "outputs": [
    {
     "data": {
      "text/plain": [
       "코스닥    98\n",
       "코스피    60\n",
       "Name: 코스피/코스닥, dtype: int64"
      ]
     },
     "execution_count": 29,
     "metadata": {},
     "output_type": "execute_result"
    }
   ],
   "source": [
    "# \"코스피/코스닥\" 빈도수를 확인합니다.\n",
    "df[\"코스피/코스닥\"].value_counts()"
   ]
  },
  {
   "cell_type": "markdown",
   "metadata": {
    "id": "nj3Jra_t3W3i"
   },
   "source": [
    "###  시가총액 수치형태로 만들기"
   ]
  },
  {
   "cell_type": "code",
   "execution_count": 44,
   "metadata": {
    "id": "CFR4cSkh3W3i"
   },
   "outputs": [
    {
     "name": "stderr",
     "output_type": "stream",
     "text": [
      "C:\\Users\\HANON\\AppData\\Local\\Temp\\ipykernel_24132\\2563229320.py:3: FutureWarning: The default value of regex will change from True to False in a future version.\n",
      "  df['시가총액(억원)'] = df['시가총액(억원)'].str.replace(\"조|,\", \"\")\n"
     ]
    },
    {
     "data": {
      "text/plain": [
       "0      2219\n",
       "1      1949\n",
       "2       803\n",
       "3       448\n",
       "4      1032\n",
       "       ... \n",
       "153     611\n",
       "154    4042\n",
       "155     595\n",
       "156    2494\n",
       "157    4107\n",
       "Name: 시가총액(억원), Length: 158, dtype: int32"
      ]
     },
     "execution_count": 44,
     "metadata": {},
     "output_type": "execute_result"
    }
   ],
   "source": [
    "# or를 의미하는 | 는 엔터키 위에 있는 키를 shift키를 누르면 나옵니다.\n",
    "df['시가총액(억원)'] = df[\"시가총액\"].str.replace(\"억원\", \"\")\n",
    "df['시가총액(억원)'] = df['시가총액(억원)'].str.replace(\"조|,\", \"\")\n",
    "df[\"시가총액(억원)\"] = df[\"시가총액(억원)\"].str.replace(\" \", \"\")\n",
    "df['시가총액(억원)'] = df['시가총액(억원)'].str.strip()\n",
    "df['시가총액(억원)'] = df['시가총액(억원)'].astype(int)\n",
    "df[\"시가총액(억원)\"]"
   ]
  },
  {
   "cell_type": "markdown",
   "metadata": {},
   "source": [
    "* [정규 표현식 - 위키백과, 우리 모두의 백과사전](https://ko.wikipedia.org/wiki/%EC%A0%95%EA%B7%9C_%ED%91%9C%ED%98%84%EC%8B%9D)"
   ]
  },
  {
   "cell_type": "code",
   "execution_count": 48,
   "metadata": {},
   "outputs": [
    {
     "name": "stderr",
     "output_type": "stream",
     "text": [
      "C:\\Users\\HANON\\AppData\\Local\\Temp\\ipykernel_24132\\2692878543.py:2: FutureWarning: The default value of regex will change from True to False in a future version.\n",
      "  df[\"시가총액(억원)\"]= df[\"시가총액\"].str.replace(\"[^0-9]\", \"\").astype(int)\n"
     ]
    },
    {
     "data": {
      "text/plain": [
       "0    2219\n",
       "Name: 시가총액(억원), dtype: int32"
      ]
     },
     "execution_count": 48,
     "metadata": {},
     "output_type": "execute_result"
    }
   ],
   "source": [
    "# 정규표현식을 사용한 숫자 추출\n",
    "df[\"시가총액(억원)\"]= df[\"시가총액\"].str.replace(\"[^0-9]\", \"\").astype(int)\n",
    "df[\"시가총액(억원)\"].head(1)"
   ]
  },
  {
   "cell_type": "markdown",
   "metadata": {},
   "source": [
    "### 시가총액 순위 수치데이터로 만들기"
   ]
  },
  {
   "cell_type": "code",
   "execution_count": 54,
   "metadata": {
    "id": "eP5Tsc5E3W3i",
    "scrolled": true
   },
   "outputs": [
    {
     "data": {
      "text/plain": [
       "0       362\n",
       "1       200\n",
       "2       996\n",
       "3      1357\n",
       "4       794\n",
       "       ... \n",
       "153    1189\n",
       "154     158\n",
       "155    1206\n",
       "156     306\n",
       "157     154\n",
       "Name: 시가총액순위(전처리), Length: 158, dtype: int32"
      ]
     },
     "execution_count": 54,
     "metadata": {},
     "output_type": "execute_result"
    }
   ],
   "source": [
    "# split을 사용하는 방법\n",
    "# '시가총액순위(전처리)' column에서도 '위'를 빼고 수치데이터로 변경합니다.\n",
    "df[\"시가총액순위(전처리)\"] = df['시가총액순위'].str.split(\" \", expand=True)[1]\n",
    "df[\"시가총액순위(전처리)\"] = df[\"시가총액순위(전처리)\"].str.replace(\"위\", \"\").astype(int)\n",
    "df[\"시가총액순위(전처리)\"]"
   ]
  },
  {
   "cell_type": "code",
   "execution_count": 59,
   "metadata": {},
   "outputs": [
    {
     "name": "stderr",
     "output_type": "stream",
     "text": [
      "C:\\Users\\HANON\\AppData\\Local\\Temp\\ipykernel_24132\\465635988.py:3: FutureWarning: The default value of regex will change from True to False in a future version.\n",
      "  df[\"시가총액순위(전처리)\"] = df[\"시가총액순위\"].str.replace(\"[^0-9]\", \"\").astype(int)\n"
     ]
    }
   ],
   "source": [
    "# 정규표현식을 사용하는 방법도 있습니다. \n",
    "# 숫자를 제외한 문자는 빈문자\"\"로 변경하도록 합니다.\n",
    "df[\"시가총액순위(전처리)\"] = df[\"시가총액순위\"].str.replace(\"[^0-9]\", \"\").astype(int)"
   ]
  },
  {
   "cell_type": "markdown",
   "metadata": {},
   "source": [
    "### 52주최고l최저 "
   ]
  },
  {
   "cell_type": "code",
   "execution_count": 73,
   "metadata": {
    "id": "6nL6aqa43W3i"
   },
   "outputs": [],
   "source": [
    "# '52주최고l최저' => 52주최고, 52주최저 두 개의  컬럼으로 나누어 전처리 합니다.\n",
    "df[\"52주최고\"] = df[\"52주최고l최저\"].str.split(\"l\", expand=True)[0].str.replace(\",\", \"\").astype(int)\n",
    "df[\"52주최저\"] = df[\"52주최고l최저\"].str.split(\"l\", expand=True)[1].str.replace(\",\", \"\").astype(int)"
   ]
  },
  {
   "cell_type": "code",
   "execution_count": null,
   "metadata": {
    "id": "nHELWCTs3W3i"
   },
   "outputs": [],
   "source": [
    "# 일부 column들을 수치형 데이터로 바꿀수 있도록 ','와 같은 문자들을 없애고\n",
    "# 새로운 column에 수치형 데이터로 입력합니다.\n",
    "# 이런 수치형 데이터의 column들로 새로운 데이터 column들을 생성합니다.\n"
   ]
  },
  {
   "cell_type": "code",
   "execution_count": 74,
   "metadata": {
    "id": "nHELWCTs3W3i"
   },
   "outputs": [],
   "source": [
    "# 52주차액: 52주최고 - 52주최저 \n",
    "# 52주차액비율 : 52주최고 / 52주최저 \n",
    "df[\"52주차액\"] = df[\"52주최고\"] - df[\"52주최저\"]\n",
    "df[\"52주차액비율\"] = df[\"52주최고\"] / df[\"52주최저\"]"
   ]
  },
  {
   "cell_type": "code",
   "execution_count": 75,
   "metadata": {
    "id": "nHELWCTs3W3i"
   },
   "outputs": [],
   "source": [
    "# 현재-최고가 : 현재가 - 52주최고\n",
    "# 현재/최고가비율 : 현재가 / 52주최고\n",
    "df[\"현재-최고가\"] = df[\"현재가\"] - df[\"52주최고\"]\n",
    "df[\"현재/최고가비율\"] = df[\"현재가\"] / df[\"52주최고\"]"
   ]
  },
  {
   "cell_type": "code",
   "execution_count": 76,
   "metadata": {},
   "outputs": [
    {
     "data": {
      "text/html": [
       "<div>\n",
       "<style scoped>\n",
       "    .dataframe tbody tr th:only-of-type {\n",
       "        vertical-align: middle;\n",
       "    }\n",
       "\n",
       "    .dataframe tbody tr th {\n",
       "        vertical-align: top;\n",
       "    }\n",
       "\n",
       "    .dataframe thead th {\n",
       "        text-align: right;\n",
       "    }\n",
       "</style>\n",
       "<table border=\"1\" class=\"dataframe\">\n",
       "  <thead>\n",
       "    <tr style=\"text-align: right;\">\n",
       "      <th></th>\n",
       "      <th>종목명</th>\n",
       "      <th>52주차액</th>\n",
       "      <th>52주차액비율</th>\n",
       "      <th>52주최고</th>\n",
       "      <th>52주최저</th>\n",
       "      <th>현재-최고가</th>\n",
       "      <th>현재/최고가비율</th>\n",
       "    </tr>\n",
       "  </thead>\n",
       "  <tbody>\n",
       "    <tr>\n",
       "      <th>0</th>\n",
       "      <td>카이노스메드 *</td>\n",
       "      <td>12881</td>\n",
       "      <td>2.492757</td>\n",
       "      <td>21510</td>\n",
       "      <td>8629</td>\n",
       "      <td>-10060.0</td>\n",
       "      <td>0.532311</td>\n",
       "    </tr>\n",
       "    <tr>\n",
       "      <th>1</th>\n",
       "      <td>일동제약</td>\n",
       "      <td>67100</td>\n",
       "      <td>6.411290</td>\n",
       "      <td>79500</td>\n",
       "      <td>12400</td>\n",
       "      <td>-41150.0</td>\n",
       "      <td>0.482390</td>\n",
       "    </tr>\n",
       "    <tr>\n",
       "      <th>2</th>\n",
       "      <td>이글벳 *</td>\n",
       "      <td>4100</td>\n",
       "      <td>1.732143</td>\n",
       "      <td>9700</td>\n",
       "      <td>5600</td>\n",
       "      <td>-3060.0</td>\n",
       "      <td>0.684536</td>\n",
       "    </tr>\n",
       "    <tr>\n",
       "      <th>3</th>\n",
       "      <td>애드바이오텍 *</td>\n",
       "      <td>6915</td>\n",
       "      <td>2.541806</td>\n",
       "      <td>11400</td>\n",
       "      <td>4485</td>\n",
       "      <td>-6400.0</td>\n",
       "      <td>0.438596</td>\n",
       "    </tr>\n",
       "    <tr>\n",
       "      <th>4</th>\n",
       "      <td>신풍제약우</td>\n",
       "      <td>104050</td>\n",
       "      <td>4.361874</td>\n",
       "      <td>135000</td>\n",
       "      <td>30950</td>\n",
       "      <td>-86400.0</td>\n",
       "      <td>0.360000</td>\n",
       "    </tr>\n",
       "  </tbody>\n",
       "</table>\n",
       "</div>"
      ],
      "text/plain": [
       "        종목명   52주차액   52주차액비율   52주최고  52주최저   현재-최고가  현재/최고가비율\n",
       "0  카이노스메드 *   12881  2.492757   21510   8629 -10060.0  0.532311\n",
       "1      일동제약   67100  6.411290   79500  12400 -41150.0  0.482390\n",
       "2     이글벳 *    4100  1.732143    9700   5600  -3060.0  0.684536\n",
       "3  애드바이오텍 *    6915  2.541806   11400   4485  -6400.0  0.438596\n",
       "4     신풍제약우  104050  4.361874  135000  30950 -86400.0  0.360000"
      ]
     },
     "execution_count": 76,
     "metadata": {},
     "output_type": "execute_result"
    }
   ],
   "source": [
    "df[[\"종목명\", \"52주차액\", \"52주차액비율\", \"52주최고\", \"52주최저\", \"현재-최고가\", \"현재/최고가비율\"]].head()"
   ]
  },
  {
   "cell_type": "markdown",
   "metadata": {},
   "source": [
    "### 투자의견l목표주가 astype과 to_numeric"
   ]
  },
  {
   "cell_type": "code",
   "execution_count": 77,
   "metadata": {},
   "outputs": [
    {
     "data": {
      "text/plain": [
       "float"
      ]
     },
     "execution_count": 77,
     "metadata": {},
     "output_type": "execute_result"
    }
   ],
   "source": [
    "type(np.nan)"
   ]
  },
  {
   "cell_type": "code",
   "execution_count": 87,
   "metadata": {},
   "outputs": [
    {
     "data": {
      "text/plain": [
       "0          NaN\n",
       "1      50000.0\n",
       "2          NaN\n",
       "3          NaN\n",
       "4          NaN\n",
       "        ...   \n",
       "153        NaN\n",
       "154        NaN\n",
       "155        NaN\n",
       "156        NaN\n",
       "157        NaN\n",
       "Name: 목표주가, Length: 158, dtype: float64"
      ]
     },
     "execution_count": 87,
     "metadata": {},
     "output_type": "execute_result"
    }
   ],
   "source": [
    "# '투자의견l목표주가' => 투자의견, 매수매도, 목표주가 컬럼으로 나누어 전처리 합니다.\n",
    "df[\"목표주가\"] = df['투자의견l목표주가'].str.split(\"  l  \", expand=True)[1]\n",
    "df[\"목표주가\"] = df[\"목표주가\"].replace(\"N/A\", np.nan).str.replace(',', \"\").astype(float)\n",
    "df[\"목표주가\"]"
   ]
  },
  {
   "cell_type": "code",
   "execution_count": 98,
   "metadata": {},
   "outputs": [
    {
     "name": "stderr",
     "output_type": "stream",
     "text": [
      "C:\\Users\\HANON\\AppData\\Local\\Temp\\ipykernel_24132\\3672669988.py:3: FutureWarning: The default value of regex will change from True to False in a future version.\n",
      "  df[\"매수매도\"] = df[\"투자의견\"].str.replace('[0-9.]', \"\")\n",
      "C:\\Users\\HANON\\AppData\\Local\\Temp\\ipykernel_24132\\3672669988.py:4: FutureWarning: The default value of regex will change from True to False in a future version.\n",
      "  df[\"투자의견\"] = df[\"투자의견\"].str.replace(\"[^0-9.]\", \"\").astype(float)\n"
     ]
    },
    {
     "data": {
      "text/plain": [
       "0      NaN\n",
       "1      4.0\n",
       "2      NaN\n",
       "3      NaN\n",
       "4      NaN\n",
       "      ... \n",
       "153    NaN\n",
       "154    NaN\n",
       "155    NaN\n",
       "156    NaN\n",
       "157    NaN\n",
       "Name: 투자의견, Length: 158, dtype: float64"
      ]
     },
     "execution_count": 98,
     "metadata": {},
     "output_type": "execute_result"
    }
   ],
   "source": [
    "df[\"투자의견\"] = df['투자의견l목표주가'].str.split(\"  l  \", expand=True)[0]\n",
    "df[\"투자의견\"] = df[\"투자의견\"].replace(\"N/A\", np.nan)\n",
    "df[\"매수매도\"] = df[\"투자의견\"].str.replace('[0-9.]', \"\")\n",
    "df[\"투자의견\"] = df[\"투자의견\"].str.replace(\"[^0-9.]\", \"\").astype(float)\n",
    "df[\"투자의견\"]"
   ]
  },
  {
   "cell_type": "code",
   "execution_count": null,
   "metadata": {},
   "outputs": [],
   "source": [
    "# df[\"투자의견\"].astype(float)"
   ]
  },
  {
   "cell_type": "code",
   "execution_count": 100,
   "metadata": {
    "scrolled": true
   },
   "outputs": [],
   "source": [
    "# 투자의견의 수치만 pd.to_numeric 으로 숫자로 만들기\n",
    "df[\"투자의견\"] = pd.to_numeric(df[\"투자의견\"])"
   ]
  },
  {
   "cell_type": "code",
   "execution_count": 101,
   "metadata": {},
   "outputs": [
    {
     "data": {
      "text/plain": [
       "count    37.000000\n",
       "mean      3.995676\n",
       "std       0.018936\n",
       "min       3.900000\n",
       "25%       4.000000\n",
       "50%       4.000000\n",
       "75%       4.000000\n",
       "max       4.000000\n",
       "Name: 투자의견, dtype: float64"
      ]
     },
     "execution_count": 101,
     "metadata": {},
     "output_type": "execute_result"
    }
   ],
   "source": [
    "# 투자의견 컬럼만 가져와서 describe로 기술통계 값을 봅니다.\n",
    "df[\"투자의견\"].describe()"
   ]
  },
  {
   "cell_type": "markdown",
   "metadata": {},
   "source": [
    "### 데이터 타입 변경하기\n",
    "* \"동일업종 PER 컬럼\"에서 \"배\" 문자를 제거하고 수치 변수로 변환해 주세요.\n",
    "* 전처리 결괏값은 df[\"동일업종 PER(배)\"]라는 컬럼에 담아주세요"
   ]
  },
  {
   "cell_type": "code",
   "execution_count": 102,
   "metadata": {},
   "outputs": [
    {
     "data": {
      "text/plain": [
       "0      106.06배\n",
       "1      106.06배\n",
       "2      106.06배\n",
       "3      106.06배\n",
       "4      106.06배\n",
       "        ...   \n",
       "153    106.06배\n",
       "154    106.06배\n",
       "155    106.06배\n",
       "156    106.06배\n",
       "157    106.06배\n",
       "Name: 동일업종 PER, Length: 158, dtype: object"
      ]
     },
     "execution_count": 102,
     "metadata": {},
     "output_type": "execute_result"
    }
   ],
   "source": [
    "# \"동일업종 PER\"\n",
    "df[\"동일업종 PER\"]"
   ]
  },
  {
   "cell_type": "code",
   "execution_count": 104,
   "metadata": {},
   "outputs": [],
   "source": [
    "# \"동일업종 PER 컬럼\"에서 \"배\" 문자를 제거하고 수치 변수로 변환해 주세요.\n",
    "df[\"동일업종 PER\"] = df[\"동일업종 PER\"].str.replace(\"배\", \"\").astype(float)"
   ]
  },
  {
   "cell_type": "code",
   "execution_count": 105,
   "metadata": {},
   "outputs": [
    {
     "data": {
      "text/plain": [
       "0      106.06\n",
       "1      106.06\n",
       "2      106.06\n",
       "3      106.06\n",
       "4      106.06\n",
       "        ...  \n",
       "153    106.06\n",
       "154    106.06\n",
       "155    106.06\n",
       "156    106.06\n",
       "157    106.06\n",
       "Name: 동일업종 PER, Length: 158, dtype: float64"
      ]
     },
     "execution_count": 105,
     "metadata": {},
     "output_type": "execute_result"
    }
   ],
   "source": [
    "# str.replace, astype를 이용하면 쉽게 해결할 수 있습니다.\n",
    "df[\"동일업종 PER\"]"
   ]
  },
  {
   "cell_type": "markdown",
   "metadata": {},
   "source": [
    "## filter와 melt로 여러 컬럼 전처리하기\n",
    "\n",
    "### PER와 EPS \n",
    "\n",
    "#### PER 주가수익비율\n",
    "\n",
    "* \"이 주식은 비싼가, 주식시장이 거품인가\" 판단하는 시금석\n",
    "* PER = 주식가격 / 주당순이익(EPS)\n",
    "\n",
    "물건을 살 때 값을 얼마나 줘야 좋은 건지 판단할 기준은 수없이 많다. 내게 얼마나 절실한가. 이 물건이 얼마나 유용하고 값어치가 있나. 혹은 어느 정도나 오래 사용할 수 있나. 물건에 대한 다른 사람들의 평판은 어떤가. 물건이 내게 주는 수익은 어느 정도인가…. 생각해보면 쉽게 떠오르는 이런저런 이유들은 어려운 주식투자나, 투자결정에도 그대로 적용된다.\n",
    "\n",
    "이런 점에서 흔히 투자자들 사이에서 `퍼(PER)`로 불리는 **주가수익비율(Price earning ratio, 이하 PER)**은 어떤 회사의 주식가치, 더 나아가 전체 주식시장의 가치가 고평가 됐는지 가늠할 수 있는 유용한 잣대다. **PER은 현재 시장에서 매매되는 특정회사의 주식가격을 주당순이익으로 나눈 값을 말한다.** 한 주에 만 원하는 회사주식이 1년에 주당 1000원의 순이익을 낸다면? PER은 10이 된다. 이 수치가 회사의 가치를 어떻게 반영한다는 얘기일까?\n",
    "\n",
    "* 출처 [네이버 지식백과]주가수익비율(PER) - \"이 주식은 비싼가, 주식시장이 거품인가\" 판단하는 시금석 (금융사전, 김태근)\n",
    "* https://terms.naver.com/entry.nhn?docId=3571127&cid=58781&categoryId=58781\n",
    "\n",
    "#### EPS 주당순이익\n",
    "\n",
    "* EPS =  순이익(당기순이익) / 그 기업이 발행한 총 주식수\n",
    "\n",
    "주당순이익(EPS)은 기업이 벌어들인 순이익(당기순이익)을 그 기업이 발행한 총 주식수로 나눈 값으로, 1주당 이익을 얼마나 창출하였느냐를 나타내는 지표이다. 즉 해당 회사가 1년간 올린 수익에 대한 주주의 몫을 나타내는 지표라 할 수 있다. 또한 주당순이익은 주가수익비율(PER)계산의 기초가 되기도 한다.\n",
    "\n",
    "EPS가 높을수록 주식의 투자 가치는 높다고 볼 수 있으며, 그만큼 해당 회사의 경영실적이 양호하다는 뜻이다. 따라서 배당 여력도 많으므로 주가에 긍정적인 영향을 미친다.\n",
    "\n",
    "EPS는 당기순이익 규모가 늘면 높아지게 되고, 전환사채의 주식전환이나 증자로 주식수가 많아지면 낮아지게 된다. 특히 최근 주식시장의 패턴이 기업의 수익성을 중시하는 쪽으로 바뀌면서 EPS의 크기가 중요시되고 있다.\n",
    "\n",
    "* 출처 : [네이버 지식백과] 주당순이익(EPS) (시사상식사전, pmg 지식엔진연구소)\n",
    "* https://terms.naver.com/entry.nhn?docId=74510&cid=43667&categoryId=43667"
   ]
  },
  {
   "cell_type": "markdown",
   "metadata": {},
   "source": [
    "### filter 를 사용해 특정 텍스트가 들어가는 컬럼 찾기\n",
    "* [정규 표현식 - 위키백과, 우리 모두의 백과사전](https://ko.wikipedia.org/wiki/%EC%A0%95%EA%B7%9C_%ED%91%9C%ED%98%84%EC%8B%9D)"
   ]
  },
  {
   "cell_type": "code",
   "execution_count": 113,
   "metadata": {},
   "outputs": [
    {
     "data": {
      "text/html": [
       "<div>\n",
       "<style scoped>\n",
       "    .dataframe tbody tr th:only-of-type {\n",
       "        vertical-align: middle;\n",
       "    }\n",
       "\n",
       "    .dataframe tbody tr th {\n",
       "        vertical-align: top;\n",
       "    }\n",
       "\n",
       "    .dataframe thead th {\n",
       "        text-align: right;\n",
       "    }\n",
       "</style>\n",
       "<table border=\"1\" class=\"dataframe\">\n",
       "  <thead>\n",
       "    <tr style=\"text-align: right;\">\n",
       "      <th></th>\n",
       "      <th>PERlEPS(2022.03)</th>\n",
       "      <th>PERlEPS(2021.12)</th>\n",
       "      <th>PERlEPS(2022.02)</th>\n",
       "      <th>종목코드</th>\n",
       "    </tr>\n",
       "  </thead>\n",
       "  <tbody>\n",
       "    <tr>\n",
       "      <th>0</th>\n",
       "      <td>N/A  l  -770원</td>\n",
       "      <td>NaN</td>\n",
       "      <td>NaN</td>\n",
       "      <td>284620</td>\n",
       "    </tr>\n",
       "    <tr>\n",
       "      <th>1</th>\n",
       "      <td>N/A  l  -8,637원</td>\n",
       "      <td>NaN</td>\n",
       "      <td>NaN</td>\n",
       "      <td>249420</td>\n",
       "    </tr>\n",
       "    <tr>\n",
       "      <th>2</th>\n",
       "      <td>21.03배  l  302원</td>\n",
       "      <td>NaN</td>\n",
       "      <td>NaN</td>\n",
       "      <td>044960</td>\n",
       "    </tr>\n",
       "    <tr>\n",
       "      <th>3</th>\n",
       "      <td>NaN</td>\n",
       "      <td>N/A  l  -347원</td>\n",
       "      <td>NaN</td>\n",
       "      <td>179530</td>\n",
       "    </tr>\n",
       "    <tr>\n",
       "      <th>4</th>\n",
       "      <td>N/A  l  -333원</td>\n",
       "      <td>NaN</td>\n",
       "      <td>NaN</td>\n",
       "      <td>019175</td>\n",
       "    </tr>\n",
       "    <tr>\n",
       "      <th>...</th>\n",
       "      <td>...</td>\n",
       "      <td>...</td>\n",
       "      <td>...</td>\n",
       "      <td>...</td>\n",
       "    </tr>\n",
       "    <tr>\n",
       "      <th>153</th>\n",
       "      <td>N/A  l  -29원</td>\n",
       "      <td>NaN</td>\n",
       "      <td>NaN</td>\n",
       "      <td>018620</td>\n",
       "    </tr>\n",
       "    <tr>\n",
       "      <th>154</th>\n",
       "      <td>N/A  l  -582원</td>\n",
       "      <td>NaN</td>\n",
       "      <td>NaN</td>\n",
       "      <td>115450</td>\n",
       "    </tr>\n",
       "    <tr>\n",
       "      <th>155</th>\n",
       "      <td>8.57배  l  231원</td>\n",
       "      <td>NaN</td>\n",
       "      <td>NaN</td>\n",
       "      <td>299170</td>\n",
       "    </tr>\n",
       "    <tr>\n",
       "      <th>156</th>\n",
       "      <td>N/A  l  -2,408원</td>\n",
       "      <td>NaN</td>\n",
       "      <td>NaN</td>\n",
       "      <td>183490</td>\n",
       "    </tr>\n",
       "    <tr>\n",
       "      <th>157</th>\n",
       "      <td>N/A  l  -550원</td>\n",
       "      <td>NaN</td>\n",
       "      <td>NaN</td>\n",
       "      <td>047920</td>\n",
       "    </tr>\n",
       "  </tbody>\n",
       "</table>\n",
       "<p>158 rows × 4 columns</p>\n",
       "</div>"
      ],
      "text/plain": [
       "    PERlEPS(2022.03) PERlEPS(2021.12) PERlEPS(2022.02)    종목코드\n",
       "0      N/A  l  -770원              NaN              NaN  284620\n",
       "1    N/A  l  -8,637원              NaN              NaN  249420\n",
       "2    21.03배  l  302원              NaN              NaN  044960\n",
       "3                NaN    N/A  l  -347원              NaN  179530\n",
       "4      N/A  l  -333원              NaN              NaN  019175\n",
       "..               ...              ...              ...     ...\n",
       "153     N/A  l  -29원              NaN              NaN  018620\n",
       "154    N/A  l  -582원              NaN              NaN  115450\n",
       "155   8.57배  l  231원              NaN              NaN  299170\n",
       "156  N/A  l  -2,408원              NaN              NaN  183490\n",
       "157    N/A  l  -550원              NaN              NaN  047920\n",
       "\n",
       "[158 rows x 4 columns]"
      ]
     },
     "execution_count": 113,
     "metadata": {},
     "output_type": "execute_result"
    }
   ],
   "source": [
    "# df.filter(regex=)를 통해 \"PERlEPS\" 가 들어가는 컬럼만 가져옵니다.\n",
    "# 특정 컬럼을 가져오고 종목코드를 추가해 줍니다.\n",
    "df_per_eps = df.filter(regex=\"^PERlEPS\").copy()\n",
    "df_per_eps[\"종목코드\"] = df[\"종목코드\"]\n",
    "df_per_eps"
   ]
  },
  {
   "cell_type": "markdown",
   "metadata": {},
   "source": [
    "### melt로 tidy data 만들기\n",
    "\n",
    "<img src=\"https://pandas.pydata.org/docs/_images/reshaping_melt.png\" width=\"600\">\n",
    "\n",
    "* https://pandas.pydata.org/docs/user_guide/reshaping.html#reshaping-by-melt\n",
    "* [Tidy Data 란?](https://vita.had.co.nz/papers/tidy-data.pdf)\n"
   ]
  },
  {
   "cell_type": "code",
   "execution_count": 116,
   "metadata": {},
   "outputs": [
    {
     "data": {
      "text/html": [
       "<div>\n",
       "<style scoped>\n",
       "    .dataframe tbody tr th:only-of-type {\n",
       "        vertical-align: middle;\n",
       "    }\n",
       "\n",
       "    .dataframe tbody tr th {\n",
       "        vertical-align: top;\n",
       "    }\n",
       "\n",
       "    .dataframe thead th {\n",
       "        text-align: right;\n",
       "    }\n",
       "</style>\n",
       "<table border=\"1\" class=\"dataframe\">\n",
       "  <thead>\n",
       "    <tr style=\"text-align: right;\">\n",
       "      <th></th>\n",
       "      <th>종목코드</th>\n",
       "      <th>variable</th>\n",
       "      <th>value</th>\n",
       "    </tr>\n",
       "  </thead>\n",
       "  <tbody>\n",
       "    <tr>\n",
       "      <th>0</th>\n",
       "      <td>284620</td>\n",
       "      <td>PERlEPS(2022.03)</td>\n",
       "      <td>N/A  l  -770원</td>\n",
       "    </tr>\n",
       "    <tr>\n",
       "      <th>1</th>\n",
       "      <td>249420</td>\n",
       "      <td>PERlEPS(2022.03)</td>\n",
       "      <td>N/A  l  -8,637원</td>\n",
       "    </tr>\n",
       "    <tr>\n",
       "      <th>2</th>\n",
       "      <td>044960</td>\n",
       "      <td>PERlEPS(2022.03)</td>\n",
       "      <td>21.03배  l  302원</td>\n",
       "    </tr>\n",
       "    <tr>\n",
       "      <th>3</th>\n",
       "      <td>179530</td>\n",
       "      <td>PERlEPS(2022.03)</td>\n",
       "      <td>NaN</td>\n",
       "    </tr>\n",
       "    <tr>\n",
       "      <th>4</th>\n",
       "      <td>019175</td>\n",
       "      <td>PERlEPS(2022.03)</td>\n",
       "      <td>N/A  l  -333원</td>\n",
       "    </tr>\n",
       "    <tr>\n",
       "      <th>...</th>\n",
       "      <td>...</td>\n",
       "      <td>...</td>\n",
       "      <td>...</td>\n",
       "    </tr>\n",
       "    <tr>\n",
       "      <th>469</th>\n",
       "      <td>018620</td>\n",
       "      <td>PERlEPS(2022.02)</td>\n",
       "      <td>NaN</td>\n",
       "    </tr>\n",
       "    <tr>\n",
       "      <th>470</th>\n",
       "      <td>115450</td>\n",
       "      <td>PERlEPS(2022.02)</td>\n",
       "      <td>NaN</td>\n",
       "    </tr>\n",
       "    <tr>\n",
       "      <th>471</th>\n",
       "      <td>299170</td>\n",
       "      <td>PERlEPS(2022.02)</td>\n",
       "      <td>NaN</td>\n",
       "    </tr>\n",
       "    <tr>\n",
       "      <th>472</th>\n",
       "      <td>183490</td>\n",
       "      <td>PERlEPS(2022.02)</td>\n",
       "      <td>NaN</td>\n",
       "    </tr>\n",
       "    <tr>\n",
       "      <th>473</th>\n",
       "      <td>047920</td>\n",
       "      <td>PERlEPS(2022.02)</td>\n",
       "      <td>NaN</td>\n",
       "    </tr>\n",
       "  </tbody>\n",
       "</table>\n",
       "<p>474 rows × 3 columns</p>\n",
       "</div>"
      ],
      "text/plain": [
       "       종목코드          variable            value\n",
       "0    284620  PERlEPS(2022.03)    N/A  l  -770원\n",
       "1    249420  PERlEPS(2022.03)  N/A  l  -8,637원\n",
       "2    044960  PERlEPS(2022.03)  21.03배  l  302원\n",
       "3    179530  PERlEPS(2022.03)              NaN\n",
       "4    019175  PERlEPS(2022.03)    N/A  l  -333원\n",
       "..      ...               ...              ...\n",
       "469  018620  PERlEPS(2022.02)              NaN\n",
       "470  115450  PERlEPS(2022.02)              NaN\n",
       "471  299170  PERlEPS(2022.02)              NaN\n",
       "472  183490  PERlEPS(2022.02)              NaN\n",
       "473  047920  PERlEPS(2022.02)              NaN\n",
       "\n",
       "[474 rows x 3 columns]"
      ]
     },
     "execution_count": 116,
     "metadata": {},
     "output_type": "execute_result"
    }
   ],
   "source": [
    "# melt를 통해 종목코드를 녹여냅니다.\n",
    "df_per_eps_melt = df_per_eps.melt(id_vars=\"종목코드\")\n",
    "df_per_eps_melt"
   ]
  },
  {
   "cell_type": "code",
   "execution_count": 118,
   "metadata": {},
   "outputs": [
    {
     "data": {
      "text/plain": [
       "284620    3\n",
       "023910    3\n",
       "041910    3\n",
       "318010    3\n",
       "078140    3\n",
       "         ..\n",
       "000640    3\n",
       "001067    3\n",
       "001540    3\n",
       "009420    3\n",
       "047920    3\n",
       "Name: 종목코드, Length: 158, dtype: int64"
      ]
     },
     "execution_count": 118,
     "metadata": {},
     "output_type": "execute_result"
    }
   ],
   "source": [
    "# 종목코드별로 value_counts를 통해  PERlEPS 행이 몇 개인지 봅니다.\n",
    "df_per_eps_melt[\"종목코드\"].value_counts()"
   ]
  },
  {
   "cell_type": "markdown",
   "metadata": {},
   "source": [
    "### 결측치 데이터 제거\n",
    "<img src=\"https://pandas.pydata.org/docs/_images/03_subset_rows.svg\">"
   ]
  },
  {
   "cell_type": "code",
   "execution_count": 148,
   "metadata": {},
   "outputs": [
    {
     "data": {
      "text/html": [
       "<div>\n",
       "<style scoped>\n",
       "    .dataframe tbody tr th:only-of-type {\n",
       "        vertical-align: middle;\n",
       "    }\n",
       "\n",
       "    .dataframe tbody tr th {\n",
       "        vertical-align: top;\n",
       "    }\n",
       "\n",
       "    .dataframe thead th {\n",
       "        text-align: right;\n",
       "    }\n",
       "</style>\n",
       "<table border=\"1\" class=\"dataframe\">\n",
       "  <thead>\n",
       "    <tr style=\"text-align: right;\">\n",
       "      <th></th>\n",
       "      <th>종목코드</th>\n",
       "      <th>variable</th>\n",
       "      <th>value</th>\n",
       "    </tr>\n",
       "  </thead>\n",
       "  <tbody>\n",
       "    <tr>\n",
       "      <th>0</th>\n",
       "      <td>284620</td>\n",
       "      <td>PERlEPS(2022.03)</td>\n",
       "      <td>N/A  l  -770원</td>\n",
       "    </tr>\n",
       "    <tr>\n",
       "      <th>1</th>\n",
       "      <td>249420</td>\n",
       "      <td>PERlEPS(2022.03)</td>\n",
       "      <td>N/A  l  -8,637원</td>\n",
       "    </tr>\n",
       "    <tr>\n",
       "      <th>2</th>\n",
       "      <td>044960</td>\n",
       "      <td>PERlEPS(2022.03)</td>\n",
       "      <td>21.03배  l  302원</td>\n",
       "    </tr>\n",
       "    <tr>\n",
       "      <th>4</th>\n",
       "      <td>019175</td>\n",
       "      <td>PERlEPS(2022.03)</td>\n",
       "      <td>N/A  l  -333원</td>\n",
       "    </tr>\n",
       "    <tr>\n",
       "      <th>5</th>\n",
       "      <td>002720</td>\n",
       "      <td>PERlEPS(2022.03)</td>\n",
       "      <td>N/A  l  -13원</td>\n",
       "    </tr>\n",
       "    <tr>\n",
       "      <th>...</th>\n",
       "      <td>...</td>\n",
       "      <td>...</td>\n",
       "      <td>...</td>\n",
       "    </tr>\n",
       "    <tr>\n",
       "      <th>238</th>\n",
       "      <td>261780</td>\n",
       "      <td>PERlEPS(2021.12)</td>\n",
       "      <td>N/A  l  -792원</td>\n",
       "    </tr>\n",
       "    <tr>\n",
       "      <th>301</th>\n",
       "      <td>365270</td>\n",
       "      <td>PERlEPS(2021.12)</td>\n",
       "      <td>N/A  l  -541원</td>\n",
       "    </tr>\n",
       "    <tr>\n",
       "      <th>303</th>\n",
       "      <td>308080</td>\n",
       "      <td>PERlEPS(2021.12)</td>\n",
       "      <td>N/A  l  -697원</td>\n",
       "    </tr>\n",
       "    <tr>\n",
       "      <th>307</th>\n",
       "      <td>353190</td>\n",
       "      <td>PERlEPS(2021.12)</td>\n",
       "      <td>N/A  l  -216원</td>\n",
       "    </tr>\n",
       "    <tr>\n",
       "      <th>323</th>\n",
       "      <td>004310</td>\n",
       "      <td>PERlEPS(2022.02)</td>\n",
       "      <td>N/A  l  -32원</td>\n",
       "    </tr>\n",
       "  </tbody>\n",
       "</table>\n",
       "<p>158 rows × 3 columns</p>\n",
       "</div>"
      ],
      "text/plain": [
       "       종목코드          variable            value\n",
       "0    284620  PERlEPS(2022.03)    N/A  l  -770원\n",
       "1    249420  PERlEPS(2022.03)  N/A  l  -8,637원\n",
       "2    044960  PERlEPS(2022.03)  21.03배  l  302원\n",
       "4    019175  PERlEPS(2022.03)    N/A  l  -333원\n",
       "5    002720  PERlEPS(2022.03)     N/A  l  -13원\n",
       "..      ...               ...              ...\n",
       "238  261780  PERlEPS(2021.12)    N/A  l  -792원\n",
       "301  365270  PERlEPS(2021.12)    N/A  l  -541원\n",
       "303  308080  PERlEPS(2021.12)    N/A  l  -697원\n",
       "307  353190  PERlEPS(2021.12)    N/A  l  -216원\n",
       "323  004310  PERlEPS(2022.02)     N/A  l  -32원\n",
       "\n",
       "[158 rows x 3 columns]"
      ]
     },
     "execution_count": 148,
     "metadata": {},
     "output_type": "execute_result"
    }
   ],
   "source": [
    "# PERlEPS 데이터프레임에서 결측치 데이터 제거\n",
    "# 여기에서 기간별로 생긴 행은 이전 실습에서 concat으로 데이터를 합칠 때 \n",
    "# 컬럼의 이름이 다르면 새로운 컬럼으로 생성하기 때문입니다.\n",
    "df_pe = df_per_eps_melt.dropna()\n",
    "df_pe"
   ]
  },
  {
   "cell_type": "code",
   "execution_count": 149,
   "metadata": {},
   "outputs": [
    {
     "data": {
      "text/html": [
       "<div>\n",
       "<style scoped>\n",
       "    .dataframe tbody tr th:only-of-type {\n",
       "        vertical-align: middle;\n",
       "    }\n",
       "\n",
       "    .dataframe tbody tr th {\n",
       "        vertical-align: top;\n",
       "    }\n",
       "\n",
       "    .dataframe thead th {\n",
       "        text-align: right;\n",
       "    }\n",
       "</style>\n",
       "<table border=\"1\" class=\"dataframe\">\n",
       "  <thead>\n",
       "    <tr style=\"text-align: right;\">\n",
       "      <th></th>\n",
       "      <th>종목코드</th>\n",
       "      <th>PeRlEPS</th>\n",
       "      <th>value</th>\n",
       "    </tr>\n",
       "  </thead>\n",
       "  <tbody>\n",
       "    <tr>\n",
       "      <th>0</th>\n",
       "      <td>284620</td>\n",
       "      <td>PERlEPS(2022.03)</td>\n",
       "      <td>N/A  l  -770원</td>\n",
       "    </tr>\n",
       "    <tr>\n",
       "      <th>1</th>\n",
       "      <td>249420</td>\n",
       "      <td>PERlEPS(2022.03)</td>\n",
       "      <td>N/A  l  -8,637원</td>\n",
       "    </tr>\n",
       "    <tr>\n",
       "      <th>2</th>\n",
       "      <td>044960</td>\n",
       "      <td>PERlEPS(2022.03)</td>\n",
       "      <td>21.03배  l  302원</td>\n",
       "    </tr>\n",
       "    <tr>\n",
       "      <th>4</th>\n",
       "      <td>019175</td>\n",
       "      <td>PERlEPS(2022.03)</td>\n",
       "      <td>N/A  l  -333원</td>\n",
       "    </tr>\n",
       "    <tr>\n",
       "      <th>5</th>\n",
       "      <td>002720</td>\n",
       "      <td>PERlEPS(2022.03)</td>\n",
       "      <td>N/A  l  -13원</td>\n",
       "    </tr>\n",
       "    <tr>\n",
       "      <th>...</th>\n",
       "      <td>...</td>\n",
       "      <td>...</td>\n",
       "      <td>...</td>\n",
       "    </tr>\n",
       "    <tr>\n",
       "      <th>238</th>\n",
       "      <td>261780</td>\n",
       "      <td>PERlEPS(2021.12)</td>\n",
       "      <td>N/A  l  -792원</td>\n",
       "    </tr>\n",
       "    <tr>\n",
       "      <th>301</th>\n",
       "      <td>365270</td>\n",
       "      <td>PERlEPS(2021.12)</td>\n",
       "      <td>N/A  l  -541원</td>\n",
       "    </tr>\n",
       "    <tr>\n",
       "      <th>303</th>\n",
       "      <td>308080</td>\n",
       "      <td>PERlEPS(2021.12)</td>\n",
       "      <td>N/A  l  -697원</td>\n",
       "    </tr>\n",
       "    <tr>\n",
       "      <th>307</th>\n",
       "      <td>353190</td>\n",
       "      <td>PERlEPS(2021.12)</td>\n",
       "      <td>N/A  l  -216원</td>\n",
       "    </tr>\n",
       "    <tr>\n",
       "      <th>323</th>\n",
       "      <td>004310</td>\n",
       "      <td>PERlEPS(2022.02)</td>\n",
       "      <td>N/A  l  -32원</td>\n",
       "    </tr>\n",
       "  </tbody>\n",
       "</table>\n",
       "<p>158 rows × 3 columns</p>\n",
       "</div>"
      ],
      "text/plain": [
       "       종목코드           PeRlEPS            value\n",
       "0    284620  PERlEPS(2022.03)    N/A  l  -770원\n",
       "1    249420  PERlEPS(2022.03)  N/A  l  -8,637원\n",
       "2    044960  PERlEPS(2022.03)  21.03배  l  302원\n",
       "4    019175  PERlEPS(2022.03)    N/A  l  -333원\n",
       "5    002720  PERlEPS(2022.03)     N/A  l  -13원\n",
       "..      ...               ...              ...\n",
       "238  261780  PERlEPS(2021.12)    N/A  l  -792원\n",
       "301  365270  PERlEPS(2021.12)    N/A  l  -541원\n",
       "303  308080  PERlEPS(2021.12)    N/A  l  -697원\n",
       "307  353190  PERlEPS(2021.12)    N/A  l  -216원\n",
       "323  004310  PERlEPS(2022.02)     N/A  l  -32원\n",
       "\n",
       "[158 rows x 3 columns]"
      ]
     },
     "execution_count": 149,
     "metadata": {},
     "output_type": "execute_result"
    }
   ],
   "source": [
    "# variable 컬럼명을 rename을 통해 \"PERlEPS\"로 변경합니다.\n",
    "df_pe = df_pe.rename(columns={\"variable\": \"PeRlEPS\"})\n",
    "df_pe"
   ]
  },
  {
   "cell_type": "code",
   "execution_count": 150,
   "metadata": {},
   "outputs": [],
   "source": [
    "# df_pe에서 PER, EPS 컬럼을 따로 생성합니다.\n",
    "df_pe[\"PER\"] = df_pe[\"value\"].str.split(\"  l  \", expand=True)[0]\n",
    "df_pe[\"EPS\"] = df_pe[\"value\"].str.split(\"  l  \", expand=True)[1]"
   ]
  },
  {
   "cell_type": "code",
   "execution_count": 151,
   "metadata": {},
   "outputs": [],
   "source": [
    "# PER, EPS 컬럼의 N/A 값을 결측치로 만듭니다.\n",
    "df_pe[\"PER\"] = df_pe[\"PER\"].replace(\"N/A\", np.nan)\n",
    "df_pe[\"EPS\"] = df_pe[\"EPS\"].replace(\"N/A\", np.nan)"
   ]
  },
  {
   "cell_type": "code",
   "execution_count": 157,
   "metadata": {},
   "outputs": [],
   "source": [
    "#  PER, EPS 값 중 둘 다 결측치는 notnull 혹은 isnull을 사용해 제거합니다.\n",
    "df_pe = df_pe[df_pe[\"PER\"].notnull() | df_pe[\"EPS\"].notnull()].copy()"
   ]
  },
  {
   "cell_type": "code",
   "execution_count": 158,
   "metadata": {},
   "outputs": [
    {
     "name": "stderr",
     "output_type": "stream",
     "text": [
      "C:\\Users\\HANON\\AppData\\Local\\Temp\\ipykernel_24132\\1310269267.py:2: FutureWarning: The default value of regex will change from True to False in a future version.\n",
      "  df_pe[\"PER(배)\"] = df_pe[\"PER\"].str.replace(\"[^0-9.]\", \"\").astype(float)\n"
     ]
    }
   ],
   "source": [
    "# PER(배) 컬럼을 만들고 수치데이터 형태로 변환합니다.\n",
    "df_pe[\"PER(배)\"] = df_pe[\"PER\"].str.replace(\"[^0-9.]\", \"\").astype(float)"
   ]
  },
  {
   "cell_type": "code",
   "execution_count": 159,
   "metadata": {},
   "outputs": [
    {
     "name": "stderr",
     "output_type": "stream",
     "text": [
      "C:\\Users\\HANON\\AppData\\Local\\Temp\\ipykernel_24132\\846191042.py:2: FutureWarning: The default value of regex will change from True to False in a future version.\n",
      "  df_pe[\"EPS(원)\"] = df_pe[\"EPS\"].str.replace(\"원|,\", \"\").astype(int)\n"
     ]
    }
   ],
   "source": [
    "# EPS(원) 컬럼을 만들고 수치데이터 형태로 변환합니다.\n",
    "df_pe[\"EPS(원)\"] = df_pe[\"EPS\"].str.replace(\"원|,\", \"\").astype(int)"
   ]
  },
  {
   "cell_type": "code",
   "execution_count": 160,
   "metadata": {
    "id": "vjVTHW_y3W3j",
    "scrolled": true
   },
   "outputs": [
    {
     "ename": "KeyError",
     "evalue": "\"['PERlEPS'] not in index\"",
     "output_type": "error",
     "traceback": [
      "\u001b[1;31m---------------------------------------------------------------------------\u001b[0m",
      "\u001b[1;31mKeyError\u001b[0m                                  Traceback (most recent call last)",
      "Input \u001b[1;32mIn [160]\u001b[0m, in \u001b[0;36m<cell line: 2>\u001b[1;34m()\u001b[0m\n\u001b[0;32m      1\u001b[0m \u001b[38;5;66;03m# 필요한 컬럼만 따로 가져옵니다.\u001b[39;00m\n\u001b[1;32m----> 2\u001b[0m df_pe \u001b[38;5;241m=\u001b[39m \u001b[43mdf_pe\u001b[49m\u001b[43m[\u001b[49m\u001b[43m[\u001b[49m\u001b[38;5;124;43m\"\u001b[39;49m\u001b[38;5;124;43m종목코드\u001b[39;49m\u001b[38;5;124;43m\"\u001b[39;49m\u001b[43m,\u001b[49m\u001b[43m \u001b[49m\u001b[38;5;124;43m\"\u001b[39;49m\u001b[38;5;124;43mPERlEPS\u001b[39;49m\u001b[38;5;124;43m\"\u001b[39;49m\u001b[43m,\u001b[49m\u001b[43m \u001b[49m\u001b[38;5;124;43m\"\u001b[39;49m\u001b[38;5;124;43mPER(배)\u001b[39;49m\u001b[38;5;124;43m\"\u001b[39;49m\u001b[43m,\u001b[49m\u001b[43m \u001b[49m\u001b[38;5;124;43m\"\u001b[39;49m\u001b[38;5;124;43mEPS(원)\u001b[39;49m\u001b[38;5;124;43m\"\u001b[39;49m\u001b[43m]\u001b[49m\u001b[43m]\u001b[49m\u001b[38;5;241m.\u001b[39mcopy()\n\u001b[0;32m      3\u001b[0m df_pe\n",
      "File \u001b[1;32m~\\.conda\\envs\\DA\\lib\\site-packages\\pandas\\core\\frame.py:3511\u001b[0m, in \u001b[0;36mDataFrame.__getitem__\u001b[1;34m(self, key)\u001b[0m\n\u001b[0;32m   3509\u001b[0m     \u001b[38;5;28;01mif\u001b[39;00m is_iterator(key):\n\u001b[0;32m   3510\u001b[0m         key \u001b[38;5;241m=\u001b[39m \u001b[38;5;28mlist\u001b[39m(key)\n\u001b[1;32m-> 3511\u001b[0m     indexer \u001b[38;5;241m=\u001b[39m \u001b[38;5;28;43mself\u001b[39;49m\u001b[38;5;241;43m.\u001b[39;49m\u001b[43mcolumns\u001b[49m\u001b[38;5;241;43m.\u001b[39;49m\u001b[43m_get_indexer_strict\u001b[49m\u001b[43m(\u001b[49m\u001b[43mkey\u001b[49m\u001b[43m,\u001b[49m\u001b[43m \u001b[49m\u001b[38;5;124;43m\"\u001b[39;49m\u001b[38;5;124;43mcolumns\u001b[39;49m\u001b[38;5;124;43m\"\u001b[39;49m\u001b[43m)\u001b[49m[\u001b[38;5;241m1\u001b[39m]\n\u001b[0;32m   3513\u001b[0m \u001b[38;5;66;03m# take() does not accept boolean indexers\u001b[39;00m\n\u001b[0;32m   3514\u001b[0m \u001b[38;5;28;01mif\u001b[39;00m \u001b[38;5;28mgetattr\u001b[39m(indexer, \u001b[38;5;124m\"\u001b[39m\u001b[38;5;124mdtype\u001b[39m\u001b[38;5;124m\"\u001b[39m, \u001b[38;5;28;01mNone\u001b[39;00m) \u001b[38;5;241m==\u001b[39m \u001b[38;5;28mbool\u001b[39m:\n",
      "File \u001b[1;32m~\\.conda\\envs\\DA\\lib\\site-packages\\pandas\\core\\indexes\\base.py:5782\u001b[0m, in \u001b[0;36mIndex._get_indexer_strict\u001b[1;34m(self, key, axis_name)\u001b[0m\n\u001b[0;32m   5779\u001b[0m \u001b[38;5;28;01melse\u001b[39;00m:\n\u001b[0;32m   5780\u001b[0m     keyarr, indexer, new_indexer \u001b[38;5;241m=\u001b[39m \u001b[38;5;28mself\u001b[39m\u001b[38;5;241m.\u001b[39m_reindex_non_unique(keyarr)\n\u001b[1;32m-> 5782\u001b[0m \u001b[38;5;28;43mself\u001b[39;49m\u001b[38;5;241;43m.\u001b[39;49m\u001b[43m_raise_if_missing\u001b[49m\u001b[43m(\u001b[49m\u001b[43mkeyarr\u001b[49m\u001b[43m,\u001b[49m\u001b[43m \u001b[49m\u001b[43mindexer\u001b[49m\u001b[43m,\u001b[49m\u001b[43m \u001b[49m\u001b[43maxis_name\u001b[49m\u001b[43m)\u001b[49m\n\u001b[0;32m   5784\u001b[0m keyarr \u001b[38;5;241m=\u001b[39m \u001b[38;5;28mself\u001b[39m\u001b[38;5;241m.\u001b[39mtake(indexer)\n\u001b[0;32m   5785\u001b[0m \u001b[38;5;28;01mif\u001b[39;00m \u001b[38;5;28misinstance\u001b[39m(key, Index):\n\u001b[0;32m   5786\u001b[0m     \u001b[38;5;66;03m# GH 42790 - Preserve name from an Index\u001b[39;00m\n",
      "File \u001b[1;32m~\\.conda\\envs\\DA\\lib\\site-packages\\pandas\\core\\indexes\\base.py:5845\u001b[0m, in \u001b[0;36mIndex._raise_if_missing\u001b[1;34m(self, key, indexer, axis_name)\u001b[0m\n\u001b[0;32m   5842\u001b[0m     \u001b[38;5;28;01mraise\u001b[39;00m \u001b[38;5;167;01mKeyError\u001b[39;00m(\u001b[38;5;124mf\u001b[39m\u001b[38;5;124m\"\u001b[39m\u001b[38;5;124mNone of [\u001b[39m\u001b[38;5;132;01m{\u001b[39;00mkey\u001b[38;5;132;01m}\u001b[39;00m\u001b[38;5;124m] are in the [\u001b[39m\u001b[38;5;132;01m{\u001b[39;00maxis_name\u001b[38;5;132;01m}\u001b[39;00m\u001b[38;5;124m]\u001b[39m\u001b[38;5;124m\"\u001b[39m)\n\u001b[0;32m   5844\u001b[0m not_found \u001b[38;5;241m=\u001b[39m \u001b[38;5;28mlist\u001b[39m(ensure_index(key)[missing_mask\u001b[38;5;241m.\u001b[39mnonzero()[\u001b[38;5;241m0\u001b[39m]]\u001b[38;5;241m.\u001b[39munique())\n\u001b[1;32m-> 5845\u001b[0m \u001b[38;5;28;01mraise\u001b[39;00m \u001b[38;5;167;01mKeyError\u001b[39;00m(\u001b[38;5;124mf\u001b[39m\u001b[38;5;124m\"\u001b[39m\u001b[38;5;132;01m{\u001b[39;00mnot_found\u001b[38;5;132;01m}\u001b[39;00m\u001b[38;5;124m not in index\u001b[39m\u001b[38;5;124m\"\u001b[39m)\n",
      "\u001b[1;31mKeyError\u001b[0m: \"['PERlEPS'] not in index\""
     ]
    }
   ],
   "source": [
    "# 필요한 컬럼만 따로 가져옵니다.\n",
    "df_pe = df_pe[[\"종목코드\", \"PERlEPS\", \"PER(배)\", \"EPS(원)\"]].copy()\n",
    "df_pe"
   ]
  },
  {
   "cell_type": "markdown",
   "metadata": {},
   "source": [
    "### 중복 데이터 확인"
   ]
  },
  {
   "cell_type": "code",
   "execution_count": null,
   "metadata": {},
   "outputs": [],
   "source": [
    "# \"종목코드\"기준으로 중복된 데이터가 있는지 찾습니다.\n"
   ]
  },
  {
   "cell_type": "code",
   "execution_count": null,
   "metadata": {},
   "outputs": [],
   "source": [
    "# 만약 중복데이터가 있다면 다음과 같은 방법으로 제거합니다.\n",
    "# 추출했던 원래 데이터프레임 df와 다시 merge 로 합치기 위해 \n",
    "# drop_duplicates 를 사용해 종목코드가 중복되는 행은 제거합니다.\n",
    "# \"종목코드\", \"PERlEPS\" 로 정렬을 하고 \n",
    "# drop_duplicates 로 제거시 keep=\"first\" 로 위에 있는 데이터를 남깁니다.\n"
   ]
  },
  {
   "cell_type": "code",
   "execution_count": null,
   "metadata": {},
   "outputs": [],
   "source": [
    "# 종목코드값 기준으로 중복데이터를 확인합니다.\n"
   ]
  },
  {
   "cell_type": "markdown",
   "metadata": {},
   "source": [
    "### PBRlBPS 전처리\n",
    "\n",
    "\n",
    "#### PBR(주가순자산비율, price-to-book ratio, P/B ratio)\n",
    "\n",
    "* PBR = 주가/BPS(주당순자산가치)\n",
    "* 주가는 그 회사의 종합적인 평가이므로 주주 소유분을 초과한 부분은 모두 그 회사의 잠재적인 프리미엄이 되기 때문에 **경영의 종합력이 뛰어나면 뛰어날수록 배율이 높아진다**고 할 수 있다. 일반적으로 이 지표는 PER과 함께 사용되는데, 이는 주가순자산배율이 그 회사를 정적인 상태 즉 스토크(stock)면에서 보고 있는데 반하여 주가수익률은 동적인 상태 즉 플로(flow)면에서 보고 있으므로 두 가지 지표가 서로 보완관계에 있다.\n",
    "\n",
    "* 다만 이 주가 순자산배율에도 **주주소유분이 장부가격에 의해 계산되고 있어 반드시 정확하다고 할 수 없고 또 그 계산기준이 전기의 결산기가 된다는 등의 난점이 있다.**\n",
    "* 출처 : [주가순자산비율 - 위키백과, 우리 모두의 백과사전](https://ko.wikipedia.org/wiki/%EC%A3%BC%EA%B0%80%EC%88%9C%EC%9E%90%EC%82%B0%EB%B9%84%EC%9C%A8)\n",
    "\n",
    "#### BPS(주당순자산가치, Book-value Per Share)\n",
    "\n",
    "* 주당순자산가치 = 기업의 순자산/ 발행 주식수\n",
    "* 주당순자산가치는, '청산가치' 라고도 불린다. 그 이유는 현재 시점에서 기업의 활동을 중단시키고 그 부를 모든 주주들에게 나눠줄 경우 한주당 얼마씩이 돌아가는가를 나타내는 수치이기 때문이다. 보통 주당순자산가치라는 말은 잘 쓰지 않고 BPS라고 하므로 이하 BPS로 쓴다.\n",
    "\n",
    "* BPS가 높다는 것은 자기자본의 비중이 크거나 회사 가치가 높다는 것을 나타낸다. BPS에는 주가 정보가 고려되어 있지 않으므로, 이 회사의 주가가 자산 가치에 비해 얼마나 저평가 혹은 고평가되어 있는지 판단하기 위해 PBR이라는 값을 사용한다.\n",
    "\n",
    "* PBR 값은 BPS 값으로 현재 주가를 나눈 것이다. BPS가 1만원인 위 사례에서 주가가 5,000원이라면 PBR은 0.5가 되고, 주가가 20,000원이라면 PBR은 2가 된다. 즉 전자의 경우 주가는 실제의 자산에 비해 저평가되어 되어 있는 것이고, 후자의 경우 주가는 실제 자산에 비해 고평가 되어 있는 것이다.\n",
    "\n",
    "* 출처 : [주당순자산가치 - 위키백과, 우리 모두의 백과사전](https://ko.wikipedia.org/wiki/%EC%A3%BC%EB%8B%B9%EC%88%9C%EC%9E%90%EC%82%B0%EA%B0%80%EC%B9%98)\n"
   ]
  },
  {
   "cell_type": "code",
   "execution_count": null,
   "metadata": {},
   "outputs": [],
   "source": [
    "# filter를 사용해 PBRlBPS 컬럼 가져옵니다.\n",
    "# 종목코드 추가합니다.\n",
    "# df_pbr_bps"
   ]
  },
  {
   "cell_type": "code",
   "execution_count": null,
   "metadata": {},
   "outputs": [],
   "source": [
    "# melt로 tidy data 만듭니다.\n",
    "# df_pbr_bps_melt"
   ]
  },
  {
   "cell_type": "code",
   "execution_count": null,
   "metadata": {},
   "outputs": [],
   "source": [
    "# 결측치를 제거합니다.\n",
    "# df_pb"
   ]
  },
  {
   "cell_type": "code",
   "execution_count": null,
   "metadata": {},
   "outputs": [],
   "source": [
    "# variable 컬럼명을 \"PBRlBPS\"로 변경합니다.\n"
   ]
  },
  {
   "cell_type": "code",
   "execution_count": null,
   "metadata": {},
   "outputs": [],
   "source": [
    "# PBR, BPS 컬럼을 만듭니다.\n"
   ]
  },
  {
   "cell_type": "code",
   "execution_count": null,
   "metadata": {},
   "outputs": [],
   "source": [
    "# N/A 값(문자) np.nan(결측치)로 변환합니다.\n"
   ]
  },
  {
   "cell_type": "code",
   "execution_count": null,
   "metadata": {},
   "outputs": [],
   "source": [
    "# PBR(배), BPS(원) 컬럼을 만듭니다.\n",
    "# df_pb[\"PBR(배)\"]\n",
    "# df_pb[\"BPS(원)\"]"
   ]
  },
  {
   "cell_type": "code",
   "execution_count": null,
   "metadata": {},
   "outputs": [],
   "source": [
    "# 종목코드 기준 value_counts 를 구해 중복값이 있는지 확인합니다.\n"
   ]
  },
  {
   "cell_type": "code",
   "execution_count": null,
   "metadata": {},
   "outputs": [],
   "source": [
    "# \"종목코드\",\"PBRlBPS\" 로 중복값이 있는지 확인합니다.\n",
    "# 만약 중복값이 있다면 drop_duplicates 로 삭제합니다.\n"
   ]
  },
  {
   "cell_type": "code",
   "execution_count": null,
   "metadata": {},
   "outputs": [],
   "source": [
    "# 사용할 컬럼만 따로 지정해줍니다.\n",
    "# \"종목코드\", \"PBRlBPS\", \"PBR(배)\", \"BPS(원)\"\n"
   ]
  },
  {
   "cell_type": "markdown",
   "metadata": {},
   "source": [
    "### 배당 수익률 전처리"
   ]
  },
  {
   "cell_type": "code",
   "execution_count": null,
   "metadata": {},
   "outputs": [],
   "source": [
    "# PER|EPS 전처리와 마찬가리로 배당수익률 데이터를 전처리 합니다.\n",
    "# df.filter(regex=) 로 배당수익률이 들어가는 컬럼만 찾고 종목코드를 추가 합니다.\n",
    "# df_income"
   ]
  },
  {
   "cell_type": "code",
   "execution_count": null,
   "metadata": {},
   "outputs": [],
   "source": [
    "# 추후 병합을 위해 데이터프레임에 종목코드를 추가합니다.\n"
   ]
  },
  {
   "cell_type": "code",
   "execution_count": null,
   "metadata": {},
   "outputs": [],
   "source": [
    "# melt 로 여러 컬럼의 종목코드를 행으로 녹이고 결측치를 dropna 로 제거합니다.\n",
    "# df_in"
   ]
  },
  {
   "cell_type": "code",
   "execution_count": null,
   "metadata": {},
   "outputs": [],
   "source": [
    "# 컬럼명을 \"종목코드\", \"배당수익률기간\", \"배당수익률\" 로 변경합니다.\n"
   ]
  },
  {
   "cell_type": "code",
   "execution_count": null,
   "metadata": {},
   "outputs": [],
   "source": [
    "# 배당수익률% 컬럼을 만들어 전처리 합니다.\n",
    "\n"
   ]
  },
  {
   "cell_type": "code",
   "execution_count": null,
   "metadata": {},
   "outputs": [],
   "source": [
    "# 종목코드가 종목당 2개 이상 있는 값이 있는지 확인합니다.\n",
    "# 2개 이상 있다면 merge 에서 어떤 값을 사용할지 고려해야 합니다.\n"
   ]
  },
  {
   "cell_type": "code",
   "execution_count": null,
   "metadata": {},
   "outputs": [],
   "source": [
    "# 전처리가 끝난 배당수익률 컬럼은 제거합니다.\n"
   ]
  },
  {
   "cell_type": "markdown",
   "metadata": {},
   "source": [
    "## merge 로 기존 데이터와 병합하기\n",
    "\n",
    "<img src=\"https://pandas.pydata.org/docs/_images/08_merge_left.svg\">\n",
    "\n",
    "* concat과 merge의 차이\n",
    "    * concat :  \n",
    "        * axis=0 행을 기준으로 위아래로 **같은 컬럼끼리** 값을 이어 붙여 **새로운 행을 만듦**\n",
    "        * axis=1 컬럼을 기준으로 **인덱스가 같은 값**을 옆으로 붙여 **새로운 컬럼을 만듦**\n",
    "    * merge :\n",
    "        * index 혹은 특정 컬럼 값을 기준으로 두 개의 데이터프레임을 연결\n",
    "        \n",
    "<img src=\"https://www.dofactory.com/img/sql/sql-joins.png\">\n",
    "\n",
    "* 이미지 출처 : https://www.dofactory.com/sql/join"
   ]
  },
  {
   "cell_type": "code",
   "execution_count": null,
   "metadata": {},
   "outputs": [],
   "source": []
  },
  {
   "cell_type": "code",
   "execution_count": null,
   "metadata": {},
   "outputs": [],
   "source": [
    "# merge로 병합합니다.\n",
    "# df와 df_pe를 병합니다. merge 전후 행과 열의 수를 확인해서 제대로 병합이 되었는지 확인합니다.\n",
    "# df_merge_pe 에 할당합니다.\n",
    "# df_merge_pe"
   ]
  },
  {
   "cell_type": "code",
   "execution_count": null,
   "metadata": {},
   "outputs": [],
   "source": []
  },
  {
   "cell_type": "code",
   "execution_count": null,
   "metadata": {},
   "outputs": [],
   "source": [
    "# 위에서 병합한 데이터(df_merge_pe)에 PBRlBPS(df_pb) 데이터도 병합해 줍니다.\n",
    "# df_merge_pb"
   ]
  },
  {
   "cell_type": "code",
   "execution_count": null,
   "metadata": {},
   "outputs": [],
   "source": []
  },
  {
   "cell_type": "code",
   "execution_count": null,
   "metadata": {},
   "outputs": [],
   "source": [
    "# 위에서 병합한 데이터(df_merge_pb)에 배당수익률(df_in) 데이터도 병합해 줍니다.\n",
    "# df_final 이라는 변수에 담습니다.\n",
    "# df_final"
   ]
  },
  {
   "cell_type": "code",
   "execution_count": null,
   "metadata": {},
   "outputs": [],
   "source": []
  },
  {
   "cell_type": "markdown",
   "metadata": {
    "id": "IRd50HHb3W3j"
   },
   "source": [
    "## 사용하지 않는 컬럼 제거하기 drop"
   ]
  },
  {
   "cell_type": "code",
   "execution_count": null,
   "metadata": {},
   "outputs": [],
   "source": [
    "# l 구분자가 들어가는 컬럼명만 찾습니다.\n",
    "# del_cols"
   ]
  },
  {
   "cell_type": "code",
   "execution_count": null,
   "metadata": {},
   "outputs": [],
   "source": [
    "# 위에서 찾은 컬럼명을 drop으로 삭제합니다.\n"
   ]
  },
  {
   "cell_type": "code",
   "execution_count": null,
   "metadata": {},
   "outputs": [],
   "source": [
    "# 결측치수가 많거나 중복된 컬럼이 있는지 확인합니다.\n"
   ]
  },
  {
   "cell_type": "code",
   "execution_count": null,
   "metadata": {},
   "outputs": [],
   "source": []
  },
  {
   "cell_type": "code",
   "execution_count": null,
   "metadata": {},
   "outputs": [],
   "source": [
    "# 전처리한 컬럼은 원본 컬럼을 제거합니다.\n",
    "del_cols2 = ['종목명_전처리', '시가총액', '시가총액순위', '배당수익률기간']"
   ]
  },
  {
   "cell_type": "code",
   "execution_count": null,
   "metadata": {},
   "outputs": [],
   "source": [
    "# del_cols2 를 제거합니다.\n"
   ]
  },
  {
   "cell_type": "code",
   "execution_count": null,
   "metadata": {},
   "outputs": [],
   "source": [
    "# 컬럼명 중 필요없는 컬럼이 없는지 확인합니다.\n"
   ]
  },
  {
   "cell_type": "code",
   "execution_count": null,
   "metadata": {},
   "outputs": [],
   "source": []
  },
  {
   "cell_type": "markdown",
   "metadata": {},
   "source": [
    "## CSV 파일로 저장하기"
   ]
  },
  {
   "cell_type": "code",
   "execution_count": null,
   "metadata": {},
   "outputs": [],
   "source": [
    "# 기존 파일명을 변경해서 새로 저장할 파일명을 만듭니다.\n",
    "file_name"
   ]
  },
  {
   "cell_type": "code",
   "execution_count": null,
   "metadata": {},
   "outputs": [],
   "source": [
    "# 저장할 파일명을 만들어 줍니다.\n",
    "# 기존 파일명에 _ver2 를 붙여줍니다.\n",
    "# final_file_name"
   ]
  },
  {
   "cell_type": "code",
   "execution_count": null,
   "metadata": {},
   "outputs": [],
   "source": [
    "# final_file_name 변수에 있는 파일명으로 저장합니다.\n"
   ]
  },
  {
   "cell_type": "code",
   "execution_count": null,
   "metadata": {},
   "outputs": [],
   "source": [
    "# final_file_name 변수에 있는 값을 읽어옵니다.\n",
    "# 이 때, 종목코드는 dtype={\"종목코드\":np.object} 로 불러옵니다.\n"
   ]
  },
  {
   "cell_type": "code",
   "execution_count": null,
   "metadata": {
    "id": "wThRQHJV3W3j"
   },
   "outputs": [],
   "source": []
  },
  {
   "cell_type": "code",
   "execution_count": null,
   "metadata": {
    "id": "o2R_ETLb3W3j"
   },
   "outputs": [],
   "source": []
  }
 ],
 "metadata": {
  "colab": {
   "collapsed_sections": [],
   "name": "5. 테마분석.ipynb",
   "provenance": []
  },
  "kernelspec": {
   "display_name": "Python 3 (ipykernel)",
   "language": "python",
   "name": "python3"
  },
  "language_info": {
   "codemirror_mode": {
    "name": "ipython",
    "version": 3
   },
   "file_extension": ".py",
   "mimetype": "text/x-python",
   "name": "python",
   "nbconvert_exporter": "python",
   "pygments_lexer": "ipython3",
   "version": "3.10.4"
  },
  "toc": {
   "base_numbering": 1,
   "nav_menu": {},
   "number_sections": true,
   "sideBar": true,
   "skip_h1_title": false,
   "title_cell": "Table of Contents",
   "title_sidebar": "Contents",
   "toc_cell": false,
   "toc_position": {
    "height": "calc(100% - 180px)",
    "left": "10px",
    "top": "150px",
    "width": "204.8px"
   },
   "toc_section_display": true,
   "toc_window_display": true
  },
  "varInspector": {
   "cols": {
    "lenName": 16,
    "lenType": 16,
    "lenVar": 40
   },
   "kernels_config": {
    "python": {
     "delete_cmd_postfix": "",
     "delete_cmd_prefix": "del ",
     "library": "var_list.py",
     "varRefreshCmd": "print(var_dic_list())"
    },
    "r": {
     "delete_cmd_postfix": ") ",
     "delete_cmd_prefix": "rm(",
     "library": "var_list.r",
     "varRefreshCmd": "cat(var_dic_list()) "
    }
   },
   "types_to_exclude": [
    "module",
    "function",
    "builtin_function_or_method",
    "instance",
    "_Feature"
   ],
   "window_display": false
  }
 },
 "nbformat": 4,
 "nbformat_minor": 1
}

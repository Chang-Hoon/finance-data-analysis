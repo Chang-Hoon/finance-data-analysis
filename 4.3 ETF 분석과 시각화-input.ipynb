{
 "cells": [
  {
   "cell_type": "markdown",
   "metadata": {
    "id": "t3V7lAmnBYko"
   },
   "source": [
    "[![Open In Colab](https://colab.research.google.com/assets/colab-badge.svg)](https://colab.research.google.com/github/corazzon/finance-data-analysis/blob/main/4.3%20ETF%20%EB%B6%84%EC%84%9D%EA%B3%BC%20%EC%8B%9C%EA%B0%81%ED%99%94-input.ipynb)\n",
    "\n",
    "\n",
    "## ETF 분석과 시각화\n",
    "\n",
    "* keyword\n",
    "    * seaborn - barplot, boxplot, violinplot\n",
    "    * **seaborn PairGrid vs matplotlib - subplots**\n",
    "    * seaborn FacetGrid\n",
    "        * **catplot 범주형 데이터 시각화 (kind: count, bar, box, boxen, violin)**\n",
    "        * relplot 연속된 수치 데이터 시각화 (kind: scatter, line) <= KRX 전체 종목 분석에서 다룸\n",
    "    * pandas - value_counts, cross_tab, groupby, pivot_table\n",
    "  \n",
    "<img src=\"https://seaborn.pydata.org/_images/function_overview_8_0.png\">\n",
    "\n",
    "* seaborn 에 대해 좀 더 알고 싶다면 다음의 튜토리얼을 참고해 보세요.\n",
    "* [User guide and tutorial — seaborn documentation](https://seaborn.pydata.org/tutorial.html)\n",
    "\n",
    "\n",
    "\n",
    "* 특정 시점의 데이터를 저장해 분석합니다.\n",
    "* 분석하는 시점에 따라 내용이 달라지는 점에 유의하세요!\n",
    "* 내가 수집한 시점의 데이터를 분석하기 때문에 매일 분석한다면 일자별 리포트를 만들어 볼 수도 있을거에요.\n",
    "* [ETF : 네이버 금융](https://finance.naver.com/sise/etf.nhn)\n",
    "\n",
    "\n",
    "## ⚠️ 주의사항 ⚠️ \n",
    "*  분석내용은 데이터 수집 시점에 따라 달라집니다."
   ]
  },
  {
   "cell_type": "markdown",
   "metadata": {},
   "source": [
    "## 라이브러리 로드"
   ]
  },
  {
   "cell_type": "code",
   "execution_count": 1,
   "metadata": {
    "id": "sUwAAMjsBYko"
   },
   "outputs": [],
   "source": [
    "# 필요한 도구를 로드합니다.\n",
    "# 데이터 분석을 위한 pandas, 수치계산을 위한 numpy, 시각화를 위한 seaborn, matplotlib\n",
    "import pandas as pd\n",
    "import numpy as np\n",
    "import seaborn as sns\n",
    "import matplotlib.pyplot as plt"
   ]
  },
  {
   "cell_type": "code",
   "execution_count": 2,
   "metadata": {},
   "outputs": [
    {
     "data": {
      "text/plain": [
       "'0.11.2'"
      ]
     },
     "execution_count": 2,
     "metadata": {},
     "output_type": "execute_result"
    }
   ],
   "source": [
    "# seaborn 의 버전을 확인합니다. \n",
    "# 0.11.0 이상의 버전에서 변경된 내용이 많으니 0.11 이상의 버전을 사용해 주세요.\n",
    "sns.__version__"
   ]
  },
  {
   "cell_type": "code",
   "execution_count": 3,
   "metadata": {},
   "outputs": [
    {
     "data": {
      "text/plain": [
       "'1.4.2'"
      ]
     },
     "execution_count": 3,
     "metadata": {},
     "output_type": "execute_result"
    }
   ],
   "source": [
    "pd.__version__"
   ]
  },
  {
   "cell_type": "markdown",
   "metadata": {},
   "source": [
    "## 시각화를 위한 한글폰트 설정"
   ]
  },
  {
   "cell_type": "code",
   "execution_count": 4,
   "metadata": {
    "id": "U_l0mgl04pJy"
   },
   "outputs": [],
   "source": [
    "def get_font_family():\n",
    "    \"\"\"\n",
    "    시스템 환경에 따른 기본 폰트명을 반환하는 함수\n",
    "    \"\"\"\n",
    "    import platform\n",
    "    system_name = platform.system()\n",
    "    # colab 사용자는 system_name이 'Linux'로 확인\n",
    "\n",
    "    if system_name == \"Darwin\" :\n",
    "        font_family = \"AppleGothic\"\n",
    "    elif system_name == \"Windows\":\n",
    "        font_family = \"Malgun Gothic\"\n",
    "    else:\n",
    "        !apt-get install fonts-nanum -qq  > /dev/null\n",
    "        !fc-cache -fv\n",
    "\n",
    "        import matplotlib as mpl\n",
    "        mpl.font_manager._rebuild()\n",
    "        findfont = mpl.font_manager.fontManager.findfont\n",
    "        mpl.font_manager.findfont = findfont\n",
    "        mpl.backends.backend_agg.findfont = findfont\n",
    "        \n",
    "        font_family = \"NanumBarunGothic\"\n",
    "    return font_family"
   ]
  },
  {
   "cell_type": "code",
   "execution_count": 5,
   "metadata": {},
   "outputs": [
    {
     "name": "stdout",
     "output_type": "stream",
     "text": [
      "['Solarize_Light2', '_classic_test_patch', '_mpl-gallery', '_mpl-gallery-nogrid', 'bmh', 'classic', 'dark_background', 'fast', 'fivethirtyeight', 'ggplot', 'grayscale', 'seaborn', 'seaborn-bright', 'seaborn-colorblind', 'seaborn-dark', 'seaborn-dark-palette', 'seaborn-darkgrid', 'seaborn-deep', 'seaborn-muted', 'seaborn-notebook', 'seaborn-paper', 'seaborn-pastel', 'seaborn-poster', 'seaborn-talk', 'seaborn-ticks', 'seaborn-white', 'seaborn-whitegrid', 'tableau-colorblind10']\n"
     ]
    }
   ],
   "source": [
    "# 사용가능한 그래프 스타일\n",
    "print(plt.style.available)"
   ]
  },
  {
   "cell_type": "code",
   "execution_count": 6,
   "metadata": {},
   "outputs": [
    {
     "data": {
      "text/plain": [
       "'Malgun Gothic'"
      ]
     },
     "execution_count": 6,
     "metadata": {},
     "output_type": "execute_result"
    }
   ],
   "source": [
    "# 운영체제에 맞는 font_family 찾기 \n",
    "font_family = get_font_family()\n",
    "font_family"
   ]
  },
  {
   "cell_type": "code",
   "execution_count": 13,
   "metadata": {
    "id": "U_l0mgl04pJy"
   },
   "outputs": [],
   "source": [
    "# 그래프 스타일 설정\n",
    "# plt.style.use(\"fivethirtyeight\")\n",
    "plt.style.use(\"ggplot\")\n",
    "\n",
    "# dark mode 사용자를 위한 스타일 추천\n",
    "# plt.style.use(\"dark_background\")\n",
    "\n",
    "\n",
    "plt.rc(\"font\", family=font_family)\n",
    "# 마이너스폰트 설정\n",
    "plt.rc(\"axes\", unicode_minus=False)\n",
    "\n",
    "# 그래프에 retina display 적용\n"
   ]
  },
  {
   "cell_type": "code",
   "execution_count": 14,
   "metadata": {
    "id": "HSMj_UaBHxHV"
   },
   "outputs": [
    {
     "data": {
      "text/plain": [
       "<AxesSubplot:title={'center':'한글'}>"
      ]
     },
     "execution_count": 14,
     "metadata": {},
     "output_type": "execute_result"
    },
    {
     "data": {
      "image/png": "[encoded data removed]",
      "text/plain": [
       "<Figure size 432x288 with 1 Axes>"
      ]
     },
     "metadata": {},
     "output_type": "display_data"
    }
   ],
   "source": [
    "# 한글폰트 확인\n",
    "pd.Series([1, 3, 5, -7, 9]).plot(title=\"한글\")"
   ]
  },
  {
   "cell_type": "markdown",
   "metadata": {},
   "source": [
    "## 데이터 로드"
   ]
  },
  {
   "cell_type": "code",
   "execution_count": 16,
   "metadata": {
    "id": "cyivYjVFBYkp"
   },
   "outputs": [
    {
     "data": {
      "text/plain": [
       "(575, 17)"
      ]
     },
     "execution_count": 16,
     "metadata": {},
     "output_type": "execute_result"
    }
   ],
   "source": [
    "# 이전 수업에서 수집해서 저장해둔 csv 파일을 읽어옵니다.\n",
    "# itemcode 숫자 앞의 0 이 지워진다면 \n",
    "# dtype={\"종목코드\": np.object} 로 타입을 지정해 주면 문자형태로 읽어옵니다.\n",
    "df = pd.read_csv('etf_2022-06-24.csv', dtype={\"종목코드\":object})\n",
    "df.shape"
   ]
  },
  {
   "cell_type": "code",
   "execution_count": 17,
   "metadata": {
    "id": "VgCji4_wBYkp"
   },
   "outputs": [
    {
     "data": {
      "text/html": [
       "<div>\n",
       "<style scoped>\n",
       "    .dataframe tbody tr th:only-of-type {\n",
       "        vertical-align: middle;\n",
       "    }\n",
       "\n",
       "    .dataframe tbody tr th {\n",
       "        vertical-align: top;\n",
       "    }\n",
       "\n",
       "    .dataframe thead th {\n",
       "        text-align: right;\n",
       "    }\n",
       "</style>\n",
       "<table border=\"1\" class=\"dataframe\">\n",
       "  <thead>\n",
       "    <tr style=\"text-align: right;\">\n",
       "      <th></th>\n",
       "      <th>종목코드</th>\n",
       "      <th>탭코드</th>\n",
       "      <th>종목명</th>\n",
       "      <th>현재가</th>\n",
       "      <th>등락구분</th>\n",
       "      <th>전일비</th>\n",
       "      <th>등락률</th>\n",
       "      <th>순자산가치(NAV)</th>\n",
       "      <th>3개월수익률</th>\n",
       "      <th>거래량</th>\n",
       "      <th>거래대금(백만)</th>\n",
       "      <th>시가총액(억)</th>\n",
       "      <th>유형</th>\n",
       "      <th>브랜드</th>\n",
       "      <th>인버스</th>\n",
       "      <th>레버리지</th>\n",
       "      <th>환헤지H</th>\n",
       "    </tr>\n",
       "  </thead>\n",
       "  <tbody>\n",
       "    <tr>\n",
       "      <th>0</th>\n",
       "      <td>069500</td>\n",
       "      <td>1</td>\n",
       "      <td>KODEX 200</td>\n",
       "      <td>30640</td>\n",
       "      <td>5</td>\n",
       "      <td>-250</td>\n",
       "      <td>-0.81</td>\n",
       "      <td>30607.0</td>\n",
       "      <td>-14.4298</td>\n",
       "      <td>9784052</td>\n",
       "      <td>301620</td>\n",
       "      <td>47247</td>\n",
       "      <td>국내 시장지수</td>\n",
       "      <td>KODEX</td>\n",
       "      <td>False</td>\n",
       "      <td>False</td>\n",
       "      <td>False</td>\n",
       "    </tr>\n",
       "    <tr>\n",
       "      <th>1</th>\n",
       "      <td>371460</td>\n",
       "      <td>4</td>\n",
       "      <td>TIGER 차이나전기차SOLACTIVE</td>\n",
       "      <td>17700</td>\n",
       "      <td>2</td>\n",
       "      <td>700</td>\n",
       "      <td>4.12</td>\n",
       "      <td>17844.0</td>\n",
       "      <td>12.6573</td>\n",
       "      <td>13690582</td>\n",
       "      <td>238235</td>\n",
       "      <td>42388</td>\n",
       "      <td>해외 주식</td>\n",
       "      <td>TIGER</td>\n",
       "      <td>False</td>\n",
       "      <td>False</td>\n",
       "      <td>False</td>\n",
       "    </tr>\n",
       "    <tr>\n",
       "      <th>2</th>\n",
       "      <td>122630</td>\n",
       "      <td>3</td>\n",
       "      <td>KODEX 레버리지</td>\n",
       "      <td>14135</td>\n",
       "      <td>5</td>\n",
       "      <td>-185</td>\n",
       "      <td>-1.29</td>\n",
       "      <td>14147.0</td>\n",
       "      <td>-28.0583</td>\n",
       "      <td>57013787</td>\n",
       "      <td>815169</td>\n",
       "      <td>21909</td>\n",
       "      <td>국내 파생</td>\n",
       "      <td>KODEX</td>\n",
       "      <td>False</td>\n",
       "      <td>True</td>\n",
       "      <td>False</td>\n",
       "    </tr>\n",
       "    <tr>\n",
       "      <th>3</th>\n",
       "      <td>133690</td>\n",
       "      <td>4</td>\n",
       "      <td>TIGER 미국나스닥100</td>\n",
       "      <td>67055</td>\n",
       "      <td>2</td>\n",
       "      <td>955</td>\n",
       "      <td>1.44</td>\n",
       "      <td>67176.0</td>\n",
       "      <td>-15.3487</td>\n",
       "      <td>118882</td>\n",
       "      <td>7959</td>\n",
       "      <td>19929</td>\n",
       "      <td>해외 주식</td>\n",
       "      <td>TIGER</td>\n",
       "      <td>False</td>\n",
       "      <td>False</td>\n",
       "      <td>False</td>\n",
       "    </tr>\n",
       "    <tr>\n",
       "      <th>4</th>\n",
       "      <td>252670</td>\n",
       "      <td>3</td>\n",
       "      <td>KODEX 200선물인버스2X</td>\n",
       "      <td>3385</td>\n",
       "      <td>2</td>\n",
       "      <td>40</td>\n",
       "      <td>1.20</td>\n",
       "      <td>3386.0</td>\n",
       "      <td>34.3373</td>\n",
       "      <td>390559840</td>\n",
       "      <td>1305629</td>\n",
       "      <td>19779</td>\n",
       "      <td>국내 파생</td>\n",
       "      <td>KODEX</td>\n",
       "      <td>True</td>\n",
       "      <td>False</td>\n",
       "      <td>False</td>\n",
       "    </tr>\n",
       "  </tbody>\n",
       "</table>\n",
       "</div>"
      ],
      "text/plain": [
       "     종목코드  탭코드                    종목명    현재가  등락구분  전일비   등락률  순자산가치(NAV)  \\\n",
       "0  069500    1              KODEX 200  30640     5 -250 -0.81     30607.0   \n",
       "1  371460    4  TIGER 차이나전기차SOLACTIVE  17700     2  700  4.12     17844.0   \n",
       "2  122630    3             KODEX 레버리지  14135     5 -185 -1.29     14147.0   \n",
       "3  133690    4         TIGER 미국나스닥100  67055     2  955  1.44     67176.0   \n",
       "4  252670    3       KODEX 200선물인버스2X   3385     2   40  1.20      3386.0   \n",
       "\n",
       "    3개월수익률        거래량  거래대금(백만)  시가총액(억)       유형    브랜드    인버스   레버리지   환헤지H  \n",
       "0 -14.4298    9784052    301620    47247  국내 시장지수  KODEX  False  False  False  \n",
       "1  12.6573   13690582    238235    42388    해외 주식  TIGER  False  False  False  \n",
       "2 -28.0583   57013787    815169    21909    국내 파생  KODEX  False   True  False  \n",
       "3 -15.3487     118882      7959    19929    해외 주식  TIGER  False  False  False  \n",
       "4  34.3373  390559840   1305629    19779    국내 파생  KODEX   True  False  False  "
      ]
     },
     "execution_count": 17,
     "metadata": {},
     "output_type": "execute_result"
    }
   ],
   "source": [
    "# 인덱스 번호 상단 5개의 데이터를 가져옵니다.\n",
    "# 제대로 read되었는지 각 column정보들을 확인합니다.\n",
    "df.head()"
   ]
  },
  {
   "cell_type": "code",
   "execution_count": 18,
   "metadata": {
    "id": "sFWU55-NBYkp"
   },
   "outputs": [
    {
     "data": {
      "text/html": [
       "<div>\n",
       "<style scoped>\n",
       "    .dataframe tbody tr th:only-of-type {\n",
       "        vertical-align: middle;\n",
       "    }\n",
       "\n",
       "    .dataframe tbody tr th {\n",
       "        vertical-align: top;\n",
       "    }\n",
       "\n",
       "    .dataframe thead th {\n",
       "        text-align: right;\n",
       "    }\n",
       "</style>\n",
       "<table border=\"1\" class=\"dataframe\">\n",
       "  <thead>\n",
       "    <tr style=\"text-align: right;\">\n",
       "      <th></th>\n",
       "      <th>종목코드</th>\n",
       "      <th>탭코드</th>\n",
       "      <th>종목명</th>\n",
       "      <th>현재가</th>\n",
       "      <th>등락구분</th>\n",
       "      <th>전일비</th>\n",
       "      <th>등락률</th>\n",
       "      <th>순자산가치(NAV)</th>\n",
       "      <th>3개월수익률</th>\n",
       "      <th>거래량</th>\n",
       "      <th>거래대금(백만)</th>\n",
       "      <th>시가총액(억)</th>\n",
       "      <th>유형</th>\n",
       "      <th>브랜드</th>\n",
       "      <th>인버스</th>\n",
       "      <th>레버리지</th>\n",
       "      <th>환헤지H</th>\n",
       "    </tr>\n",
       "  </thead>\n",
       "  <tbody>\n",
       "    <tr>\n",
       "      <th>570</th>\n",
       "      <td>252720</td>\n",
       "      <td>2</td>\n",
       "      <td>KBSTAR 모멘텀밸류</td>\n",
       "      <td>11940</td>\n",
       "      <td>5</td>\n",
       "      <td>-220</td>\n",
       "      <td>-1.81</td>\n",
       "      <td>11943.0</td>\n",
       "      <td>-12.1324</td>\n",
       "      <td>51</td>\n",
       "      <td>0</td>\n",
       "      <td>12</td>\n",
       "      <td>국내 업종/테마</td>\n",
       "      <td>KBSTAR</td>\n",
       "      <td>False</td>\n",
       "      <td>False</td>\n",
       "      <td>False</td>\n",
       "    </tr>\n",
       "    <tr>\n",
       "      <th>571</th>\n",
       "      <td>284990</td>\n",
       "      <td>2</td>\n",
       "      <td>KBSTAR 200에너지화학</td>\n",
       "      <td>10570</td>\n",
       "      <td>5</td>\n",
       "      <td>-230</td>\n",
       "      <td>-2.13</td>\n",
       "      <td>10535.0</td>\n",
       "      <td>-1.1442</td>\n",
       "      <td>1033</td>\n",
       "      <td>11</td>\n",
       "      <td>11</td>\n",
       "      <td>국내 업종/테마</td>\n",
       "      <td>KBSTAR</td>\n",
       "      <td>False</td>\n",
       "      <td>False</td>\n",
       "      <td>False</td>\n",
       "    </tr>\n",
       "    <tr>\n",
       "      <th>572</th>\n",
       "      <td>287330</td>\n",
       "      <td>2</td>\n",
       "      <td>KBSTAR 200생활소비재</td>\n",
       "      <td>6405</td>\n",
       "      <td>3</td>\n",
       "      <td>0</td>\n",
       "      <td>0.00</td>\n",
       "      <td>6398.0</td>\n",
       "      <td>-9.3675</td>\n",
       "      <td>39</td>\n",
       "      <td>0</td>\n",
       "      <td>9</td>\n",
       "      <td>국내 업종/테마</td>\n",
       "      <td>KBSTAR</td>\n",
       "      <td>False</td>\n",
       "      <td>False</td>\n",
       "      <td>False</td>\n",
       "    </tr>\n",
       "    <tr>\n",
       "      <th>573</th>\n",
       "      <td>287320</td>\n",
       "      <td>2</td>\n",
       "      <td>KBSTAR 200산업재</td>\n",
       "      <td>10720</td>\n",
       "      <td>5</td>\n",
       "      <td>-280</td>\n",
       "      <td>-2.55</td>\n",
       "      <td>10728.0</td>\n",
       "      <td>-6.5103</td>\n",
       "      <td>244</td>\n",
       "      <td>2</td>\n",
       "      <td>9</td>\n",
       "      <td>국내 업종/테마</td>\n",
       "      <td>KBSTAR</td>\n",
       "      <td>False</td>\n",
       "      <td>False</td>\n",
       "      <td>False</td>\n",
       "    </tr>\n",
       "    <tr>\n",
       "      <th>574</th>\n",
       "      <td>287310</td>\n",
       "      <td>2</td>\n",
       "      <td>KBSTAR 200경기소비재</td>\n",
       "      <td>9030</td>\n",
       "      <td>5</td>\n",
       "      <td>-65</td>\n",
       "      <td>-0.71</td>\n",
       "      <td>9033.0</td>\n",
       "      <td>-4.7046</td>\n",
       "      <td>510</td>\n",
       "      <td>4</td>\n",
       "      <td>7</td>\n",
       "      <td>국내 업종/테마</td>\n",
       "      <td>KBSTAR</td>\n",
       "      <td>False</td>\n",
       "      <td>False</td>\n",
       "      <td>False</td>\n",
       "    </tr>\n",
       "  </tbody>\n",
       "</table>\n",
       "</div>"
      ],
      "text/plain": [
       "       종목코드  탭코드              종목명    현재가  등락구분  전일비   등락률  순자산가치(NAV)  \\\n",
       "570  252720    2     KBSTAR 모멘텀밸류  11940     5 -220 -1.81     11943.0   \n",
       "571  284990    2  KBSTAR 200에너지화학  10570     5 -230 -2.13     10535.0   \n",
       "572  287330    2  KBSTAR 200생활소비재   6405     3    0  0.00      6398.0   \n",
       "573  287320    2    KBSTAR 200산업재  10720     5 -280 -2.55     10728.0   \n",
       "574  287310    2  KBSTAR 200경기소비재   9030     5  -65 -0.71      9033.0   \n",
       "\n",
       "      3개월수익률   거래량  거래대금(백만)  시가총액(억)        유형     브랜드    인버스   레버리지   환헤지H  \n",
       "570 -12.1324    51         0       12  국내 업종/테마  KBSTAR  False  False  False  \n",
       "571  -1.1442  1033        11       11  국내 업종/테마  KBSTAR  False  False  False  \n",
       "572  -9.3675    39         0        9  국내 업종/테마  KBSTAR  False  False  False  \n",
       "573  -6.5103   244         2        9  국내 업종/테마  KBSTAR  False  False  False  \n",
       "574  -4.7046   510         4        7  국내 업종/테마  KBSTAR  False  False  False  "
      ]
     },
     "execution_count": 18,
     "metadata": {},
     "output_type": "execute_result"
    }
   ],
   "source": [
    "# 인덱스 하단의 5개 데이터를 가져옵니다.\n",
    "# 데이터가 제대로 로드되었는지 확인합니다.\n",
    "df.tail()"
   ]
  },
  {
   "cell_type": "code",
   "execution_count": 19,
   "metadata": {
    "id": "LxSJgh3rBYkq"
   },
   "outputs": [
    {
     "name": "stdout",
     "output_type": "stream",
     "text": [
      "<class 'pandas.core.frame.DataFrame'>\n",
      "RangeIndex: 575 entries, 0 to 574\n",
      "Data columns (total 17 columns):\n",
      " #   Column      Non-Null Count  Dtype  \n",
      "---  ------      --------------  -----  \n",
      " 0   종목코드        575 non-null    object \n",
      " 1   탭코드         575 non-null    int64  \n",
      " 2   종목명         575 non-null    object \n",
      " 3   현재가         575 non-null    int64  \n",
      " 4   등락구분        575 non-null    int64  \n",
      " 5   전일비         575 non-null    int64  \n",
      " 6   등락률         575 non-null    float64\n",
      " 7   순자산가치(NAV)  575 non-null    float64\n",
      " 8   3개월수익률      547 non-null    float64\n",
      " 9   거래량         575 non-null    int64  \n",
      " 10  거래대금(백만)    575 non-null    int64  \n",
      " 11  시가총액(억)     575 non-null    int64  \n",
      " 12  유형          575 non-null    object \n",
      " 13  브랜드         575 non-null    object \n",
      " 14  인버스         575 non-null    bool   \n",
      " 15  레버리지        575 non-null    bool   \n",
      " 16  환헤지H        575 non-null    bool   \n",
      "dtypes: bool(3), float64(3), int64(7), object(4)\n",
      "memory usage: 64.7+ KB\n"
     ]
    }
   ],
   "source": [
    "# info를 통해서 각 column들의 데이터타입과 결측치, 메모리 사용량 등을 볼 수 있습니다.\n",
    "df.info()"
   ]
  },
  {
   "cell_type": "markdown",
   "metadata": {},
   "source": [
    "## 결측치 확인"
   ]
  },
  {
   "cell_type": "code",
   "execution_count": null,
   "metadata": {},
   "outputs": [],
   "source": [
    "(True + True + False) / 3"
   ]
  },
  {
   "cell_type": "code",
   "execution_count": 21,
   "metadata": {
    "id": "pV1tUeTDBYkr"
   },
   "outputs": [
    {
     "data": {
      "text/plain": [
       "종목코드           0\n",
       "탭코드            0\n",
       "종목명            0\n",
       "현재가            0\n",
       "등락구분           0\n",
       "전일비            0\n",
       "등락률            0\n",
       "순자산가치(NAV)     0\n",
       "3개월수익률        28\n",
       "거래량            0\n",
       "거래대금(백만)       0\n",
       "시가총액(억)        0\n",
       "유형             0\n",
       "브랜드            0\n",
       "인버스            0\n",
       "레버리지           0\n",
       "환헤지H           0\n",
       "dtype: int64"
      ]
     },
     "execution_count": 21,
     "metadata": {},
     "output_type": "execute_result"
    }
   ],
   "source": [
    "# 결측치를 확인합니다.\n",
    "df.isnull().sum()"
   ]
  },
  {
   "cell_type": "code",
   "execution_count": 23,
   "metadata": {
    "id": "90vBW0FdWdWK"
   },
   "outputs": [
    {
     "data": {
      "text/plain": [
       "종목코드          0.000000\n",
       "탭코드           0.000000\n",
       "종목명           0.000000\n",
       "현재가           0.000000\n",
       "등락구분          0.000000\n",
       "전일비           0.000000\n",
       "등락률           0.000000\n",
       "순자산가치(NAV)    0.000000\n",
       "3개월수익률        4.869565\n",
       "거래량           0.000000\n",
       "거래대금(백만)      0.000000\n",
       "시가총액(억)       0.000000\n",
       "유형            0.000000\n",
       "브랜드           0.000000\n",
       "인버스           0.000000\n",
       "레버리지          0.000000\n",
       "환헤지H          0.000000\n",
       "dtype: float64"
      ]
     },
     "execution_count": 23,
     "metadata": {},
     "output_type": "execute_result"
    }
   ],
   "source": [
    "# 결측치의 비율을 봅니다.\n",
    "df.isnull().mean() * 100"
   ]
  },
  {
   "cell_type": "code",
   "execution_count": 27,
   "metadata": {},
   "outputs": [
    {
     "data": {
      "text/plain": [
       "<AxesSubplot:>"
      ]
     },
     "execution_count": 27,
     "metadata": {},
     "output_type": "execute_result"
    },
    {
     "data": {
      "image/png": "[encoded data removed]",
      "text/plain": [
       "<Figure size 720x288 with 2 Axes>"
      ]
     },
     "metadata": {},
     "output_type": "display_data"
    }
   ],
   "source": [
    "# heatmap을 통한 결측치 시각화\n",
    "plt.figure(figsize=(10, 4))\n",
    "sns.heatmap(df.isnull(), cmap=\"Greys_r\")"
   ]
  },
  {
   "cell_type": "markdown",
   "metadata": {
    "id": "cwVx0sksYyOq"
   },
   "source": [
    "## 범주형 데이터의 빈도수\n",
    "### 범주형 변수 찾기"
   ]
  },
  {
   "cell_type": "code",
   "execution_count": 29,
   "metadata": {},
   "outputs": [
    {
     "data": {
      "text/html": [
       "<div>\n",
       "<style scoped>\n",
       "    .dataframe tbody tr th:only-of-type {\n",
       "        vertical-align: middle;\n",
       "    }\n",
       "\n",
       "    .dataframe tbody tr th {\n",
       "        vertical-align: top;\n",
       "    }\n",
       "\n",
       "    .dataframe thead th {\n",
       "        text-align: right;\n",
       "    }\n",
       "</style>\n",
       "<table border=\"1\" class=\"dataframe\">\n",
       "  <thead>\n",
       "    <tr style=\"text-align: right;\">\n",
       "      <th></th>\n",
       "      <th>종목코드</th>\n",
       "      <th>종목명</th>\n",
       "      <th>유형</th>\n",
       "      <th>브랜드</th>\n",
       "    </tr>\n",
       "  </thead>\n",
       "  <tbody>\n",
       "    <tr>\n",
       "      <th>count</th>\n",
       "      <td>575</td>\n",
       "      <td>575</td>\n",
       "      <td>575</td>\n",
       "      <td>575</td>\n",
       "    </tr>\n",
       "    <tr>\n",
       "      <th>unique</th>\n",
       "      <td>575</td>\n",
       "      <td>575</td>\n",
       "      <td>7</td>\n",
       "      <td>21</td>\n",
       "    </tr>\n",
       "    <tr>\n",
       "      <th>top</th>\n",
       "      <td>069500</td>\n",
       "      <td>KODEX 200</td>\n",
       "      <td>국내 업종/테마</td>\n",
       "      <td>TIGER</td>\n",
       "    </tr>\n",
       "    <tr>\n",
       "      <th>freq</th>\n",
       "      <td>1</td>\n",
       "      <td>1</td>\n",
       "      <td>207</td>\n",
       "      <td>141</td>\n",
       "    </tr>\n",
       "  </tbody>\n",
       "</table>\n",
       "</div>"
      ],
      "text/plain": [
       "          종목코드        종목명        유형    브랜드\n",
       "count      575        575       575    575\n",
       "unique     575        575         7     21\n",
       "top     069500  KODEX 200  국내 업종/테마  TIGER\n",
       "freq         1          1       207    141"
      ]
     },
     "execution_count": 29,
     "metadata": {},
     "output_type": "execute_result"
    }
   ],
   "source": [
    "# describe를 통해 범주형 변수에 대한 기술통계 값을 구하기\n",
    "df.describe(include=object)"
   ]
  },
  {
   "cell_type": "code",
   "execution_count": 30,
   "metadata": {},
   "outputs": [
    {
     "data": {
      "text/html": [
       "<div>\n",
       "<style scoped>\n",
       "    .dataframe tbody tr th:only-of-type {\n",
       "        vertical-align: middle;\n",
       "    }\n",
       "\n",
       "    .dataframe tbody tr th {\n",
       "        vertical-align: top;\n",
       "    }\n",
       "\n",
       "    .dataframe thead th {\n",
       "        text-align: right;\n",
       "    }\n",
       "</style>\n",
       "<table border=\"1\" class=\"dataframe\">\n",
       "  <thead>\n",
       "    <tr style=\"text-align: right;\">\n",
       "      <th></th>\n",
       "      <th>종목코드</th>\n",
       "      <th>종목명</th>\n",
       "      <th>유형</th>\n",
       "      <th>브랜드</th>\n",
       "      <th>인버스</th>\n",
       "      <th>레버리지</th>\n",
       "      <th>환헤지H</th>\n",
       "    </tr>\n",
       "  </thead>\n",
       "  <tbody>\n",
       "    <tr>\n",
       "      <th>count</th>\n",
       "      <td>575</td>\n",
       "      <td>575</td>\n",
       "      <td>575</td>\n",
       "      <td>575</td>\n",
       "      <td>575</td>\n",
       "      <td>575</td>\n",
       "      <td>575</td>\n",
       "    </tr>\n",
       "    <tr>\n",
       "      <th>unique</th>\n",
       "      <td>575</td>\n",
       "      <td>575</td>\n",
       "      <td>7</td>\n",
       "      <td>21</td>\n",
       "      <td>2</td>\n",
       "      <td>2</td>\n",
       "      <td>2</td>\n",
       "    </tr>\n",
       "    <tr>\n",
       "      <th>top</th>\n",
       "      <td>069500</td>\n",
       "      <td>KODEX 200</td>\n",
       "      <td>국내 업종/테마</td>\n",
       "      <td>TIGER</td>\n",
       "      <td>False</td>\n",
       "      <td>False</td>\n",
       "      <td>False</td>\n",
       "    </tr>\n",
       "    <tr>\n",
       "      <th>freq</th>\n",
       "      <td>1</td>\n",
       "      <td>1</td>\n",
       "      <td>207</td>\n",
       "      <td>141</td>\n",
       "      <td>534</td>\n",
       "      <td>537</td>\n",
       "      <td>508</td>\n",
       "    </tr>\n",
       "  </tbody>\n",
       "</table>\n",
       "</div>"
      ],
      "text/plain": [
       "          종목코드        종목명        유형    브랜드    인버스   레버리지   환헤지H\n",
       "count      575        575       575    575    575    575    575\n",
       "unique     575        575         7     21      2      2      2\n",
       "top     069500  KODEX 200  국내 업종/테마  TIGER  False  False  False\n",
       "freq         1          1       207    141    534    537    508"
      ]
     },
     "execution_count": 30,
     "metadata": {},
     "output_type": "execute_result"
    }
   ],
   "source": [
    "df.describe(exclude=np.number)"
   ]
  },
  {
   "cell_type": "code",
   "execution_count": 31,
   "metadata": {},
   "outputs": [
    {
     "data": {
      "text/plain": [
       "종목코드          575\n",
       "탭코드             7\n",
       "종목명           575\n",
       "현재가           529\n",
       "등락구분            3\n",
       "전일비           172\n",
       "등락률           380\n",
       "순자산가치(NAV)    563\n",
       "3개월수익률        547\n",
       "거래량           529\n",
       "거래대금(백만)      303\n",
       "시가총액(억)       376\n",
       "유형              7\n",
       "브랜드            21\n",
       "인버스             2\n",
       "레버리지            2\n",
       "환헤지H            2\n",
       "dtype: int64"
      ]
     },
     "execution_count": 31,
     "metadata": {},
     "output_type": "execute_result"
    }
   ],
   "source": [
    "# unique(중복을 제외한 값)에 대한 빈도수 구하기\n",
    "# object type 이 아니더라도 nunique 값이 작다면 범주형 변수인지 확인해 봅니다.\n",
    "df.nunique()"
   ]
  },
  {
   "cell_type": "markdown",
   "metadata": {
    "id": "cwVx0sksYyOq"
   },
   "source": [
    "### ETF 상품 유형별 빈도수(한 개의 변수)"
   ]
  },
  {
   "cell_type": "code",
   "execution_count": 33,
   "metadata": {
    "id": "WTM1Y0xmBYkr",
    "scrolled": true
   },
   "outputs": [
    {
     "data": {
      "text/plain": [
       "국내 업종/테마    207\n",
       "해외 주식       147\n",
       "국내 시장지수      64\n",
       "채권           62\n",
       "기타           40\n",
       "국내 파생        37\n",
       "원자재          18\n",
       "Name: 유형, dtype: int64"
      ]
     },
     "execution_count": 33,
     "metadata": {},
     "output_type": "execute_result"
    }
   ],
   "source": [
    "# df[\"유형\"].value_counts() 의 결과와 같게 시각화 할 수 있습니다.\n",
    "df['유형'].value_counts()"
   ]
  },
  {
   "cell_type": "code",
   "execution_count": 34,
   "metadata": {},
   "outputs": [
    {
     "data": {
      "text/plain": [
       "<AxesSubplot:xlabel='count', ylabel='유형'>"
      ]
     },
     "execution_count": 34,
     "metadata": {},
     "output_type": "execute_result"
    },
    {
     "data": {
      "image/png": "[encoded data removed]",
      "text/plain": [
       "<Figure size 432x288 with 1 Axes>"
      ]
     },
     "metadata": {},
     "output_type": "display_data"
    }
   ],
   "source": [
    "# sns.countplot 으로 빈도수를 시각화 합니다.\n",
    "sns.countplot(data=df.sort_values(\"유형\"), y=\"유형\")"
   ]
  },
  {
   "cell_type": "code",
   "execution_count": 35,
   "metadata": {},
   "outputs": [
    {
     "data": {
      "text/plain": [
       "<AxesSubplot:xlabel='count', ylabel='유형'>"
      ]
     },
     "execution_count": 35,
     "metadata": {},
     "output_type": "execute_result"
    },
    {
     "data": {
      "image/png": "[encoded data removed]",
      "text/plain": [
       "<Figure size 432x288 with 1 Axes>"
      ]
     },
     "metadata": {},
     "output_type": "display_data"
    }
   ],
   "source": [
    "sns.countplot(data=df, y=\"유형\", order=df[\"유형\"].value_counts().index)"
   ]
  },
  {
   "cell_type": "code",
   "execution_count": 36,
   "metadata": {
    "id": "plmwbalqbBKR"
   },
   "outputs": [
    {
     "data": {
      "text/plain": [
       "국내 업종/테마    207\n",
       "해외 주식       147\n",
       "국내 시장지수      64\n",
       "채권           62\n",
       "기타           40\n",
       "국내 파생        37\n",
       "원자재          18\n",
       "Name: 유형, dtype: int64"
      ]
     },
     "execution_count": 36,
     "metadata": {},
     "output_type": "execute_result"
    }
   ],
   "source": [
    "# value_counts 로 빈도수를 직접 계산합니다.\n",
    "df['유형'].value_counts()"
   ]
  },
  {
   "cell_type": "code",
   "execution_count": 37,
   "metadata": {},
   "outputs": [
    {
     "data": {
      "text/plain": [
       "국내 업종/테마    36.000000\n",
       "해외 주식       25.565217\n",
       "국내 시장지수     11.130435\n",
       "채권          10.782609\n",
       "기타           6.956522\n",
       "국내 파생        6.434783\n",
       "원자재          3.130435\n",
       "Name: 유형, dtype: float64"
      ]
     },
     "execution_count": 37,
     "metadata": {},
     "output_type": "execute_result"
    }
   ],
   "source": [
    "# value_counts(normalize=True) 로 빈도수의 비율을 구합니다.\n",
    "df[\"유형\"].value_counts(normalize=True) * 100"
   ]
  },
  {
   "cell_type": "markdown",
   "metadata": {},
   "source": [
    "### 두 개의 변수 빈도수와 비율"
   ]
  },
  {
   "cell_type": "code",
   "execution_count": 40,
   "metadata": {
    "id": "_cheYlGLBYkr"
   },
   "outputs": [
    {
     "data": {
      "text/plain": [
       "<AxesSubplot:xlabel='count', ylabel='유형'>"
      ]
     },
     "execution_count": 40,
     "metadata": {},
     "output_type": "execute_result"
    },
    {
     "data": {
      "image/png": "[encoded data removed]",
      "text/plain": [
       "<Figure size 432x288 with 1 Axes>"
      ]
     },
     "metadata": {},
     "output_type": "display_data"
    }
   ],
   "source": [
    "# 유형 컬럼의 빈도수를 봅니다.\n",
    "# seaborn countplot의 hue를 이용하여 인버스여부에 따라 다른 색상으로 표시해 봅니다.\n",
    "sns.countplot(data=df, y=\"유형\", hue=\"인버스\")"
   ]
  },
  {
   "cell_type": "code",
   "execution_count": 41,
   "metadata": {
    "id": "5SHkrQN4BYkr",
    "scrolled": true
   },
   "outputs": [
    {
     "data": {
      "text/html": [
       "<div>\n",
       "<style scoped>\n",
       "    .dataframe tbody tr th:only-of-type {\n",
       "        vertical-align: middle;\n",
       "    }\n",
       "\n",
       "    .dataframe tbody tr th {\n",
       "        vertical-align: top;\n",
       "    }\n",
       "\n",
       "    .dataframe thead th {\n",
       "        text-align: right;\n",
       "    }\n",
       "</style>\n",
       "<table border=\"1\" class=\"dataframe\">\n",
       "  <thead>\n",
       "    <tr style=\"text-align: right;\">\n",
       "      <th>인버스</th>\n",
       "      <th>False</th>\n",
       "      <th>True</th>\n",
       "    </tr>\n",
       "    <tr>\n",
       "      <th>유형</th>\n",
       "      <th></th>\n",
       "      <th></th>\n",
       "    </tr>\n",
       "  </thead>\n",
       "  <tbody>\n",
       "    <tr>\n",
       "      <th>국내 시장지수</th>\n",
       "      <td>64</td>\n",
       "      <td>0</td>\n",
       "    </tr>\n",
       "    <tr>\n",
       "      <th>국내 업종/테마</th>\n",
       "      <td>207</td>\n",
       "      <td>0</td>\n",
       "    </tr>\n",
       "    <tr>\n",
       "      <th>국내 파생</th>\n",
       "      <td>20</td>\n",
       "      <td>17</td>\n",
       "    </tr>\n",
       "    <tr>\n",
       "      <th>기타</th>\n",
       "      <td>35</td>\n",
       "      <td>5</td>\n",
       "    </tr>\n",
       "    <tr>\n",
       "      <th>원자재</th>\n",
       "      <td>14</td>\n",
       "      <td>4</td>\n",
       "    </tr>\n",
       "    <tr>\n",
       "      <th>채권</th>\n",
       "      <td>53</td>\n",
       "      <td>9</td>\n",
       "    </tr>\n",
       "    <tr>\n",
       "      <th>해외 주식</th>\n",
       "      <td>141</td>\n",
       "      <td>6</td>\n",
       "    </tr>\n",
       "  </tbody>\n",
       "</table>\n",
       "</div>"
      ],
      "text/plain": [
       "인버스       False  True\n",
       "유형                   \n",
       "국내 시장지수      64     0\n",
       "국내 업종/테마    207     0\n",
       "국내 파생        20    17\n",
       "기타           35     5\n",
       "원자재          14     4\n",
       "채권           53     9\n",
       "해외 주식       141     6"
      ]
     },
     "execution_count": 41,
     "metadata": {},
     "output_type": "execute_result"
    }
   ],
   "source": [
    "# pandas crosstab을 이용하여 위 그래프의 수치를 확인 할 수 있습니다.\n",
    "# seaborn 은 아래와 같은 연산을 하지 않더라도 알아서 통계적 연산을 시각화 해줍니다.\n",
    "pd.crosstab(df['유형'], df['인버스'])"
   ]
  },
  {
   "cell_type": "code",
   "execution_count": 42,
   "metadata": {},
   "outputs": [
    {
     "data": {
      "text/html": [
       "<div>\n",
       "<style scoped>\n",
       "    .dataframe tbody tr th:only-of-type {\n",
       "        vertical-align: middle;\n",
       "    }\n",
       "\n",
       "    .dataframe tbody tr th {\n",
       "        vertical-align: top;\n",
       "    }\n",
       "\n",
       "    .dataframe thead th {\n",
       "        text-align: right;\n",
       "    }\n",
       "</style>\n",
       "<table border=\"1\" class=\"dataframe\">\n",
       "  <thead>\n",
       "    <tr style=\"text-align: right;\">\n",
       "      <th>유형</th>\n",
       "      <th>국내 시장지수</th>\n",
       "      <th>국내 업종/테마</th>\n",
       "      <th>국내 파생</th>\n",
       "      <th>기타</th>\n",
       "      <th>원자재</th>\n",
       "      <th>채권</th>\n",
       "      <th>해외 주식</th>\n",
       "    </tr>\n",
       "    <tr>\n",
       "      <th>인버스</th>\n",
       "      <th></th>\n",
       "      <th></th>\n",
       "      <th></th>\n",
       "      <th></th>\n",
       "      <th></th>\n",
       "      <th></th>\n",
       "      <th></th>\n",
       "    </tr>\n",
       "  </thead>\n",
       "  <tbody>\n",
       "    <tr>\n",
       "      <th>False</th>\n",
       "      <td>64</td>\n",
       "      <td>207</td>\n",
       "      <td>20</td>\n",
       "      <td>35</td>\n",
       "      <td>14</td>\n",
       "      <td>53</td>\n",
       "      <td>141</td>\n",
       "    </tr>\n",
       "    <tr>\n",
       "      <th>True</th>\n",
       "      <td>0</td>\n",
       "      <td>0</td>\n",
       "      <td>17</td>\n",
       "      <td>5</td>\n",
       "      <td>4</td>\n",
       "      <td>9</td>\n",
       "      <td>6</td>\n",
       "    </tr>\n",
       "  </tbody>\n",
       "</table>\n",
       "</div>"
      ],
      "text/plain": [
       "유형     국내 시장지수  국내 업종/테마  국내 파생  기타  원자재  채권  해외 주식\n",
       "인버스                                                \n",
       "False       64       207     20  35   14  53    141\n",
       "True         0         0     17   5    4   9      6"
      ]
     },
     "execution_count": 42,
     "metadata": {},
     "output_type": "execute_result"
    }
   ],
   "source": [
    "pd.crosstab(df['인버스'], df['유형'])"
   ]
  },
  {
   "cell_type": "code",
   "execution_count": 44,
   "metadata": {},
   "outputs": [
    {
     "data": {
      "text/html": [
       "<div>\n",
       "<style scoped>\n",
       "    .dataframe tbody tr th:only-of-type {\n",
       "        vertical-align: middle;\n",
       "    }\n",
       "\n",
       "    .dataframe tbody tr th {\n",
       "        vertical-align: top;\n",
       "    }\n",
       "\n",
       "    .dataframe thead th {\n",
       "        text-align: right;\n",
       "    }\n",
       "</style>\n",
       "<table border=\"1\" class=\"dataframe\">\n",
       "  <thead>\n",
       "    <tr style=\"text-align: right;\">\n",
       "      <th>유형</th>\n",
       "      <th>국내 시장지수</th>\n",
       "      <th>국내 업종/테마</th>\n",
       "      <th>국내 파생</th>\n",
       "      <th>기타</th>\n",
       "      <th>원자재</th>\n",
       "      <th>채권</th>\n",
       "      <th>해외 주식</th>\n",
       "    </tr>\n",
       "    <tr>\n",
       "      <th>인버스</th>\n",
       "      <th></th>\n",
       "      <th></th>\n",
       "      <th></th>\n",
       "      <th></th>\n",
       "      <th></th>\n",
       "      <th></th>\n",
       "      <th></th>\n",
       "    </tr>\n",
       "  </thead>\n",
       "  <tbody>\n",
       "    <tr>\n",
       "      <th>False</th>\n",
       "      <td>11.130435</td>\n",
       "      <td>36.0</td>\n",
       "      <td>3.478261</td>\n",
       "      <td>6.086957</td>\n",
       "      <td>2.434783</td>\n",
       "      <td>9.217391</td>\n",
       "      <td>24.521739</td>\n",
       "    </tr>\n",
       "    <tr>\n",
       "      <th>True</th>\n",
       "      <td>0.000000</td>\n",
       "      <td>0.0</td>\n",
       "      <td>2.956522</td>\n",
       "      <td>0.869565</td>\n",
       "      <td>0.695652</td>\n",
       "      <td>1.565217</td>\n",
       "      <td>1.043478</td>\n",
       "    </tr>\n",
       "  </tbody>\n",
       "</table>\n",
       "</div>"
      ],
      "text/plain": [
       "유형       국내 시장지수  국내 업종/테마     국내 파생        기타       원자재        채권      해외 주식\n",
       "인버스                                                                          \n",
       "False  11.130435      36.0  3.478261  6.086957  2.434783  9.217391  24.521739\n",
       "True    0.000000       0.0  2.956522  0.869565  0.695652  1.565217   1.043478"
      ]
     },
     "execution_count": 44,
     "metadata": {},
     "output_type": "execute_result"
    }
   ],
   "source": [
    "# value_counts 처럼 normalize 를 사용해 비율을 구할 수도 있습니다.\n",
    "n = pd.crosstab(df['인버스'], df['유형'], normalize=True) * 100\n",
    "n"
   ]
  },
  {
   "cell_type": "code",
   "execution_count": 46,
   "metadata": {},
   "outputs": [
    {
     "data": {
      "text/plain": [
       "100.0"
      ]
     },
     "execution_count": 46,
     "metadata": {},
     "output_type": "execute_result"
    }
   ],
   "source": [
    "n.sum().sum()"
   ]
  },
  {
   "cell_type": "code",
   "execution_count": 48,
   "metadata": {
    "id": "nd7lF14FBYkr"
   },
   "outputs": [
    {
     "data": {
      "text/plain": [
       "<AxesSubplot:xlabel='count', ylabel='유형'>"
      ]
     },
     "execution_count": 48,
     "metadata": {},
     "output_type": "execute_result"
    },
    {
     "data": {
      "image/png": "[encoded data removed]",
      "text/plain": [
       "<Figure size 432x288 with 1 Axes>"
      ]
     },
     "metadata": {},
     "output_type": "display_data"
    }
   ],
   "source": [
    "# 동일하게 유형 데이터를 레버리지 여부에 따라 그립니다.\n",
    "sns.countplot(data=df, y='유형', hue='레버리지')"
   ]
  },
  {
   "cell_type": "code",
   "execution_count": 49,
   "metadata": {
    "id": "uYFXmykEBYkr"
   },
   "outputs": [
    {
     "data": {
      "text/html": [
       "<div>\n",
       "<style scoped>\n",
       "    .dataframe tbody tr th:only-of-type {\n",
       "        vertical-align: middle;\n",
       "    }\n",
       "\n",
       "    .dataframe tbody tr th {\n",
       "        vertical-align: top;\n",
       "    }\n",
       "\n",
       "    .dataframe thead th {\n",
       "        text-align: right;\n",
       "    }\n",
       "</style>\n",
       "<table border=\"1\" class=\"dataframe\">\n",
       "  <thead>\n",
       "    <tr style=\"text-align: right;\">\n",
       "      <th>유형</th>\n",
       "      <th>국내 시장지수</th>\n",
       "      <th>국내 업종/테마</th>\n",
       "      <th>국내 파생</th>\n",
       "      <th>기타</th>\n",
       "      <th>원자재</th>\n",
       "      <th>채권</th>\n",
       "      <th>해외 주식</th>\n",
       "    </tr>\n",
       "    <tr>\n",
       "      <th>레버리지</th>\n",
       "      <th></th>\n",
       "      <th></th>\n",
       "      <th></th>\n",
       "      <th></th>\n",
       "      <th></th>\n",
       "      <th></th>\n",
       "      <th></th>\n",
       "    </tr>\n",
       "  </thead>\n",
       "  <tbody>\n",
       "    <tr>\n",
       "      <th>False</th>\n",
       "      <td>64</td>\n",
       "      <td>203</td>\n",
       "      <td>21</td>\n",
       "      <td>37</td>\n",
       "      <td>18</td>\n",
       "      <td>60</td>\n",
       "      <td>134</td>\n",
       "    </tr>\n",
       "    <tr>\n",
       "      <th>True</th>\n",
       "      <td>0</td>\n",
       "      <td>4</td>\n",
       "      <td>16</td>\n",
       "      <td>3</td>\n",
       "      <td>0</td>\n",
       "      <td>2</td>\n",
       "      <td>13</td>\n",
       "    </tr>\n",
       "  </tbody>\n",
       "</table>\n",
       "</div>"
      ],
      "text/plain": [
       "유형     국내 시장지수  국내 업종/테마  국내 파생  기타  원자재  채권  해외 주식\n",
       "레버리지                                               \n",
       "False       64       203     21  37   18  60    134\n",
       "True         0         4     16   3    0   2     13"
      ]
     },
     "execution_count": 49,
     "metadata": {},
     "output_type": "execute_result"
    }
   ],
   "source": [
    "# 레버리지, 유형에 대한 빈도수를 구힙니다.\n",
    "pd.crosstab(df['레버리지'], df['유형'])"
   ]
  },
  {
   "cell_type": "code",
   "execution_count": 50,
   "metadata": {},
   "outputs": [
    {
     "data": {
      "text/html": [
       "<div>\n",
       "<style scoped>\n",
       "    .dataframe tbody tr th:only-of-type {\n",
       "        vertical-align: middle;\n",
       "    }\n",
       "\n",
       "    .dataframe tbody tr th {\n",
       "        vertical-align: top;\n",
       "    }\n",
       "\n",
       "    .dataframe thead th {\n",
       "        text-align: right;\n",
       "    }\n",
       "</style>\n",
       "<table border=\"1\" class=\"dataframe\">\n",
       "  <thead>\n",
       "    <tr style=\"text-align: right;\">\n",
       "      <th>유형</th>\n",
       "      <th>국내 시장지수</th>\n",
       "      <th>국내 업종/테마</th>\n",
       "      <th>국내 파생</th>\n",
       "      <th>기타</th>\n",
       "      <th>원자재</th>\n",
       "      <th>채권</th>\n",
       "      <th>해외 주식</th>\n",
       "    </tr>\n",
       "    <tr>\n",
       "      <th>레버리지</th>\n",
       "      <th></th>\n",
       "      <th></th>\n",
       "      <th></th>\n",
       "      <th></th>\n",
       "      <th></th>\n",
       "      <th></th>\n",
       "      <th></th>\n",
       "    </tr>\n",
       "  </thead>\n",
       "  <tbody>\n",
       "    <tr>\n",
       "      <th>False</th>\n",
       "      <td>11.130435</td>\n",
       "      <td>35.304348</td>\n",
       "      <td>3.652174</td>\n",
       "      <td>6.434783</td>\n",
       "      <td>3.130435</td>\n",
       "      <td>10.434783</td>\n",
       "      <td>23.304348</td>\n",
       "    </tr>\n",
       "    <tr>\n",
       "      <th>True</th>\n",
       "      <td>0.000000</td>\n",
       "      <td>0.695652</td>\n",
       "      <td>2.782609</td>\n",
       "      <td>0.521739</td>\n",
       "      <td>0.000000</td>\n",
       "      <td>0.347826</td>\n",
       "      <td>2.260870</td>\n",
       "    </tr>\n",
       "  </tbody>\n",
       "</table>\n",
       "</div>"
      ],
      "text/plain": [
       "유형       국내 시장지수   국내 업종/테마     국내 파생        기타       원자재         채권  \\\n",
       "레버리지                                                                   \n",
       "False  11.130435  35.304348  3.652174  6.434783  3.130435  10.434783   \n",
       "True    0.000000   0.695652  2.782609  0.521739  0.000000   0.347826   \n",
       "\n",
       "유형         해외 주식  \n",
       "레버리지              \n",
       "False  23.304348  \n",
       "True    2.260870  "
      ]
     },
     "execution_count": 50,
     "metadata": {},
     "output_type": "execute_result"
    }
   ],
   "source": [
    "# 레버리지, 유형에 대한 빈도수의 비율을 구합니다.\n",
    "pd.crosstab(df['레버리지'], df['유형'], normalize=True) * 100"
   ]
  },
  {
   "cell_type": "markdown",
   "metadata": {
    "id": "PwvZpYS3bI4b"
   },
   "source": [
    "### 브랜드별 빈도수"
   ]
  },
  {
   "cell_type": "code",
   "execution_count": 56,
   "metadata": {
    "id": "H3QD5dbCbmor"
   },
   "outputs": [
    {
     "data": {
      "text/plain": [
       "<AxesSubplot:xlabel='count', ylabel='브랜드'>"
      ]
     },
     "execution_count": 56,
     "metadata": {},
     "output_type": "execute_result"
    },
    {
     "data": {
      "image/png": "[encoded data removed]",
      "text/plain": [
       "<Figure size 432x288 with 1 Axes>"
      ]
     },
     "metadata": {},
     "output_type": "display_data"
    }
   ],
   "source": [
    "# 브랜드별 ETF 빈도수\n",
    "sns.countplot(data=df, y=\"브랜드\",\n",
    "              palette='Blues_r',\n",
    "             order=df[\"브랜드\"].value_counts().index)"
   ]
  },
  {
   "cell_type": "code",
   "execution_count": 57,
   "metadata": {},
   "outputs": [
    {
     "data": {
      "text/plain": [
       "TIGER        141\n",
       "KODEX        136\n",
       "KBSTAR        88\n",
       "KINDEX        55\n",
       "ARIRANG       48\n",
       "HANARO        31\n",
       "KOSEF         29\n",
       "SOL           15\n",
       "TIMEFOLIO      6\n",
       "파워             4\n",
       "FOCUS          3\n",
       "HK             3\n",
       "히어로즈           2\n",
       "에셋플러스          2\n",
       "WOORI          2\n",
       "마이다스           2\n",
       "TREX           2\n",
       "MASTER         2\n",
       "마이티            2\n",
       "KTOP           1\n",
       "VITA           1\n",
       "Name: 브랜드, dtype: int64"
      ]
     },
     "execution_count": 57,
     "metadata": {},
     "output_type": "execute_result"
    }
   ],
   "source": [
    "df[\"브랜드\"].value_counts()"
   ]
  },
  {
   "cell_type": "markdown",
   "metadata": {},
   "source": [
    "### 인버스, 브랜드의 ETF 빈도 비율\n",
    "\n",
    "\n",
    "* 인버스 ETF란? 주식관련 장내 외 파생상품 투자 및 증권차입매도 등을 통해 기초지수(KOSPI 200지수)의 일일 변동률(일별수익률)을 음의 1배수 즉, 역방향으로 추적하는 ETF를 말한다. 예를 들어, KOSPI 200지수가 1% 상승할 경우 인버스 ETF는 마이너스 1% 수익률, 반대로 KOSPI 200 지수가 1% 하락시 인버스 ETF는 플러스 1%의 수익률을 목표로 운영된다.\n",
    "[네이버 지식백과] 인버스ETF (매일경제, 매경닷컴)\n",
    "* 출처 : https://terms.naver.com/entry.nhn?docId=20336&cid=43659&categoryId=43659"
   ]
  },
  {
   "cell_type": "code",
   "execution_count": 58,
   "metadata": {
    "id": "0WcpnEmVBYkr"
   },
   "outputs": [
    {
     "data": {
      "text/plain": [
       "<AxesSubplot:xlabel='count', ylabel='브랜드'>"
      ]
     },
     "execution_count": 58,
     "metadata": {},
     "output_type": "execute_result"
    },
    {
     "data": {
      "image/png": "[encoded data removed]",
      "text/plain": [
       "<Figure size 432x288 with 1 Axes>"
      ]
     },
     "metadata": {},
     "output_type": "display_data"
    }
   ],
   "source": [
    "# 브랜드 column의 빈도수를 인버스에 따른 구분으로 그려봅니다.\n",
    "sns.countplot(data=df, y='브랜드', hue='인버스')"
   ]
  },
  {
   "cell_type": "code",
   "execution_count": 59,
   "metadata": {
    "id": "BqTooLGSBYkr"
   },
   "outputs": [
    {
     "data": {
      "text/html": [
       "<div>\n",
       "<style scoped>\n",
       "    .dataframe tbody tr th:only-of-type {\n",
       "        vertical-align: middle;\n",
       "    }\n",
       "\n",
       "    .dataframe tbody tr th {\n",
       "        vertical-align: top;\n",
       "    }\n",
       "\n",
       "    .dataframe thead th {\n",
       "        text-align: right;\n",
       "    }\n",
       "</style>\n",
       "<table border=\"1\" class=\"dataframe\">\n",
       "  <thead>\n",
       "    <tr style=\"text-align: right;\">\n",
       "      <th>브랜드</th>\n",
       "      <th>ARIRANG</th>\n",
       "      <th>FOCUS</th>\n",
       "      <th>HANARO</th>\n",
       "      <th>HK</th>\n",
       "      <th>KBSTAR</th>\n",
       "      <th>KINDEX</th>\n",
       "      <th>KODEX</th>\n",
       "      <th>KOSEF</th>\n",
       "      <th>KTOP</th>\n",
       "      <th>MASTER</th>\n",
       "      <th>...</th>\n",
       "      <th>TIGER</th>\n",
       "      <th>TIMEFOLIO</th>\n",
       "      <th>TREX</th>\n",
       "      <th>VITA</th>\n",
       "      <th>WOORI</th>\n",
       "      <th>마이다스</th>\n",
       "      <th>마이티</th>\n",
       "      <th>에셋플러스</th>\n",
       "      <th>파워</th>\n",
       "      <th>히어로즈</th>\n",
       "    </tr>\n",
       "    <tr>\n",
       "      <th>인버스</th>\n",
       "      <th></th>\n",
       "      <th></th>\n",
       "      <th></th>\n",
       "      <th></th>\n",
       "      <th></th>\n",
       "      <th></th>\n",
       "      <th></th>\n",
       "      <th></th>\n",
       "      <th></th>\n",
       "      <th></th>\n",
       "      <th></th>\n",
       "      <th></th>\n",
       "      <th></th>\n",
       "      <th></th>\n",
       "      <th></th>\n",
       "      <th></th>\n",
       "      <th></th>\n",
       "      <th></th>\n",
       "      <th></th>\n",
       "      <th></th>\n",
       "      <th></th>\n",
       "    </tr>\n",
       "  </thead>\n",
       "  <tbody>\n",
       "    <tr>\n",
       "      <th>False</th>\n",
       "      <td>45</td>\n",
       "      <td>3</td>\n",
       "      <td>30</td>\n",
       "      <td>3</td>\n",
       "      <td>78</td>\n",
       "      <td>51</td>\n",
       "      <td>125</td>\n",
       "      <td>24</td>\n",
       "      <td>1</td>\n",
       "      <td>2</td>\n",
       "      <td>...</td>\n",
       "      <td>134</td>\n",
       "      <td>6</td>\n",
       "      <td>2</td>\n",
       "      <td>1</td>\n",
       "      <td>2</td>\n",
       "      <td>2</td>\n",
       "      <td>2</td>\n",
       "      <td>2</td>\n",
       "      <td>4</td>\n",
       "      <td>2</td>\n",
       "    </tr>\n",
       "    <tr>\n",
       "      <th>True</th>\n",
       "      <td>3</td>\n",
       "      <td>0</td>\n",
       "      <td>1</td>\n",
       "      <td>0</td>\n",
       "      <td>10</td>\n",
       "      <td>4</td>\n",
       "      <td>11</td>\n",
       "      <td>5</td>\n",
       "      <td>0</td>\n",
       "      <td>0</td>\n",
       "      <td>...</td>\n",
       "      <td>7</td>\n",
       "      <td>0</td>\n",
       "      <td>0</td>\n",
       "      <td>0</td>\n",
       "      <td>0</td>\n",
       "      <td>0</td>\n",
       "      <td>0</td>\n",
       "      <td>0</td>\n",
       "      <td>0</td>\n",
       "      <td>0</td>\n",
       "    </tr>\n",
       "  </tbody>\n",
       "</table>\n",
       "<p>2 rows × 21 columns</p>\n",
       "</div>"
      ],
      "text/plain": [
       "브랜드    ARIRANG  FOCUS  HANARO  HK  KBSTAR  KINDEX  KODEX  KOSEF  KTOP  MASTER  \\\n",
       "인버스                                                                             \n",
       "False       45      3      30   3      78      51    125     24     1       2   \n",
       "True         3      0       1   0      10       4     11      5     0       0   \n",
       "\n",
       "브랜드    ...  TIGER  TIMEFOLIO  TREX  VITA  WOORI  마이다스  마이티  에셋플러스  파워  히어로즈  \n",
       "인버스    ...                                                                   \n",
       "False  ...    134          6     2     1      2     2    2      2   4     2  \n",
       "True   ...      7          0     0     0      0     0    0      0   0     0  \n",
       "\n",
       "[2 rows x 21 columns]"
      ]
     },
     "execution_count": 59,
     "metadata": {},
     "output_type": "execute_result"
    }
   ],
   "source": [
    "# 인버스, 브랜드의 금융상품 빈도수\n",
    "pd.crosstab(df['인버스'], df['브랜드'])"
   ]
  },
  {
   "cell_type": "code",
   "execution_count": 61,
   "metadata": {},
   "outputs": [
    {
     "data": {
      "text/html": [
       "<div>\n",
       "<style scoped>\n",
       "    .dataframe tbody tr th:only-of-type {\n",
       "        vertical-align: middle;\n",
       "    }\n",
       "\n",
       "    .dataframe tbody tr th {\n",
       "        vertical-align: top;\n",
       "    }\n",
       "\n",
       "    .dataframe thead th {\n",
       "        text-align: right;\n",
       "    }\n",
       "</style>\n",
       "<table border=\"1\" class=\"dataframe\">\n",
       "  <thead>\n",
       "    <tr style=\"text-align: right;\">\n",
       "      <th>브랜드</th>\n",
       "      <th>ARIRANG</th>\n",
       "      <th>FOCUS</th>\n",
       "      <th>HANARO</th>\n",
       "      <th>HK</th>\n",
       "      <th>KBSTAR</th>\n",
       "      <th>KINDEX</th>\n",
       "      <th>KODEX</th>\n",
       "      <th>KOSEF</th>\n",
       "      <th>KTOP</th>\n",
       "      <th>MASTER</th>\n",
       "      <th>...</th>\n",
       "      <th>TIGER</th>\n",
       "      <th>TIMEFOLIO</th>\n",
       "      <th>TREX</th>\n",
       "      <th>VITA</th>\n",
       "      <th>WOORI</th>\n",
       "      <th>마이다스</th>\n",
       "      <th>마이티</th>\n",
       "      <th>에셋플러스</th>\n",
       "      <th>파워</th>\n",
       "      <th>히어로즈</th>\n",
       "    </tr>\n",
       "    <tr>\n",
       "      <th>인버스</th>\n",
       "      <th></th>\n",
       "      <th></th>\n",
       "      <th></th>\n",
       "      <th></th>\n",
       "      <th></th>\n",
       "      <th></th>\n",
       "      <th></th>\n",
       "      <th></th>\n",
       "      <th></th>\n",
       "      <th></th>\n",
       "      <th></th>\n",
       "      <th></th>\n",
       "      <th></th>\n",
       "      <th></th>\n",
       "      <th></th>\n",
       "      <th></th>\n",
       "      <th></th>\n",
       "      <th></th>\n",
       "      <th></th>\n",
       "      <th></th>\n",
       "      <th></th>\n",
       "    </tr>\n",
       "  </thead>\n",
       "  <tbody>\n",
       "    <tr>\n",
       "      <th>False</th>\n",
       "      <td>7.826087</td>\n",
       "      <td>0.521739</td>\n",
       "      <td>5.217391</td>\n",
       "      <td>0.521739</td>\n",
       "      <td>13.565217</td>\n",
       "      <td>8.869565</td>\n",
       "      <td>21.739130</td>\n",
       "      <td>4.173913</td>\n",
       "      <td>0.173913</td>\n",
       "      <td>0.347826</td>\n",
       "      <td>...</td>\n",
       "      <td>23.304348</td>\n",
       "      <td>1.043478</td>\n",
       "      <td>0.347826</td>\n",
       "      <td>0.173913</td>\n",
       "      <td>0.347826</td>\n",
       "      <td>0.347826</td>\n",
       "      <td>0.347826</td>\n",
       "      <td>0.347826</td>\n",
       "      <td>0.695652</td>\n",
       "      <td>0.347826</td>\n",
       "    </tr>\n",
       "    <tr>\n",
       "      <th>True</th>\n",
       "      <td>0.521739</td>\n",
       "      <td>0.000000</td>\n",
       "      <td>0.173913</td>\n",
       "      <td>0.000000</td>\n",
       "      <td>1.739130</td>\n",
       "      <td>0.695652</td>\n",
       "      <td>1.913043</td>\n",
       "      <td>0.869565</td>\n",
       "      <td>0.000000</td>\n",
       "      <td>0.000000</td>\n",
       "      <td>...</td>\n",
       "      <td>1.217391</td>\n",
       "      <td>0.000000</td>\n",
       "      <td>0.000000</td>\n",
       "      <td>0.000000</td>\n",
       "      <td>0.000000</td>\n",
       "      <td>0.000000</td>\n",
       "      <td>0.000000</td>\n",
       "      <td>0.000000</td>\n",
       "      <td>0.000000</td>\n",
       "      <td>0.000000</td>\n",
       "    </tr>\n",
       "  </tbody>\n",
       "</table>\n",
       "<p>2 rows × 21 columns</p>\n",
       "</div>"
      ],
      "text/plain": [
       "브랜드     ARIRANG     FOCUS    HANARO        HK     KBSTAR    KINDEX      KODEX  \\\n",
       "인버스                                                                             \n",
       "False  7.826087  0.521739  5.217391  0.521739  13.565217  8.869565  21.739130   \n",
       "True   0.521739  0.000000  0.173913  0.000000   1.739130  0.695652   1.913043   \n",
       "\n",
       "브랜드       KOSEF      KTOP    MASTER  ...      TIGER  TIMEFOLIO      TREX  \\\n",
       "인버스                                  ...                                   \n",
       "False  4.173913  0.173913  0.347826  ...  23.304348   1.043478  0.347826   \n",
       "True   0.869565  0.000000  0.000000  ...   1.217391   0.000000  0.000000   \n",
       "\n",
       "브랜드        VITA     WOORI      마이다스       마이티     에셋플러스        파워      히어로즈  \n",
       "인버스                                                                          \n",
       "False  0.173913  0.347826  0.347826  0.347826  0.347826  0.695652  0.347826  \n",
       "True   0.000000  0.000000  0.000000  0.000000  0.000000  0.000000  0.000000  \n",
       "\n",
       "[2 rows x 21 columns]"
      ]
     },
     "execution_count": 61,
     "metadata": {},
     "output_type": "execute_result"
    }
   ],
   "source": [
    "# 인버스, 브랜드의 금융상품 빈도 비율\n",
    "in_brand_norm = pd.crosstab(df['인버스'], df['브랜드'], normalize=True) * 100\n",
    "in_brand_norm"
   ]
  },
  {
   "cell_type": "markdown",
   "metadata": {},
   "source": [
    "### 레버리지, 브랜드의 ETF 빈도 비율\n",
    "* 레버리지 ETF란? 일반 ETF가 코스피200과 같은 지수 내 대표 주식을 보유함으로써 지수와 비슷한 수익률을 내는 것을 목표로 하는 데 비해 레버리지ETF는 선물 등 파생상품에 투자해 지수보다 높은 수익을 추구하는 ETF다. 상승장에서는 높은 수익률을 기대할 수 있지만 하락장에서는 손실도 커져 고위험ㆍ고수익 상품으로 분류된다.\n",
    "[네이버 지식백과] 레버리지 ETF (매일경제, 매경닷컴)\n",
    "* 출처 : https://terms.naver.com/entry.nhn?docId=2059802&cid=43659&categoryId=43659"
   ]
  },
  {
   "cell_type": "code",
   "execution_count": 62,
   "metadata": {
    "id": "QH4gnSxbBYkr"
   },
   "outputs": [
    {
     "data": {
      "text/plain": [
       "<AxesSubplot:xlabel='count', ylabel='브랜드'>"
      ]
     },
     "execution_count": 62,
     "metadata": {},
     "output_type": "execute_result"
    },
    {
     "data": {
      "image/png": "[encoded data removed]",
      "text/plain": [
       "<Figure size 432x288 with 1 Axes>"
      ]
     },
     "metadata": {},
     "output_type": "display_data"
    }
   ],
   "source": [
    "# 브랜드별 레버리지 여부에 따른 빈도수를 시각화 합니다.\n",
    "sns.countplot(data=df, y=\"브랜드\", hue=\"레버리지\")"
   ]
  },
  {
   "cell_type": "code",
   "execution_count": 63,
   "metadata": {
    "id": "FJikD4WyBYkr"
   },
   "outputs": [
    {
     "data": {
      "text/html": [
       "<div>\n",
       "<style scoped>\n",
       "    .dataframe tbody tr th:only-of-type {\n",
       "        vertical-align: middle;\n",
       "    }\n",
       "\n",
       "    .dataframe tbody tr th {\n",
       "        vertical-align: top;\n",
       "    }\n",
       "\n",
       "    .dataframe thead th {\n",
       "        text-align: right;\n",
       "    }\n",
       "</style>\n",
       "<table border=\"1\" class=\"dataframe\">\n",
       "  <thead>\n",
       "    <tr style=\"text-align: right;\">\n",
       "      <th>브랜드</th>\n",
       "      <th>ARIRANG</th>\n",
       "      <th>FOCUS</th>\n",
       "      <th>HANARO</th>\n",
       "      <th>HK</th>\n",
       "      <th>KBSTAR</th>\n",
       "      <th>KINDEX</th>\n",
       "      <th>KODEX</th>\n",
       "      <th>KOSEF</th>\n",
       "      <th>KTOP</th>\n",
       "      <th>MASTER</th>\n",
       "      <th>...</th>\n",
       "      <th>TIGER</th>\n",
       "      <th>TIMEFOLIO</th>\n",
       "      <th>TREX</th>\n",
       "      <th>VITA</th>\n",
       "      <th>WOORI</th>\n",
       "      <th>마이다스</th>\n",
       "      <th>마이티</th>\n",
       "      <th>에셋플러스</th>\n",
       "      <th>파워</th>\n",
       "      <th>히어로즈</th>\n",
       "    </tr>\n",
       "    <tr>\n",
       "      <th>레버리지</th>\n",
       "      <th></th>\n",
       "      <th></th>\n",
       "      <th></th>\n",
       "      <th></th>\n",
       "      <th></th>\n",
       "      <th></th>\n",
       "      <th></th>\n",
       "      <th></th>\n",
       "      <th></th>\n",
       "      <th></th>\n",
       "      <th></th>\n",
       "      <th></th>\n",
       "      <th></th>\n",
       "      <th></th>\n",
       "      <th></th>\n",
       "      <th></th>\n",
       "      <th></th>\n",
       "      <th></th>\n",
       "      <th></th>\n",
       "      <th></th>\n",
       "      <th></th>\n",
       "    </tr>\n",
       "  </thead>\n",
       "  <tbody>\n",
       "    <tr>\n",
       "      <th>False</th>\n",
       "      <td>47</td>\n",
       "      <td>3</td>\n",
       "      <td>29</td>\n",
       "      <td>3</td>\n",
       "      <td>84</td>\n",
       "      <td>50</td>\n",
       "      <td>130</td>\n",
       "      <td>25</td>\n",
       "      <td>1</td>\n",
       "      <td>2</td>\n",
       "      <td>...</td>\n",
       "      <td>126</td>\n",
       "      <td>6</td>\n",
       "      <td>2</td>\n",
       "      <td>1</td>\n",
       "      <td>2</td>\n",
       "      <td>2</td>\n",
       "      <td>1</td>\n",
       "      <td>2</td>\n",
       "      <td>4</td>\n",
       "      <td>2</td>\n",
       "    </tr>\n",
       "    <tr>\n",
       "      <th>True</th>\n",
       "      <td>1</td>\n",
       "      <td>0</td>\n",
       "      <td>2</td>\n",
       "      <td>0</td>\n",
       "      <td>4</td>\n",
       "      <td>5</td>\n",
       "      <td>6</td>\n",
       "      <td>4</td>\n",
       "      <td>0</td>\n",
       "      <td>0</td>\n",
       "      <td>...</td>\n",
       "      <td>15</td>\n",
       "      <td>0</td>\n",
       "      <td>0</td>\n",
       "      <td>0</td>\n",
       "      <td>0</td>\n",
       "      <td>0</td>\n",
       "      <td>1</td>\n",
       "      <td>0</td>\n",
       "      <td>0</td>\n",
       "      <td>0</td>\n",
       "    </tr>\n",
       "  </tbody>\n",
       "</table>\n",
       "<p>2 rows × 21 columns</p>\n",
       "</div>"
      ],
      "text/plain": [
       "브랜드    ARIRANG  FOCUS  HANARO  HK  KBSTAR  KINDEX  KODEX  KOSEF  KTOP  MASTER  \\\n",
       "레버리지                                                                            \n",
       "False       47      3      29   3      84      50    130     25     1       2   \n",
       "True         1      0       2   0       4       5      6      4     0       0   \n",
       "\n",
       "브랜드    ...  TIGER  TIMEFOLIO  TREX  VITA  WOORI  마이다스  마이티  에셋플러스  파워  히어로즈  \n",
       "레버리지   ...                                                                   \n",
       "False  ...    126          6     2     1      2     2    1      2   4     2  \n",
       "True   ...     15          0     0     0      0     0    1      0   0     0  \n",
       "\n",
       "[2 rows x 21 columns]"
      ]
     },
     "execution_count": 63,
     "metadata": {},
     "output_type": "execute_result"
    }
   ],
   "source": [
    "# 레버리지, 브랜드의 ETF 빈도수(crosstab)\n",
    "pd.crosstab(df['레버리지'], df['브랜드'])"
   ]
  },
  {
   "cell_type": "code",
   "execution_count": 66,
   "metadata": {},
   "outputs": [
    {
     "data": {
      "text/plain": [
       "<AxesSubplot:ylabel='브랜드'>"
      ]
     },
     "execution_count": 66,
     "metadata": {},
     "output_type": "execute_result"
    },
    {
     "data": {
      "image/png": "[encoded data removed]",
      "text/plain": [
       "<Figure size 432x288 with 1 Axes>"
      ]
     },
     "metadata": {},
     "output_type": "display_data"
    }
   ],
   "source": [
    "# 레버리지, 브랜드의 ETF 빈도수(crosstab)\n",
    "pd.crosstab(df['레버리지'], df['브랜드']).T.sort_values(by=False).plot.barh()"
   ]
  },
  {
   "cell_type": "code",
   "execution_count": 67,
   "metadata": {},
   "outputs": [
    {
     "data": {
      "text/html": [
       "<div>\n",
       "<style scoped>\n",
       "    .dataframe tbody tr th:only-of-type {\n",
       "        vertical-align: middle;\n",
       "    }\n",
       "\n",
       "    .dataframe tbody tr th {\n",
       "        vertical-align: top;\n",
       "    }\n",
       "\n",
       "    .dataframe thead th {\n",
       "        text-align: right;\n",
       "    }\n",
       "</style>\n",
       "<table border=\"1\" class=\"dataframe\">\n",
       "  <thead>\n",
       "    <tr style=\"text-align: right;\">\n",
       "      <th>브랜드</th>\n",
       "      <th>ARIRANG</th>\n",
       "      <th>FOCUS</th>\n",
       "      <th>HANARO</th>\n",
       "      <th>HK</th>\n",
       "      <th>KBSTAR</th>\n",
       "      <th>KINDEX</th>\n",
       "      <th>KODEX</th>\n",
       "      <th>KOSEF</th>\n",
       "      <th>KTOP</th>\n",
       "      <th>MASTER</th>\n",
       "      <th>...</th>\n",
       "      <th>TIGER</th>\n",
       "      <th>TIMEFOLIO</th>\n",
       "      <th>TREX</th>\n",
       "      <th>VITA</th>\n",
       "      <th>WOORI</th>\n",
       "      <th>마이다스</th>\n",
       "      <th>마이티</th>\n",
       "      <th>에셋플러스</th>\n",
       "      <th>파워</th>\n",
       "      <th>히어로즈</th>\n",
       "    </tr>\n",
       "    <tr>\n",
       "      <th>레버리지</th>\n",
       "      <th></th>\n",
       "      <th></th>\n",
       "      <th></th>\n",
       "      <th></th>\n",
       "      <th></th>\n",
       "      <th></th>\n",
       "      <th></th>\n",
       "      <th></th>\n",
       "      <th></th>\n",
       "      <th></th>\n",
       "      <th></th>\n",
       "      <th></th>\n",
       "      <th></th>\n",
       "      <th></th>\n",
       "      <th></th>\n",
       "      <th></th>\n",
       "      <th></th>\n",
       "      <th></th>\n",
       "      <th></th>\n",
       "      <th></th>\n",
       "      <th></th>\n",
       "    </tr>\n",
       "  </thead>\n",
       "  <tbody>\n",
       "    <tr>\n",
       "      <th>False</th>\n",
       "      <td>8.173913</td>\n",
       "      <td>0.521739</td>\n",
       "      <td>5.043478</td>\n",
       "      <td>0.521739</td>\n",
       "      <td>14.608696</td>\n",
       "      <td>8.695652</td>\n",
       "      <td>22.608696</td>\n",
       "      <td>4.347826</td>\n",
       "      <td>0.173913</td>\n",
       "      <td>0.347826</td>\n",
       "      <td>...</td>\n",
       "      <td>21.913043</td>\n",
       "      <td>1.043478</td>\n",
       "      <td>0.347826</td>\n",
       "      <td>0.173913</td>\n",
       "      <td>0.347826</td>\n",
       "      <td>0.347826</td>\n",
       "      <td>0.173913</td>\n",
       "      <td>0.347826</td>\n",
       "      <td>0.695652</td>\n",
       "      <td>0.347826</td>\n",
       "    </tr>\n",
       "    <tr>\n",
       "      <th>True</th>\n",
       "      <td>0.173913</td>\n",
       "      <td>0.000000</td>\n",
       "      <td>0.347826</td>\n",
       "      <td>0.000000</td>\n",
       "      <td>0.695652</td>\n",
       "      <td>0.869565</td>\n",
       "      <td>1.043478</td>\n",
       "      <td>0.695652</td>\n",
       "      <td>0.000000</td>\n",
       "      <td>0.000000</td>\n",
       "      <td>...</td>\n",
       "      <td>2.608696</td>\n",
       "      <td>0.000000</td>\n",
       "      <td>0.000000</td>\n",
       "      <td>0.000000</td>\n",
       "      <td>0.000000</td>\n",
       "      <td>0.000000</td>\n",
       "      <td>0.173913</td>\n",
       "      <td>0.000000</td>\n",
       "      <td>0.000000</td>\n",
       "      <td>0.000000</td>\n",
       "    </tr>\n",
       "  </tbody>\n",
       "</table>\n",
       "<p>2 rows × 21 columns</p>\n",
       "</div>"
      ],
      "text/plain": [
       "브랜드     ARIRANG     FOCUS    HANARO        HK     KBSTAR    KINDEX      KODEX  \\\n",
       "레버리지                                                                            \n",
       "False  8.173913  0.521739  5.043478  0.521739  14.608696  8.695652  22.608696   \n",
       "True   0.173913  0.000000  0.347826  0.000000   0.695652  0.869565   1.043478   \n",
       "\n",
       "브랜드       KOSEF      KTOP    MASTER  ...      TIGER  TIMEFOLIO      TREX  \\\n",
       "레버리지                                 ...                                   \n",
       "False  4.347826  0.173913  0.347826  ...  21.913043   1.043478  0.347826   \n",
       "True   0.695652  0.000000  0.000000  ...   2.608696   0.000000  0.000000   \n",
       "\n",
       "브랜드        VITA     WOORI      마이다스       마이티     에셋플러스        파워      히어로즈  \n",
       "레버리지                                                                         \n",
       "False  0.173913  0.347826  0.347826  0.173913  0.347826  0.695652  0.347826  \n",
       "True   0.000000  0.000000  0.000000  0.173913  0.000000  0.000000  0.000000  \n",
       "\n",
       "[2 rows x 21 columns]"
      ]
     },
     "execution_count": 67,
     "metadata": {},
     "output_type": "execute_result"
    }
   ],
   "source": [
    "# 레버리지, 브랜드의 ETF 비율\n",
    "pd.crosstab(df['레버리지'], df['브랜드'], normalize=True) * 100"
   ]
  },
  {
   "cell_type": "markdown",
   "metadata": {},
   "source": [
    "## 수치형 변수의 기술통계"
   ]
  },
  {
   "cell_type": "code",
   "execution_count": 69,
   "metadata": {},
   "outputs": [
    {
     "data": {
      "text/html": [
       "<div>\n",
       "<style scoped>\n",
       "    .dataframe tbody tr th:only-of-type {\n",
       "        vertical-align: middle;\n",
       "    }\n",
       "\n",
       "    .dataframe tbody tr th {\n",
       "        vertical-align: top;\n",
       "    }\n",
       "\n",
       "    .dataframe thead th {\n",
       "        text-align: right;\n",
       "    }\n",
       "</style>\n",
       "<table border=\"1\" class=\"dataframe\">\n",
       "  <thead>\n",
       "    <tr style=\"text-align: right;\">\n",
       "      <th></th>\n",
       "      <th>탭코드</th>\n",
       "      <th>현재가</th>\n",
       "      <th>등락구분</th>\n",
       "      <th>전일비</th>\n",
       "      <th>등락률</th>\n",
       "      <th>순자산가치(NAV)</th>\n",
       "      <th>3개월수익률</th>\n",
       "      <th>거래량</th>\n",
       "      <th>거래대금(백만)</th>\n",
       "      <th>시가총액(억)</th>\n",
       "    </tr>\n",
       "  </thead>\n",
       "  <tbody>\n",
       "    <tr>\n",
       "      <th>count</th>\n",
       "      <td>575.000000</td>\n",
       "      <td>575.000000</td>\n",
       "      <td>575.000000</td>\n",
       "      <td>575.000000</td>\n",
       "      <td>575.000000</td>\n",
       "      <td>575.000000</td>\n",
       "      <td>547.000000</td>\n",
       "      <td>5.750000e+02</td>\n",
       "      <td>5.750000e+02</td>\n",
       "      <td>575.000000</td>\n",
       "    </tr>\n",
       "    <tr>\n",
       "      <th>mean</th>\n",
       "      <td>3.337391</td>\n",
       "      <td>18783.478261</td>\n",
       "      <td>3.873043</td>\n",
       "      <td>-56.956522</td>\n",
       "      <td>-0.614330</td>\n",
       "      <td>18782.366957</td>\n",
       "      <td>-9.799358</td>\n",
       "      <td>1.424724e+06</td>\n",
       "      <td>9.797892e+03</td>\n",
       "      <td>1261.160000</td>\n",
       "    </tr>\n",
       "    <tr>\n",
       "      <th>std</th>\n",
       "      <td>1.777985</td>\n",
       "      <td>23965.543942</td>\n",
       "      <td>1.432410</td>\n",
       "      <td>246.962466</td>\n",
       "      <td>1.737742</td>\n",
       "      <td>23973.216300</td>\n",
       "      <td>11.382219</td>\n",
       "      <td>1.764621e+07</td>\n",
       "      <td>7.829350e+04</td>\n",
       "      <td>3859.791682</td>\n",
       "    </tr>\n",
       "    <tr>\n",
       "      <th>min</th>\n",
       "      <td>1.000000</td>\n",
       "      <td>2050.000000</td>\n",
       "      <td>2.000000</td>\n",
       "      <td>-2030.000000</td>\n",
       "      <td>-7.100000</td>\n",
       "      <td>513.000000</td>\n",
       "      <td>-39.491300</td>\n",
       "      <td>0.000000e+00</td>\n",
       "      <td>0.000000e+00</td>\n",
       "      <td>7.000000</td>\n",
       "    </tr>\n",
       "    <tr>\n",
       "      <th>25%</th>\n",
       "      <td>2.000000</td>\n",
       "      <td>7997.500000</td>\n",
       "      <td>2.000000</td>\n",
       "      <td>-175.000000</td>\n",
       "      <td>-1.570000</td>\n",
       "      <td>8008.000000</td>\n",
       "      <td>-15.389200</td>\n",
       "      <td>4.060000e+02</td>\n",
       "      <td>6.000000e+00</td>\n",
       "      <td>74.000000</td>\n",
       "    </tr>\n",
       "    <tr>\n",
       "      <th>50%</th>\n",
       "      <td>3.000000</td>\n",
       "      <td>10450.000000</td>\n",
       "      <td>5.000000</td>\n",
       "      <td>-65.000000</td>\n",
       "      <td>-0.620000</td>\n",
       "      <td>10443.000000</td>\n",
       "      <td>-11.372500</td>\n",
       "      <td>4.677000e+03</td>\n",
       "      <td>5.400000e+01</td>\n",
       "      <td>171.000000</td>\n",
       "    </tr>\n",
       "    <tr>\n",
       "      <th>75%</th>\n",
       "      <td>4.000000</td>\n",
       "      <td>14727.500000</td>\n",
       "      <td>5.000000</td>\n",
       "      <td>55.000000</td>\n",
       "      <td>0.420000</td>\n",
       "      <td>14762.500000</td>\n",
       "      <td>-3.775550</td>\n",
       "      <td>3.839850e+04</td>\n",
       "      <td>3.980000e+02</td>\n",
       "      <td>666.000000</td>\n",
       "    </tr>\n",
       "    <tr>\n",
       "      <th>max</th>\n",
       "      <td>7.000000</td>\n",
       "      <td>108420.000000</td>\n",
       "      <td>5.000000</td>\n",
       "      <td>2090.000000</td>\n",
       "      <td>4.290000</td>\n",
       "      <td>108907.000000</td>\n",
       "      <td>34.423000</td>\n",
       "      <td>3.905598e+08</td>\n",
       "      <td>1.305629e+06</td>\n",
       "      <td>47247.000000</td>\n",
       "    </tr>\n",
       "  </tbody>\n",
       "</table>\n",
       "</div>"
      ],
      "text/plain": [
       "              탭코드            현재가        등락구분          전일비         등락률  \\\n",
       "count  575.000000     575.000000  575.000000   575.000000  575.000000   \n",
       "mean     3.337391   18783.478261    3.873043   -56.956522   -0.614330   \n",
       "std      1.777985   23965.543942    1.432410   246.962466    1.737742   \n",
       "min      1.000000    2050.000000    2.000000 -2030.000000   -7.100000   \n",
       "25%      2.000000    7997.500000    2.000000  -175.000000   -1.570000   \n",
       "50%      3.000000   10450.000000    5.000000   -65.000000   -0.620000   \n",
       "75%      4.000000   14727.500000    5.000000    55.000000    0.420000   \n",
       "max      7.000000  108420.000000    5.000000  2090.000000    4.290000   \n",
       "\n",
       "          순자산가치(NAV)      3개월수익률           거래량      거래대금(백만)       시가총액(억)  \n",
       "count     575.000000  547.000000  5.750000e+02  5.750000e+02    575.000000  \n",
       "mean    18782.366957   -9.799358  1.424724e+06  9.797892e+03   1261.160000  \n",
       "std     23973.216300   11.382219  1.764621e+07  7.829350e+04   3859.791682  \n",
       "min       513.000000  -39.491300  0.000000e+00  0.000000e+00      7.000000  \n",
       "25%      8008.000000  -15.389200  4.060000e+02  6.000000e+00     74.000000  \n",
       "50%     10443.000000  -11.372500  4.677000e+03  5.400000e+01    171.000000  \n",
       "75%     14762.500000   -3.775550  3.839850e+04  3.980000e+02    666.000000  \n",
       "max    108907.000000   34.423000  3.905598e+08  1.305629e+06  47247.000000  "
      ]
     },
     "execution_count": 69,
     "metadata": {},
     "output_type": "execute_result"
    }
   ],
   "source": [
    "# describe로 수치형 변수의 기술통계 구하기\n",
    "desc = df.describe()\n",
    "desc"
   ]
  },
  {
   "cell_type": "markdown",
   "metadata": {},
   "source": [
    "## 수치형 변수로 히스토그램 그리기\n",
    "\n",
    "* 연속된 수치 데이터를 범주형 데이터로 표현, bucketing 이라고 부르기도 함\n",
    "* 히스토그램 : 도수분포를 그래프 형태로 표현한 것\n",
    "* 막대그래프와 비슷해 보이지만 다른 그래프\n",
    "* 참고 : [히스토그램 - 위키백과, 우리 모두의 백과사전](https://ko.wikipedia.org/wiki/%ED%9E%88%EC%8A%A4%ED%86%A0%EA%B7%B8%EB%9E%A8)"
   ]
  },
  {
   "cell_type": "code",
   "execution_count": 77,
   "metadata": {},
   "outputs": [
    {
     "data": {
      "text/plain": [
       "['탭코드',\n",
       " '현재가',\n",
       " '등락구분',\n",
       " '전일비',\n",
       " '등락률',\n",
       " '순자산가치(NAV)',\n",
       " '3개월수익률',\n",
       " '거래량',\n",
       " '거래대금(백만)',\n",
       " '시가총액(억)']"
      ]
     },
     "execution_count": 77,
     "metadata": {},
     "output_type": "execute_result"
    }
   ],
   "source": [
    "# 수치형 컬럼만 리스트로 만들기\n",
    "num_cols = desc.columns.tolist()\n",
    "num_cols"
   ]
  },
  {
   "cell_type": "code",
   "execution_count": 79,
   "metadata": {},
   "outputs": [
    {
     "data": {
      "image/png": "[encoded data removed]",
      "text/plain": [
       "<Figure size 720x720 with 12 Axes>"
      ]
     },
     "metadata": {},
     "output_type": "display_data"
    }
   ],
   "source": [
    "# 히스토그램을 그려보면 수치 데이터로 되어있지만 범주형 데이터를 찾아볼 수 있습니다.\n",
    "h = df[num_cols].hist(figsize=(10, 10), bins=50)"
   ]
  },
  {
   "cell_type": "markdown",
   "metadata": {
    "id": "QaXho5-IbQjG"
   },
   "source": [
    "## 범주형 vs 수치형 변수\n",
    "### seaborn의 barplot 이해하기"
   ]
  },
  {
   "cell_type": "code",
   "execution_count": 86,
   "metadata": {
    "id": "0ljdACTbBYks"
   },
   "outputs": [
    {
     "data": {
      "text/plain": [
       "Text(0.5, 1.0, '브랜드별 평균 3개월 수익률')"
      ]
     },
     "execution_count": 86,
     "metadata": {},
     "output_type": "execute_result"
    },
    {
     "data": {
      "image/png": "[encoded data removed]",
      "text/plain": [
       "<Figure size 720x288 with 1 Axes>"
      ]
     },
     "metadata": {},
     "output_type": "display_data"
    }
   ],
   "source": [
    "# seaborn의 bar chart를 이용하여 각 브랜드에 대한 3개월수익률의 평균값을 볼 수 있습니다.\n",
    "# 검은색 막대는 ci로 신뢰구간을 의미합니다.\n",
    "plt.figure(figsize=(10, 4))\n",
    "sns.barplot(data=df,\n",
    "           y=\"브랜드\",\n",
    "           x=\"3개월수익률\",\n",
    "           orient=\"h\", ci=None).set_title(\"브랜드별 평균 3개월 수익률\")"
   ]
  },
  {
   "cell_type": "markdown",
   "metadata": {},
   "source": [
    "### barplot 그래프의 값을 groupby 로 직접 구하기"
   ]
  },
  {
   "cell_type": "code",
   "execution_count": 92,
   "metadata": {},
   "outputs": [
    {
     "data": {
      "text/plain": [
       "브랜드\n",
       "ARIRANG      -9.237211\n",
       "FOCUS       -12.877833\n",
       "HANARO      -13.628125\n",
       "HK          -11.031267\n",
       "KBSTAR       -8.711943\n",
       "KINDEX       -9.157362\n",
       "KODEX        -9.545198\n",
       "KOSEF        -6.652837\n",
       "KTOP        -15.168200\n",
       "MASTER      -17.612850\n",
       "SOL          -3.750036\n",
       "TIGER       -10.634403\n",
       "TIMEFOLIO   -16.201775\n",
       "TREX        -12.990050\n",
       "VITA               NaN\n",
       "WOORI       -13.048400\n",
       "마이다스        -12.198250\n",
       "마이티         -16.540350\n",
       "에셋플러스       -27.505150\n",
       "파워           -9.952900\n",
       "히어로즈         -0.573900\n",
       "Name: 3개월수익률, dtype: float64"
      ]
     },
     "execution_count": 92,
     "metadata": {},
     "output_type": "execute_result"
    }
   ],
   "source": [
    "# 위 그래프의 평균 값을 직접 계산을 통해 구해 봅니다.\n",
    "brand_3month_mean = df.groupby(\"브랜드\")['3개월수익률'].mean()\n",
    "brand_3month_mean"
   ]
  },
  {
   "cell_type": "code",
   "execution_count": 95,
   "metadata": {},
   "outputs": [
    {
     "data": {
      "text/plain": [
       "<AxesSubplot:title={'center':'브랜드별 평균 3개월 수익률'}, ylabel='브랜드'>"
      ]
     },
     "execution_count": 95,
     "metadata": {},
     "output_type": "execute_result"
    },
    {
     "data": {
      "image/png": "[encoded data removed]",
      "text/plain": [
       "<Figure size 432x288 with 1 Axes>"
      ]
     },
     "metadata": {},
     "output_type": "display_data"
    }
   ],
   "source": [
    "# 위에서 구한 그룹(브랜드)별 평균 3개월 수익률을 그래프로 표현합니다.\n",
    "brand_3month_mean.sort_values().plot.barh(title=\"브랜드별 평균 3개월 수익률\")"
   ]
  },
  {
   "cell_type": "code",
   "execution_count": 96,
   "metadata": {
    "id": "p8mI5B90BYks"
   },
   "outputs": [
    {
     "data": {
      "text/html": [
       "<div>\n",
       "<style scoped>\n",
       "    .dataframe tbody tr th:only-of-type {\n",
       "        vertical-align: middle;\n",
       "    }\n",
       "\n",
       "    .dataframe tbody tr th {\n",
       "        vertical-align: top;\n",
       "    }\n",
       "\n",
       "    .dataframe thead th {\n",
       "        text-align: right;\n",
       "    }\n",
       "</style>\n",
       "<table border=\"1\" class=\"dataframe\">\n",
       "  <thead>\n",
       "    <tr style=\"text-align: right;\">\n",
       "      <th></th>\n",
       "      <th>종목코드</th>\n",
       "      <th>탭코드</th>\n",
       "      <th>종목명</th>\n",
       "      <th>현재가</th>\n",
       "      <th>등락구분</th>\n",
       "      <th>전일비</th>\n",
       "      <th>등락률</th>\n",
       "      <th>순자산가치(NAV)</th>\n",
       "      <th>3개월수익률</th>\n",
       "      <th>거래량</th>\n",
       "      <th>거래대금(백만)</th>\n",
       "      <th>시가총액(억)</th>\n",
       "      <th>유형</th>\n",
       "      <th>브랜드</th>\n",
       "      <th>인버스</th>\n",
       "      <th>레버리지</th>\n",
       "      <th>환헤지H</th>\n",
       "    </tr>\n",
       "  </thead>\n",
       "  <tbody>\n",
       "    <tr>\n",
       "      <th>465</th>\n",
       "      <td>159800</td>\n",
       "      <td>1</td>\n",
       "      <td>마이티 코스피100</td>\n",
       "      <td>23495</td>\n",
       "      <td>3</td>\n",
       "      <td>0</td>\n",
       "      <td>0.00</td>\n",
       "      <td>23306.0</td>\n",
       "      <td>-14.2300</td>\n",
       "      <td>100</td>\n",
       "      <td>2</td>\n",
       "      <td>66</td>\n",
       "      <td>국내 시장지수</td>\n",
       "      <td>마이티</td>\n",
       "      <td>False</td>\n",
       "      <td>False</td>\n",
       "      <td>False</td>\n",
       "    </tr>\n",
       "    <tr>\n",
       "      <th>537</th>\n",
       "      <td>292340</td>\n",
       "      <td>3</td>\n",
       "      <td>마이티 200커버드콜ATM레버리지</td>\n",
       "      <td>7380</td>\n",
       "      <td>5</td>\n",
       "      <td>-175</td>\n",
       "      <td>-2.32</td>\n",
       "      <td>7315.0</td>\n",
       "      <td>-18.8507</td>\n",
       "      <td>3</td>\n",
       "      <td>0</td>\n",
       "      <td>44</td>\n",
       "      <td>국내 파생</td>\n",
       "      <td>마이티</td>\n",
       "      <td>False</td>\n",
       "      <td>True</td>\n",
       "      <td>False</td>\n",
       "    </tr>\n",
       "  </tbody>\n",
       "</table>\n",
       "</div>"
      ],
      "text/plain": [
       "       종목코드  탭코드                 종목명    현재가  등락구분  전일비   등락률  순자산가치(NAV)  \\\n",
       "465  159800    1          마이티 코스피100  23495     3    0  0.00     23306.0   \n",
       "537  292340    3  마이티 200커버드콜ATM레버리지   7380     5 -175 -2.32      7315.0   \n",
       "\n",
       "      3개월수익률  거래량  거래대금(백만)  시가총액(억)       유형  브랜드    인버스   레버리지   환헤지H  \n",
       "465 -14.2300  100         2       66  국내 시장지수  마이티  False  False  False  \n",
       "537 -18.8507    3         0       44    국내 파생  마이티  False   True  False  "
      ]
     },
     "execution_count": 96,
     "metadata": {},
     "output_type": "execute_result"
    }
   ],
   "source": [
    "# 브랜드가 마이티인 경우의 데이터를 확인합니다.\n",
    "df[df['브랜드'] == '마이티']"
   ]
  },
  {
   "cell_type": "code",
   "execution_count": 98,
   "metadata": {
    "id": "lAsyQd2ZBYks"
   },
   "outputs": [
    {
     "data": {
      "text/plain": [
       "<AxesSubplot:xlabel='3개월수익률', ylabel='브랜드'>"
      ]
     },
     "execution_count": 98,
     "metadata": {},
     "output_type": "execute_result"
    },
    {
     "data": {
      "image/png": "[encoded data removed]",
      "text/plain": [
       "<Figure size 720x504 with 1 Axes>"
      ]
     },
     "metadata": {},
     "output_type": "display_data"
    }
   ],
   "source": [
    "# 브랜드 대비 3개월수익률에 대한 정보를 레버리지 값의 차이를 barplot으로 봅니다.\n",
    "# 레버리지 유/무에 따라서 평균 3개월 수익률은 많은 차이가 없지만,\n",
    "# 표준편차의 경우 레버리지가 있을경우 굉장히 편차(ci=\"sd\")가 심함을 알 수 있습니다.\n",
    "# 레버리지 상품은 오를 때 더 많이 오르고 내릴 때 더 많이 내립니다.\n",
    "plt.figure(figsize=(10, 7))\n",
    "sns.barplot(data=df, x=\"3개월수익률\", y=\"브랜드\", hue=\"레버리지\", ci=\"sd\")"
   ]
  },
  {
   "cell_type": "markdown",
   "metadata": {},
   "source": [
    "* [Styling — pandas documentation](https://pandas.pydata.org/pandas-docs/stable/user_guide/style.html)"
   ]
  },
  {
   "cell_type": "code",
   "execution_count": 102,
   "metadata": {},
   "outputs": [
    {
     "data": {
      "text/html": [
       "<div>\n",
       "<style scoped>\n",
       "    .dataframe tbody tr th:only-of-type {\n",
       "        vertical-align: middle;\n",
       "    }\n",
       "\n",
       "    .dataframe tbody tr th {\n",
       "        vertical-align: top;\n",
       "    }\n",
       "\n",
       "    .dataframe thead th {\n",
       "        text-align: right;\n",
       "    }\n",
       "</style>\n",
       "<table border=\"1\" class=\"dataframe\">\n",
       "  <thead>\n",
       "    <tr style=\"text-align: right;\">\n",
       "      <th></th>\n",
       "      <th></th>\n",
       "      <th>3개월수익률</th>\n",
       "    </tr>\n",
       "    <tr>\n",
       "      <th>브랜드</th>\n",
       "      <th>레버리지</th>\n",
       "      <th></th>\n",
       "    </tr>\n",
       "  </thead>\n",
       "  <tbody>\n",
       "    <tr>\n",
       "      <th rowspan=\"2\" valign=\"top\">ARIRANG</th>\n",
       "      <th>False</th>\n",
       "      <td>-8.805140</td>\n",
       "    </tr>\n",
       "    <tr>\n",
       "      <th>True</th>\n",
       "      <td>-27.816300</td>\n",
       "    </tr>\n",
       "    <tr>\n",
       "      <th>FOCUS</th>\n",
       "      <th>False</th>\n",
       "      <td>-12.877833</td>\n",
       "    </tr>\n",
       "    <tr>\n",
       "      <th rowspan=\"2\" valign=\"top\">HANARO</th>\n",
       "      <th>False</th>\n",
       "      <td>-12.342873</td>\n",
       "    </tr>\n",
       "    <tr>\n",
       "      <th>True</th>\n",
       "      <td>-30.336400</td>\n",
       "    </tr>\n",
       "    <tr>\n",
       "      <th>HK</th>\n",
       "      <th>False</th>\n",
       "      <td>-11.031267</td>\n",
       "    </tr>\n",
       "    <tr>\n",
       "      <th rowspan=\"2\" valign=\"top\">KBSTAR</th>\n",
       "      <th>False</th>\n",
       "      <td>-7.790596</td>\n",
       "    </tr>\n",
       "    <tr>\n",
       "      <th>True</th>\n",
       "      <td>-27.138875</td>\n",
       "    </tr>\n",
       "    <tr>\n",
       "      <th rowspan=\"2\" valign=\"top\">KINDEX</th>\n",
       "      <th>False</th>\n",
       "      <td>-8.443384</td>\n",
       "    </tr>\n",
       "    <tr>\n",
       "      <th>True</th>\n",
       "      <td>-16.297140</td>\n",
       "    </tr>\n",
       "    <tr>\n",
       "      <th rowspan=\"2\" valign=\"top\">KODEX</th>\n",
       "      <th>False</th>\n",
       "      <td>-9.061331</td>\n",
       "    </tr>\n",
       "    <tr>\n",
       "      <th>True</th>\n",
       "      <td>-19.787033</td>\n",
       "    </tr>\n",
       "    <tr>\n",
       "      <th rowspan=\"2\" valign=\"top\">KOSEF</th>\n",
       "      <th>False</th>\n",
       "      <td>-5.158500</td>\n",
       "    </tr>\n",
       "    <tr>\n",
       "      <th>True</th>\n",
       "      <td>-15.245275</td>\n",
       "    </tr>\n",
       "    <tr>\n",
       "      <th>KTOP</th>\n",
       "      <th>False</th>\n",
       "      <td>-15.168200</td>\n",
       "    </tr>\n",
       "    <tr>\n",
       "      <th>MASTER</th>\n",
       "      <th>False</th>\n",
       "      <td>-17.612850</td>\n",
       "    </tr>\n",
       "    <tr>\n",
       "      <th>SOL</th>\n",
       "      <th>False</th>\n",
       "      <td>-3.750036</td>\n",
       "    </tr>\n",
       "    <tr>\n",
       "      <th rowspan=\"2\" valign=\"top\">TIGER</th>\n",
       "      <th>False</th>\n",
       "      <td>-9.728711</td>\n",
       "    </tr>\n",
       "    <tr>\n",
       "      <th>True</th>\n",
       "      <td>-18.656243</td>\n",
       "    </tr>\n",
       "    <tr>\n",
       "      <th>TIMEFOLIO</th>\n",
       "      <th>False</th>\n",
       "      <td>-16.201775</td>\n",
       "    </tr>\n",
       "    <tr>\n",
       "      <th>TREX</th>\n",
       "      <th>False</th>\n",
       "      <td>-12.990050</td>\n",
       "    </tr>\n",
       "    <tr>\n",
       "      <th>VITA</th>\n",
       "      <th>False</th>\n",
       "      <td>NaN</td>\n",
       "    </tr>\n",
       "    <tr>\n",
       "      <th>WOORI</th>\n",
       "      <th>False</th>\n",
       "      <td>-13.048400</td>\n",
       "    </tr>\n",
       "    <tr>\n",
       "      <th>마이다스</th>\n",
       "      <th>False</th>\n",
       "      <td>-12.198250</td>\n",
       "    </tr>\n",
       "    <tr>\n",
       "      <th rowspan=\"2\" valign=\"top\">마이티</th>\n",
       "      <th>False</th>\n",
       "      <td>-14.230000</td>\n",
       "    </tr>\n",
       "    <tr>\n",
       "      <th>True</th>\n",
       "      <td>-18.850700</td>\n",
       "    </tr>\n",
       "    <tr>\n",
       "      <th>에셋플러스</th>\n",
       "      <th>False</th>\n",
       "      <td>-27.505150</td>\n",
       "    </tr>\n",
       "    <tr>\n",
       "      <th>파워</th>\n",
       "      <th>False</th>\n",
       "      <td>-9.952900</td>\n",
       "    </tr>\n",
       "    <tr>\n",
       "      <th>히어로즈</th>\n",
       "      <th>False</th>\n",
       "      <td>-0.573900</td>\n",
       "    </tr>\n",
       "  </tbody>\n",
       "</table>\n",
       "</div>"
      ],
      "text/plain": [
       "                    3개월수익률\n",
       "브랜드       레버리지            \n",
       "ARIRANG   False  -8.805140\n",
       "          True  -27.816300\n",
       "FOCUS     False -12.877833\n",
       "HANARO    False -12.342873\n",
       "          True  -30.336400\n",
       "HK        False -11.031267\n",
       "KBSTAR    False  -7.790596\n",
       "          True  -27.138875\n",
       "KINDEX    False  -8.443384\n",
       "          True  -16.297140\n",
       "KODEX     False  -9.061331\n",
       "          True  -19.787033\n",
       "KOSEF     False  -5.158500\n",
       "          True  -15.245275\n",
       "KTOP      False -15.168200\n",
       "MASTER    False -17.612850\n",
       "SOL       False  -3.750036\n",
       "TIGER     False  -9.728711\n",
       "          True  -18.656243\n",
       "TIMEFOLIO False -16.201775\n",
       "TREX      False -12.990050\n",
       "VITA      False        NaN\n",
       "WOORI     False -13.048400\n",
       "마이다스      False -12.198250\n",
       "마이티       False -14.230000\n",
       "          True  -18.850700\n",
       "에셋플러스     False -27.505150\n",
       "파워        False  -9.952900\n",
       "히어로즈      False  -0.573900"
      ]
     },
     "execution_count": 102,
     "metadata": {},
     "output_type": "execute_result"
    }
   ],
   "source": [
    "# 위에서 그린 그래프의 값을 groupby로 구합니다.\n",
    "df.groupby(['브랜드', '레버리지'])['3개월수익률'].mean().to_frame()"
   ]
  },
  {
   "cell_type": "markdown",
   "metadata": {},
   "source": [
    "### boxplot으로 그리기\n",
    "\n",
    "#### 기술통계 용어\n",
    "\n",
    "* 백분위 수 : 데이터를 백등분 한 것\n",
    "* 사분위 수 : 데이터를 4등분 한 것\n",
    "* 중위수 : 데이터의 정 가운데 순위에 해당하는 값.(관측치의 절반은 크거나 같고 나머지 절반은 작거나 같다.)\n",
    "* 제 3사분위 수 (Q3) : 중앙값 기준으로 상위 50% 중의 중앙값, 전체 데이터 중 상위 25%에 해당하는 값\n",
    "* 제 1사분위 수 (Q1) : 중앙값 기준으로 하위 50% 중의 중앙값, 전체 데이터 중 하위 25%에 해당하는 값\n",
    "* 사분위 범위 수(IQR) : 데이터의 중간 50% (Q3 - Q1)\n",
    "\n",
    "* 출처 : [상자 수염 그림 - 위키백과, 우리 모두의 백과사전](https://ko.wikipedia.org/wiki/%EC%83%81%EC%9E%90_%EC%88%98%EC%97%BC_%EA%B7%B8%EB%A6%BC)"
   ]
  },
  {
   "cell_type": "code",
   "execution_count": 107,
   "metadata": {},
   "outputs": [
    {
     "data": {
      "text/plain": [
       "<AxesSubplot:xlabel='3개월수익률', ylabel='브랜드'>"
      ]
     },
     "execution_count": 107,
     "metadata": {},
     "output_type": "execute_result"
    },
    {
     "data": {
      "image/png": "[encoded data removed]",
      "text/plain": [
       "<Figure size 720x576 with 1 Axes>"
      ]
     },
     "metadata": {},
     "output_type": "display_data"
    }
   ],
   "source": [
    "# 브랜드별 3개월 수익률을 레버리지에 따라 다른 색상으로 시각화 합니다.\n",
    "plt.figure(figsize=(10, 8))\n",
    "sns.boxplot(data=df, x='3개월수익률', y='브랜드', hue='레버리지')"
   ]
  },
  {
   "cell_type": "markdown",
   "metadata": {},
   "source": [
    "#### boxplot 보는 방법\n",
    "\n",
    "* 사분위수 범위(IQR, Interquartile range, Q3-Q1)\n",
    "* 이상치를 제외한 최댓값  = Q3 + 1.5IQR\n",
    "* 이상치를 제외한 최솟값  = Q1 - 1.5IQR\n",
    "\n",
    "### 3개월 수익률에 대한 기술통계 값 구하기"
   ]
  },
  {
   "cell_type": "code",
   "execution_count": 110,
   "metadata": {},
   "outputs": [
    {
     "data": {
      "text/html": [
       "<div>\n",
       "<style scoped>\n",
       "    .dataframe tbody tr th:only-of-type {\n",
       "        vertical-align: middle;\n",
       "    }\n",
       "\n",
       "    .dataframe tbody tr th {\n",
       "        vertical-align: top;\n",
       "    }\n",
       "\n",
       "    .dataframe thead th {\n",
       "        text-align: right;\n",
       "    }\n",
       "</style>\n",
       "<table border=\"1\" class=\"dataframe\">\n",
       "  <thead>\n",
       "    <tr style=\"text-align: right;\">\n",
       "      <th></th>\n",
       "      <th></th>\n",
       "      <th>count</th>\n",
       "      <th>mean</th>\n",
       "      <th>std</th>\n",
       "      <th>min</th>\n",
       "      <th>25%</th>\n",
       "      <th>50%</th>\n",
       "      <th>75%</th>\n",
       "      <th>max</th>\n",
       "    </tr>\n",
       "    <tr>\n",
       "      <th>브랜드</th>\n",
       "      <th>레버리지</th>\n",
       "      <th></th>\n",
       "      <th></th>\n",
       "      <th></th>\n",
       "      <th></th>\n",
       "      <th></th>\n",
       "      <th></th>\n",
       "      <th></th>\n",
       "      <th></th>\n",
       "    </tr>\n",
       "  </thead>\n",
       "  <tbody>\n",
       "    <tr>\n",
       "      <th rowspan=\"2\" valign=\"top\">ARIRANG</th>\n",
       "      <th>False</th>\n",
       "      <td>43.0</td>\n",
       "      <td>-8.805140</td>\n",
       "      <td>10.309681</td>\n",
       "      <td>-25.0320</td>\n",
       "      <td>-14.925900</td>\n",
       "      <td>-13.08750</td>\n",
       "      <td>-5.174150</td>\n",
       "      <td>33.4661</td>\n",
       "    </tr>\n",
       "    <tr>\n",
       "      <th>True</th>\n",
       "      <td>1.0</td>\n",
       "      <td>-27.816300</td>\n",
       "      <td>NaN</td>\n",
       "      <td>-27.8163</td>\n",
       "      <td>-27.816300</td>\n",
       "      <td>-27.81630</td>\n",
       "      <td>-27.816300</td>\n",
       "      <td>-27.8163</td>\n",
       "    </tr>\n",
       "    <tr>\n",
       "      <th>FOCUS</th>\n",
       "      <th>False</th>\n",
       "      <td>3.0</td>\n",
       "      <td>-12.877833</td>\n",
       "      <td>3.032041</td>\n",
       "      <td>-14.8826</td>\n",
       "      <td>-14.621900</td>\n",
       "      <td>-14.36120</td>\n",
       "      <td>-11.875450</td>\n",
       "      <td>-9.3897</td>\n",
       "    </tr>\n",
       "    <tr>\n",
       "      <th rowspan=\"2\" valign=\"top\">HANARO</th>\n",
       "      <th>False</th>\n",
       "      <td>26.0</td>\n",
       "      <td>-12.342873</td>\n",
       "      <td>11.034158</td>\n",
       "      <td>-33.0789</td>\n",
       "      <td>-17.185225</td>\n",
       "      <td>-13.86290</td>\n",
       "      <td>-7.765250</td>\n",
       "      <td>16.3234</td>\n",
       "    </tr>\n",
       "    <tr>\n",
       "      <th>True</th>\n",
       "      <td>2.0</td>\n",
       "      <td>-30.336400</td>\n",
       "      <td>3.493815</td>\n",
       "      <td>-32.8069</td>\n",
       "      <td>-31.571650</td>\n",
       "      <td>-30.33640</td>\n",
       "      <td>-29.101150</td>\n",
       "      <td>-27.8659</td>\n",
       "    </tr>\n",
       "    <tr>\n",
       "      <th>HK</th>\n",
       "      <th>False</th>\n",
       "      <td>3.0</td>\n",
       "      <td>-11.031267</td>\n",
       "      <td>5.118187</td>\n",
       "      <td>-14.8999</td>\n",
       "      <td>-13.933050</td>\n",
       "      <td>-12.96620</td>\n",
       "      <td>-9.096950</td>\n",
       "      <td>-5.2277</td>\n",
       "    </tr>\n",
       "    <tr>\n",
       "      <th rowspan=\"2\" valign=\"top\">KBSTAR</th>\n",
       "      <th>False</th>\n",
       "      <td>80.0</td>\n",
       "      <td>-7.790596</td>\n",
       "      <td>11.837773</td>\n",
       "      <td>-33.4436</td>\n",
       "      <td>-14.971200</td>\n",
       "      <td>-9.97710</td>\n",
       "      <td>-2.482175</td>\n",
       "      <td>32.9317</td>\n",
       "    </tr>\n",
       "    <tr>\n",
       "      <th>True</th>\n",
       "      <td>4.0</td>\n",
       "      <td>-27.138875</td>\n",
       "      <td>5.166085</td>\n",
       "      <td>-32.6316</td>\n",
       "      <td>-29.125650</td>\n",
       "      <td>-27.88440</td>\n",
       "      <td>-25.897625</td>\n",
       "      <td>-20.1551</td>\n",
       "    </tr>\n",
       "    <tr>\n",
       "      <th rowspan=\"2\" valign=\"top\">KINDEX</th>\n",
       "      <th>False</th>\n",
       "      <td>50.0</td>\n",
       "      <td>-8.443384</td>\n",
       "      <td>8.994456</td>\n",
       "      <td>-32.8509</td>\n",
       "      <td>-14.739475</td>\n",
       "      <td>-7.47490</td>\n",
       "      <td>-2.920925</td>\n",
       "      <td>15.9924</td>\n",
       "    </tr>\n",
       "    <tr>\n",
       "      <th>True</th>\n",
       "      <td>5.0</td>\n",
       "      <td>-16.297140</td>\n",
       "      <td>15.609518</td>\n",
       "      <td>-36.6739</td>\n",
       "      <td>-27.584100</td>\n",
       "      <td>-12.05140</td>\n",
       "      <td>-6.954000</td>\n",
       "      <td>1.7777</td>\n",
       "    </tr>\n",
       "    <tr>\n",
       "      <th rowspan=\"2\" valign=\"top\">KODEX</th>\n",
       "      <th>False</th>\n",
       "      <td>127.0</td>\n",
       "      <td>-9.061331</td>\n",
       "      <td>10.570720</td>\n",
       "      <td>-37.0847</td>\n",
       "      <td>-15.065700</td>\n",
       "      <td>-11.20440</td>\n",
       "      <td>-3.806200</td>\n",
       "      <td>34.3373</td>\n",
       "    </tr>\n",
       "    <tr>\n",
       "      <th>True</th>\n",
       "      <td>6.0</td>\n",
       "      <td>-19.787033</td>\n",
       "      <td>20.327163</td>\n",
       "      <td>-39.4913</td>\n",
       "      <td>-31.910000</td>\n",
       "      <td>-28.02530</td>\n",
       "      <td>-9.353450</td>\n",
       "      <td>13.1541</td>\n",
       "    </tr>\n",
       "    <tr>\n",
       "      <th rowspan=\"2\" valign=\"top\">KOSEF</th>\n",
       "      <th>False</th>\n",
       "      <td>23.0</td>\n",
       "      <td>-5.158500</td>\n",
       "      <td>13.094410</td>\n",
       "      <td>-18.4458</td>\n",
       "      <td>-14.424200</td>\n",
       "      <td>-8.42790</td>\n",
       "      <td>-1.311150</td>\n",
       "      <td>33.9393</td>\n",
       "    </tr>\n",
       "    <tr>\n",
       "      <th>True</th>\n",
       "      <td>4.0</td>\n",
       "      <td>-15.245275</td>\n",
       "      <td>20.845072</td>\n",
       "      <td>-33.3634</td>\n",
       "      <td>-29.392750</td>\n",
       "      <td>-20.36500</td>\n",
       "      <td>-6.217525</td>\n",
       "      <td>13.1123</td>\n",
       "    </tr>\n",
       "    <tr>\n",
       "      <th>KTOP</th>\n",
       "      <th>False</th>\n",
       "      <td>1.0</td>\n",
       "      <td>-15.168200</td>\n",
       "      <td>NaN</td>\n",
       "      <td>-15.1682</td>\n",
       "      <td>-15.168200</td>\n",
       "      <td>-15.16820</td>\n",
       "      <td>-15.168200</td>\n",
       "      <td>-15.1682</td>\n",
       "    </tr>\n",
       "    <tr>\n",
       "      <th>MASTER</th>\n",
       "      <th>False</th>\n",
       "      <td>2.0</td>\n",
       "      <td>-17.612850</td>\n",
       "      <td>1.692036</td>\n",
       "      <td>-18.8093</td>\n",
       "      <td>-18.211075</td>\n",
       "      <td>-17.61285</td>\n",
       "      <td>-17.014625</td>\n",
       "      <td>-16.4164</td>\n",
       "    </tr>\n",
       "    <tr>\n",
       "      <th>SOL</th>\n",
       "      <th>False</th>\n",
       "      <td>11.0</td>\n",
       "      <td>-3.750036</td>\n",
       "      <td>8.764388</td>\n",
       "      <td>-15.1107</td>\n",
       "      <td>-11.015950</td>\n",
       "      <td>-3.77470</td>\n",
       "      <td>3.371250</td>\n",
       "      <td>8.5998</td>\n",
       "    </tr>\n",
       "    <tr>\n",
       "      <th rowspan=\"2\" valign=\"top\">TIGER</th>\n",
       "      <th>False</th>\n",
       "      <td>124.0</td>\n",
       "      <td>-9.728711</td>\n",
       "      <td>10.759507</td>\n",
       "      <td>-38.9488</td>\n",
       "      <td>-15.243100</td>\n",
       "      <td>-11.17620</td>\n",
       "      <td>-4.322150</td>\n",
       "      <td>34.4230</td>\n",
       "    </tr>\n",
       "    <tr>\n",
       "      <th>True</th>\n",
       "      <td>14.0</td>\n",
       "      <td>-18.656243</td>\n",
       "      <td>16.069620</td>\n",
       "      <td>-33.4211</td>\n",
       "      <td>-31.692875</td>\n",
       "      <td>-25.83470</td>\n",
       "      <td>-7.623200</td>\n",
       "      <td>12.8277</td>\n",
       "    </tr>\n",
       "    <tr>\n",
       "      <th>TIMEFOLIO</th>\n",
       "      <th>False</th>\n",
       "      <td>4.0</td>\n",
       "      <td>-16.201775</td>\n",
       "      <td>7.485020</td>\n",
       "      <td>-25.0864</td>\n",
       "      <td>-18.960325</td>\n",
       "      <td>-16.46560</td>\n",
       "      <td>-13.707050</td>\n",
       "      <td>-6.7895</td>\n",
       "    </tr>\n",
       "    <tr>\n",
       "      <th>TREX</th>\n",
       "      <th>False</th>\n",
       "      <td>2.0</td>\n",
       "      <td>-12.990050</td>\n",
       "      <td>1.676197</td>\n",
       "      <td>-14.1753</td>\n",
       "      <td>-13.582675</td>\n",
       "      <td>-12.99005</td>\n",
       "      <td>-12.397425</td>\n",
       "      <td>-11.8048</td>\n",
       "    </tr>\n",
       "    <tr>\n",
       "      <th>VITA</th>\n",
       "      <th>False</th>\n",
       "      <td>0.0</td>\n",
       "      <td>NaN</td>\n",
       "      <td>NaN</td>\n",
       "      <td>NaN</td>\n",
       "      <td>NaN</td>\n",
       "      <td>NaN</td>\n",
       "      <td>NaN</td>\n",
       "      <td>NaN</td>\n",
       "    </tr>\n",
       "    <tr>\n",
       "      <th>WOORI</th>\n",
       "      <th>False</th>\n",
       "      <td>1.0</td>\n",
       "      <td>-13.048400</td>\n",
       "      <td>NaN</td>\n",
       "      <td>-13.0484</td>\n",
       "      <td>-13.048400</td>\n",
       "      <td>-13.04840</td>\n",
       "      <td>-13.048400</td>\n",
       "      <td>-13.0484</td>\n",
       "    </tr>\n",
       "    <tr>\n",
       "      <th>마이다스</th>\n",
       "      <th>False</th>\n",
       "      <td>2.0</td>\n",
       "      <td>-12.198250</td>\n",
       "      <td>0.549917</td>\n",
       "      <td>-12.5871</td>\n",
       "      <td>-12.392675</td>\n",
       "      <td>-12.19825</td>\n",
       "      <td>-12.003825</td>\n",
       "      <td>-11.8094</td>\n",
       "    </tr>\n",
       "    <tr>\n",
       "      <th rowspan=\"2\" valign=\"top\">마이티</th>\n",
       "      <th>False</th>\n",
       "      <td>1.0</td>\n",
       "      <td>-14.230000</td>\n",
       "      <td>NaN</td>\n",
       "      <td>-14.2300</td>\n",
       "      <td>-14.230000</td>\n",
       "      <td>-14.23000</td>\n",
       "      <td>-14.230000</td>\n",
       "      <td>-14.2300</td>\n",
       "    </tr>\n",
       "    <tr>\n",
       "      <th>True</th>\n",
       "      <td>1.0</td>\n",
       "      <td>-18.850700</td>\n",
       "      <td>NaN</td>\n",
       "      <td>-18.8507</td>\n",
       "      <td>-18.850700</td>\n",
       "      <td>-18.85070</td>\n",
       "      <td>-18.850700</td>\n",
       "      <td>-18.8507</td>\n",
       "    </tr>\n",
       "    <tr>\n",
       "      <th>에셋플러스</th>\n",
       "      <th>False</th>\n",
       "      <td>2.0</td>\n",
       "      <td>-27.505150</td>\n",
       "      <td>2.102582</td>\n",
       "      <td>-28.9919</td>\n",
       "      <td>-28.248525</td>\n",
       "      <td>-27.50515</td>\n",
       "      <td>-26.761775</td>\n",
       "      <td>-26.0184</td>\n",
       "    </tr>\n",
       "    <tr>\n",
       "      <th>파워</th>\n",
       "      <th>False</th>\n",
       "      <td>4.0</td>\n",
       "      <td>-9.952900</td>\n",
       "      <td>5.724196</td>\n",
       "      <td>-14.5235</td>\n",
       "      <td>-14.411075</td>\n",
       "      <td>-11.39210</td>\n",
       "      <td>-6.933925</td>\n",
       "      <td>-2.5039</td>\n",
       "    </tr>\n",
       "    <tr>\n",
       "      <th>히어로즈</th>\n",
       "      <th>False</th>\n",
       "      <td>1.0</td>\n",
       "      <td>-0.573900</td>\n",
       "      <td>NaN</td>\n",
       "      <td>-0.5739</td>\n",
       "      <td>-0.573900</td>\n",
       "      <td>-0.57390</td>\n",
       "      <td>-0.573900</td>\n",
       "      <td>-0.5739</td>\n",
       "    </tr>\n",
       "  </tbody>\n",
       "</table>\n",
       "</div>"
      ],
      "text/plain": [
       "                 count       mean        std      min        25%       50%  \\\n",
       "브랜드       레버리지                                                               \n",
       "ARIRANG   False   43.0  -8.805140  10.309681 -25.0320 -14.925900 -13.08750   \n",
       "          True     1.0 -27.816300        NaN -27.8163 -27.816300 -27.81630   \n",
       "FOCUS     False    3.0 -12.877833   3.032041 -14.8826 -14.621900 -14.36120   \n",
       "HANARO    False   26.0 -12.342873  11.034158 -33.0789 -17.185225 -13.86290   \n",
       "          True     2.0 -30.336400   3.493815 -32.8069 -31.571650 -30.33640   \n",
       "HK        False    3.0 -11.031267   5.118187 -14.8999 -13.933050 -12.96620   \n",
       "KBSTAR    False   80.0  -7.790596  11.837773 -33.4436 -14.971200  -9.97710   \n",
       "          True     4.0 -27.138875   5.166085 -32.6316 -29.125650 -27.88440   \n",
       "KINDEX    False   50.0  -8.443384   8.994456 -32.8509 -14.739475  -7.47490   \n",
       "          True     5.0 -16.297140  15.609518 -36.6739 -27.584100 -12.05140   \n",
       "KODEX     False  127.0  -9.061331  10.570720 -37.0847 -15.065700 -11.20440   \n",
       "          True     6.0 -19.787033  20.327163 -39.4913 -31.910000 -28.02530   \n",
       "KOSEF     False   23.0  -5.158500  13.094410 -18.4458 -14.424200  -8.42790   \n",
       "          True     4.0 -15.245275  20.845072 -33.3634 -29.392750 -20.36500   \n",
       "KTOP      False    1.0 -15.168200        NaN -15.1682 -15.168200 -15.16820   \n",
       "MASTER    False    2.0 -17.612850   1.692036 -18.8093 -18.211075 -17.61285   \n",
       "SOL       False   11.0  -3.750036   8.764388 -15.1107 -11.015950  -3.77470   \n",
       "TIGER     False  124.0  -9.728711  10.759507 -38.9488 -15.243100 -11.17620   \n",
       "          True    14.0 -18.656243  16.069620 -33.4211 -31.692875 -25.83470   \n",
       "TIMEFOLIO False    4.0 -16.201775   7.485020 -25.0864 -18.960325 -16.46560   \n",
       "TREX      False    2.0 -12.990050   1.676197 -14.1753 -13.582675 -12.99005   \n",
       "VITA      False    0.0        NaN        NaN      NaN        NaN       NaN   \n",
       "WOORI     False    1.0 -13.048400        NaN -13.0484 -13.048400 -13.04840   \n",
       "마이다스      False    2.0 -12.198250   0.549917 -12.5871 -12.392675 -12.19825   \n",
       "마이티       False    1.0 -14.230000        NaN -14.2300 -14.230000 -14.23000   \n",
       "          True     1.0 -18.850700        NaN -18.8507 -18.850700 -18.85070   \n",
       "에셋플러스     False    2.0 -27.505150   2.102582 -28.9919 -28.248525 -27.50515   \n",
       "파워        False    4.0  -9.952900   5.724196 -14.5235 -14.411075 -11.39210   \n",
       "히어로즈      False    1.0  -0.573900        NaN  -0.5739  -0.573900  -0.57390   \n",
       "\n",
       "                       75%      max  \n",
       "브랜드       레버리지                       \n",
       "ARIRANG   False  -5.174150  33.4661  \n",
       "          True  -27.816300 -27.8163  \n",
       "FOCUS     False -11.875450  -9.3897  \n",
       "HANARO    False  -7.765250  16.3234  \n",
       "          True  -29.101150 -27.8659  \n",
       "HK        False  -9.096950  -5.2277  \n",
       "KBSTAR    False  -2.482175  32.9317  \n",
       "          True  -25.897625 -20.1551  \n",
       "KINDEX    False  -2.920925  15.9924  \n",
       "          True   -6.954000   1.7777  \n",
       "KODEX     False  -3.806200  34.3373  \n",
       "          True   -9.353450  13.1541  \n",
       "KOSEF     False  -1.311150  33.9393  \n",
       "          True   -6.217525  13.1123  \n",
       "KTOP      False -15.168200 -15.1682  \n",
       "MASTER    False -17.014625 -16.4164  \n",
       "SOL       False   3.371250   8.5998  \n",
       "TIGER     False  -4.322150  34.4230  \n",
       "          True   -7.623200  12.8277  \n",
       "TIMEFOLIO False -13.707050  -6.7895  \n",
       "TREX      False -12.397425 -11.8048  \n",
       "VITA      False        NaN      NaN  \n",
       "WOORI     False -13.048400 -13.0484  \n",
       "마이다스      False -12.003825 -11.8094  \n",
       "마이티       False -14.230000 -14.2300  \n",
       "          True  -18.850700 -18.8507  \n",
       "에셋플러스     False -26.761775 -26.0184  \n",
       "파워        False  -6.933925  -2.5039  \n",
       "히어로즈      False  -0.573900  -0.5739  "
      ]
     },
     "execution_count": 110,
     "metadata": {},
     "output_type": "execute_result"
    }
   ],
   "source": [
    "# 위에서 그린 boxplot의 값을 직접 구해봅니다.\n",
    "# brand_3month_desc\n",
    "df.groupby(['브랜드', '레버리지'])['3개월수익률'].describe()"
   ]
  },
  {
   "cell_type": "markdown",
   "metadata": {},
   "source": [
    "<img src=\"https://miro.medium.com/max/1400/1*NRlqiZGQdsIyAu0KzP7LaQ.png\" width=\"400\">\n",
    "\n",
    "* 이미지 출처 : https://towardsdatascience.com/understanding-boxplots-5e2df7bcbd51"
   ]
  },
  {
   "cell_type": "markdown",
   "metadata": {},
   "source": [
    "### KODEX ETF 따로 분석하기\n",
    "\n",
    "* ⚠️ 주의사항 ⚠️  분석내용은 데이터 수집 시점에 따라 달라집니다."
   ]
  },
  {
   "cell_type": "code",
   "execution_count": 112,
   "metadata": {},
   "outputs": [],
   "source": [
    "# KODEX 서브셋을 만듭니다.\n",
    "kodex = df[df['브랜드'] == 'KODEX']"
   ]
  },
  {
   "cell_type": "code",
   "execution_count": 113,
   "metadata": {},
   "outputs": [
    {
     "data": {
      "text/plain": [
       "<AxesSubplot:xlabel='3개월수익률', ylabel='브랜드'>"
      ]
     },
     "execution_count": 113,
     "metadata": {},
     "output_type": "execute_result"
    },
    {
     "data": {
      "image/png": "[encoded data removed]",
      "text/plain": [
       "<Figure size 432x288 with 1 Axes>"
      ]
     },
     "metadata": {},
     "output_type": "display_data"
    }
   ],
   "source": [
    "sns.barplot(data=kodex, x='3개월수익률', y='브랜드')"
   ]
  },
  {
   "cell_type": "code",
   "execution_count": 114,
   "metadata": {},
   "outputs": [
    {
     "data": {
      "text/plain": [
       "<AxesSubplot:xlabel='3개월수익률', ylabel='브랜드'>"
      ]
     },
     "execution_count": 114,
     "metadata": {},
     "output_type": "execute_result"
    },
    {
     "data": {
      "image/png": "[encoded data removed]",
      "text/plain": [
       "<Figure size 432x288 with 1 Axes>"
      ]
     },
     "metadata": {},
     "output_type": "display_data"
    }
   ],
   "source": [
    "# KODEX 의 boxplot을 그립니다.\n",
    "sns.boxplot(data=kodex, x='3개월수익률', y='브랜드')"
   ]
  },
  {
   "cell_type": "code",
   "execution_count": 116,
   "metadata": {},
   "outputs": [
    {
     "data": {
      "text/plain": [
       "<AxesSubplot:xlabel='3개월수익률', ylabel='브랜드'>"
      ]
     },
     "execution_count": 116,
     "metadata": {},
     "output_type": "execute_result"
    },
    {
     "data": {
      "image/png": "[encoded data removed]",
      "text/plain": [
       "<Figure size 432x288 with 1 Axes>"
      ]
     },
     "metadata": {},
     "output_type": "display_data"
    }
   ],
   "source": [
    "# KODEX 의 boxenplot을 그립니다.\n",
    "sns.boxenplot(data=kodex, x='3개월수익률', y='브랜드')"
   ]
  },
  {
   "cell_type": "code",
   "execution_count": 117,
   "metadata": {},
   "outputs": [
    {
     "data": {
      "text/plain": [
       "<AxesSubplot:>"
      ]
     },
     "execution_count": 117,
     "metadata": {},
     "output_type": "execute_result"
    },
    {
     "data": {
      "image/png": "[encoded data removed]",
      "text/plain": [
       "<Figure size 432x288 with 1 Axes>"
      ]
     },
     "metadata": {},
     "output_type": "display_data"
    }
   ],
   "source": [
    "# KODEX 의 historam 을 pandas로 그립니다.\n",
    "kodex['3개월수익률'].hist(bins=10)"
   ]
  },
  {
   "cell_type": "code",
   "execution_count": 118,
   "metadata": {},
   "outputs": [
    {
     "data": {
      "text/plain": [
       "<AxesSubplot:xlabel='3개월수익률', ylabel='Density'>"
      ]
     },
     "execution_count": 118,
     "metadata": {},
     "output_type": "execute_result"
    },
    {
     "data": {
      "image/png": "[encoded data removed]",
      "text/plain": [
       "<Figure size 432x288 with 1 Axes>"
      ]
     },
     "metadata": {},
     "output_type": "display_data"
    }
   ],
   "source": [
    "# KODEX 의 kdeplot 을 그립니다.\n",
    "sns.kdeplot(data=kodex, x='3개월수익률', shade=True)"
   ]
  },
  {
   "cell_type": "code",
   "execution_count": 120,
   "metadata": {},
   "outputs": [
    {
     "data": {
      "text/plain": [
       "<AxesSubplot:xlabel='3개월수익률', ylabel='브랜드'>"
      ]
     },
     "execution_count": 120,
     "metadata": {},
     "output_type": "execute_result"
    },
    {
     "data": {
      "image/png": "[encoded data removed]",
      "text/plain": [
       "<Figure size 432x288 with 1 Axes>"
      ]
     },
     "metadata": {},
     "output_type": "display_data"
    }
   ],
   "source": [
    "# KODEX 의 violinplot 을 그립니다.\n",
    "sns.violinplot(data=kodex, x='3개월수익률',y='브랜드',\n",
    "              cut=3, inner='quartile')"
   ]
  },
  {
   "cell_type": "code",
   "execution_count": 121,
   "metadata": {},
   "outputs": [
    {
     "data": {
      "text/plain": [
       "<AxesSubplot:xlabel='3개월수익률', ylabel='브랜드'>"
      ]
     },
     "execution_count": 121,
     "metadata": {},
     "output_type": "execute_result"
    },
    {
     "data": {
      "image/png": "[encoded data removed]",
      "text/plain": [
       "<Figure size 432x288 with 1 Axes>"
      ]
     },
     "metadata": {},
     "output_type": "display_data"
    }
   ],
   "source": [
    "# KODEX 의 violinplot 에 hue=\"레버리지\"로 그립니다.\n",
    "sns.violinplot(data=kodex, x='3개월수익률',y='브랜드',\n",
    "              hue='레버리지')"
   ]
  },
  {
   "cell_type": "code",
   "execution_count": 122,
   "metadata": {},
   "outputs": [
    {
     "data": {
      "text/plain": [
       "<AxesSubplot:xlabel='3개월수익률', ylabel='브랜드'>"
      ]
     },
     "execution_count": 122,
     "metadata": {},
     "output_type": "execute_result"
    },
    {
     "data": {
      "image/png": "[encoded data removed]",
      "text/plain": [
       "<Figure size 432x288 with 1 Axes>"
      ]
     },
     "metadata": {},
     "output_type": "display_data"
    }
   ],
   "source": [
    "# KODEX 의 violinplot 에 hue=\"레버리지\"를 split 옵션을 사용해 그립니다.\n",
    "sns.violinplot(data=kodex, x='3개월수익률',y='브랜드',\n",
    "              hue='레버리지', split=True)"
   ]
  },
  {
   "cell_type": "code",
   "execution_count": 123,
   "metadata": {},
   "outputs": [
    {
     "data": {
      "text/plain": [
       "<AxesSubplot:xlabel='3개월수익률', ylabel='브랜드'>"
      ]
     },
     "execution_count": 123,
     "metadata": {},
     "output_type": "execute_result"
    },
    {
     "data": {
      "image/png": "[encoded data removed]",
      "text/plain": [
       "<Figure size 432x288 with 1 Axes>"
      ]
     },
     "metadata": {},
     "output_type": "display_data"
    }
   ],
   "source": [
    "# KODEX 의 violinplot 에 hue=\"인버스\"로 그립니다.\n",
    "sns.violinplot(data=kodex, x='3개월수익률',y='브랜드',\n",
    "              hue='인버스', split=True)"
   ]
  },
  {
   "cell_type": "markdown",
   "metadata": {},
   "source": [
    "* 이미지 출처 : [The Datasaurus Dozen - Same Stats, Different Graphs | Autodesk Research](https://www.autodeskresearch.com/publications/samestats)\n",
    "\n",
    "<img src=\"https://d2f99xq7vri1nk.cloudfront.net/BoxViolinSmaller.gif\">\n",
    "\n",
    "### 브랜드별 3개월수익률"
   ]
  },
  {
   "cell_type": "code",
   "execution_count": null,
   "metadata": {},
   "outputs": [],
   "source": [
    "# boxenplot 을 통해 브랜드별 3개월 수익률을 시각화 합니다.\n"
   ]
  },
  {
   "cell_type": "code",
   "execution_count": null,
   "metadata": {},
   "outputs": [],
   "source": [
    "# violinplot은 kdeplot을 마주보도록 그린 그래프로 값의 분포를 알 수 있습니다.\n",
    "# boxplot의 단점을 보완하기 위해 만들어지기도 했는데 내부에 boxplot을 함께 그려줍니다.\n",
    "# 가운데 점은 중앙값을 의미합니다.\n"
   ]
  },
  {
   "cell_type": "markdown",
   "metadata": {},
   "source": [
    "### 서브플롯 그려보기"
   ]
  },
  {
   "cell_type": "code",
   "execution_count": null,
   "metadata": {},
   "outputs": [],
   "source": [
    "# boxplot과 violinplot을 하나의 그래프에 같이 그려봅니다.\n"
   ]
  },
  {
   "cell_type": "code",
   "execution_count": null,
   "metadata": {
    "id": "_SQRf13ZBYks"
   },
   "outputs": [],
   "source": [
    "# violinplot은 kdeplot을 마주보도록 그린 그래프로 값의 분포를 알 수 있습니다.\n",
    "# boxplot의 단점을 보완하기 위해 만들어지기도 했는데 내부에 boxplot을 함께 그려줍니다.\n",
    "# 가운데 점은 중앙값을 의미합니다.\n",
    "# 브랜드별 3개월수익률을 레버리지 여부에 따라 그려봅니다.\n"
   ]
  },
  {
   "cell_type": "code",
   "execution_count": null,
   "metadata": {
    "id": "RL8IsWH3BYks"
   },
   "outputs": [],
   "source": [
    "# 브랜드별 3개월수익률을 인버스 여부에 따라 그려봅니다.\n"
   ]
  },
  {
   "cell_type": "markdown",
   "metadata": {},
   "source": [
    "### 브랜드별 거래량"
   ]
  },
  {
   "cell_type": "code",
   "execution_count": null,
   "metadata": {
    "id": "mFE8qxq-BYks"
   },
   "outputs": [],
   "source": [
    "# 수집한 날짜에 대한 브랜드별 거래량을 봅니다.\n"
   ]
  },
  {
   "cell_type": "code",
   "execution_count": null,
   "metadata": {},
   "outputs": [],
   "source": [
    "# df[df[\"브랜드\"].isin([\"TIGER\", \"KBSTAR\", \"KINDEX\"])]"
   ]
  },
  {
   "cell_type": "code",
   "execution_count": null,
   "metadata": {
    "id": "3HHvJP4_BYks"
   },
   "outputs": [],
   "source": [
    "# 전체 브랜드를 보면 값의 크기 차이로 시각화를 제대로 보기 어렵습니다.\n",
    "# 일부 브랜드 \"TIGER\", \"KBSTAR\", \"KINDEX\" 를 따로 가져와서 시각화 합니다.\n"
   ]
  },
  {
   "cell_type": "code",
   "execution_count": null,
   "metadata": {},
   "outputs": [],
   "source": []
  },
  {
   "cell_type": "code",
   "execution_count": null,
   "metadata": {},
   "outputs": [],
   "source": []
  },
  {
   "cell_type": "code",
   "execution_count": null,
   "metadata": {},
   "outputs": [],
   "source": [
    "# \"마이티\", \"마이다스\", \"흥국\" 만 봅니다.\n"
   ]
  },
  {
   "cell_type": "code",
   "execution_count": null,
   "metadata": {},
   "outputs": [],
   "source": [
    "# \"마이티\", \"마이다스\", \"흥국\" 의 기술통계 값 보기\n"
   ]
  },
  {
   "cell_type": "markdown",
   "metadata": {},
   "source": [
    "### 유형에 따른 거래량"
   ]
  },
  {
   "cell_type": "code",
   "execution_count": null,
   "metadata": {
    "id": "j4t7IIRFBYks"
   },
   "outputs": [],
   "source": [
    "# 유형에 따른 평균 거래량을 barplot으로 시각화 합니다.\n"
   ]
  },
  {
   "cell_type": "code",
   "execution_count": null,
   "metadata": {},
   "outputs": [],
   "source": [
    "# 위 그래프의 유형에 따른 평균 거래량을 직접 groupby를 통해 구합니다.\n"
   ]
  },
  {
   "cell_type": "markdown",
   "metadata": {},
   "source": [
    "### 유형에 따른 거래대금"
   ]
  },
  {
   "cell_type": "code",
   "execution_count": null,
   "metadata": {
    "id": "_BuMyb0JBYks"
   },
   "outputs": [],
   "source": [
    "# 위 그래프의 유형에 따른 평균 거래대금(백만)을 barplot 으로 그립니다.\n"
   ]
  },
  {
   "cell_type": "code",
   "execution_count": null,
   "metadata": {},
   "outputs": [],
   "source": [
    "# 위 그래프의 유형에 따른 평균 거래대금(백만)을 직접 groupby를 통해 구합니다.\n"
   ]
  },
  {
   "cell_type": "code",
   "execution_count": null,
   "metadata": {},
   "outputs": [],
   "source": [
    "# 위 그래프의 유형에 따른 평균 거래대금(백만)을 직접 pivot_table을 통해 구합니다.\n"
   ]
  },
  {
   "cell_type": "markdown",
   "metadata": {},
   "source": [
    "### 유형에 따른 시가총액"
   ]
  },
  {
   "cell_type": "code",
   "execution_count": null,
   "metadata": {
    "id": "nU1CQqWwBYks"
   },
   "outputs": [],
   "source": [
    "# 유형에 따른 평균 시가총액(억) 에 대한 시각화를 합니다.\n"
   ]
  },
  {
   "cell_type": "code",
   "execution_count": null,
   "metadata": {},
   "outputs": [],
   "source": [
    "# 위 그래프의 유형에 따른 평균 시가총액(억)을 직접 groupby를 통해 구합니다.\n"
   ]
  },
  {
   "cell_type": "code",
   "execution_count": null,
   "metadata": {},
   "outputs": [],
   "source": [
    "# 위 그래프의 유형에 따른 평균 시가총액(억)을 직접 pivot_table을 통해 구합니다.\n"
   ]
  },
  {
   "cell_type": "markdown",
   "metadata": {},
   "source": [
    "### 유형에 따른 3개월 수익률"
   ]
  },
  {
   "cell_type": "code",
   "execution_count": null,
   "metadata": {
    "id": "Yu_bGCbxBYks"
   },
   "outputs": [],
   "source": [
    "# 유형에 따른 평균 3개월수익률에 대한 시각화를 합니다.\n"
   ]
  },
  {
   "cell_type": "code",
   "execution_count": null,
   "metadata": {},
   "outputs": [],
   "source": [
    "# 위 그래프의 유형에 따른 평균 3개월수익률을 직접 groupby를 통해 구합니다.\n"
   ]
  },
  {
   "cell_type": "code",
   "execution_count": null,
   "metadata": {},
   "outputs": [],
   "source": [
    "# 위 그래프의 유형에 따른 평균 3개월수익률을 직접 pivot_table을 통해 구합니다.\n"
   ]
  },
  {
   "cell_type": "markdown",
   "metadata": {},
   "source": [
    "## 여러 개의 변수로 서브플롯 그리기\n",
    "### PairGrid와 barplot 으로 서브플롯 그리기\n",
    "\n",
    "\n",
    "* PairGrid는 한번에 서브플롯을 쉽게 그려볼 수 있는 장점이 있지만 아쉽게도 share axis in PairGrid는 지원하지 않고 있습니다.\n",
    "* 참고 : https://github.com/mwaskom/seaborn/issues/1032"
   ]
  },
  {
   "cell_type": "code",
   "execution_count": null,
   "metadata": {
    "id": "jvBYpEs9BYks"
   },
   "outputs": [],
   "source": [
    "# PairGrid 와 barplot을 한번에 서브플롯으로 그립니다.\n",
    "# 유형에 따른 \"거래량\", \"거래대금(백만)\", \"시가총액(억)\", \"3개월수익률\" 에 대한 시각화를 합니다.\n"
   ]
  },
  {
   "cell_type": "markdown",
   "metadata": {},
   "source": [
    "### subplots를 통한 시각화"
   ]
  },
  {
   "cell_type": "code",
   "execution_count": null,
   "metadata": {},
   "outputs": [],
   "source": [
    "row_cols = [\"거래량\", \"거래대금(백만)\", \"시가총액(억)\", \"3개월수익률\"]"
   ]
  },
  {
   "cell_type": "code",
   "execution_count": null,
   "metadata": {},
   "outputs": [],
   "source": []
  },
  {
   "cell_type": "code",
   "execution_count": null,
   "metadata": {},
   "outputs": [],
   "source": [
    "# 위 그래프를 직접 subplots 를 사용해 그려봅니다.\n"
   ]
  },
  {
   "cell_type": "code",
   "execution_count": null,
   "metadata": {},
   "outputs": [],
   "source": [
    "# 브랜드별 수치 데이터의 평균을 시각화 합니다.\n"
   ]
  },
  {
   "cell_type": "markdown",
   "metadata": {},
   "source": [
    "### 브랜드별 인버스 여부에 따른 시각화"
   ]
  },
  {
   "cell_type": "code",
   "execution_count": null,
   "metadata": {
    "id": "tRZD8j1oBYks"
   },
   "outputs": [],
   "source": [
    "# subplots를 시각화 합니다. hue=\"인버스\"를 적용해 봅니다.\n"
   ]
  },
  {
   "cell_type": "markdown",
   "metadata": {
    "id": "P_HR7zC-BYks"
   },
   "source": [
    "### 브랜드별 레버리지 여부에 따른 시각화"
   ]
  },
  {
   "cell_type": "code",
   "execution_count": null,
   "metadata": {
    "id": "P_HR7zC-BYks"
   },
   "outputs": [],
   "source": [
    "# subplots를 시각화 합니다. hue=\"레버리지\"를 적용해 봅니다.\n"
   ]
  },
  {
   "cell_type": "code",
   "execution_count": null,
   "metadata": {},
   "outputs": [],
   "source": [
    "# 위에서 그린 서브플롯을 직접 groupby 로 구해봅니다.\n"
   ]
  },
  {
   "cell_type": "markdown",
   "metadata": {},
   "source": [
    "### 유형에 따른 3개월 수익률 boxplot \n",
    "* barplot으로 그렸을 때 보이지 않던 데이터의 빈도수와 데이터의 분포를 확인할 수 있습니다.\n"
   ]
  },
  {
   "cell_type": "code",
   "execution_count": null,
   "metadata": {},
   "outputs": [],
   "source": [
    "# boxplot 으로 x축에 \"유형\" y축에 \"3개월수익률\" 을 그려봅니다.\n"
   ]
  },
  {
   "cell_type": "code",
   "execution_count": null,
   "metadata": {},
   "outputs": [],
   "source": [
    "# boxplot의 유형에 따른 3개월 수익률에 대한 기술통계 값을 구합니다.\n"
   ]
  },
  {
   "cell_type": "markdown",
   "metadata": {},
   "source": [
    "### subplots 로 유형에 대한 boxplot 그리기"
   ]
  },
  {
   "cell_type": "code",
   "execution_count": null,
   "metadata": {},
   "outputs": [],
   "source": []
  },
  {
   "cell_type": "code",
   "execution_count": null,
   "metadata": {},
   "outputs": [],
   "source": [
    "# subplots 를 통한 유형에 따른 수치데이터의 평균값 구하기\n"
   ]
  },
  {
   "cell_type": "code",
   "execution_count": null,
   "metadata": {
    "id": "-TUx89cHBYks"
   },
   "outputs": [],
   "source": [
    "# hue=\"레버리지\" 를 추가해서 그립니다.\n"
   ]
  },
  {
   "cell_type": "markdown",
   "metadata": {},
   "source": [
    "### subplots 로 유형에 대한  violinplot 그리기\n",
    "* boxplot으로 그렸을 때 박스 안의 분포를 좀 더 자세히 그려줍니다."
   ]
  },
  {
   "cell_type": "code",
   "execution_count": null,
   "metadata": {},
   "outputs": [],
   "source": [
    "# 유형에 따른 violinplot \n"
   ]
  },
  {
   "cell_type": "code",
   "execution_count": null,
   "metadata": {
    "id": "l-MtPVa_BYkt"
   },
   "outputs": [],
   "source": [
    "# 유형에 따른 violinplot 에 hue=\"레버리지\" 적용하기\n"
   ]
  },
  {
   "cell_type": "markdown",
   "metadata": {},
   "source": [
    "### PairGrid 를 통해 여러 변수의 violinplot 그리기"
   ]
  },
  {
   "cell_type": "code",
   "execution_count": null,
   "metadata": {
    "id": "B5eV7-ANBYkt"
   },
   "outputs": [],
   "source": [
    "# 브랜드에 따른 여러 수치변수의 violinplot 를 PairGrid로 그리기\n"
   ]
  },
  {
   "cell_type": "markdown",
   "metadata": {},
   "source": [
    "### subplots 로 브랜드에 대한 boxplot 그리기"
   ]
  },
  {
   "cell_type": "code",
   "execution_count": null,
   "metadata": {},
   "outputs": [],
   "source": [
    "# 브랜드에 따른 여러 수치변수의 boxplot 을 subplots으로 그리기 : hue=\"레버리지\"\n"
   ]
  },
  {
   "cell_type": "markdown",
   "metadata": {},
   "source": [
    "### subplots 로 브랜드에 대한 violinplot 그리기"
   ]
  },
  {
   "cell_type": "code",
   "execution_count": null,
   "metadata": {
    "id": "XC3E1WM0BYkt"
   },
   "outputs": [],
   "source": [
    "# 브랜드에 따른 여러 수치변수의 violinplot 을 subplots으로 그리기 : hue=\"레버리지\"\n",
    "\n"
   ]
  },
  {
   "cell_type": "markdown",
   "metadata": {},
   "source": [
    "## FacetGrid 를 통한 범주형 변수에 대한 서브플롯 그리기"
   ]
  },
  {
   "cell_type": "code",
   "execution_count": null,
   "metadata": {},
   "outputs": [],
   "source": [
    "# catplot 을 통한 브랜드별 3개월 수익률\n"
   ]
  },
  {
   "cell_type": "code",
   "execution_count": null,
   "metadata": {},
   "outputs": [],
   "source": [
    "# catplot 을 통한 브랜드별 3개월 수익률 : kind=\"bar\"\n"
   ]
  },
  {
   "cell_type": "code",
   "execution_count": null,
   "metadata": {},
   "outputs": [],
   "source": [
    "# catplot 을 통한 브랜드별 3개월 수익률 : kind=\"box\"\n"
   ]
  },
  {
   "cell_type": "code",
   "execution_count": null,
   "metadata": {},
   "outputs": [],
   "source": [
    "# catplot 을 통한 브랜드별 3개월 수익률 : kind=\"violin\"\n"
   ]
  },
  {
   "cell_type": "markdown",
   "metadata": {},
   "source": [
    "### 특정 범주형 변수에 대한 서브플롯 그리기 - catplot\n",
    "#### 브랜드 별 빈도수 - countplot"
   ]
  },
  {
   "cell_type": "code",
   "execution_count": null,
   "metadata": {},
   "outputs": [],
   "source": []
  },
  {
   "cell_type": "markdown",
   "metadata": {},
   "source": [
    "#### 브랜드별 3개월 수익률 - barplot"
   ]
  },
  {
   "cell_type": "code",
   "execution_count": null,
   "metadata": {},
   "outputs": [],
   "source": []
  },
  {
   "cell_type": "markdown",
   "metadata": {},
   "source": [
    "#### 브랜드별 거래량 - barplot"
   ]
  },
  {
   "cell_type": "code",
   "execution_count": null,
   "metadata": {},
   "outputs": [],
   "source": []
  },
  {
   "cell_type": "markdown",
   "metadata": {},
   "source": [
    "## 해외 주식 ETF"
   ]
  },
  {
   "cell_type": "code",
   "execution_count": null,
   "metadata": {},
   "outputs": [],
   "source": [
    "# 유형이 \"해외 주식\"인 ETF만 가져옵니다.\n",
    "# oversea\n"
   ]
  },
  {
   "cell_type": "code",
   "execution_count": null,
   "metadata": {},
   "outputs": [],
   "source": [
    "# \"해외 주식\"ETF의 브랜드별 \"3개월수익률\"을 시각화 합니다.\n"
   ]
  },
  {
   "cell_type": "code",
   "execution_count": null,
   "metadata": {},
   "outputs": [],
   "source": [
    "# \"해외 주식\"ETF의 브랜드별 평균 \"3개월수익률\"을 hue=\"환헤지H\"로 시각화 합니다.\n"
   ]
  },
  {
   "cell_type": "code",
   "execution_count": null,
   "metadata": {},
   "outputs": [],
   "source": [
    "# \"해외 주식\"ETF의 브랜드별 평균 \"3개월수익률\"을 violinplot으로 시각화 합니다.\n"
   ]
  },
  {
   "cell_type": "code",
   "execution_count": null,
   "metadata": {},
   "outputs": [],
   "source": [
    "# 위에서 그린 그래프를 catplot을 통해 그리며  col=\"레버리지\", row=\"인버스\"로 시각화 합니다.\n"
   ]
  },
  {
   "cell_type": "markdown",
   "metadata": {},
   "source": [
    "\n",
    "## 상관분석\n",
    "\n",
    "상관 분석(相關 分析, Correlation analysis) 또는 '상관관계' 또는 '상관'은 확률론과 통계학에서 두 변수간에 어떤 선형적 또는 비선형적 관계를 갖고 있는지를 분석하는 방법이다. 두 변수는 서로 독립적인 관계이거나 상관된 관계일 수 있으며 이때 두 변수간의 관계의 강도를 상관관계(Correlation, Correlation coefficient)라 한다. 상관분석에서는 상관관계의 정도를 나타내는 단위로 모상관계수로 ρ를 사용하며 표본 상관 계수로 r 을 사용한다.\n",
    "\n",
    "상관관계의 정도를 파악하는 상관 계수(相關係數, Correlation coefficient)는 두 변수간의 연관된 정도를 나타낼 뿐 인과관계를 설명하는 것은 아니다. 두 변수간에 원인과 결과의 인과관계가 있는지에 대한 것은 회귀분석을 통해 인과관계의 방향, 정도와 수학적 모델을 확인해 볼 수 있다.\n",
    "\n",
    "* 출처 : https://ko.wikipedia.org/wiki/%EC%83%81%EA%B4%80_%EB%B6%84%EC%84%9D\n",
    "\n",
    "### 피어슨 상관계수\n",
    "\n",
    "* r 값은 X 와 Y 가 완전히 동일하면 +1, 전혀 다르면 0, 반대방향으로 완전히 동일 하면 –1 을 가진다. \n",
    "* 결정계수(coefficient of determination)는 r^2 로 계산하며 이것은 X 로부터 Y 를 예측할 수 있는 정도를 의미한다.\n",
    "\n",
    "<img src=\"https://upload.wikimedia.org/wikipedia/commons/thumb/d/d4/Correlation_examples2.svg/800px-Correlation_examples2.svg.png\" width=\"500\">\n",
    "\n",
    "```\n",
    "일반적으로\n",
    "r이 -1.0과 -0.7 사이이면, 강한 음적 선형관계,\n",
    "r이 -0.7과 -0.3 사이이면, 뚜렷한 음적 선형관계,\n",
    "r이 -0.3과 -0.1 사이이면, 약한 음적 선형관계,\n",
    "r이 -0.1과 +0.1 사이이면, 거의 무시될 수 있는 선형관계,\n",
    "r이 +0.1과 +0.3 사이이면, 약한 양적 선형관계,\n",
    "r이 +0.3과 +0.7 사이이면, 뚜렷한 양적 선형관계,\n",
    "r이 +0.7과 +1.0 사이이면, 강한 양적 선형관계\n",
    "```\n",
    "\n",
    "<img src=\"https://upload.wikimedia.org/wikipedia/commons/3/34/Correlation_coefficient.png\" width=500>\n",
    "\n",
    "* 출처 :  https://ko.wikipedia.org/wiki/%EC%83%81%EA%B4%80_%EB%B6%84%EC%84%9D#%ED%94%BC%EC%96%B4%EC%8A%A8_%EC%83%81%EA%B4%80_%EA%B3%84%EC%88%98\n",
    "\n",
    "\n",
    "\n",
    "### 상관계수 구하기"
   ]
  },
  {
   "cell_type": "code",
   "execution_count": null,
   "metadata": {
    "id": "golSpsCvBYkt"
   },
   "outputs": [],
   "source": [
    "# 전체 데이터프레임에 대한 상관계수를 구합니다.\n",
    "# corr\n"
   ]
  },
  {
   "cell_type": "code",
   "execution_count": null,
   "metadata": {
    "id": "CLqJvMYSBYkt"
   },
   "outputs": [],
   "source": [
    "# np.triu : matrix를 상삼각행렬로 만드는 numpy math\n",
    "# [1 2 3]   np.triu  [1 2 3]\n",
    "# [4 5 6]   -------> [0 5 6]\n",
    "# [2 3 4]            [0 0 4]\n",
    "# np.ones_like(x) : x와 크기만 같은 1로 이루어진 array를 만듬\n",
    "\n",
    "# 수식적으로 어려워 보일수도 있지만 간단함\n",
    "# 자기상관계수는 대각행렬을 기준으로 대칭되어 같은 값이 출력되므로,\n",
    "# 이대로 전체를 heatmap을 plot하면 오히려 가독성이 떨어질 수 있음\n",
    "# 이에, 가독성을 높이기 위해 대각행렬 기준으로 한쪽의 데이터들만 masking 기법을 통해 plot하여 \n",
    "# 가독성을 높이는 효과를 가질수 있음\n",
    "# np.ones_like로 heatmap의 마스크값 구하기\n",
    "mask = np.triu(np.ones_like(corr))"
   ]
  },
  {
   "cell_type": "code",
   "execution_count": null,
   "metadata": {
    "id": "fiIkXLilBYkt"
   },
   "outputs": [],
   "source": [
    "# seaborn 의 heatmap으로 상관 계수 시각화 하기\n"
   ]
  },
  {
   "cell_type": "markdown",
   "metadata": {},
   "source": [
    "### 양 혹은 음의 상관 계수가 높은 변수끼리의 regplot 그리기"
   ]
  },
  {
   "cell_type": "code",
   "execution_count": null,
   "metadata": {},
   "outputs": [],
   "source": [
    "# regplot을 통해 양의 상관 계수가 높은 변수끼리 시각화 합니다.\n"
   ]
  },
  {
   "cell_type": "code",
   "execution_count": null,
   "metadata": {},
   "outputs": [],
   "source": [
    "# regplot을 통해 음의 상관 계수가 높은 변수끼리 시각화 합니다.\n"
   ]
  },
  {
   "cell_type": "markdown",
   "metadata": {},
   "source": [
    "### 종목별 상관 계수"
   ]
  },
  {
   "cell_type": "code",
   "execution_count": null,
   "metadata": {},
   "outputs": [],
   "source": [
    "# select_dtypes 를 통해 object 타입을 제외한 타입을 제외하고 가져오록 합니다.\n",
    "# 종목명을 인덱스로 만들어 줍니다.\n",
    "# df_num\n"
   ]
  },
  {
   "cell_type": "code",
   "execution_count": null,
   "metadata": {
    "id": "2PTbNOwWBYkt",
    "scrolled": true
   },
   "outputs": [],
   "source": [
    "# transpose 로 행과 열을 바꿉니다.\n",
    "# df_t"
   ]
  },
  {
   "cell_type": "code",
   "execution_count": null,
   "metadata": {},
   "outputs": [],
   "source": [
    "# df_t의 데이터 타입을 float 으로 변경하고 상관 계수 구하기\n",
    "# etf_corr"
   ]
  },
  {
   "cell_type": "markdown",
   "metadata": {},
   "source": [
    "* \"KODEX 200\" 과 상관계수가 높은 ETF 상위 10개"
   ]
  },
  {
   "cell_type": "code",
   "execution_count": null,
   "metadata": {},
   "outputs": [],
   "source": [
    "# \"KODEX 200\" 과 상관계수가 높은 ETF 상위 10개\n"
   ]
  },
  {
   "cell_type": "markdown",
   "metadata": {},
   "source": [
    "* \"KODEX 200\" 과 상관계수가 낮은 ETF 하위 10개"
   ]
  },
  {
   "cell_type": "code",
   "execution_count": null,
   "metadata": {},
   "outputs": [],
   "source": [
    "# \"KODEX 200\" 과 상관계수가 낮은 ETF 하위 10개\n"
   ]
  },
  {
   "cell_type": "markdown",
   "metadata": {},
   "source": [
    "### 2X ETF의 상관계수"
   ]
  },
  {
   "cell_type": "code",
   "execution_count": null,
   "metadata": {},
   "outputs": [],
   "source": [
    "# 2X가 들어가는 ETF의 상관 계수만 가져오기\n",
    "# etf_corr_2x\n"
   ]
  },
  {
   "cell_type": "code",
   "execution_count": null,
   "metadata": {},
   "outputs": [],
   "source": [
    "# np.ones_like로 heatmap의 마스크값 구하기\n",
    "# mask_2x\n"
   ]
  },
  {
   "cell_type": "code",
   "execution_count": null,
   "metadata": {},
   "outputs": [],
   "source": [
    "# seaborn 의 heatmap으로 상관 계수 시각화 하기\n"
   ]
  },
  {
   "cell_type": "markdown",
   "metadata": {},
   "source": [
    "### 원유와 관련된 ETF의 상관계수 보기"
   ]
  },
  {
   "cell_type": "code",
   "execution_count": null,
   "metadata": {},
   "outputs": [],
   "source": [
    "# 원유가 들어가는 상관계수만 가져오기\n",
    "# etf_corr_oil"
   ]
  },
  {
   "cell_type": "code",
   "execution_count": null,
   "metadata": {},
   "outputs": [],
   "source": [
    "# np.ones_like로 heatmap의 마스크값 구하기\n",
    "# mask_oil"
   ]
  },
  {
   "cell_type": "code",
   "execution_count": null,
   "metadata": {
    "scrolled": false
   },
   "outputs": [],
   "source": [
    "# seaborn 의 heatmap으로 상관 계수 시각화 하기\n"
   ]
  },
  {
   "cell_type": "markdown",
   "metadata": {},
   "source": [
    "## seaborn 공식문서"
   ]
  },
  {
   "cell_type": "markdown",
   "metadata": {},
   "source": [
    "* seaborn 에 대해 좀 더 알고 싶다면 다음의 튜토리얼을 참고해 보세요.\n",
    "* [User guide and tutorial — seaborn documentation](https://seaborn.pydata.org/tutorial.html)"
   ]
  },
  {
   "cell_type": "code",
   "execution_count": null,
   "metadata": {},
   "outputs": [],
   "source": []
  },
  {
   "cell_type": "code",
   "execution_count": null,
   "metadata": {},
   "outputs": [],
   "source": []
  },
  {
   "cell_type": "code",
   "execution_count": null,
   "metadata": {},
   "outputs": [],
   "source": []
  }
 ],
 "metadata": {
  "colab": {
   "collapsed_sections": [],
   "name": "8. naver-etf-eda.ipynb",
   "provenance": [],
   "toc_visible": true
  },
  "kernelspec": {
   "display_name": "Python 3 (ipykernel)",
   "language": "python",
   "name": "python3"
  },
  "language_info": {
   "codemirror_mode": {
    "name": "ipython",
    "version": 3
   },
   "file_extension": ".py",
   "mimetype": "text/x-python",
   "name": "python",
   "nbconvert_exporter": "python",
   "pygments_lexer": "ipython3",
   "version": "3.10.4"
  },
  "toc": {
   "base_numbering": 1,
   "nav_menu": {},
   "number_sections": true,
   "sideBar": true,
   "skip_h1_title": false,
   "title_cell": "Table of Contents",
   "title_sidebar": "Contents",
   "toc_cell": false,
   "toc_position": {
    "height": "calc(100% - 180px)",
    "left": "10px",
    "top": "150px",
    "width": "199px"
   },
   "toc_section_display": true,
   "toc_window_display": true
  },
  "varInspector": {
   "cols": {
    "lenName": 16,
    "lenType": 16,
    "lenVar": 40
   },
   "kernels_config": {
    "python": {
     "delete_cmd_postfix": "",
     "delete_cmd_prefix": "del ",
     "library": "var_list.py",
     "varRefreshCmd": "print(var_dic_list())"
    },
    "r": {
     "delete_cmd_postfix": ") ",
     "delete_cmd_prefix": "rm(",
     "library": "var_list.r",
     "varRefreshCmd": "cat(var_dic_list()) "
    }
   },
   "types_to_exclude": [
    "module",
    "function",
    "builtin_function_or_method",
    "instance",
    "_Feature"
   ],
   "window_display": false
  }
 },
 "nbformat": 4,
 "nbformat_minor": 1
}

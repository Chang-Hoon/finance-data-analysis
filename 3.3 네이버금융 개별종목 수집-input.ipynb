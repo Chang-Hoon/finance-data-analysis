{
 "cells": [
  {
   "cell_type": "markdown",
   "metadata": {
    "id": "pOdYzjmEAGhg"
   },
   "source": [
    "[![Open In Colab](https://colab.research.google.com/assets/colab-badge.svg)](https://colab.research.google.com/github/corazzon/finance-data-analysis/blob/main/3.3%20%EB%84%A4%EC%9D%B4%EB%B2%84%EA%B8%88%EC%9C%B5%20%EA%B0%9C%EB%B3%84%EC%A2%85%EB%AA%A9%20%EC%88%98%EC%A7%91-input.ipynb)\n",
    "\n",
    "\n",
    "## 네이버 금융 개별종목 수집\n",
    "* FinanceDataReader를 통해 수집했던 데이터를 네이버 증권 웹 페이지를 통해 직접 수집합니다.\n",
    "\n",
    "\n",
    "### Keyword\n",
    "\n",
    "* html 파일 읽어오기\n",
    "    * pd.read_html(url, encoding=\"cp949\")\n",
    "\n",
    "* 결측 데이터 제거하기(axis 0:행, 1:열)\n",
    "    * table[0].dropna()\n",
    "\n",
    "* 데이터 프레임 합치기\n",
    "    * pd.concat([df1, df2, df3])\n",
    "\n",
    "* 중복데이터 제거\n",
    "    * df.drop_duplicates()\n",
    "\n",
    "* 과학적 기수법\n",
    "    * 1.210000e+02 => 121\n",
    "\n",
    "* 날짜 column의 첫 row값 확인\n",
    "    * date = df.iloc[0][\"날짜\"]\n",
    "\n",
    "* 파일로 저장하기 \n",
    "    * df.to_csv(file_name, index=False)\n",
    "\n",
    "* 파일 읽어오기\n",
    "    * pd.read_csv(file_name)"
   ]
  },
  {
   "cell_type": "markdown",
   "metadata": {
    "id": "-lIn4AdJTMkA"
   },
   "source": [
    "## 수집할 페이지 보기\n",
    "\n",
    "* 네이버 금융 국내증시 : https://finance.naver.com/sise/\n",
    "* 2020년 주요 상장종목\n",
    "    * 빅히트 : https://finance.naver.com/item/main.nhn?code=352820\n",
    "    * 카카오게임즈 : https://finance.naver.com/item/main.nhn?code=293490\n",
    "    * SK바이오팜 : https://finance.naver.com/item/main.nhn?code=326030"
   ]
  },
  {
   "cell_type": "markdown",
   "metadata": {},
   "source": [
    "## 라이브러리 로드"
   ]
  },
  {
   "cell_type": "code",
   "execution_count": 1,
   "metadata": {
    "id": "6Mm8vuymTMkA"
   },
   "outputs": [],
   "source": [
    "# 라이브러리 로드\n",
    "import pandas as pd"
   ]
  },
  {
   "cell_type": "markdown",
   "metadata": {},
   "source": [
    "## 수집할 URL 정하기"
   ]
  },
  {
   "cell_type": "code",
   "execution_count": 4,
   "metadata": {
    "id": "QzZJoAvoTMkA"
   },
   "outputs": [
    {
     "data": {
      "text/plain": [
       "'https://finance.naver.com/item/sise_day.nhn?code=326030&page=1'"
      ]
     },
     "execution_count": 4,
     "metadata": {},
     "output_type": "execute_result"
    }
   ],
   "source": [
    "# 종목번호와 상장사 이름을 item_code와 item_name으로 설정\n",
    "# item_code = \"352820\"\n",
    "# item_name = \"빅히트\"\n",
    "\n",
    "item_code = \"326030\"\n",
    "item_name = \"SK바이오팜\"\n",
    "page_no = 1\n",
    "\n",
    "# 종목 URL 만들기\n",
    "url = f\"https://finance.naver.com/item/sise_day.nhn?code={item_code}&page={page_no}\"\n",
    "url"
   ]
  },
  {
   "cell_type": "markdown",
   "metadata": {},
   "source": [
    "## requests를 통한 HTTP 요청\n",
    "* [Requests: HTTP for Humans™ — Requests documentation](https://requests.readthedocs.io/en/master/)\n",
    "* [Quickstart — Requests documentation # custom-headers](https://requests.readthedocs.io/en/latest/user/quickstart/#custom-headers)"
   ]
  },
  {
   "cell_type": "code",
   "execution_count": null,
   "metadata": {
    "scrolled": true
   },
   "outputs": [],
   "source": [
    "import requests\n",
    "\n",
    "headers = {'user-agent': 'Mozilla/5.0 (Macintosh; Intel Mac OS X 10_15_7) AppleWebKit/537.36 (KHTML, like Gecko) Chrome/88.0.4324.96 Safari/537.36'}\n",
    "\n",
    "response = requests.get(url, headers=headers)\n",
    "response.text"
   ]
  },
  {
   "cell_type": "markdown",
   "metadata": {},
   "source": [
    "## BeautifulSoup 을 통한 table 태그 찾기\n",
    "\n",
    "* [Beautiful Soup Documentation — Beautiful Soup 4.9.0 documentation](https://www.crummy.com/software/BeautifulSoup/bs4/doc/)"
   ]
  },
  {
   "cell_type": "code",
   "execution_count": 7,
   "metadata": {},
   "outputs": [
    {
     "data": {
      "text/plain": [
       "2"
      ]
     },
     "execution_count": 7,
     "metadata": {},
     "output_type": "execute_result"
    }
   ],
   "source": [
    "from bs4 import BeautifulSoup as bs\n",
    "\n",
    "html = bs(response.text, \"lxml\")\n",
    "table = html.select(\"table\")\n",
    "len(table)"
   ]
  },
  {
   "cell_type": "code",
   "execution_count": 8,
   "metadata": {},
   "outputs": [
    {
     "data": {
      "text/plain": [
       "bs4.element.ResultSet"
      ]
     },
     "execution_count": 8,
     "metadata": {},
     "output_type": "execute_result"
    }
   ],
   "source": [
    "type(table)"
   ]
  },
  {
   "cell_type": "markdown",
   "metadata": {},
   "source": [
    "## pandas 코드 한 줄로 데이터 수집하기"
   ]
  },
  {
   "cell_type": "code",
   "execution_count": 9,
   "metadata": {
    "id": "T3e0Jt0mTMkA"
   },
   "outputs": [],
   "source": [
    "# read_html을 이용하여 url의 page내의 값을 DataFrame으로 받아옵니다.\n",
    "# cp949는 한글 인코딩을 위해 사용합니다. 기본 인코딩 설정은 utf-8 이며, \n",
    "# 네이버의 일별 시세는 cp949 인코딩으로 불러올 수 있습니다.\n",
    "# 데이터를 로드 했을 때 한글 인코딩이 깨진다면 대부분 cp949 로 불러올 수 있습니다.\n",
    "table = pd.read_html(str(table))"
   ]
  },
  {
   "cell_type": "code",
   "execution_count": 10,
   "metadata": {
    "id": "GQ_LCYp0TMkA"
   },
   "outputs": [
    {
     "data": {
      "text/html": [
       "<div>\n",
       "<style scoped>\n",
       "    .dataframe tbody tr th:only-of-type {\n",
       "        vertical-align: middle;\n",
       "    }\n",
       "\n",
       "    .dataframe tbody tr th {\n",
       "        vertical-align: top;\n",
       "    }\n",
       "\n",
       "    .dataframe thead th {\n",
       "        text-align: right;\n",
       "    }\n",
       "</style>\n",
       "<table border=\"1\" class=\"dataframe\">\n",
       "  <thead>\n",
       "    <tr style=\"text-align: right;\">\n",
       "      <th></th>\n",
       "      <th>0</th>\n",
       "      <th>1</th>\n",
       "      <th>2</th>\n",
       "      <th>3</th>\n",
       "      <th>4</th>\n",
       "      <th>5</th>\n",
       "      <th>6</th>\n",
       "      <th>7</th>\n",
       "      <th>8</th>\n",
       "      <th>9</th>\n",
       "      <th>10</th>\n",
       "      <th>11</th>\n",
       "    </tr>\n",
       "  </thead>\n",
       "  <tbody>\n",
       "    <tr>\n",
       "      <th>0</th>\n",
       "      <td>1</td>\n",
       "      <td>2</td>\n",
       "      <td>3</td>\n",
       "      <td>4</td>\n",
       "      <td>5</td>\n",
       "      <td>6</td>\n",
       "      <td>7</td>\n",
       "      <td>8</td>\n",
       "      <td>9</td>\n",
       "      <td>10</td>\n",
       "      <td>다음</td>\n",
       "      <td>맨뒤</td>\n",
       "    </tr>\n",
       "  </tbody>\n",
       "</table>\n",
       "</div>"
      ],
      "text/plain": [
       "   0   1   2   3   4   5   6   7   8   9   10  11\n",
       "0   1   2   3   4   5   6   7   8   9  10  다음  맨뒤"
      ]
     },
     "execution_count": 10,
     "metadata": {},
     "output_type": "execute_result"
    }
   ],
   "source": [
    "# table[0]와 table[1]을 확인하여 보면 table[0]에 필요한 데이터들이 있습니다.\n",
    "table[1]"
   ]
  },
  {
   "cell_type": "code",
   "execution_count": 11,
   "metadata": {},
   "outputs": [
    {
     "data": {
      "text/html": [
       "<div>\n",
       "<style scoped>\n",
       "    .dataframe tbody tr th:only-of-type {\n",
       "        vertical-align: middle;\n",
       "    }\n",
       "\n",
       "    .dataframe tbody tr th {\n",
       "        vertical-align: top;\n",
       "    }\n",
       "\n",
       "    .dataframe thead th {\n",
       "        text-align: right;\n",
       "    }\n",
       "</style>\n",
       "<table border=\"1\" class=\"dataframe\">\n",
       "  <thead>\n",
       "    <tr style=\"text-align: right;\">\n",
       "      <th></th>\n",
       "      <th>날짜</th>\n",
       "      <th>종가</th>\n",
       "      <th>전일비</th>\n",
       "      <th>시가</th>\n",
       "      <th>고가</th>\n",
       "      <th>저가</th>\n",
       "      <th>거래량</th>\n",
       "    </tr>\n",
       "  </thead>\n",
       "  <tbody>\n",
       "    <tr>\n",
       "      <th>0</th>\n",
       "      <td>NaN</td>\n",
       "      <td>NaN</td>\n",
       "      <td>NaN</td>\n",
       "      <td>NaN</td>\n",
       "      <td>NaN</td>\n",
       "      <td>NaN</td>\n",
       "      <td>NaN</td>\n",
       "    </tr>\n",
       "    <tr>\n",
       "      <th>1</th>\n",
       "      <td>2022.06.22</td>\n",
       "      <td>70600.0</td>\n",
       "      <td>100.0</td>\n",
       "      <td>70200.0</td>\n",
       "      <td>72100.0</td>\n",
       "      <td>69700.0</td>\n",
       "      <td>99300.0</td>\n",
       "    </tr>\n",
       "    <tr>\n",
       "      <th>2</th>\n",
       "      <td>2022.06.21</td>\n",
       "      <td>70500.0</td>\n",
       "      <td>3100.0</td>\n",
       "      <td>67400.0</td>\n",
       "      <td>70800.0</td>\n",
       "      <td>67300.0</td>\n",
       "      <td>117753.0</td>\n",
       "    </tr>\n",
       "    <tr>\n",
       "      <th>3</th>\n",
       "      <td>2022.06.20</td>\n",
       "      <td>67400.0</td>\n",
       "      <td>2200.0</td>\n",
       "      <td>69800.0</td>\n",
       "      <td>70600.0</td>\n",
       "      <td>66300.0</td>\n",
       "      <td>154629.0</td>\n",
       "    </tr>\n",
       "    <tr>\n",
       "      <th>4</th>\n",
       "      <td>2022.06.17</td>\n",
       "      <td>69600.0</td>\n",
       "      <td>1000.0</td>\n",
       "      <td>67200.0</td>\n",
       "      <td>70900.0</td>\n",
       "      <td>67200.0</td>\n",
       "      <td>206494.0</td>\n",
       "    </tr>\n",
       "    <tr>\n",
       "      <th>5</th>\n",
       "      <td>2022.06.16</td>\n",
       "      <td>70600.0</td>\n",
       "      <td>500.0</td>\n",
       "      <td>72200.0</td>\n",
       "      <td>72900.0</td>\n",
       "      <td>70200.0</td>\n",
       "      <td>122069.0</td>\n",
       "    </tr>\n",
       "    <tr>\n",
       "      <th>6</th>\n",
       "      <td>NaN</td>\n",
       "      <td>NaN</td>\n",
       "      <td>NaN</td>\n",
       "      <td>NaN</td>\n",
       "      <td>NaN</td>\n",
       "      <td>NaN</td>\n",
       "      <td>NaN</td>\n",
       "    </tr>\n",
       "    <tr>\n",
       "      <th>7</th>\n",
       "      <td>NaN</td>\n",
       "      <td>NaN</td>\n",
       "      <td>NaN</td>\n",
       "      <td>NaN</td>\n",
       "      <td>NaN</td>\n",
       "      <td>NaN</td>\n",
       "      <td>NaN</td>\n",
       "    </tr>\n",
       "    <tr>\n",
       "      <th>8</th>\n",
       "      <td>NaN</td>\n",
       "      <td>NaN</td>\n",
       "      <td>NaN</td>\n",
       "      <td>NaN</td>\n",
       "      <td>NaN</td>\n",
       "      <td>NaN</td>\n",
       "      <td>NaN</td>\n",
       "    </tr>\n",
       "    <tr>\n",
       "      <th>9</th>\n",
       "      <td>2022.06.15</td>\n",
       "      <td>71100.0</td>\n",
       "      <td>3400.0</td>\n",
       "      <td>73600.0</td>\n",
       "      <td>74700.0</td>\n",
       "      <td>70900.0</td>\n",
       "      <td>212995.0</td>\n",
       "    </tr>\n",
       "    <tr>\n",
       "      <th>10</th>\n",
       "      <td>2022.06.14</td>\n",
       "      <td>74500.0</td>\n",
       "      <td>1900.0</td>\n",
       "      <td>73700.0</td>\n",
       "      <td>76300.0</td>\n",
       "      <td>73700.0</td>\n",
       "      <td>150870.0</td>\n",
       "    </tr>\n",
       "    <tr>\n",
       "      <th>11</th>\n",
       "      <td>2022.06.13</td>\n",
       "      <td>76400.0</td>\n",
       "      <td>4600.0</td>\n",
       "      <td>79700.0</td>\n",
       "      <td>80000.0</td>\n",
       "      <td>76300.0</td>\n",
       "      <td>159796.0</td>\n",
       "    </tr>\n",
       "    <tr>\n",
       "      <th>12</th>\n",
       "      <td>2022.06.10</td>\n",
       "      <td>81000.0</td>\n",
       "      <td>1400.0</td>\n",
       "      <td>82100.0</td>\n",
       "      <td>82600.0</td>\n",
       "      <td>80500.0</td>\n",
       "      <td>103312.0</td>\n",
       "    </tr>\n",
       "    <tr>\n",
       "      <th>13</th>\n",
       "      <td>2022.06.09</td>\n",
       "      <td>82400.0</td>\n",
       "      <td>100.0</td>\n",
       "      <td>82500.0</td>\n",
       "      <td>82500.0</td>\n",
       "      <td>81400.0</td>\n",
       "      <td>107945.0</td>\n",
       "    </tr>\n",
       "    <tr>\n",
       "      <th>14</th>\n",
       "      <td>NaN</td>\n",
       "      <td>NaN</td>\n",
       "      <td>NaN</td>\n",
       "      <td>NaN</td>\n",
       "      <td>NaN</td>\n",
       "      <td>NaN</td>\n",
       "      <td>NaN</td>\n",
       "    </tr>\n",
       "  </tbody>\n",
       "</table>\n",
       "</div>"
      ],
      "text/plain": [
       "            날짜       종가     전일비       시가       고가       저가       거래량\n",
       "0          NaN      NaN     NaN      NaN      NaN      NaN       NaN\n",
       "1   2022.06.22  70600.0   100.0  70200.0  72100.0  69700.0   99300.0\n",
       "2   2022.06.21  70500.0  3100.0  67400.0  70800.0  67300.0  117753.0\n",
       "3   2022.06.20  67400.0  2200.0  69800.0  70600.0  66300.0  154629.0\n",
       "4   2022.06.17  69600.0  1000.0  67200.0  70900.0  67200.0  206494.0\n",
       "5   2022.06.16  70600.0   500.0  72200.0  72900.0  70200.0  122069.0\n",
       "6          NaN      NaN     NaN      NaN      NaN      NaN       NaN\n",
       "7          NaN      NaN     NaN      NaN      NaN      NaN       NaN\n",
       "8          NaN      NaN     NaN      NaN      NaN      NaN       NaN\n",
       "9   2022.06.15  71100.0  3400.0  73600.0  74700.0  70900.0  212995.0\n",
       "10  2022.06.14  74500.0  1900.0  73700.0  76300.0  73700.0  150870.0\n",
       "11  2022.06.13  76400.0  4600.0  79700.0  80000.0  76300.0  159796.0\n",
       "12  2022.06.10  81000.0  1400.0  82100.0  82600.0  80500.0  103312.0\n",
       "13  2022.06.09  82400.0   100.0  82500.0  82500.0  81400.0  107945.0\n",
       "14         NaN      NaN     NaN      NaN      NaN      NaN       NaN"
      ]
     },
     "execution_count": 11,
     "metadata": {},
     "output_type": "execute_result"
    }
   ],
   "source": [
    "table[0]"
   ]
  },
  {
   "cell_type": "code",
   "execution_count": 12,
   "metadata": {
    "id": "0gI1rNUbTMkA"
   },
   "outputs": [
    {
     "data": {
      "text/html": [
       "<div>\n",
       "<style scoped>\n",
       "    .dataframe tbody tr th:only-of-type {\n",
       "        vertical-align: middle;\n",
       "    }\n",
       "\n",
       "    .dataframe tbody tr th {\n",
       "        vertical-align: top;\n",
       "    }\n",
       "\n",
       "    .dataframe thead th {\n",
       "        text-align: right;\n",
       "    }\n",
       "</style>\n",
       "<table border=\"1\" class=\"dataframe\">\n",
       "  <thead>\n",
       "    <tr style=\"text-align: right;\">\n",
       "      <th></th>\n",
       "      <th>날짜</th>\n",
       "      <th>종가</th>\n",
       "      <th>전일비</th>\n",
       "      <th>시가</th>\n",
       "      <th>고가</th>\n",
       "      <th>저가</th>\n",
       "      <th>거래량</th>\n",
       "    </tr>\n",
       "  </thead>\n",
       "  <tbody>\n",
       "    <tr>\n",
       "      <th>1</th>\n",
       "      <td>2022.06.22</td>\n",
       "      <td>70600.0</td>\n",
       "      <td>100.0</td>\n",
       "      <td>70200.0</td>\n",
       "      <td>72100.0</td>\n",
       "      <td>69700.0</td>\n",
       "      <td>99300.0</td>\n",
       "    </tr>\n",
       "    <tr>\n",
       "      <th>2</th>\n",
       "      <td>2022.06.21</td>\n",
       "      <td>70500.0</td>\n",
       "      <td>3100.0</td>\n",
       "      <td>67400.0</td>\n",
       "      <td>70800.0</td>\n",
       "      <td>67300.0</td>\n",
       "      <td>117753.0</td>\n",
       "    </tr>\n",
       "    <tr>\n",
       "      <th>3</th>\n",
       "      <td>2022.06.20</td>\n",
       "      <td>67400.0</td>\n",
       "      <td>2200.0</td>\n",
       "      <td>69800.0</td>\n",
       "      <td>70600.0</td>\n",
       "      <td>66300.0</td>\n",
       "      <td>154629.0</td>\n",
       "    </tr>\n",
       "    <tr>\n",
       "      <th>4</th>\n",
       "      <td>2022.06.17</td>\n",
       "      <td>69600.0</td>\n",
       "      <td>1000.0</td>\n",
       "      <td>67200.0</td>\n",
       "      <td>70900.0</td>\n",
       "      <td>67200.0</td>\n",
       "      <td>206494.0</td>\n",
       "    </tr>\n",
       "    <tr>\n",
       "      <th>5</th>\n",
       "      <td>2022.06.16</td>\n",
       "      <td>70600.0</td>\n",
       "      <td>500.0</td>\n",
       "      <td>72200.0</td>\n",
       "      <td>72900.0</td>\n",
       "      <td>70200.0</td>\n",
       "      <td>122069.0</td>\n",
       "    </tr>\n",
       "    <tr>\n",
       "      <th>9</th>\n",
       "      <td>2022.06.15</td>\n",
       "      <td>71100.0</td>\n",
       "      <td>3400.0</td>\n",
       "      <td>73600.0</td>\n",
       "      <td>74700.0</td>\n",
       "      <td>70900.0</td>\n",
       "      <td>212995.0</td>\n",
       "    </tr>\n",
       "    <tr>\n",
       "      <th>10</th>\n",
       "      <td>2022.06.14</td>\n",
       "      <td>74500.0</td>\n",
       "      <td>1900.0</td>\n",
       "      <td>73700.0</td>\n",
       "      <td>76300.0</td>\n",
       "      <td>73700.0</td>\n",
       "      <td>150870.0</td>\n",
       "    </tr>\n",
       "    <tr>\n",
       "      <th>11</th>\n",
       "      <td>2022.06.13</td>\n",
       "      <td>76400.0</td>\n",
       "      <td>4600.0</td>\n",
       "      <td>79700.0</td>\n",
       "      <td>80000.0</td>\n",
       "      <td>76300.0</td>\n",
       "      <td>159796.0</td>\n",
       "    </tr>\n",
       "    <tr>\n",
       "      <th>12</th>\n",
       "      <td>2022.06.10</td>\n",
       "      <td>81000.0</td>\n",
       "      <td>1400.0</td>\n",
       "      <td>82100.0</td>\n",
       "      <td>82600.0</td>\n",
       "      <td>80500.0</td>\n",
       "      <td>103312.0</td>\n",
       "    </tr>\n",
       "    <tr>\n",
       "      <th>13</th>\n",
       "      <td>2022.06.09</td>\n",
       "      <td>82400.0</td>\n",
       "      <td>100.0</td>\n",
       "      <td>82500.0</td>\n",
       "      <td>82500.0</td>\n",
       "      <td>81400.0</td>\n",
       "      <td>107945.0</td>\n",
       "    </tr>\n",
       "  </tbody>\n",
       "</table>\n",
       "</div>"
      ],
      "text/plain": [
       "            날짜       종가     전일비       시가       고가       저가       거래량\n",
       "1   2022.06.22  70600.0   100.0  70200.0  72100.0  69700.0   99300.0\n",
       "2   2022.06.21  70500.0  3100.0  67400.0  70800.0  67300.0  117753.0\n",
       "3   2022.06.20  67400.0  2200.0  69800.0  70600.0  66300.0  154629.0\n",
       "4   2022.06.17  69600.0  1000.0  67200.0  70900.0  67200.0  206494.0\n",
       "5   2022.06.16  70600.0   500.0  72200.0  72900.0  70200.0  122069.0\n",
       "9   2022.06.15  71100.0  3400.0  73600.0  74700.0  70900.0  212995.0\n",
       "10  2022.06.14  74500.0  1900.0  73700.0  76300.0  73700.0  150870.0\n",
       "11  2022.06.13  76400.0  4600.0  79700.0  80000.0  76300.0  159796.0\n",
       "12  2022.06.10  81000.0  1400.0  82100.0  82600.0  80500.0  103312.0\n",
       "13  2022.06.09  82400.0   100.0  82500.0  82500.0  81400.0  107945.0"
      ]
     },
     "execution_count": 12,
     "metadata": {},
     "output_type": "execute_result"
    }
   ],
   "source": [
    "# dropna를 통해 결측치가 들어있는 row를 제거합니다.\n",
    "temp = table[0].dropna()\n",
    "temp"
   ]
  },
  {
   "cell_type": "markdown",
   "metadata": {
    "id": "CKhsb94wTMkA"
   },
   "source": [
    "## 페이지별 데이터 수집 함수 만들기"
   ]
  },
  {
   "cell_type": "code",
   "execution_count": 13,
   "metadata": {
    "id": "gJugcyoiTMkA"
   },
   "outputs": [],
   "source": [
    "# 종목 번호를 이용해 page에 따라 데이터를 읽어오는 함수\n",
    "# \"\"\" 는 이 두개 사이의 행들은 주석 처리되며, 함수의 docstring 으로 사용됩니다.\n",
    "\n",
    "def get_day_list(item_code, page_no):\n",
    "    \"\"\"\n",
    "    일자별 시세를 페이지별로 수집\n",
    "    \"\"\" \n",
    "    url = f\"https://finance.naver.com/item/sise_day.nhn?code={item_code}&page={page_no}\"\n",
    "    \n",
    "    headers = {'user-agent': 'Mozilla/5.0 (Macintosh; Intel Mac OS X 10_15_7) AppleWebKit/537.36 (KHTML, like Gecko) Chrome/88.0.4324.96 Safari/537.36'}\n",
    "\n",
    "    response = requests.get(url, headers=headers)\n",
    "    html = bs(response.text, \"lxml\")\n",
    "    table = html.select(\"table\")\n",
    "    table = pd.read_html(str(table))\n",
    "    temp = table[0].dropna()\n",
    "    return temp"
   ]
  },
  {
   "cell_type": "code",
   "execution_count": 14,
   "metadata": {
    "id": "evjinapgTMkA"
   },
   "outputs": [
    {
     "data": {
      "text/html": [
       "<div>\n",
       "<style scoped>\n",
       "    .dataframe tbody tr th:only-of-type {\n",
       "        vertical-align: middle;\n",
       "    }\n",
       "\n",
       "    .dataframe tbody tr th {\n",
       "        vertical-align: top;\n",
       "    }\n",
       "\n",
       "    .dataframe thead th {\n",
       "        text-align: right;\n",
       "    }\n",
       "</style>\n",
       "<table border=\"1\" class=\"dataframe\">\n",
       "  <thead>\n",
       "    <tr style=\"text-align: right;\">\n",
       "      <th></th>\n",
       "      <th>날짜</th>\n",
       "      <th>종가</th>\n",
       "      <th>전일비</th>\n",
       "      <th>시가</th>\n",
       "      <th>고가</th>\n",
       "      <th>저가</th>\n",
       "      <th>거래량</th>\n",
       "    </tr>\n",
       "  </thead>\n",
       "  <tbody>\n",
       "    <tr>\n",
       "      <th>1</th>\n",
       "      <td>2022.06.22</td>\n",
       "      <td>70400.0</td>\n",
       "      <td>100.0</td>\n",
       "      <td>70200.0</td>\n",
       "      <td>72100.0</td>\n",
       "      <td>69700.0</td>\n",
       "      <td>100352.0</td>\n",
       "    </tr>\n",
       "    <tr>\n",
       "      <th>2</th>\n",
       "      <td>2022.06.21</td>\n",
       "      <td>70500.0</td>\n",
       "      <td>3100.0</td>\n",
       "      <td>67400.0</td>\n",
       "      <td>70800.0</td>\n",
       "      <td>67300.0</td>\n",
       "      <td>117753.0</td>\n",
       "    </tr>\n",
       "    <tr>\n",
       "      <th>3</th>\n",
       "      <td>2022.06.20</td>\n",
       "      <td>67400.0</td>\n",
       "      <td>2200.0</td>\n",
       "      <td>69800.0</td>\n",
       "      <td>70600.0</td>\n",
       "      <td>66300.0</td>\n",
       "      <td>154629.0</td>\n",
       "    </tr>\n",
       "    <tr>\n",
       "      <th>4</th>\n",
       "      <td>2022.06.17</td>\n",
       "      <td>69600.0</td>\n",
       "      <td>1000.0</td>\n",
       "      <td>67200.0</td>\n",
       "      <td>70900.0</td>\n",
       "      <td>67200.0</td>\n",
       "      <td>206494.0</td>\n",
       "    </tr>\n",
       "    <tr>\n",
       "      <th>5</th>\n",
       "      <td>2022.06.16</td>\n",
       "      <td>70600.0</td>\n",
       "      <td>500.0</td>\n",
       "      <td>72200.0</td>\n",
       "      <td>72900.0</td>\n",
       "      <td>70200.0</td>\n",
       "      <td>122069.0</td>\n",
       "    </tr>\n",
       "    <tr>\n",
       "      <th>9</th>\n",
       "      <td>2022.06.15</td>\n",
       "      <td>71100.0</td>\n",
       "      <td>3400.0</td>\n",
       "      <td>73600.0</td>\n",
       "      <td>74700.0</td>\n",
       "      <td>70900.0</td>\n",
       "      <td>212995.0</td>\n",
       "    </tr>\n",
       "    <tr>\n",
       "      <th>10</th>\n",
       "      <td>2022.06.14</td>\n",
       "      <td>74500.0</td>\n",
       "      <td>1900.0</td>\n",
       "      <td>73700.0</td>\n",
       "      <td>76300.0</td>\n",
       "      <td>73700.0</td>\n",
       "      <td>150870.0</td>\n",
       "    </tr>\n",
       "    <tr>\n",
       "      <th>11</th>\n",
       "      <td>2022.06.13</td>\n",
       "      <td>76400.0</td>\n",
       "      <td>4600.0</td>\n",
       "      <td>79700.0</td>\n",
       "      <td>80000.0</td>\n",
       "      <td>76300.0</td>\n",
       "      <td>159796.0</td>\n",
       "    </tr>\n",
       "    <tr>\n",
       "      <th>12</th>\n",
       "      <td>2022.06.10</td>\n",
       "      <td>81000.0</td>\n",
       "      <td>1400.0</td>\n",
       "      <td>82100.0</td>\n",
       "      <td>82600.0</td>\n",
       "      <td>80500.0</td>\n",
       "      <td>103312.0</td>\n",
       "    </tr>\n",
       "    <tr>\n",
       "      <th>13</th>\n",
       "      <td>2022.06.09</td>\n",
       "      <td>82400.0</td>\n",
       "      <td>100.0</td>\n",
       "      <td>82500.0</td>\n",
       "      <td>82500.0</td>\n",
       "      <td>81400.0</td>\n",
       "      <td>107945.0</td>\n",
       "    </tr>\n",
       "  </tbody>\n",
       "</table>\n",
       "</div>"
      ],
      "text/plain": [
       "            날짜       종가     전일비       시가       고가       저가       거래량\n",
       "1   2022.06.22  70400.0   100.0  70200.0  72100.0  69700.0  100352.0\n",
       "2   2022.06.21  70500.0  3100.0  67400.0  70800.0  67300.0  117753.0\n",
       "3   2022.06.20  67400.0  2200.0  69800.0  70600.0  66300.0  154629.0\n",
       "4   2022.06.17  69600.0  1000.0  67200.0  70900.0  67200.0  206494.0\n",
       "5   2022.06.16  70600.0   500.0  72200.0  72900.0  70200.0  122069.0\n",
       "9   2022.06.15  71100.0  3400.0  73600.0  74700.0  70900.0  212995.0\n",
       "10  2022.06.14  74500.0  1900.0  73700.0  76300.0  73700.0  150870.0\n",
       "11  2022.06.13  76400.0  4600.0  79700.0  80000.0  76300.0  159796.0\n",
       "12  2022.06.10  81000.0  1400.0  82100.0  82600.0  80500.0  103312.0\n",
       "13  2022.06.09  82400.0   100.0  82500.0  82500.0  81400.0  107945.0"
      ]
     },
     "execution_count": 14,
     "metadata": {},
     "output_type": "execute_result"
    }
   ],
   "source": [
    "# 함수가 잘 만들어졌는지 확인하기\n",
    "get_day_list(item_code, 1)"
   ]
  },
  {
   "cell_type": "markdown",
   "metadata": {
    "id": "uuaac8XTTMkA"
   },
   "source": [
    "## 반복문을 통한 전체 일자 데이터 수집하기\n",
    "* (주의) 기간이 긴 데이터를 수집할때는 서버에 부담을 주지 않기 위해 time.sleep()값을 주세요."
   ]
  },
  {
   "cell_type": "code",
   "execution_count": 15,
   "metadata": {
    "id": "EQs1C6C_TMkA"
   },
   "outputs": [
    {
     "name": "stdout",
     "output_type": "stream",
     "text": [
      "1\n",
      "2\n",
      "3\n",
      "4\n",
      "5\n",
      "6\n",
      "7\n",
      "8\n",
      "9\n",
      "10\n"
     ]
    }
   ],
   "source": [
    "import time\n",
    "# web page 시작번호\n",
    "page_no = 1\n",
    "# 데이터를 저장할 빈 변수 선언\n",
    "item_list = []\n",
    "while True:\n",
    "    print(page_no)\n",
    "    temp = get_day_list(item_code, page_no)\n",
    "    item_list.append(temp)\n",
    "    \n",
    "    page_no = page_no + 1\n",
    "    time.sleep(0.1)\n",
    "    \n",
    "    #if temp.shape[0] < 10:\n",
    "    if page_no > 10:\n",
    "        break;"
   ]
  },
  {
   "cell_type": "code",
   "execution_count": 16,
   "metadata": {},
   "outputs": [
    {
     "data": {
      "text/plain": [
       "10"
      ]
     },
     "execution_count": 16,
     "metadata": {},
     "output_type": "execute_result"
    }
   ],
   "source": [
    "len(item_list)"
   ]
  },
  {
   "cell_type": "markdown",
   "metadata": {
    "id": "iEFBJv5XTMkA"
   },
   "source": [
    "## 수집한 데이터 하나의 데이터프레임으로 합치기\n",
    "\n",
    "<img src=\"https://pandas.pydata.org/docs/_images/merging_concat_basic.png\">\n",
    "\n",
    "* [Merge, join, concatenate and compare documentation](https://pandas.pydata.org/docs/user_guide/merging.html#merge-join-concatenate-and-compare)"
   ]
  },
  {
   "cell_type": "code",
   "execution_count": 17,
   "metadata": {
    "id": "mUcxeTMFTMkA"
   },
   "outputs": [],
   "source": [
    "# DataFrame들이 list의 형태로 저장된 것을 concat을 이용하여 합치면서 하나의 DataFrame으로 만듭니다.\n",
    "df = pd.concat(item_list)"
   ]
  },
  {
   "cell_type": "markdown",
   "metadata": {},
   "source": [
    "<img src=\"https://pandas.pydata.org/docs/_images/08_concat_row.svg\">"
   ]
  },
  {
   "cell_type": "code",
   "execution_count": 18,
   "metadata": {
    "id": "Ep3NWfM-TMkA"
   },
   "outputs": [
    {
     "data": {
      "text/html": [
       "<div>\n",
       "<style scoped>\n",
       "    .dataframe tbody tr th:only-of-type {\n",
       "        vertical-align: middle;\n",
       "    }\n",
       "\n",
       "    .dataframe tbody tr th {\n",
       "        vertical-align: top;\n",
       "    }\n",
       "\n",
       "    .dataframe thead th {\n",
       "        text-align: right;\n",
       "    }\n",
       "</style>\n",
       "<table border=\"1\" class=\"dataframe\">\n",
       "  <thead>\n",
       "    <tr style=\"text-align: right;\">\n",
       "      <th></th>\n",
       "      <th>날짜</th>\n",
       "      <th>종가</th>\n",
       "      <th>전일비</th>\n",
       "      <th>시가</th>\n",
       "      <th>고가</th>\n",
       "      <th>저가</th>\n",
       "      <th>거래량</th>\n",
       "    </tr>\n",
       "  </thead>\n",
       "  <tbody>\n",
       "    <tr>\n",
       "      <th>1</th>\n",
       "      <td>2022.06.22</td>\n",
       "      <td>70400.0</td>\n",
       "      <td>100.0</td>\n",
       "      <td>70200.0</td>\n",
       "      <td>72100.0</td>\n",
       "      <td>69700.0</td>\n",
       "      <td>100775.0</td>\n",
       "    </tr>\n",
       "    <tr>\n",
       "      <th>2</th>\n",
       "      <td>2022.06.21</td>\n",
       "      <td>70500.0</td>\n",
       "      <td>3100.0</td>\n",
       "      <td>67400.0</td>\n",
       "      <td>70800.0</td>\n",
       "      <td>67300.0</td>\n",
       "      <td>117753.0</td>\n",
       "    </tr>\n",
       "    <tr>\n",
       "      <th>3</th>\n",
       "      <td>2022.06.20</td>\n",
       "      <td>67400.0</td>\n",
       "      <td>2200.0</td>\n",
       "      <td>69800.0</td>\n",
       "      <td>70600.0</td>\n",
       "      <td>66300.0</td>\n",
       "      <td>154629.0</td>\n",
       "    </tr>\n",
       "    <tr>\n",
       "      <th>4</th>\n",
       "      <td>2022.06.17</td>\n",
       "      <td>69600.0</td>\n",
       "      <td>1000.0</td>\n",
       "      <td>67200.0</td>\n",
       "      <td>70900.0</td>\n",
       "      <td>67200.0</td>\n",
       "      <td>206494.0</td>\n",
       "    </tr>\n",
       "    <tr>\n",
       "      <th>5</th>\n",
       "      <td>2022.06.16</td>\n",
       "      <td>70600.0</td>\n",
       "      <td>500.0</td>\n",
       "      <td>72200.0</td>\n",
       "      <td>72900.0</td>\n",
       "      <td>70200.0</td>\n",
       "      <td>122069.0</td>\n",
       "    </tr>\n",
       "  </tbody>\n",
       "</table>\n",
       "</div>"
      ],
      "text/plain": [
       "           날짜       종가     전일비       시가       고가       저가       거래량\n",
       "1  2022.06.22  70400.0   100.0  70200.0  72100.0  69700.0  100775.0\n",
       "2  2022.06.21  70500.0  3100.0  67400.0  70800.0  67300.0  117753.0\n",
       "3  2022.06.20  67400.0  2200.0  69800.0  70600.0  66300.0  154629.0\n",
       "4  2022.06.17  69600.0  1000.0  67200.0  70900.0  67200.0  206494.0\n",
       "5  2022.06.16  70600.0   500.0  72200.0  72900.0  70200.0  122069.0"
      ]
     },
     "execution_count": 18,
     "metadata": {},
     "output_type": "execute_result"
    }
   ],
   "source": [
    "# head와 tail로 데이터의 일부를 가져와서 봅니다.\n",
    "df.head()"
   ]
  },
  {
   "cell_type": "code",
   "execution_count": 19,
   "metadata": {
    "id": "hHcKUo8iTMkA"
   },
   "outputs": [
    {
     "data": {
      "text/html": [
       "<div>\n",
       "<style scoped>\n",
       "    .dataframe tbody tr th:only-of-type {\n",
       "        vertical-align: middle;\n",
       "    }\n",
       "\n",
       "    .dataframe tbody tr th {\n",
       "        vertical-align: top;\n",
       "    }\n",
       "\n",
       "    .dataframe thead th {\n",
       "        text-align: right;\n",
       "    }\n",
       "</style>\n",
       "<table border=\"1\" class=\"dataframe\">\n",
       "  <thead>\n",
       "    <tr style=\"text-align: right;\">\n",
       "      <th></th>\n",
       "      <th>날짜</th>\n",
       "      <th>종가</th>\n",
       "      <th>전일비</th>\n",
       "      <th>시가</th>\n",
       "      <th>고가</th>\n",
       "      <th>저가</th>\n",
       "      <th>거래량</th>\n",
       "    </tr>\n",
       "  </thead>\n",
       "  <tbody>\n",
       "    <tr>\n",
       "      <th>9</th>\n",
       "      <td>2022.01.28</td>\n",
       "      <td>75800.0</td>\n",
       "      <td>2600.0</td>\n",
       "      <td>73400.0</td>\n",
       "      <td>76500.0</td>\n",
       "      <td>73100.0</td>\n",
       "      <td>189184.0</td>\n",
       "    </tr>\n",
       "    <tr>\n",
       "      <th>10</th>\n",
       "      <td>2022.01.27</td>\n",
       "      <td>73200.0</td>\n",
       "      <td>5100.0</td>\n",
       "      <td>78300.0</td>\n",
       "      <td>78600.0</td>\n",
       "      <td>73000.0</td>\n",
       "      <td>354564.0</td>\n",
       "    </tr>\n",
       "    <tr>\n",
       "      <th>11</th>\n",
       "      <td>2022.01.26</td>\n",
       "      <td>78300.0</td>\n",
       "      <td>1300.0</td>\n",
       "      <td>79100.0</td>\n",
       "      <td>80900.0</td>\n",
       "      <td>78000.0</td>\n",
       "      <td>154140.0</td>\n",
       "    </tr>\n",
       "    <tr>\n",
       "      <th>12</th>\n",
       "      <td>2022.01.25</td>\n",
       "      <td>79600.0</td>\n",
       "      <td>3500.0</td>\n",
       "      <td>83200.0</td>\n",
       "      <td>83600.0</td>\n",
       "      <td>79100.0</td>\n",
       "      <td>268615.0</td>\n",
       "    </tr>\n",
       "    <tr>\n",
       "      <th>13</th>\n",
       "      <td>2022.01.24</td>\n",
       "      <td>83100.0</td>\n",
       "      <td>2100.0</td>\n",
       "      <td>84800.0</td>\n",
       "      <td>85500.0</td>\n",
       "      <td>82800.0</td>\n",
       "      <td>152840.0</td>\n",
       "    </tr>\n",
       "  </tbody>\n",
       "</table>\n",
       "</div>"
      ],
      "text/plain": [
       "            날짜       종가     전일비       시가       고가       저가       거래량\n",
       "9   2022.01.28  75800.0  2600.0  73400.0  76500.0  73100.0  189184.0\n",
       "10  2022.01.27  73200.0  5100.0  78300.0  78600.0  73000.0  354564.0\n",
       "11  2022.01.26  78300.0  1300.0  79100.0  80900.0  78000.0  154140.0\n",
       "12  2022.01.25  79600.0  3500.0  83200.0  83600.0  79100.0  268615.0\n",
       "13  2022.01.24  83100.0  2100.0  84800.0  85500.0  82800.0  152840.0"
      ]
     },
     "execution_count": 19,
     "metadata": {},
     "output_type": "execute_result"
    }
   ],
   "source": [
    "df.tail()"
   ]
  },
  {
   "cell_type": "markdown",
   "metadata": {
    "id": "DdML6w8yTMkA"
   },
   "source": [
    "## 데이터프레임에 종목코드와 종목명을 추가하기\n",
    "* 파생변수 만들기"
   ]
  },
  {
   "cell_type": "code",
   "execution_count": 20,
   "metadata": {
    "id": "-yIDnlZHTMkA"
   },
   "outputs": [
    {
     "data": {
      "text/html": [
       "<div>\n",
       "<style scoped>\n",
       "    .dataframe tbody tr th:only-of-type {\n",
       "        vertical-align: middle;\n",
       "    }\n",
       "\n",
       "    .dataframe tbody tr th {\n",
       "        vertical-align: top;\n",
       "    }\n",
       "\n",
       "    .dataframe thead th {\n",
       "        text-align: right;\n",
       "    }\n",
       "</style>\n",
       "<table border=\"1\" class=\"dataframe\">\n",
       "  <thead>\n",
       "    <tr style=\"text-align: right;\">\n",
       "      <th></th>\n",
       "      <th>날짜</th>\n",
       "      <th>종가</th>\n",
       "      <th>전일비</th>\n",
       "      <th>시가</th>\n",
       "      <th>고가</th>\n",
       "      <th>저가</th>\n",
       "      <th>거래량</th>\n",
       "      <th>종목코드</th>\n",
       "      <th>종목명</th>\n",
       "    </tr>\n",
       "  </thead>\n",
       "  <tbody>\n",
       "    <tr>\n",
       "      <th>1</th>\n",
       "      <td>2022.06.22</td>\n",
       "      <td>70400.0</td>\n",
       "      <td>100.0</td>\n",
       "      <td>70200.0</td>\n",
       "      <td>72100.0</td>\n",
       "      <td>69700.0</td>\n",
       "      <td>100775.0</td>\n",
       "      <td>326030</td>\n",
       "      <td>SK바이오팜</td>\n",
       "    </tr>\n",
       "    <tr>\n",
       "      <th>2</th>\n",
       "      <td>2022.06.21</td>\n",
       "      <td>70500.0</td>\n",
       "      <td>3100.0</td>\n",
       "      <td>67400.0</td>\n",
       "      <td>70800.0</td>\n",
       "      <td>67300.0</td>\n",
       "      <td>117753.0</td>\n",
       "      <td>326030</td>\n",
       "      <td>SK바이오팜</td>\n",
       "    </tr>\n",
       "    <tr>\n",
       "      <th>3</th>\n",
       "      <td>2022.06.20</td>\n",
       "      <td>67400.0</td>\n",
       "      <td>2200.0</td>\n",
       "      <td>69800.0</td>\n",
       "      <td>70600.0</td>\n",
       "      <td>66300.0</td>\n",
       "      <td>154629.0</td>\n",
       "      <td>326030</td>\n",
       "      <td>SK바이오팜</td>\n",
       "    </tr>\n",
       "    <tr>\n",
       "      <th>4</th>\n",
       "      <td>2022.06.17</td>\n",
       "      <td>69600.0</td>\n",
       "      <td>1000.0</td>\n",
       "      <td>67200.0</td>\n",
       "      <td>70900.0</td>\n",
       "      <td>67200.0</td>\n",
       "      <td>206494.0</td>\n",
       "      <td>326030</td>\n",
       "      <td>SK바이오팜</td>\n",
       "    </tr>\n",
       "    <tr>\n",
       "      <th>5</th>\n",
       "      <td>2022.06.16</td>\n",
       "      <td>70600.0</td>\n",
       "      <td>500.0</td>\n",
       "      <td>72200.0</td>\n",
       "      <td>72900.0</td>\n",
       "      <td>70200.0</td>\n",
       "      <td>122069.0</td>\n",
       "      <td>326030</td>\n",
       "      <td>SK바이오팜</td>\n",
       "    </tr>\n",
       "    <tr>\n",
       "      <th>...</th>\n",
       "      <td>...</td>\n",
       "      <td>...</td>\n",
       "      <td>...</td>\n",
       "      <td>...</td>\n",
       "      <td>...</td>\n",
       "      <td>...</td>\n",
       "      <td>...</td>\n",
       "      <td>...</td>\n",
       "      <td>...</td>\n",
       "    </tr>\n",
       "    <tr>\n",
       "      <th>9</th>\n",
       "      <td>2022.01.28</td>\n",
       "      <td>75800.0</td>\n",
       "      <td>2600.0</td>\n",
       "      <td>73400.0</td>\n",
       "      <td>76500.0</td>\n",
       "      <td>73100.0</td>\n",
       "      <td>189184.0</td>\n",
       "      <td>326030</td>\n",
       "      <td>SK바이오팜</td>\n",
       "    </tr>\n",
       "    <tr>\n",
       "      <th>10</th>\n",
       "      <td>2022.01.27</td>\n",
       "      <td>73200.0</td>\n",
       "      <td>5100.0</td>\n",
       "      <td>78300.0</td>\n",
       "      <td>78600.0</td>\n",
       "      <td>73000.0</td>\n",
       "      <td>354564.0</td>\n",
       "      <td>326030</td>\n",
       "      <td>SK바이오팜</td>\n",
       "    </tr>\n",
       "    <tr>\n",
       "      <th>11</th>\n",
       "      <td>2022.01.26</td>\n",
       "      <td>78300.0</td>\n",
       "      <td>1300.0</td>\n",
       "      <td>79100.0</td>\n",
       "      <td>80900.0</td>\n",
       "      <td>78000.0</td>\n",
       "      <td>154140.0</td>\n",
       "      <td>326030</td>\n",
       "      <td>SK바이오팜</td>\n",
       "    </tr>\n",
       "    <tr>\n",
       "      <th>12</th>\n",
       "      <td>2022.01.25</td>\n",
       "      <td>79600.0</td>\n",
       "      <td>3500.0</td>\n",
       "      <td>83200.0</td>\n",
       "      <td>83600.0</td>\n",
       "      <td>79100.0</td>\n",
       "      <td>268615.0</td>\n",
       "      <td>326030</td>\n",
       "      <td>SK바이오팜</td>\n",
       "    </tr>\n",
       "    <tr>\n",
       "      <th>13</th>\n",
       "      <td>2022.01.24</td>\n",
       "      <td>83100.0</td>\n",
       "      <td>2100.0</td>\n",
       "      <td>84800.0</td>\n",
       "      <td>85500.0</td>\n",
       "      <td>82800.0</td>\n",
       "      <td>152840.0</td>\n",
       "      <td>326030</td>\n",
       "      <td>SK바이오팜</td>\n",
       "    </tr>\n",
       "  </tbody>\n",
       "</table>\n",
       "<p>100 rows × 9 columns</p>\n",
       "</div>"
      ],
      "text/plain": [
       "            날짜       종가     전일비       시가       고가       저가       거래량    종목코드  \\\n",
       "1   2022.06.22  70400.0   100.0  70200.0  72100.0  69700.0  100775.0  326030   \n",
       "2   2022.06.21  70500.0  3100.0  67400.0  70800.0  67300.0  117753.0  326030   \n",
       "3   2022.06.20  67400.0  2200.0  69800.0  70600.0  66300.0  154629.0  326030   \n",
       "4   2022.06.17  69600.0  1000.0  67200.0  70900.0  67200.0  206494.0  326030   \n",
       "5   2022.06.16  70600.0   500.0  72200.0  72900.0  70200.0  122069.0  326030   \n",
       "..         ...      ...     ...      ...      ...      ...       ...     ...   \n",
       "9   2022.01.28  75800.0  2600.0  73400.0  76500.0  73100.0  189184.0  326030   \n",
       "10  2022.01.27  73200.0  5100.0  78300.0  78600.0  73000.0  354564.0  326030   \n",
       "11  2022.01.26  78300.0  1300.0  79100.0  80900.0  78000.0  154140.0  326030   \n",
       "12  2022.01.25  79600.0  3500.0  83200.0  83600.0  79100.0  268615.0  326030   \n",
       "13  2022.01.24  83100.0  2100.0  84800.0  85500.0  82800.0  152840.0  326030   \n",
       "\n",
       "       종목명  \n",
       "1   SK바이오팜  \n",
       "2   SK바이오팜  \n",
       "3   SK바이오팜  \n",
       "4   SK바이오팜  \n",
       "5   SK바이오팜  \n",
       "..     ...  \n",
       "9   SK바이오팜  \n",
       "10  SK바이오팜  \n",
       "11  SK바이오팜  \n",
       "12  SK바이오팜  \n",
       "13  SK바이오팜  \n",
       "\n",
       "[100 rows x 9 columns]"
      ]
     },
     "execution_count": 20,
     "metadata": {},
     "output_type": "execute_result"
    }
   ],
   "source": [
    "# '종목코드'와 '종목명' column을 추가하면서 각각 item_code와 item_name 값을 입력합니다.\n",
    "df[\"종목코드\"] = item_code\n",
    "df[\"종목명\"] = item_name\n",
    "df"
   ]
  },
  {
   "cell_type": "code",
   "execution_count": null,
   "metadata": {
    "id": "bwDA0C4PTMkA"
   },
   "outputs": [],
   "source": []
  },
  {
   "cell_type": "markdown",
   "metadata": {
    "id": "3RlnKPE1TMkA"
   },
   "source": [
    "## 컬럼 순서 변경하기"
   ]
  },
  {
   "cell_type": "code",
   "execution_count": 21,
   "metadata": {
    "id": "JblNSbuRTMkA"
   },
   "outputs": [
    {
     "data": {
      "text/plain": [
       "Index(['날짜', '종가', '전일비', '시가', '고가', '저가', '거래량', '종목코드', '종목명'], dtype='object')"
      ]
     },
     "execution_count": 21,
     "metadata": {},
     "output_type": "execute_result"
    }
   ],
   "source": [
    "# DataFrame에서 column 들의 이름을 순서를 조정하여 column순서를 변경할 수 있습니다.\n",
    "df.columns"
   ]
  },
  {
   "cell_type": "code",
   "execution_count": 22,
   "metadata": {},
   "outputs": [],
   "source": [
    "cols = ['종목코드', '종목명', '날짜', '종가', '전일비', '시가', '고가', '저가', '거래량']\n",
    "df = df[cols]"
   ]
  },
  {
   "cell_type": "markdown",
   "metadata": {
    "id": "_-SXjeiSTMkA"
   },
   "source": [
    "## 중복데이터 제거하기\n",
    "* drop_duplicates 를 통해 중복된 데이터가 있다면 제거합니다."
   ]
  },
  {
   "cell_type": "code",
   "execution_count": 23,
   "metadata": {},
   "outputs": [
    {
     "data": {
      "text/plain": [
       "(100, 9)"
      ]
     },
     "execution_count": 23,
     "metadata": {},
     "output_type": "execute_result"
    }
   ],
   "source": [
    "df.shape"
   ]
  },
  {
   "cell_type": "code",
   "execution_count": 24,
   "metadata": {
    "id": "F0VZGMNRTMkA"
   },
   "outputs": [
    {
     "data": {
      "text/plain": [
       "(100, 9)"
      ]
     },
     "execution_count": 24,
     "metadata": {},
     "output_type": "execute_result"
    }
   ],
   "source": [
    "# drop_duplicates : row들 끼리 data를 비교하여 같은 값이 있으면 row중 하나를 삭제\n",
    "# df.shape를 전/후로 출력하여 삭제된 row가 있는지 확인\n",
    "df = df.drop_duplicates()\n",
    "df.shape"
   ]
  },
  {
   "cell_type": "markdown",
   "metadata": {
    "id": "viEbEi4iTMkB"
   },
   "source": [
    "## 기술통계값 구하기"
   ]
  },
  {
   "cell_type": "code",
   "execution_count": 25,
   "metadata": {
    "id": "Q-gV-QPPTMkB"
   },
   "outputs": [
    {
     "data": {
      "text/html": [
       "<div>\n",
       "<style scoped>\n",
       "    .dataframe tbody tr th:only-of-type {\n",
       "        vertical-align: middle;\n",
       "    }\n",
       "\n",
       "    .dataframe tbody tr th {\n",
       "        vertical-align: top;\n",
       "    }\n",
       "\n",
       "    .dataframe thead th {\n",
       "        text-align: right;\n",
       "    }\n",
       "</style>\n",
       "<table border=\"1\" class=\"dataframe\">\n",
       "  <thead>\n",
       "    <tr style=\"text-align: right;\">\n",
       "      <th></th>\n",
       "      <th>종가</th>\n",
       "      <th>전일비</th>\n",
       "      <th>시가</th>\n",
       "      <th>고가</th>\n",
       "      <th>저가</th>\n",
       "      <th>거래량</th>\n",
       "    </tr>\n",
       "  </thead>\n",
       "  <tbody>\n",
       "    <tr>\n",
       "      <th>count</th>\n",
       "      <td>100.000000</td>\n",
       "      <td>100.000000</td>\n",
       "      <td>100.000000</td>\n",
       "      <td>100.000000</td>\n",
       "      <td>100.000000</td>\n",
       "      <td>100.000000</td>\n",
       "    </tr>\n",
       "    <tr>\n",
       "      <th>mean</th>\n",
       "      <td>84639.000000</td>\n",
       "      <td>1442.000000</td>\n",
       "      <td>84584.000000</td>\n",
       "      <td>85898.000000</td>\n",
       "      <td>83433.000000</td>\n",
       "      <td>142817.350000</td>\n",
       "    </tr>\n",
       "    <tr>\n",
       "      <th>std</th>\n",
       "      <td>5828.281709</td>\n",
       "      <td>1272.250849</td>\n",
       "      <td>5753.693939</td>\n",
       "      <td>5452.883215</td>\n",
       "      <td>5869.198059</td>\n",
       "      <td>98415.212639</td>\n",
       "    </tr>\n",
       "    <tr>\n",
       "      <th>min</th>\n",
       "      <td>67400.000000</td>\n",
       "      <td>0.000000</td>\n",
       "      <td>67200.000000</td>\n",
       "      <td>70600.000000</td>\n",
       "      <td>66300.000000</td>\n",
       "      <td>50318.000000</td>\n",
       "    </tr>\n",
       "    <tr>\n",
       "      <th>25%</th>\n",
       "      <td>80650.000000</td>\n",
       "      <td>475.000000</td>\n",
       "      <td>81150.000000</td>\n",
       "      <td>82575.000000</td>\n",
       "      <td>79175.000000</td>\n",
       "      <td>90578.250000</td>\n",
       "    </tr>\n",
       "    <tr>\n",
       "      <th>50%</th>\n",
       "      <td>86600.000000</td>\n",
       "      <td>1100.000000</td>\n",
       "      <td>86500.000000</td>\n",
       "      <td>87800.000000</td>\n",
       "      <td>85400.000000</td>\n",
       "      <td>113243.500000</td>\n",
       "    </tr>\n",
       "    <tr>\n",
       "      <th>75%</th>\n",
       "      <td>88725.000000</td>\n",
       "      <td>1900.000000</td>\n",
       "      <td>88425.000000</td>\n",
       "      <td>89325.000000</td>\n",
       "      <td>87525.000000</td>\n",
       "      <td>158365.750000</td>\n",
       "    </tr>\n",
       "    <tr>\n",
       "      <th>max</th>\n",
       "      <td>93100.000000</td>\n",
       "      <td>6900.000000</td>\n",
       "      <td>92800.000000</td>\n",
       "      <td>94300.000000</td>\n",
       "      <td>91400.000000</td>\n",
       "      <td>715346.000000</td>\n",
       "    </tr>\n",
       "  </tbody>\n",
       "</table>\n",
       "</div>"
      ],
      "text/plain": [
       "                 종가          전일비            시가            고가            저가  \\\n",
       "count    100.000000   100.000000    100.000000    100.000000    100.000000   \n",
       "mean   84639.000000  1442.000000  84584.000000  85898.000000  83433.000000   \n",
       "std     5828.281709  1272.250849   5753.693939   5452.883215   5869.198059   \n",
       "min    67400.000000     0.000000  67200.000000  70600.000000  66300.000000   \n",
       "25%    80650.000000   475.000000  81150.000000  82575.000000  79175.000000   \n",
       "50%    86600.000000  1100.000000  86500.000000  87800.000000  85400.000000   \n",
       "75%    88725.000000  1900.000000  88425.000000  89325.000000  87525.000000   \n",
       "max    93100.000000  6900.000000  92800.000000  94300.000000  91400.000000   \n",
       "\n",
       "                 거래량  \n",
       "count     100.000000  \n",
       "mean   142817.350000  \n",
       "std     98415.212639  \n",
       "min     50318.000000  \n",
       "25%     90578.250000  \n",
       "50%    113243.500000  \n",
       "75%    158365.750000  \n",
       "max    715346.000000  "
      ]
     },
     "execution_count": 25,
     "metadata": {},
     "output_type": "execute_result"
    }
   ],
   "source": [
    "# describe는 기본적으로 수치데이터에 대한 기술통계값을 구하게 됩니다.\n",
    "df.describe()"
   ]
  },
  {
   "cell_type": "code",
   "execution_count": 42,
   "metadata": {},
   "outputs": [
    {
     "data": {
      "text/html": [
       "<div>\n",
       "<style scoped>\n",
       "    .dataframe tbody tr th:only-of-type {\n",
       "        vertical-align: middle;\n",
       "    }\n",
       "\n",
       "    .dataframe tbody tr th {\n",
       "        vertical-align: top;\n",
       "    }\n",
       "\n",
       "    .dataframe thead th {\n",
       "        text-align: right;\n",
       "    }\n",
       "</style>\n",
       "<table border=\"1\" class=\"dataframe\">\n",
       "  <thead>\n",
       "    <tr style=\"text-align: right;\">\n",
       "      <th></th>\n",
       "      <th>종가</th>\n",
       "      <th>전일비</th>\n",
       "      <th>시가</th>\n",
       "      <th>고가</th>\n",
       "      <th>저가</th>\n",
       "      <th>거래량</th>\n",
       "    </tr>\n",
       "  </thead>\n",
       "  <tbody>\n",
       "    <tr>\n",
       "      <th>count</th>\n",
       "      <td>100.00</td>\n",
       "      <td>100.00</td>\n",
       "      <td>100.00</td>\n",
       "      <td>100.00</td>\n",
       "      <td>100.00</td>\n",
       "      <td>100.00</td>\n",
       "    </tr>\n",
       "    <tr>\n",
       "      <th>mean</th>\n",
       "      <td>84639.00</td>\n",
       "      <td>1442.00</td>\n",
       "      <td>84584.00</td>\n",
       "      <td>85898.00</td>\n",
       "      <td>83433.00</td>\n",
       "      <td>142817.35</td>\n",
       "    </tr>\n",
       "    <tr>\n",
       "      <th>std</th>\n",
       "      <td>5828.28</td>\n",
       "      <td>1272.25</td>\n",
       "      <td>5753.69</td>\n",
       "      <td>5452.88</td>\n",
       "      <td>5869.20</td>\n",
       "      <td>98415.21</td>\n",
       "    </tr>\n",
       "    <tr>\n",
       "      <th>min</th>\n",
       "      <td>67400.00</td>\n",
       "      <td>0.00</td>\n",
       "      <td>67200.00</td>\n",
       "      <td>70600.00</td>\n",
       "      <td>66300.00</td>\n",
       "      <td>50318.00</td>\n",
       "    </tr>\n",
       "    <tr>\n",
       "      <th>25%</th>\n",
       "      <td>80650.00</td>\n",
       "      <td>475.00</td>\n",
       "      <td>81150.00</td>\n",
       "      <td>82575.00</td>\n",
       "      <td>79175.00</td>\n",
       "      <td>90578.25</td>\n",
       "    </tr>\n",
       "    <tr>\n",
       "      <th>50%</th>\n",
       "      <td>86600.00</td>\n",
       "      <td>1100.00</td>\n",
       "      <td>86500.00</td>\n",
       "      <td>87800.00</td>\n",
       "      <td>85400.00</td>\n",
       "      <td>113243.50</td>\n",
       "    </tr>\n",
       "    <tr>\n",
       "      <th>75%</th>\n",
       "      <td>88725.00</td>\n",
       "      <td>1900.00</td>\n",
       "      <td>88425.00</td>\n",
       "      <td>89325.00</td>\n",
       "      <td>87525.00</td>\n",
       "      <td>158365.75</td>\n",
       "    </tr>\n",
       "    <tr>\n",
       "      <th>max</th>\n",
       "      <td>93100.00</td>\n",
       "      <td>6900.00</td>\n",
       "      <td>92800.00</td>\n",
       "      <td>94300.00</td>\n",
       "      <td>91400.00</td>\n",
       "      <td>715346.00</td>\n",
       "    </tr>\n",
       "  </tbody>\n",
       "</table>\n",
       "</div>"
      ],
      "text/plain": [
       "            종가     전일비       시가       고가       저가       거래량\n",
       "count   100.00  100.00   100.00   100.00   100.00    100.00\n",
       "mean  84639.00 1442.00 84584.00 85898.00 83433.00 142817.35\n",
       "std    5828.28 1272.25  5753.69  5452.88  5869.20  98415.21\n",
       "min   67400.00    0.00 67200.00 70600.00 66300.00  50318.00\n",
       "25%   80650.00  475.00 81150.00 82575.00 79175.00  90578.25\n",
       "50%   86600.00 1100.00 86500.00 87800.00 85400.00 113243.50\n",
       "75%   88725.00 1900.00 88425.00 89325.00 87525.00 158365.75\n",
       "max   93100.00 6900.00 92800.00 94300.00 91400.00 715346.00"
      ]
     },
     "execution_count": 42,
     "metadata": {},
     "output_type": "execute_result"
    }
   ],
   "source": [
    "pd.set_option('display.float_format', lambda x: '%.2f' % x)\n",
    "df.describe()"
   ]
  },
  {
   "cell_type": "markdown",
   "metadata": {},
   "source": [
    "* 참고 : E notation\n",
    "[과학적 기수법 - 위키백과, 우리 모두의 백과사전](https://ko.wikipedia.org/wiki/%EA%B3%BC%ED%95%99%EC%A0%81_%EA%B8%B0%EC%88%98%EB%B2%95)\n",
    "\n",
    "과학적 기수법, 과학적 표기법(scientific notation, scientific form, standard index form, standard form)은 너무 크거나 너무 작은 숫자들을 십진법으로 편하게 작성하여 표현하는 방법이다. 과학자, 수학자, 공학자들이 공통적으로 사용하는데, 부분적인 이유는 특정한 산술을 단순화시켜 주기 때문이다. 과학 계산기에서는 \"SCI\" 디스플레이 모드라는 이름으로 알려져 있다."
   ]
  },
  {
   "cell_type": "code",
   "execution_count": 26,
   "metadata": {},
   "outputs": [
    {
     "data": {
      "text/plain": [
       "100.0"
      ]
     },
     "execution_count": 26,
     "metadata": {},
     "output_type": "execute_result"
    }
   ],
   "source": [
    "# 거래량의 과학적 기수법 읽기\n",
    "1.000000e+02"
   ]
  },
  {
   "cell_type": "code",
   "execution_count": 27,
   "metadata": {},
   "outputs": [
    {
     "data": {
      "text/plain": [
       "470152.3"
      ]
     },
     "execution_count": 27,
     "metadata": {},
     "output_type": "execute_result"
    }
   ],
   "source": [
    "4.701523e+05"
   ]
  },
  {
   "cell_type": "code",
   "execution_count": 28,
   "metadata": {},
   "outputs": [
    {
     "data": {
      "text/plain": [
       "470152.3"
      ]
     },
     "execution_count": 28,
     "metadata": {},
     "output_type": "execute_result"
    }
   ],
   "source": [
    "4.701523 * (10 ** 5)"
   ]
  },
  {
   "cell_type": "markdown",
   "metadata": {
    "id": "Ql0phnyuTMkB"
   },
   "source": [
    "## 최근 날짜 구해서 파일명 만들기"
   ]
  },
  {
   "cell_type": "code",
   "execution_count": 32,
   "metadata": {
    "id": "_dyLUpVVTMkB"
   },
   "outputs": [
    {
     "data": {
      "text/plain": [
       "'2022.06.22'"
      ]
     },
     "execution_count": 32,
     "metadata": {},
     "output_type": "execute_result"
    }
   ],
   "source": [
    "# 날짜 column의 첫 row값 확인\n",
    "date = df.iloc[0][\"날짜\"]\n",
    "date"
   ]
  },
  {
   "cell_type": "code",
   "execution_count": 33,
   "metadata": {
    "id": "teInPugvTMkB"
   },
   "outputs": [
    {
     "data": {
      "text/plain": [
       "'SK바이오팜_326030_2022.06.22.csv'"
      ]
     },
     "execution_count": 33,
     "metadata": {},
     "output_type": "execute_result"
    }
   ],
   "source": [
    "# 종목명, 종목코드, 날짜를 이름으로 하는 csv 파일명 만들기\n",
    "file_name = f\"{item_name}_{item_code}_{date}.csv\"\n",
    "file_name"
   ]
  },
  {
   "cell_type": "markdown",
   "metadata": {
    "id": "1LXe-dutTMkB"
   },
   "source": [
    "## 파일로 저장하기"
   ]
  },
  {
   "cell_type": "code",
   "execution_count": 34,
   "metadata": {
    "id": "dBRXOwIxTMkB"
   },
   "outputs": [],
   "source": [
    "# 파일로 저장하기 \n",
    "# index=False 로 데이터프레임의 기본 index 는 저장하지 않도록 합니다.\n",
    "df.to_csv(file_name, index=False)"
   ]
  },
  {
   "cell_type": "code",
   "execution_count": 35,
   "metadata": {
    "id": "EEfm9Yk9TMkB"
   },
   "outputs": [
    {
     "data": {
      "text/html": [
       "<div>\n",
       "<style scoped>\n",
       "    .dataframe tbody tr th:only-of-type {\n",
       "        vertical-align: middle;\n",
       "    }\n",
       "\n",
       "    .dataframe tbody tr th {\n",
       "        vertical-align: top;\n",
       "    }\n",
       "\n",
       "    .dataframe thead th {\n",
       "        text-align: right;\n",
       "    }\n",
       "</style>\n",
       "<table border=\"1\" class=\"dataframe\">\n",
       "  <thead>\n",
       "    <tr style=\"text-align: right;\">\n",
       "      <th></th>\n",
       "      <th>종목코드</th>\n",
       "      <th>종목명</th>\n",
       "      <th>날짜</th>\n",
       "      <th>종가</th>\n",
       "      <th>전일비</th>\n",
       "      <th>시가</th>\n",
       "      <th>고가</th>\n",
       "      <th>저가</th>\n",
       "      <th>거래량</th>\n",
       "    </tr>\n",
       "  </thead>\n",
       "  <tbody>\n",
       "    <tr>\n",
       "      <th>0</th>\n",
       "      <td>326030</td>\n",
       "      <td>SK바이오팜</td>\n",
       "      <td>2022.06.22</td>\n",
       "      <td>70400.0</td>\n",
       "      <td>100.0</td>\n",
       "      <td>70200.0</td>\n",
       "      <td>72100.0</td>\n",
       "      <td>69700.0</td>\n",
       "      <td>100775.0</td>\n",
       "    </tr>\n",
       "    <tr>\n",
       "      <th>1</th>\n",
       "      <td>326030</td>\n",
       "      <td>SK바이오팜</td>\n",
       "      <td>2022.06.21</td>\n",
       "      <td>70500.0</td>\n",
       "      <td>3100.0</td>\n",
       "      <td>67400.0</td>\n",
       "      <td>70800.0</td>\n",
       "      <td>67300.0</td>\n",
       "      <td>117753.0</td>\n",
       "    </tr>\n",
       "    <tr>\n",
       "      <th>2</th>\n",
       "      <td>326030</td>\n",
       "      <td>SK바이오팜</td>\n",
       "      <td>2022.06.20</td>\n",
       "      <td>67400.0</td>\n",
       "      <td>2200.0</td>\n",
       "      <td>69800.0</td>\n",
       "      <td>70600.0</td>\n",
       "      <td>66300.0</td>\n",
       "      <td>154629.0</td>\n",
       "    </tr>\n",
       "    <tr>\n",
       "      <th>3</th>\n",
       "      <td>326030</td>\n",
       "      <td>SK바이오팜</td>\n",
       "      <td>2022.06.17</td>\n",
       "      <td>69600.0</td>\n",
       "      <td>1000.0</td>\n",
       "      <td>67200.0</td>\n",
       "      <td>70900.0</td>\n",
       "      <td>67200.0</td>\n",
       "      <td>206494.0</td>\n",
       "    </tr>\n",
       "    <tr>\n",
       "      <th>4</th>\n",
       "      <td>326030</td>\n",
       "      <td>SK바이오팜</td>\n",
       "      <td>2022.06.16</td>\n",
       "      <td>70600.0</td>\n",
       "      <td>500.0</td>\n",
       "      <td>72200.0</td>\n",
       "      <td>72900.0</td>\n",
       "      <td>70200.0</td>\n",
       "      <td>122069.0</td>\n",
       "    </tr>\n",
       "    <tr>\n",
       "      <th>...</th>\n",
       "      <td>...</td>\n",
       "      <td>...</td>\n",
       "      <td>...</td>\n",
       "      <td>...</td>\n",
       "      <td>...</td>\n",
       "      <td>...</td>\n",
       "      <td>...</td>\n",
       "      <td>...</td>\n",
       "      <td>...</td>\n",
       "    </tr>\n",
       "    <tr>\n",
       "      <th>95</th>\n",
       "      <td>326030</td>\n",
       "      <td>SK바이오팜</td>\n",
       "      <td>2022.01.28</td>\n",
       "      <td>75800.0</td>\n",
       "      <td>2600.0</td>\n",
       "      <td>73400.0</td>\n",
       "      <td>76500.0</td>\n",
       "      <td>73100.0</td>\n",
       "      <td>189184.0</td>\n",
       "    </tr>\n",
       "    <tr>\n",
       "      <th>96</th>\n",
       "      <td>326030</td>\n",
       "      <td>SK바이오팜</td>\n",
       "      <td>2022.01.27</td>\n",
       "      <td>73200.0</td>\n",
       "      <td>5100.0</td>\n",
       "      <td>78300.0</td>\n",
       "      <td>78600.0</td>\n",
       "      <td>73000.0</td>\n",
       "      <td>354564.0</td>\n",
       "    </tr>\n",
       "    <tr>\n",
       "      <th>97</th>\n",
       "      <td>326030</td>\n",
       "      <td>SK바이오팜</td>\n",
       "      <td>2022.01.26</td>\n",
       "      <td>78300.0</td>\n",
       "      <td>1300.0</td>\n",
       "      <td>79100.0</td>\n",
       "      <td>80900.0</td>\n",
       "      <td>78000.0</td>\n",
       "      <td>154140.0</td>\n",
       "    </tr>\n",
       "    <tr>\n",
       "      <th>98</th>\n",
       "      <td>326030</td>\n",
       "      <td>SK바이오팜</td>\n",
       "      <td>2022.01.25</td>\n",
       "      <td>79600.0</td>\n",
       "      <td>3500.0</td>\n",
       "      <td>83200.0</td>\n",
       "      <td>83600.0</td>\n",
       "      <td>79100.0</td>\n",
       "      <td>268615.0</td>\n",
       "    </tr>\n",
       "    <tr>\n",
       "      <th>99</th>\n",
       "      <td>326030</td>\n",
       "      <td>SK바이오팜</td>\n",
       "      <td>2022.01.24</td>\n",
       "      <td>83100.0</td>\n",
       "      <td>2100.0</td>\n",
       "      <td>84800.0</td>\n",
       "      <td>85500.0</td>\n",
       "      <td>82800.0</td>\n",
       "      <td>152840.0</td>\n",
       "    </tr>\n",
       "  </tbody>\n",
       "</table>\n",
       "<p>100 rows × 9 columns</p>\n",
       "</div>"
      ],
      "text/plain": [
       "      종목코드     종목명          날짜       종가     전일비       시가       고가       저가  \\\n",
       "0   326030  SK바이오팜  2022.06.22  70400.0   100.0  70200.0  72100.0  69700.0   \n",
       "1   326030  SK바이오팜  2022.06.21  70500.0  3100.0  67400.0  70800.0  67300.0   \n",
       "2   326030  SK바이오팜  2022.06.20  67400.0  2200.0  69800.0  70600.0  66300.0   \n",
       "3   326030  SK바이오팜  2022.06.17  69600.0  1000.0  67200.0  70900.0  67200.0   \n",
       "4   326030  SK바이오팜  2022.06.16  70600.0   500.0  72200.0  72900.0  70200.0   \n",
       "..     ...     ...         ...      ...     ...      ...      ...      ...   \n",
       "95  326030  SK바이오팜  2022.01.28  75800.0  2600.0  73400.0  76500.0  73100.0   \n",
       "96  326030  SK바이오팜  2022.01.27  73200.0  5100.0  78300.0  78600.0  73000.0   \n",
       "97  326030  SK바이오팜  2022.01.26  78300.0  1300.0  79100.0  80900.0  78000.0   \n",
       "98  326030  SK바이오팜  2022.01.25  79600.0  3500.0  83200.0  83600.0  79100.0   \n",
       "99  326030  SK바이오팜  2022.01.24  83100.0  2100.0  84800.0  85500.0  82800.0   \n",
       "\n",
       "         거래량  \n",
       "0   100775.0  \n",
       "1   117753.0  \n",
       "2   154629.0  \n",
       "3   206494.0  \n",
       "4   122069.0  \n",
       "..       ...  \n",
       "95  189184.0  \n",
       "96  354564.0  \n",
       "97  154140.0  \n",
       "98  268615.0  \n",
       "99  152840.0  \n",
       "\n",
       "[100 rows x 9 columns]"
      ]
     },
     "execution_count": 35,
     "metadata": {},
     "output_type": "execute_result"
    }
   ],
   "source": [
    "# 제대로 저장되었는지 파일을 읽어서 확인합니다.\n",
    "pd.read_csv(file_name)"
   ]
  },
  {
   "cell_type": "markdown",
   "metadata": {},
   "source": [
    "## 전체 과정을 하나의 함수로 만들기"
   ]
  },
  {
   "cell_type": "code",
   "execution_count": 37,
   "metadata": {},
   "outputs": [],
   "source": [
    "def get_item_list(item_code, item_name):\n",
    "    \"\"\"\n",
    "    일별 시세를 수집하는 함수\n",
    "    \"\"\"\n",
    "    # web page 시작번호\n",
    "    page_no = 1\n",
    "    # 데이터를 저장할 빈 변수 선언\n",
    "    item_list = []\n",
    "\n",
    "    while True:\n",
    "        temp = get_day_list(item_code, page_no)\n",
    "        item_list.append(temp)\n",
    "\n",
    "        page_no = page_no + 1\n",
    "        time.sleep(0.1)\n",
    "\n",
    "        #if temp.shape[0] < 10:\n",
    "        if page_no > 10:\n",
    "            break\n",
    "            \n",
    "    df = pd.concat(item_list)\n",
    "    df[\"종목코드\"] = item_code\n",
    "    df[\"종목명\"] = item_name\n",
    "    cols = ['종목코드', '종목명', '날짜', '종가', '전일비', '시가', '고가', '저가', '거래량']\n",
    "    df = df[cols]\n",
    "\n",
    "    return df"
   ]
  },
  {
   "cell_type": "code",
   "execution_count": 38,
   "metadata": {},
   "outputs": [
    {
     "data": {
      "text/html": [
       "<div>\n",
       "<style scoped>\n",
       "    .dataframe tbody tr th:only-of-type {\n",
       "        vertical-align: middle;\n",
       "    }\n",
       "\n",
       "    .dataframe tbody tr th {\n",
       "        vertical-align: top;\n",
       "    }\n",
       "\n",
       "    .dataframe thead th {\n",
       "        text-align: right;\n",
       "    }\n",
       "</style>\n",
       "<table border=\"1\" class=\"dataframe\">\n",
       "  <thead>\n",
       "    <tr style=\"text-align: right;\">\n",
       "      <th></th>\n",
       "      <th>종목코드</th>\n",
       "      <th>종목명</th>\n",
       "      <th>날짜</th>\n",
       "      <th>종가</th>\n",
       "      <th>전일비</th>\n",
       "      <th>시가</th>\n",
       "      <th>고가</th>\n",
       "      <th>저가</th>\n",
       "      <th>거래량</th>\n",
       "    </tr>\n",
       "  </thead>\n",
       "  <tbody>\n",
       "    <tr>\n",
       "      <th>1</th>\n",
       "      <td>352820</td>\n",
       "      <td>하이브</td>\n",
       "      <td>2022.06.22</td>\n",
       "      <td>141000.0</td>\n",
       "      <td>8500.0</td>\n",
       "      <td>152000.0</td>\n",
       "      <td>152500.0</td>\n",
       "      <td>140000.0</td>\n",
       "      <td>406203.0</td>\n",
       "    </tr>\n",
       "    <tr>\n",
       "      <th>2</th>\n",
       "      <td>352820</td>\n",
       "      <td>하이브</td>\n",
       "      <td>2022.06.21</td>\n",
       "      <td>149500.0</td>\n",
       "      <td>0.0</td>\n",
       "      <td>150000.0</td>\n",
       "      <td>151500.0</td>\n",
       "      <td>139500.0</td>\n",
       "      <td>506620.0</td>\n",
       "    </tr>\n",
       "    <tr>\n",
       "      <th>3</th>\n",
       "      <td>352820</td>\n",
       "      <td>하이브</td>\n",
       "      <td>2022.06.20</td>\n",
       "      <td>149500.0</td>\n",
       "      <td>1000.0</td>\n",
       "      <td>151500.0</td>\n",
       "      <td>152000.0</td>\n",
       "      <td>145500.0</td>\n",
       "      <td>489287.0</td>\n",
       "    </tr>\n",
       "    <tr>\n",
       "      <th>4</th>\n",
       "      <td>352820</td>\n",
       "      <td>하이브</td>\n",
       "      <td>2022.06.17</td>\n",
       "      <td>148500.0</td>\n",
       "      <td>500.0</td>\n",
       "      <td>141000.0</td>\n",
       "      <td>153000.0</td>\n",
       "      <td>140500.0</td>\n",
       "      <td>879832.0</td>\n",
       "    </tr>\n",
       "    <tr>\n",
       "      <th>5</th>\n",
       "      <td>352820</td>\n",
       "      <td>하이브</td>\n",
       "      <td>2022.06.16</td>\n",
       "      <td>148000.0</td>\n",
       "      <td>3000.0</td>\n",
       "      <td>148000.0</td>\n",
       "      <td>158000.0</td>\n",
       "      <td>139000.0</td>\n",
       "      <td>2713956.0</td>\n",
       "    </tr>\n",
       "    <tr>\n",
       "      <th>...</th>\n",
       "      <td>...</td>\n",
       "      <td>...</td>\n",
       "      <td>...</td>\n",
       "      <td>...</td>\n",
       "      <td>...</td>\n",
       "      <td>...</td>\n",
       "      <td>...</td>\n",
       "      <td>...</td>\n",
       "      <td>...</td>\n",
       "    </tr>\n",
       "    <tr>\n",
       "      <th>9</th>\n",
       "      <td>352820</td>\n",
       "      <td>하이브</td>\n",
       "      <td>2022.01.28</td>\n",
       "      <td>237000.0</td>\n",
       "      <td>4500.0</td>\n",
       "      <td>244500.0</td>\n",
       "      <td>244500.0</td>\n",
       "      <td>229500.0</td>\n",
       "      <td>408005.0</td>\n",
       "    </tr>\n",
       "    <tr>\n",
       "      <th>10</th>\n",
       "      <td>352820</td>\n",
       "      <td>하이브</td>\n",
       "      <td>2022.01.27</td>\n",
       "      <td>241500.0</td>\n",
       "      <td>10000.0</td>\n",
       "      <td>250000.0</td>\n",
       "      <td>255000.0</td>\n",
       "      <td>241500.0</td>\n",
       "      <td>309387.0</td>\n",
       "    </tr>\n",
       "    <tr>\n",
       "      <th>11</th>\n",
       "      <td>352820</td>\n",
       "      <td>하이브</td>\n",
       "      <td>2022.01.26</td>\n",
       "      <td>251500.0</td>\n",
       "      <td>19500.0</td>\n",
       "      <td>271500.0</td>\n",
       "      <td>272500.0</td>\n",
       "      <td>251000.0</td>\n",
       "      <td>430078.0</td>\n",
       "    </tr>\n",
       "    <tr>\n",
       "      <th>12</th>\n",
       "      <td>352820</td>\n",
       "      <td>하이브</td>\n",
       "      <td>2022.01.25</td>\n",
       "      <td>271000.0</td>\n",
       "      <td>6000.0</td>\n",
       "      <td>280000.0</td>\n",
       "      <td>281500.0</td>\n",
       "      <td>269000.0</td>\n",
       "      <td>180016.0</td>\n",
       "    </tr>\n",
       "    <tr>\n",
       "      <th>13</th>\n",
       "      <td>352820</td>\n",
       "      <td>하이브</td>\n",
       "      <td>2022.01.24</td>\n",
       "      <td>277000.0</td>\n",
       "      <td>8000.0</td>\n",
       "      <td>283500.0</td>\n",
       "      <td>285000.0</td>\n",
       "      <td>275000.0</td>\n",
       "      <td>192988.0</td>\n",
       "    </tr>\n",
       "  </tbody>\n",
       "</table>\n",
       "<p>100 rows × 9 columns</p>\n",
       "</div>"
      ],
      "text/plain": [
       "      종목코드  종목명          날짜        종가      전일비        시가        고가        저가  \\\n",
       "1   352820  하이브  2022.06.22  141000.0   8500.0  152000.0  152500.0  140000.0   \n",
       "2   352820  하이브  2022.06.21  149500.0      0.0  150000.0  151500.0  139500.0   \n",
       "3   352820  하이브  2022.06.20  149500.0   1000.0  151500.0  152000.0  145500.0   \n",
       "4   352820  하이브  2022.06.17  148500.0    500.0  141000.0  153000.0  140500.0   \n",
       "5   352820  하이브  2022.06.16  148000.0   3000.0  148000.0  158000.0  139000.0   \n",
       "..     ...  ...         ...       ...      ...       ...       ...       ...   \n",
       "9   352820  하이브  2022.01.28  237000.0   4500.0  244500.0  244500.0  229500.0   \n",
       "10  352820  하이브  2022.01.27  241500.0  10000.0  250000.0  255000.0  241500.0   \n",
       "11  352820  하이브  2022.01.26  251500.0  19500.0  271500.0  272500.0  251000.0   \n",
       "12  352820  하이브  2022.01.25  271000.0   6000.0  280000.0  281500.0  269000.0   \n",
       "13  352820  하이브  2022.01.24  277000.0   8000.0  283500.0  285000.0  275000.0   \n",
       "\n",
       "          거래량  \n",
       "1    406203.0  \n",
       "2    506620.0  \n",
       "3    489287.0  \n",
       "4    879832.0  \n",
       "5   2713956.0  \n",
       "..        ...  \n",
       "9    408005.0  \n",
       "10   309387.0  \n",
       "11   430078.0  \n",
       "12   180016.0  \n",
       "13   192988.0  \n",
       "\n",
       "[100 rows x 9 columns]"
      ]
     },
     "execution_count": 38,
     "metadata": {},
     "output_type": "execute_result"
    }
   ],
   "source": [
    "item_code = \"352820\"\n",
    "item_name = \"하이브\"\n",
    "# 빅히트의 사명이 하이브로 변경되었습니다.\n",
    "\n",
    "# item_code = \"326030\"\n",
    "# item_name = \"SK바이오팜\"\n",
    "\n",
    "get_item_list(item_code, item_name)"
   ]
  },
  {
   "cell_type": "markdown",
   "metadata": {},
   "source": [
    "## 내가 만든 함수의 기능과 소스코드가 궁금하다면?"
   ]
  },
  {
   "cell_type": "code",
   "execution_count": 39,
   "metadata": {},
   "outputs": [],
   "source": [
    "# 도움말 보기\n",
    "get_item_list?\n"
   ]
  },
  {
   "cell_type": "code",
   "execution_count": 40,
   "metadata": {},
   "outputs": [],
   "source": [
    "# 소스코드 보기\n",
    "get_item_list??\n"
   ]
  },
  {
   "cell_type": "code",
   "execution_count": null,
   "metadata": {},
   "outputs": [],
   "source": []
  }
 ],
 "metadata": {
  "colab": {
   "collapsed_sections": [],
   "name": "3. 네이버금융 개별종목 수집.ipynb",
   "provenance": [],
   "toc_visible": true
  },
  "kernelspec": {
   "display_name": "Python 3 (ipykernel)",
   "language": "python",
   "name": "python3"
  },
  "language_info": {
   "codemirror_mode": {
    "name": "ipython",
    "version": 3
   },
   "file_extension": ".py",
   "mimetype": "text/x-python",
   "name": "python",
   "nbconvert_exporter": "python",
   "pygments_lexer": "ipython3",
   "version": "3.10.4"
  },
  "toc": {
   "base_numbering": 1,
   "nav_menu": {},
   "number_sections": true,
   "sideBar": true,
   "skip_h1_title": false,
   "title_cell": "Table of Contents",
   "title_sidebar": "Contents",
   "toc_cell": false,
   "toc_position": {
    "height": "calc(100% - 180px)",
    "left": "10px",
    "top": "150px",
    "width": "217.797px"
   },
   "toc_section_display": true,
   "toc_window_display": true
  },
  "varInspector": {
   "cols": {
    "lenName": 16,
    "lenType": 16,
    "lenVar": 40
   },
   "kernels_config": {
    "python": {
     "delete_cmd_postfix": "",
     "delete_cmd_prefix": "del ",
     "library": "var_list.py",
     "varRefreshCmd": "print(var_dic_list())"
    },
    "r": {
     "delete_cmd_postfix": ") ",
     "delete_cmd_prefix": "rm(",
     "library": "var_list.r",
     "varRefreshCmd": "cat(var_dic_list()) "
    }
   },
   "types_to_exclude": [
    "module",
    "function",
    "builtin_function_or_method",
    "instance",
    "_Feature"
   ],
   "window_display": false
  }
 },
 "nbformat": 4,
 "nbformat_minor": 1
}

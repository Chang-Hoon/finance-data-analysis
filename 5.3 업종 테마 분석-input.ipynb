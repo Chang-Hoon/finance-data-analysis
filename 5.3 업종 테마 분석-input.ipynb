{
 "cells": [
  {
   "cell_type": "markdown",
   "metadata": {
    "id": "N1aXMBB33W3h"
   },
   "source": [
    "[![Open In Colab](https://colab.research.google.com/assets/colab-badge.svg)](https://colab.research.google.com/github/corazzon/finance-data-analysis/blob/main/5.3%20%EC%97%85%EC%A2%85%20%ED%85%8C%EB%A7%88%20%EB%B6%84%EC%84%9D-input.ipynb)\n",
    "\n",
    "## 업종/테마주 분석\n",
    "\n",
    "* 팀장님이 우리 회사와 유사한 업종과 테마로 사업을 하고 있는 종목을 수집해서 분석해 달라는 미션을 주셨습니다.\n",
    "* 코스피에서 해당 업종 혹은 테마의 시가총액이 가장 많은 종목을 찾아주세요.\n",
    "* 해당 업종/테마의 거래량이 가장 많은 종목을 찾아주세요.\n",
    "* 최근 52주 최고가에서 현재가 기준으로 가장 손실이 크게 난 종목은 어떤 종목일까요?\n",
    "* 거래대금이 20위 안에 있는 코스피 종목 중에 \"PER\"가 가장 낮은 종목은 무엇일까요?\n",
    "* 아래 실습결과에 다른 테마를 적용해 보면 같은 방식으로 여러 테마를 분석해 보실 수 있습니다.\n",
    "\n"
   ]
  },
  {
   "cell_type": "markdown",
   "metadata": {},
   "source": [
    "## 라이브러리 로드"
   ]
  },
  {
   "cell_type": "code",
   "execution_count": 1,
   "metadata": {
    "id": "kgkrSMtY3W3h"
   },
   "outputs": [],
   "source": [
    "import pandas as pd\n",
    "import numpy as np\n",
    "import matplotlib.pyplot as plt\n",
    "import seaborn as sns"
   ]
  },
  {
   "cell_type": "markdown",
   "metadata": {},
   "source": [
    "## 시각화를 위한 한글폰트 설정"
   ]
  },
  {
   "cell_type": "code",
   "execution_count": 2,
   "metadata": {},
   "outputs": [],
   "source": [
    "def get_font_family():\n",
    "    \"\"\"\n",
    "    시스템 환경에 따른 기본 폰트명을 반환하는 함수\n",
    "    \"\"\"\n",
    "    import platform\n",
    "    system_name = platform.system()\n",
    "    # colab 사용자는 system_name이 'Linux'로 확인\n",
    "\n",
    "    if system_name == \"Darwin\" :\n",
    "        font_family = \"AppleGothic\"\n",
    "    elif system_name == \"Windows\":\n",
    "        font_family = \"Malgun Gothic\"\n",
    "    else:\n",
    "        !apt-get install fonts-nanum -qq  > /dev/null\n",
    "        !fc-cache -fv\n",
    "\n",
    "        import matplotlib as mpl\n",
    "        mpl.font_manager._rebuild()\n",
    "        findfont = mpl.font_manager.fontManager.findfont\n",
    "        mpl.font_manager.findfont = findfont\n",
    "        mpl.backends.backend_agg.findfont = findfont\n",
    "        \n",
    "        font_family = \"NanumBarunGothic\"\n",
    "    return font_family"
   ]
  },
  {
   "cell_type": "code",
   "execution_count": 3,
   "metadata": {},
   "outputs": [
    {
     "data": {
      "text/plain": [
       "'Malgun Gothic'"
      ]
     },
     "execution_count": 3,
     "metadata": {},
     "output_type": "execute_result"
    }
   ],
   "source": [
    "font_family = get_font_family()\n",
    "font_family"
   ]
  },
  {
   "cell_type": "code",
   "execution_count": 4,
   "metadata": {},
   "outputs": [
    {
     "name": "stdout",
     "output_type": "stream",
     "text": [
      "['Solarize_Light2', '_classic_test_patch', '_mpl-gallery', '_mpl-gallery-nogrid', 'bmh', 'classic', 'dark_background', 'fast', 'fivethirtyeight', 'ggplot', 'grayscale', 'seaborn', 'seaborn-bright', 'seaborn-colorblind', 'seaborn-dark', 'seaborn-dark-palette', 'seaborn-darkgrid', 'seaborn-deep', 'seaborn-muted', 'seaborn-notebook', 'seaborn-paper', 'seaborn-pastel', 'seaborn-poster', 'seaborn-talk', 'seaborn-ticks', 'seaborn-white', 'seaborn-whitegrid', 'tableau-colorblind10']\n"
     ]
    }
   ],
   "source": [
    "print(plt.style.available)"
   ]
  },
  {
   "cell_type": "code",
   "execution_count": 7,
   "metadata": {},
   "outputs": [],
   "source": [
    "# 그래프 스타일 설정\n",
    "# plt.style.use(\"fivethirtyeight\")\n",
    "plt.style.use(\"seaborn\")\n",
    "# 폰트설정\n",
    "plt.rc(\"font\", family=font_family)\n",
    "# 마이너스폰트 설정\n",
    "plt.rc(\"axes\", unicode_minus=False)\n",
    "# 그래프에 retina display 적용\n",
    "# from IPython.display import set_matplotlib_formats\n",
    "# set_matplotlib_formats(\"retina\")"
   ]
  },
  {
   "cell_type": "code",
   "execution_count": 8,
   "metadata": {
    "id": "6LOH_j7T3W3h"
   },
   "outputs": [
    {
     "data": {
      "text/plain": [
       "<AxesSubplot:title={'center':'한글 폰트'}>"
      ]
     },
     "execution_count": 8,
     "metadata": {},
     "output_type": "execute_result"
    },
    {
     "data": {
      "image/png": "[encoded data removed]",
      "text/plain": [
       "<Figure size 576x396 with 1 Axes>"
      ]
     },
     "metadata": {},
     "output_type": "display_data"
    }
   ],
   "source": [
    "# colab에서 한글폰트를 설정했음에도 폰트가 깨진다면 런타임 재시작 후 코드를 처음부터 다시 실행해 주세요!\n",
    "pd.Series([1, 3, 5, -7, 9]).plot(title=\"한글 폰트\")"
   ]
  },
  {
   "cell_type": "markdown",
   "metadata": {},
   "source": [
    "## 데이터 로드"
   ]
  },
  {
   "cell_type": "code",
   "execution_count": 10,
   "metadata": {},
   "outputs": [],
   "source": [
    "# 전체 컬럼이 출력되도록 display 설정을 변경합니다.\n",
    "pd.options.display.max_columns = None"
   ]
  },
  {
   "cell_type": "code",
   "execution_count": 158,
   "metadata": {
    "id": "CKsCqpoA3W3i",
    "scrolled": true
   },
   "outputs": [
    {
     "data": {
      "text/plain": [
       "(158, 42)"
      ]
     },
     "execution_count": 158,
     "metadata": {},
     "output_type": "execute_result"
    }
   ],
   "source": [
    "# 테마주 수집시에 저장해 두었던 csv 파일을 다시 로드합니다.\n",
    "# 'upjong_no_35_2021-01-09_ver2.csv'\n",
    "# 종목코드는 object 형태로 불러옵니다.\n",
    "file_name = \"upjong_no_261_2022-07-12_ver2.csv\"\n",
    "df = pd.read_csv(file_name, dtype={\"종목코드\":object})\n",
    "df.shape"
   ]
  },
  {
   "cell_type": "markdown",
   "metadata": {},
   "source": [
    "## 데이터 미리보기"
   ]
  },
  {
   "cell_type": "code",
   "execution_count": 14,
   "metadata": {},
   "outputs": [
    {
     "data": {
      "text/html": [
       "<div>\n",
       "<style scoped>\n",
       "    .dataframe tbody tr th:only-of-type {\n",
       "        vertical-align: middle;\n",
       "    }\n",
       "\n",
       "    .dataframe tbody tr th {\n",
       "        vertical-align: top;\n",
       "    }\n",
       "\n",
       "    .dataframe thead th {\n",
       "        text-align: right;\n",
       "    }\n",
       "</style>\n",
       "<table border=\"1\" class=\"dataframe\">\n",
       "  <thead>\n",
       "    <tr style=\"text-align: right;\">\n",
       "      <th></th>\n",
       "      <th>종목명</th>\n",
       "      <th>현재가</th>\n",
       "      <th>전일비</th>\n",
       "      <th>등락률</th>\n",
       "      <th>매수호가</th>\n",
       "      <th>매도호가</th>\n",
       "      <th>거래량</th>\n",
       "      <th>거래대금</th>\n",
       "      <th>전일거래량</th>\n",
       "      <th>조회일자</th>\n",
       "      <th>종목코드</th>\n",
       "      <th>매출액</th>\n",
       "      <th>영업이익</th>\n",
       "      <th>당기순이익</th>\n",
       "      <th>영업이익률</th>\n",
       "      <th>순이익률</th>\n",
       "      <th>상장주식수</th>\n",
       "      <th>외국인한도주식수(A)</th>\n",
       "      <th>외국인보유주식수(B)</th>\n",
       "      <th>외국인소진율(B/A)</th>\n",
       "      <th>동일업종 PER</th>\n",
       "      <th>동일업종 등락률</th>\n",
       "      <th>코스피/코스닥</th>\n",
       "      <th>시가총액(억원)</th>\n",
       "      <th>시가총액순위(전처리)</th>\n",
       "      <th>52주최고</th>\n",
       "      <th>52주최저</th>\n",
       "      <th>52주차액</th>\n",
       "      <th>52주차액비율</th>\n",
       "      <th>현재-최고가</th>\n",
       "      <th>현재/최고가비율</th>\n",
       "      <th>목표주가</th>\n",
       "      <th>투자의견</th>\n",
       "      <th>매수매도</th>\n",
       "      <th>PBR</th>\n",
       "      <th>PPS</th>\n",
       "      <th>BPS</th>\n",
       "      <th>PER(배)</th>\n",
       "      <th>EPS(원)</th>\n",
       "      <th>PBR(배)</th>\n",
       "      <th>BPS(원)</th>\n",
       "      <th>배당수익률(%)</th>\n",
       "    </tr>\n",
       "  </thead>\n",
       "  <tbody>\n",
       "    <tr>\n",
       "      <th>0</th>\n",
       "      <td>카이노스메드 *</td>\n",
       "      <td>11450.0</td>\n",
       "      <td>1520.0</td>\n",
       "      <td>+15.31%</td>\n",
       "      <td>9610.0</td>\n",
       "      <td>9930.0</td>\n",
       "      <td>125641.0</td>\n",
       "      <td>1413.0</td>\n",
       "      <td>0.0</td>\n",
       "      <td>2022-07-12</td>\n",
       "      <td>284620</td>\n",
       "      <td>NaN</td>\n",
       "      <td>NaN</td>\n",
       "      <td>NaN</td>\n",
       "      <td>NaN</td>\n",
       "      <td>NaN</td>\n",
       "      <td>22322396</td>\n",
       "      <td>22322396</td>\n",
       "      <td>828098</td>\n",
       "      <td>3.71%</td>\n",
       "      <td>106.06</td>\n",
       "      <td>+0.27%</td>\n",
       "      <td>코스닥</td>\n",
       "      <td>2219</td>\n",
       "      <td>362</td>\n",
       "      <td>21510</td>\n",
       "      <td>8629</td>\n",
       "      <td>12881</td>\n",
       "      <td>2.492757</td>\n",
       "      <td>-10060.0</td>\n",
       "      <td>0.532311</td>\n",
       "      <td>NaN</td>\n",
       "      <td>NaN</td>\n",
       "      <td>NaN</td>\n",
       "      <td>125.82배</td>\n",
       "      <td>79원</td>\n",
       "      <td>79원</td>\n",
       "      <td>NaN</td>\n",
       "      <td>-770.0</td>\n",
       "      <td>125.82</td>\n",
       "      <td>79.0</td>\n",
       "      <td>NaN</td>\n",
       "    </tr>\n",
       "    <tr>\n",
       "      <th>1</th>\n",
       "      <td>일동제약</td>\n",
       "      <td>38350.0</td>\n",
       "      <td>2900.0</td>\n",
       "      <td>+8.18%</td>\n",
       "      <td>36600.0</td>\n",
       "      <td>36650.0</td>\n",
       "      <td>1291093.0</td>\n",
       "      <td>49785.0</td>\n",
       "      <td>6060869.0</td>\n",
       "      <td>2022-07-12</td>\n",
       "      <td>249420</td>\n",
       "      <td>1530.0</td>\n",
       "      <td>-60.0</td>\n",
       "      <td>-210.0</td>\n",
       "      <td>-3.92</td>\n",
       "      <td>-13.73</td>\n",
       "      <td>26803285</td>\n",
       "      <td>26803285</td>\n",
       "      <td>1088414</td>\n",
       "      <td>4.06%</td>\n",
       "      <td>106.06</td>\n",
       "      <td>+0.29%</td>\n",
       "      <td>코스피</td>\n",
       "      <td>1949</td>\n",
       "      <td>200</td>\n",
       "      <td>79500</td>\n",
       "      <td>12400</td>\n",
       "      <td>67100</td>\n",
       "      <td>6.411290</td>\n",
       "      <td>-41150.0</td>\n",
       "      <td>0.482390</td>\n",
       "      <td>50000.0</td>\n",
       "      <td>4.0</td>\n",
       "      <td>매수</td>\n",
       "      <td>5.47배</td>\n",
       "      <td>7,471원</td>\n",
       "      <td>7,471원</td>\n",
       "      <td>NaN</td>\n",
       "      <td>-8637.0</td>\n",
       "      <td>5.47</td>\n",
       "      <td>7471.0</td>\n",
       "      <td>NaN</td>\n",
       "    </tr>\n",
       "    <tr>\n",
       "      <th>2</th>\n",
       "      <td>이글벳 *</td>\n",
       "      <td>6640.0</td>\n",
       "      <td>470.0</td>\n",
       "      <td>+7.62%</td>\n",
       "      <td>6050.0</td>\n",
       "      <td>6150.0</td>\n",
       "      <td>362894.0</td>\n",
       "      <td>2395.0</td>\n",
       "      <td>31238.0</td>\n",
       "      <td>2022-07-12</td>\n",
       "      <td>044960</td>\n",
       "      <td>NaN</td>\n",
       "      <td>NaN</td>\n",
       "      <td>NaN</td>\n",
       "      <td>NaN</td>\n",
       "      <td>NaN</td>\n",
       "      <td>12641883</td>\n",
       "      <td>12641883</td>\n",
       "      <td>139638</td>\n",
       "      <td>1.10%</td>\n",
       "      <td>106.06</td>\n",
       "      <td>+0.27%</td>\n",
       "      <td>코스닥</td>\n",
       "      <td>803</td>\n",
       "      <td>996</td>\n",
       "      <td>9700</td>\n",
       "      <td>5600</td>\n",
       "      <td>4100</td>\n",
       "      <td>1.732143</td>\n",
       "      <td>-3060.0</td>\n",
       "      <td>0.684536</td>\n",
       "      <td>NaN</td>\n",
       "      <td>NaN</td>\n",
       "      <td>NaN</td>\n",
       "      <td>1.87배</td>\n",
       "      <td>3,391원</td>\n",
       "      <td>3,391원</td>\n",
       "      <td>21.03</td>\n",
       "      <td>302.0</td>\n",
       "      <td>1.87</td>\n",
       "      <td>3391.0</td>\n",
       "      <td>0.79</td>\n",
       "    </tr>\n",
       "    <tr>\n",
       "      <th>3</th>\n",
       "      <td>애드바이오텍 *</td>\n",
       "      <td>5000.0</td>\n",
       "      <td>230.0</td>\n",
       "      <td>+4.82%</td>\n",
       "      <td>4715.0</td>\n",
       "      <td>4950.0</td>\n",
       "      <td>18666.0</td>\n",
       "      <td>91.0</td>\n",
       "      <td>54126.0</td>\n",
       "      <td>2022-07-12</td>\n",
       "      <td>179530</td>\n",
       "      <td>NaN</td>\n",
       "      <td>NaN</td>\n",
       "      <td>NaN</td>\n",
       "      <td>NaN</td>\n",
       "      <td>NaN</td>\n",
       "      <td>9140444</td>\n",
       "      <td>9140444</td>\n",
       "      <td>270546</td>\n",
       "      <td>2.96%</td>\n",
       "      <td>106.06</td>\n",
       "      <td>+0.29%</td>\n",
       "      <td>코스닥</td>\n",
       "      <td>448</td>\n",
       "      <td>1357</td>\n",
       "      <td>11400</td>\n",
       "      <td>4485</td>\n",
       "      <td>6915</td>\n",
       "      <td>2.541806</td>\n",
       "      <td>-6400.0</td>\n",
       "      <td>0.438596</td>\n",
       "      <td>NaN</td>\n",
       "      <td>NaN</td>\n",
       "      <td>NaN</td>\n",
       "      <td>NaN</td>\n",
       "      <td>NaN</td>\n",
       "      <td>NaN</td>\n",
       "      <td>NaN</td>\n",
       "      <td>-347.0</td>\n",
       "      <td>3.20</td>\n",
       "      <td>1530.0</td>\n",
       "      <td>NaN</td>\n",
       "    </tr>\n",
       "    <tr>\n",
       "      <th>4</th>\n",
       "      <td>신풍제약우</td>\n",
       "      <td>48600.0</td>\n",
       "      <td>1600.0</td>\n",
       "      <td>+3.40%</td>\n",
       "      <td>48650.0</td>\n",
       "      <td>48700.0</td>\n",
       "      <td>2085.0</td>\n",
       "      <td>101.0</td>\n",
       "      <td>29385.0</td>\n",
       "      <td>2022-07-12</td>\n",
       "      <td>019175</td>\n",
       "      <td>NaN</td>\n",
       "      <td>NaN</td>\n",
       "      <td>NaN</td>\n",
       "      <td>NaN</td>\n",
       "      <td>NaN</td>\n",
       "      <td>2200000</td>\n",
       "      <td>2200000</td>\n",
       "      <td>8518</td>\n",
       "      <td>0.39%</td>\n",
       "      <td>106.06</td>\n",
       "      <td>+0.27%</td>\n",
       "      <td>코스피</td>\n",
       "      <td>1032</td>\n",
       "      <td>794</td>\n",
       "      <td>135000</td>\n",
       "      <td>30950</td>\n",
       "      <td>104050</td>\n",
       "      <td>4.361874</td>\n",
       "      <td>-86400.0</td>\n",
       "      <td>0.360000</td>\n",
       "      <td>NaN</td>\n",
       "      <td>NaN</td>\n",
       "      <td>NaN</td>\n",
       "      <td>6.91배</td>\n",
       "      <td>6,792원</td>\n",
       "      <td>6,792원</td>\n",
       "      <td>NaN</td>\n",
       "      <td>-333.0</td>\n",
       "      <td>6.91</td>\n",
       "      <td>6792.0</td>\n",
       "      <td>NaN</td>\n",
       "    </tr>\n",
       "  </tbody>\n",
       "</table>\n",
       "</div>"
      ],
      "text/plain": [
       "        종목명      현재가     전일비      등락률     매수호가     매도호가        거래량     거래대금  \\\n",
       "0  카이노스메드 *  11450.0  1520.0  +15.31%   9610.0   9930.0   125641.0   1413.0   \n",
       "1      일동제약  38350.0  2900.0   +8.18%  36600.0  36650.0  1291093.0  49785.0   \n",
       "2     이글벳 *   6640.0   470.0   +7.62%   6050.0   6150.0   362894.0   2395.0   \n",
       "3  애드바이오텍 *   5000.0   230.0   +4.82%   4715.0   4950.0    18666.0     91.0   \n",
       "4     신풍제약우  48600.0  1600.0   +3.40%  48650.0  48700.0     2085.0    101.0   \n",
       "\n",
       "       전일거래량        조회일자    종목코드     매출액  영업이익  당기순이익  영업이익률   순이익률     상장주식수  \\\n",
       "0        0.0  2022-07-12  284620     NaN   NaN    NaN    NaN    NaN  22322396   \n",
       "1  6060869.0  2022-07-12  249420  1530.0 -60.0 -210.0  -3.92 -13.73  26803285   \n",
       "2    31238.0  2022-07-12  044960     NaN   NaN    NaN    NaN    NaN  12641883   \n",
       "3    54126.0  2022-07-12  179530     NaN   NaN    NaN    NaN    NaN   9140444   \n",
       "4    29385.0  2022-07-12  019175     NaN   NaN    NaN    NaN    NaN   2200000   \n",
       "\n",
       "   외국인한도주식수(A)  외국인보유주식수(B) 외국인소진율(B/A)  동일업종 PER 동일업종 등락률 코스피/코스닥  시가총액(억원)  \\\n",
       "0     22322396       828098       3.71%    106.06   +0.27%     코스닥      2219   \n",
       "1     26803285      1088414       4.06%    106.06   +0.29%     코스피      1949   \n",
       "2     12641883       139638       1.10%    106.06   +0.27%     코스닥       803   \n",
       "3      9140444       270546       2.96%    106.06   +0.29%     코스닥       448   \n",
       "4      2200000         8518       0.39%    106.06   +0.27%     코스피      1032   \n",
       "\n",
       "   시가총액순위(전처리)   52주최고  52주최저   52주차액   52주차액비율   현재-최고가  현재/최고가비율     목표주가  \\\n",
       "0          362   21510   8629   12881  2.492757 -10060.0  0.532311      NaN   \n",
       "1          200   79500  12400   67100  6.411290 -41150.0  0.482390  50000.0   \n",
       "2          996    9700   5600    4100  1.732143  -3060.0  0.684536      NaN   \n",
       "3         1357   11400   4485    6915  2.541806  -6400.0  0.438596      NaN   \n",
       "4          794  135000  30950  104050  4.361874 -86400.0  0.360000      NaN   \n",
       "\n",
       "   투자의견 매수매도       PBR      PPS      BPS  PER(배)  EPS(원)  PBR(배)  BPS(원)  \\\n",
       "0   NaN  NaN  125.82배       79원      79원     NaN  -770.0  125.82    79.0   \n",
       "1   4.0   매수    5.47배    7,471원   7,471원     NaN -8637.0    5.47  7471.0   \n",
       "2   NaN  NaN    1.87배    3,391원   3,391원   21.03   302.0    1.87  3391.0   \n",
       "3   NaN  NaN       NaN      NaN      NaN     NaN  -347.0    3.20  1530.0   \n",
       "4   NaN  NaN    6.91배    6,792원   6,792원     NaN  -333.0    6.91  6792.0   \n",
       "\n",
       "   배당수익률(%)  \n",
       "0       NaN  \n",
       "1       NaN  \n",
       "2      0.79  \n",
       "3       NaN  \n",
       "4       NaN  "
      ]
     },
     "execution_count": 14,
     "metadata": {},
     "output_type": "execute_result"
    }
   ],
   "source": [
    "df.head()"
   ]
  },
  {
   "cell_type": "code",
   "execution_count": 15,
   "metadata": {},
   "outputs": [
    {
     "data": {
      "text/html": [
       "<div>\n",
       "<style scoped>\n",
       "    .dataframe tbody tr th:only-of-type {\n",
       "        vertical-align: middle;\n",
       "    }\n",
       "\n",
       "    .dataframe tbody tr th {\n",
       "        vertical-align: top;\n",
       "    }\n",
       "\n",
       "    .dataframe thead th {\n",
       "        text-align: right;\n",
       "    }\n",
       "</style>\n",
       "<table border=\"1\" class=\"dataframe\">\n",
       "  <thead>\n",
       "    <tr style=\"text-align: right;\">\n",
       "      <th></th>\n",
       "      <th>종목명</th>\n",
       "      <th>현재가</th>\n",
       "      <th>전일비</th>\n",
       "      <th>등락률</th>\n",
       "      <th>매수호가</th>\n",
       "      <th>매도호가</th>\n",
       "      <th>거래량</th>\n",
       "      <th>거래대금</th>\n",
       "      <th>전일거래량</th>\n",
       "      <th>조회일자</th>\n",
       "      <th>종목코드</th>\n",
       "      <th>매출액</th>\n",
       "      <th>영업이익</th>\n",
       "      <th>당기순이익</th>\n",
       "      <th>영업이익률</th>\n",
       "      <th>순이익률</th>\n",
       "      <th>상장주식수</th>\n",
       "      <th>외국인한도주식수(A)</th>\n",
       "      <th>외국인보유주식수(B)</th>\n",
       "      <th>외국인소진율(B/A)</th>\n",
       "      <th>동일업종 PER</th>\n",
       "      <th>동일업종 등락률</th>\n",
       "      <th>코스피/코스닥</th>\n",
       "      <th>시가총액(억원)</th>\n",
       "      <th>시가총액순위(전처리)</th>\n",
       "      <th>52주최고</th>\n",
       "      <th>52주최저</th>\n",
       "      <th>52주차액</th>\n",
       "      <th>52주차액비율</th>\n",
       "      <th>현재-최고가</th>\n",
       "      <th>현재/최고가비율</th>\n",
       "      <th>목표주가</th>\n",
       "      <th>투자의견</th>\n",
       "      <th>매수매도</th>\n",
       "      <th>PBR</th>\n",
       "      <th>PPS</th>\n",
       "      <th>BPS</th>\n",
       "      <th>PER(배)</th>\n",
       "      <th>EPS(원)</th>\n",
       "      <th>PBR(배)</th>\n",
       "      <th>BPS(원)</th>\n",
       "      <th>배당수익률(%)</th>\n",
       "    </tr>\n",
       "  </thead>\n",
       "  <tbody>\n",
       "    <tr>\n",
       "      <th>153</th>\n",
       "      <td>우진비앤지 *</td>\n",
       "      <td>2095.0</td>\n",
       "      <td>65.0</td>\n",
       "      <td>-3.01%</td>\n",
       "      <td>2140.0</td>\n",
       "      <td>2155.0</td>\n",
       "      <td>53924.0</td>\n",
       "      <td>113.0</td>\n",
       "      <td>709327.0</td>\n",
       "      <td>2022-07-12</td>\n",
       "      <td>018620</td>\n",
       "      <td>NaN</td>\n",
       "      <td>NaN</td>\n",
       "      <td>NaN</td>\n",
       "      <td>NaN</td>\n",
       "      <td>NaN</td>\n",
       "      <td>28889293</td>\n",
       "      <td>28889293</td>\n",
       "      <td>459900</td>\n",
       "      <td>1.59%</td>\n",
       "      <td>106.06</td>\n",
       "      <td>+0.22%</td>\n",
       "      <td>코스닥</td>\n",
       "      <td>611</td>\n",
       "      <td>1189</td>\n",
       "      <td>3515</td>\n",
       "      <td>1760</td>\n",
       "      <td>1755</td>\n",
       "      <td>1.997159</td>\n",
       "      <td>-1420.0</td>\n",
       "      <td>0.596017</td>\n",
       "      <td>NaN</td>\n",
       "      <td>NaN</td>\n",
       "      <td>NaN</td>\n",
       "      <td>1.99배</td>\n",
       "      <td>1,062원</td>\n",
       "      <td>1,062원</td>\n",
       "      <td>NaN</td>\n",
       "      <td>-29.0</td>\n",
       "      <td>1.99</td>\n",
       "      <td>1062.0</td>\n",
       "      <td>NaN</td>\n",
       "    </tr>\n",
       "    <tr>\n",
       "      <th>154</th>\n",
       "      <td>HLB테라퓨틱스 *</td>\n",
       "      <td>12400.0</td>\n",
       "      <td>400.0</td>\n",
       "      <td>-3.12%</td>\n",
       "      <td>12750.0</td>\n",
       "      <td>12800.0</td>\n",
       "      <td>64406.0</td>\n",
       "      <td>799.0</td>\n",
       "      <td>499045.0</td>\n",
       "      <td>2022-07-12</td>\n",
       "      <td>115450</td>\n",
       "      <td>NaN</td>\n",
       "      <td>NaN</td>\n",
       "      <td>NaN</td>\n",
       "      <td>NaN</td>\n",
       "      <td>NaN</td>\n",
       "      <td>31335211</td>\n",
       "      <td>31335211</td>\n",
       "      <td>1545014</td>\n",
       "      <td>4.93%</td>\n",
       "      <td>106.06</td>\n",
       "      <td>+0.22%</td>\n",
       "      <td>코스닥</td>\n",
       "      <td>4042</td>\n",
       "      <td>158</td>\n",
       "      <td>19300</td>\n",
       "      <td>7450</td>\n",
       "      <td>11850</td>\n",
       "      <td>2.590604</td>\n",
       "      <td>-6900.0</td>\n",
       "      <td>0.642487</td>\n",
       "      <td>NaN</td>\n",
       "      <td>NaN</td>\n",
       "      <td>NaN</td>\n",
       "      <td>3.36배</td>\n",
       "      <td>3,845원</td>\n",
       "      <td>3,845원</td>\n",
       "      <td>NaN</td>\n",
       "      <td>-582.0</td>\n",
       "      <td>3.36</td>\n",
       "      <td>3845.0</td>\n",
       "      <td>NaN</td>\n",
       "    </tr>\n",
       "    <tr>\n",
       "      <th>155</th>\n",
       "      <td>더블유에스아이 *</td>\n",
       "      <td>1975.0</td>\n",
       "      <td>65.0</td>\n",
       "      <td>-3.19%</td>\n",
       "      <td>2015.0</td>\n",
       "      <td>2040.0</td>\n",
       "      <td>2316.0</td>\n",
       "      <td>5.0</td>\n",
       "      <td>36240.0</td>\n",
       "      <td>2022-07-12</td>\n",
       "      <td>299170</td>\n",
       "      <td>NaN</td>\n",
       "      <td>NaN</td>\n",
       "      <td>NaN</td>\n",
       "      <td>NaN</td>\n",
       "      <td>NaN</td>\n",
       "      <td>30027963</td>\n",
       "      <td>30027963</td>\n",
       "      <td>87168</td>\n",
       "      <td>0.29%</td>\n",
       "      <td>106.06</td>\n",
       "      <td>+0.26%</td>\n",
       "      <td>코스닥</td>\n",
       "      <td>595</td>\n",
       "      <td>1206</td>\n",
       "      <td>3470</td>\n",
       "      <td>1675</td>\n",
       "      <td>1795</td>\n",
       "      <td>2.071642</td>\n",
       "      <td>-1495.0</td>\n",
       "      <td>0.569164</td>\n",
       "      <td>NaN</td>\n",
       "      <td>NaN</td>\n",
       "      <td>NaN</td>\n",
       "      <td>1.74배</td>\n",
       "      <td>1,137원</td>\n",
       "      <td>1,137원</td>\n",
       "      <td>8.57</td>\n",
       "      <td>231.0</td>\n",
       "      <td>1.74</td>\n",
       "      <td>1137.0</td>\n",
       "      <td>NaN</td>\n",
       "    </tr>\n",
       "    <tr>\n",
       "      <th>156</th>\n",
       "      <td>엔지켐생명과학 *</td>\n",
       "      <td>17700.0</td>\n",
       "      <td>650.0</td>\n",
       "      <td>-3.54%</td>\n",
       "      <td>17950.0</td>\n",
       "      <td>18250.0</td>\n",
       "      <td>9839.0</td>\n",
       "      <td>176.0</td>\n",
       "      <td>134865.0</td>\n",
       "      <td>2022-07-12</td>\n",
       "      <td>183490</td>\n",
       "      <td>NaN</td>\n",
       "      <td>NaN</td>\n",
       "      <td>NaN</td>\n",
       "      <td>NaN</td>\n",
       "      <td>NaN</td>\n",
       "      <td>13933768</td>\n",
       "      <td>13933768</td>\n",
       "      <td>1482469</td>\n",
       "      <td>10.64%</td>\n",
       "      <td>106.06</td>\n",
       "      <td>+0.22%</td>\n",
       "      <td>코스닥</td>\n",
       "      <td>2494</td>\n",
       "      <td>306</td>\n",
       "      <td>92426</td>\n",
       "      <td>14850</td>\n",
       "      <td>77576</td>\n",
       "      <td>6.223973</td>\n",
       "      <td>-74726.0</td>\n",
       "      <td>0.191505</td>\n",
       "      <td>NaN</td>\n",
       "      <td>NaN</td>\n",
       "      <td>NaN</td>\n",
       "      <td>1.14배</td>\n",
       "      <td>15,762원</td>\n",
       "      <td>15,762원</td>\n",
       "      <td>NaN</td>\n",
       "      <td>-2408.0</td>\n",
       "      <td>1.14</td>\n",
       "      <td>15762.0</td>\n",
       "      <td>NaN</td>\n",
       "    </tr>\n",
       "    <tr>\n",
       "      <th>157</th>\n",
       "      <td>HLB제약 *</td>\n",
       "      <td>14500.0</td>\n",
       "      <td>650.0</td>\n",
       "      <td>-4.29%</td>\n",
       "      <td>14750.0</td>\n",
       "      <td>14800.0</td>\n",
       "      <td>66838.0</td>\n",
       "      <td>979.0</td>\n",
       "      <td>557586.0</td>\n",
       "      <td>2022-07-12</td>\n",
       "      <td>047920</td>\n",
       "      <td>NaN</td>\n",
       "      <td>NaN</td>\n",
       "      <td>NaN</td>\n",
       "      <td>NaN</td>\n",
       "      <td>NaN</td>\n",
       "      <td>27564264</td>\n",
       "      <td>27564264</td>\n",
       "      <td>132391</td>\n",
       "      <td>0.48%</td>\n",
       "      <td>106.06</td>\n",
       "      <td>+0.22%</td>\n",
       "      <td>코스닥</td>\n",
       "      <td>4107</td>\n",
       "      <td>154</td>\n",
       "      <td>30200</td>\n",
       "      <td>7860</td>\n",
       "      <td>22340</td>\n",
       "      <td>3.842239</td>\n",
       "      <td>-15700.0</td>\n",
       "      <td>0.480132</td>\n",
       "      <td>NaN</td>\n",
       "      <td>NaN</td>\n",
       "      <td>NaN</td>\n",
       "      <td>5.08배</td>\n",
       "      <td>2,932원</td>\n",
       "      <td>2,932원</td>\n",
       "      <td>NaN</td>\n",
       "      <td>-550.0</td>\n",
       "      <td>5.08</td>\n",
       "      <td>2932.0</td>\n",
       "      <td>NaN</td>\n",
       "    </tr>\n",
       "  </tbody>\n",
       "</table>\n",
       "</div>"
      ],
      "text/plain": [
       "            종목명      현재가    전일비     등락률     매수호가     매도호가      거래량   거래대금  \\\n",
       "153     우진비앤지 *   2095.0   65.0  -3.01%   2140.0   2155.0  53924.0  113.0   \n",
       "154  HLB테라퓨틱스 *  12400.0  400.0  -3.12%  12750.0  12800.0  64406.0  799.0   \n",
       "155   더블유에스아이 *   1975.0   65.0  -3.19%   2015.0   2040.0   2316.0    5.0   \n",
       "156   엔지켐생명과학 *  17700.0  650.0  -3.54%  17950.0  18250.0   9839.0  176.0   \n",
       "157     HLB제약 *  14500.0  650.0  -4.29%  14750.0  14800.0  66838.0  979.0   \n",
       "\n",
       "        전일거래량        조회일자    종목코드  매출액  영업이익  당기순이익  영업이익률  순이익률     상장주식수  \\\n",
       "153  709327.0  2022-07-12  018620  NaN   NaN    NaN    NaN   NaN  28889293   \n",
       "154  499045.0  2022-07-12  115450  NaN   NaN    NaN    NaN   NaN  31335211   \n",
       "155   36240.0  2022-07-12  299170  NaN   NaN    NaN    NaN   NaN  30027963   \n",
       "156  134865.0  2022-07-12  183490  NaN   NaN    NaN    NaN   NaN  13933768   \n",
       "157  557586.0  2022-07-12  047920  NaN   NaN    NaN    NaN   NaN  27564264   \n",
       "\n",
       "     외국인한도주식수(A)  외국인보유주식수(B) 외국인소진율(B/A)  동일업종 PER 동일업종 등락률 코스피/코스닥  \\\n",
       "153     28889293       459900       1.59%    106.06   +0.22%     코스닥   \n",
       "154     31335211      1545014       4.93%    106.06   +0.22%     코스닥   \n",
       "155     30027963        87168       0.29%    106.06   +0.26%     코스닥   \n",
       "156     13933768      1482469      10.64%    106.06   +0.22%     코스닥   \n",
       "157     27564264       132391       0.48%    106.06   +0.22%     코스닥   \n",
       "\n",
       "     시가총액(억원)  시가총액순위(전처리)  52주최고  52주최저  52주차액   52주차액비율   현재-최고가  현재/최고가비율  \\\n",
       "153       611         1189   3515   1760   1755  1.997159  -1420.0  0.596017   \n",
       "154      4042          158  19300   7450  11850  2.590604  -6900.0  0.642487   \n",
       "155       595         1206   3470   1675   1795  2.071642  -1495.0  0.569164   \n",
       "156      2494          306  92426  14850  77576  6.223973 -74726.0  0.191505   \n",
       "157      4107          154  30200   7860  22340  3.842239 -15700.0  0.480132   \n",
       "\n",
       "     목표주가  투자의견 매수매도     PBR       PPS       BPS  PER(배)  EPS(원)  PBR(배)  \\\n",
       "153   NaN   NaN  NaN  1.99배     1,062원    1,062원     NaN   -29.0    1.99   \n",
       "154   NaN   NaN  NaN  3.36배     3,845원    3,845원     NaN  -582.0    3.36   \n",
       "155   NaN   NaN  NaN  1.74배     1,137원    1,137원    8.57   231.0    1.74   \n",
       "156   NaN   NaN  NaN  1.14배    15,762원   15,762원     NaN -2408.0    1.14   \n",
       "157   NaN   NaN  NaN  5.08배     2,932원    2,932원     NaN  -550.0    5.08   \n",
       "\n",
       "      BPS(원)  배당수익률(%)  \n",
       "153   1062.0       NaN  \n",
       "154   3845.0       NaN  \n",
       "155   1137.0       NaN  \n",
       "156  15762.0       NaN  \n",
       "157   2932.0       NaN  "
      ]
     },
     "execution_count": 15,
     "metadata": {},
     "output_type": "execute_result"
    }
   ],
   "source": [
    "df.tail()"
   ]
  },
  {
   "cell_type": "code",
   "execution_count": 16,
   "metadata": {},
   "outputs": [
    {
     "name": "stdout",
     "output_type": "stream",
     "text": [
      "<class 'pandas.core.frame.DataFrame'>\n",
      "RangeIndex: 158 entries, 0 to 157\n",
      "Data columns (total 42 columns):\n",
      " #   Column       Non-Null Count  Dtype  \n",
      "---  ------       --------------  -----  \n",
      " 0   종목명          158 non-null    object \n",
      " 1   현재가          158 non-null    float64\n",
      " 2   전일비          158 non-null    float64\n",
      " 3   등락률          158 non-null    object \n",
      " 4   매수호가         158 non-null    float64\n",
      " 5   매도호가         158 non-null    float64\n",
      " 6   거래량          158 non-null    float64\n",
      " 7   거래대금         158 non-null    float64\n",
      " 8   전일거래량        158 non-null    float64\n",
      " 9   조회일자         158 non-null    object \n",
      " 10  종목코드         158 non-null    object \n",
      " 11  매출액          34 non-null     float64\n",
      " 12  영업이익         33 non-null     float64\n",
      " 13  당기순이익        28 non-null     float64\n",
      " 14  영업이익률        33 non-null     float64\n",
      " 15  순이익률         28 non-null     float64\n",
      " 16  상장주식수        158 non-null    int64  \n",
      " 17  외국인한도주식수(A)  158 non-null    int64  \n",
      " 18  외국인보유주식수(B)  158 non-null    int64  \n",
      " 19  외국인소진율(B/A)  158 non-null    object \n",
      " 20  동일업종 PER     158 non-null    float64\n",
      " 21  동일업종 등락률     158 non-null    object \n",
      " 22  코스피/코스닥      158 non-null    object \n",
      " 23  시가총액(억원)     158 non-null    int64  \n",
      " 24  시가총액순위(전처리)  158 non-null    int64  \n",
      " 25  52주최고        158 non-null    int64  \n",
      " 26  52주최저        158 non-null    int64  \n",
      " 27  52주차액        158 non-null    int64  \n",
      " 28  52주차액비율      158 non-null    float64\n",
      " 29  현재-최고가       158 non-null    float64\n",
      " 30  현재/최고가비율     158 non-null    float64\n",
      " 31  목표주가         37 non-null     float64\n",
      " 32  투자의견         37 non-null     float64\n",
      " 33  매수매도         37 non-null     object \n",
      " 34  PBR          150 non-null    object \n",
      " 35  PPS          150 non-null    object \n",
      " 36  BPS          150 non-null    object \n",
      " 37  PER(배)       88 non-null     float64\n",
      " 38  EPS(원)       157 non-null    float64\n",
      " 39  PBR(배)       158 non-null    float64\n",
      " 40  BPS(원)       158 non-null    float64\n",
      " 41  배당수익률(%)     80 non-null     float64\n",
      "dtypes: float64(23), int64(8), object(11)\n",
      "memory usage: 52.0+ KB\n"
     ]
    }
   ],
   "source": [
    "# info 보기\n",
    "df.info()"
   ]
  },
  {
   "cell_type": "markdown",
   "metadata": {
    "id": "nj3Jra_t3W3i"
   },
   "source": [
    "## 천단위 숫자 구분 함수 만들기"
   ]
  },
  {
   "cell_type": "code",
   "execution_count": 17,
   "metadata": {},
   "outputs": [],
   "source": [
    "def format_number(num):\n",
    "    \"\"\"\n",
    "    천단위 숫자를 구분해 주는 문자를 넣어주는 함수\n",
    "    float 타입은 소숫점 2자리까지만 반환\n",
    "    \"\"\"\n",
    "    if type(num) != str:\n",
    "        return format(num, \",\")\n",
    "    else:\n",
    "        return num"
   ]
  },
  {
   "cell_type": "code",
   "execution_count": 25,
   "metadata": {},
   "outputs": [
    {
     "data": {
      "text/plain": [
       "'1,234,567,890'"
      ]
     },
     "execution_count": 25,
     "metadata": {},
     "output_type": "execute_result"
    }
   ],
   "source": [
    "# format 을 통해 천단위 쉼표 만들기\n",
    "format(1234567890, \",\")"
   ]
  },
  {
   "cell_type": "code",
   "execution_count": 26,
   "metadata": {},
   "outputs": [
    {
     "data": {
      "text/plain": [
       "'12,345,678.90123'"
      ]
     },
     "execution_count": 26,
     "metadata": {},
     "output_type": "execute_result"
    }
   ],
   "source": [
    "# format_number 함수가 잘 동작하는지 확인하기\n",
    "format_number(12345678.90123)"
   ]
  },
  {
   "cell_type": "code",
   "execution_count": 27,
   "metadata": {},
   "outputs": [
    {
     "data": {
      "text/plain": [
       "'1234556'"
      ]
     },
     "execution_count": 27,
     "metadata": {},
     "output_type": "execute_result"
    }
   ],
   "source": [
    "# format_number 함수가 잘 동작하는지 확인하기\n",
    "format_number('1234556')"
   ]
  },
  {
   "cell_type": "code",
   "execution_count": 28,
   "metadata": {},
   "outputs": [
    {
     "data": {
      "text/plain": [
       "'abacde'"
      ]
     },
     "execution_count": 28,
     "metadata": {},
     "output_type": "execute_result"
    }
   ],
   "source": [
    "format_number(\"abacde\")"
   ]
  },
  {
   "cell_type": "code",
   "execution_count": 31,
   "metadata": {
    "scrolled": false
   },
   "outputs": [
    {
     "data": {
      "text/plain": [
       "상장주식수      int64\n",
       "거래량      float64\n",
       "dtype: object"
      ]
     },
     "execution_count": 31,
     "metadata": {},
     "output_type": "execute_result"
    }
   ],
   "source": [
    "# \"상장주식수\", \"거래량\" 의 타입 보기\n",
    "df[[\"상장주식수\", \"거래량\"]].dtypes"
   ]
  },
  {
   "cell_type": "code",
   "execution_count": 37,
   "metadata": {
    "scrolled": false
   },
   "outputs": [
    {
     "data": {
      "text/html": [
       "<style type=\"text/css\">\n",
       "</style>\n",
       "<table id=\"T_feb6b\">\n",
       "  <thead>\n",
       "    <tr>\n",
       "      <th class=\"blank level0\" >&nbsp;</th>\n",
       "      <th id=\"T_feb6b_level0_col0\" class=\"col_heading level0 col0\" >종목코드</th>\n",
       "      <th id=\"T_feb6b_level0_col1\" class=\"col_heading level0 col1\" >상장주식수</th>\n",
       "      <th id=\"T_feb6b_level0_col2\" class=\"col_heading level0 col2\" >거래량</th>\n",
       "    </tr>\n",
       "  </thead>\n",
       "  <tbody>\n",
       "    <tr>\n",
       "      <th id=\"T_feb6b_level0_row0\" class=\"row_heading level0 row0\" >0</th>\n",
       "      <td id=\"T_feb6b_row0_col0\" class=\"data row0 col0\" >284620</td>\n",
       "      <td id=\"T_feb6b_row0_col1\" class=\"data row0 col1\" >22,322,396</td>\n",
       "      <td id=\"T_feb6b_row0_col2\" class=\"data row0 col2\" >125,641.0</td>\n",
       "    </tr>\n",
       "    <tr>\n",
       "      <th id=\"T_feb6b_level0_row1\" class=\"row_heading level0 row1\" >1</th>\n",
       "      <td id=\"T_feb6b_row1_col0\" class=\"data row1 col0\" >249420</td>\n",
       "      <td id=\"T_feb6b_row1_col1\" class=\"data row1 col1\" >26,803,285</td>\n",
       "      <td id=\"T_feb6b_row1_col2\" class=\"data row1 col2\" >1,291,093.0</td>\n",
       "    </tr>\n",
       "    <tr>\n",
       "      <th id=\"T_feb6b_level0_row2\" class=\"row_heading level0 row2\" >2</th>\n",
       "      <td id=\"T_feb6b_row2_col0\" class=\"data row2 col0\" >044960</td>\n",
       "      <td id=\"T_feb6b_row2_col1\" class=\"data row2 col1\" >12,641,883</td>\n",
       "      <td id=\"T_feb6b_row2_col2\" class=\"data row2 col2\" >362,894.0</td>\n",
       "    </tr>\n",
       "    <tr>\n",
       "      <th id=\"T_feb6b_level0_row3\" class=\"row_heading level0 row3\" >3</th>\n",
       "      <td id=\"T_feb6b_row3_col0\" class=\"data row3 col0\" >179530</td>\n",
       "      <td id=\"T_feb6b_row3_col1\" class=\"data row3 col1\" >9,140,444</td>\n",
       "      <td id=\"T_feb6b_row3_col2\" class=\"data row3 col2\" >18,666.0</td>\n",
       "    </tr>\n",
       "    <tr>\n",
       "      <th id=\"T_feb6b_level0_row4\" class=\"row_heading level0 row4\" >4</th>\n",
       "      <td id=\"T_feb6b_row4_col0\" class=\"data row4 col0\" >019175</td>\n",
       "      <td id=\"T_feb6b_row4_col1\" class=\"data row4 col1\" >2,200,000</td>\n",
       "      <td id=\"T_feb6b_row4_col2\" class=\"data row4 col2\" >2,085.0</td>\n",
       "    </tr>\n",
       "  </tbody>\n",
       "</table>\n"
      ],
      "text/plain": [
       "<pandas.io.formats.style.Styler at 0x22ed5878070>"
      ]
     },
     "execution_count": 37,
     "metadata": {},
     "output_type": "execute_result"
    }
   ],
   "source": [
    "# \"상장주식수\", \"거래량\" 데이터에 format_number 를 적용해 봅니다.\n",
    "df[[\"종목코드\", \"상장주식수\", \"거래량\"]].head().style.format(format_number)"
   ]
  },
  {
   "cell_type": "markdown",
   "metadata": {},
   "source": [
    "## EPS(원)\n",
    "\n",
    "* _x 와 _y로 변수명이 생성된 이유는 기업실적 분석에 있는 EPS(원)과 투자정보에 있는 EPS(원)이 합쳐졌기 때문입니다.\n",
    "* _x : 기업실적 분석의 최근분기실적에서 가져온 데이터\n",
    "* _y : 투자정보에서 가져온 데이터\n",
    "\n",
    "\n",
    "* `EPS(Earning Per Share) = 순이익(당기순이익) / 그 기업이 발행한 총 주식수`\n",
    "* 주당순이익(EPS)는 기업이 1주당 얼마의 순이익을 냈는가를 나타내는 지표이다. 예를 들어 발행주식이 10,000개인 기업이 순이익 1,000원을 냈다면 주당순이익은 0.1이 된다. EPS는 주로 PER을 계산하기 위한 값으로 이용되며 단독으로는 별로 사용되지 않는다.\n",
    "* 주가 10,000원짜리 기업이 순이익 1,000원을 냈다고 해도, 발행한 주식의 수를 알 수 없으므로 주당 순이익이 0.1이라고 단정지어서는 안된다. 또한 발행한 주식의 수가 달라질 수도 있으므로, 얼마든지 0.1이라는 수치는 변할 수 있다는 점도 간과해서는 아니된다.\n",
    "* 출처 : https://ko.wikipedia.org/wiki/%EC%A3%BC%EB%8B%B9%EC%88%9C%EC%9D%B4%EC%9D%B5"
   ]
  },
  {
   "cell_type": "code",
   "execution_count": 39,
   "metadata": {},
   "outputs": [
    {
     "data": {
      "text/html": [
       "<div>\n",
       "<style scoped>\n",
       "    .dataframe tbody tr th:only-of-type {\n",
       "        vertical-align: middle;\n",
       "    }\n",
       "\n",
       "    .dataframe tbody tr th {\n",
       "        vertical-align: top;\n",
       "    }\n",
       "\n",
       "    .dataframe thead th {\n",
       "        text-align: right;\n",
       "    }\n",
       "</style>\n",
       "<table border=\"1\" class=\"dataframe\">\n",
       "  <thead>\n",
       "    <tr style=\"text-align: right;\">\n",
       "      <th></th>\n",
       "      <th>EPS(원)</th>\n",
       "    </tr>\n",
       "  </thead>\n",
       "  <tbody>\n",
       "    <tr>\n",
       "      <th>0</th>\n",
       "      <td>-770.0</td>\n",
       "    </tr>\n",
       "    <tr>\n",
       "      <th>1</th>\n",
       "      <td>-8637.0</td>\n",
       "    </tr>\n",
       "    <tr>\n",
       "      <th>2</th>\n",
       "      <td>302.0</td>\n",
       "    </tr>\n",
       "    <tr>\n",
       "      <th>3</th>\n",
       "      <td>-347.0</td>\n",
       "    </tr>\n",
       "    <tr>\n",
       "      <th>4</th>\n",
       "      <td>-333.0</td>\n",
       "    </tr>\n",
       "    <tr>\n",
       "      <th>...</th>\n",
       "      <td>...</td>\n",
       "    </tr>\n",
       "    <tr>\n",
       "      <th>153</th>\n",
       "      <td>-29.0</td>\n",
       "    </tr>\n",
       "    <tr>\n",
       "      <th>154</th>\n",
       "      <td>-582.0</td>\n",
       "    </tr>\n",
       "    <tr>\n",
       "      <th>155</th>\n",
       "      <td>231.0</td>\n",
       "    </tr>\n",
       "    <tr>\n",
       "      <th>156</th>\n",
       "      <td>-2408.0</td>\n",
       "    </tr>\n",
       "    <tr>\n",
       "      <th>157</th>\n",
       "      <td>-550.0</td>\n",
       "    </tr>\n",
       "  </tbody>\n",
       "</table>\n",
       "<p>158 rows × 1 columns</p>\n",
       "</div>"
      ],
      "text/plain": [
       "     EPS(원)\n",
       "0    -770.0\n",
       "1   -8637.0\n",
       "2     302.0\n",
       "3    -347.0\n",
       "4    -333.0\n",
       "..      ...\n",
       "153   -29.0\n",
       "154  -582.0\n",
       "155   231.0\n",
       "156 -2408.0\n",
       "157  -550.0\n",
       "\n",
       "[158 rows x 1 columns]"
      ]
     },
     "execution_count": 39,
     "metadata": {},
     "output_type": "execute_result"
    }
   ],
   "source": [
    "# \"EPS(원)_x\"가 결측치가 아니고 \"EPS(원)_y\" 가 결측치라면 \"EPS(원)_x\" 로 _y의 결측치를 채우도록 합니다.\n",
    "# df[\"EPS(원)\"]\n",
    "df.filter(regex=\"EPS\", axis=1)"
   ]
  },
  {
   "cell_type": "code",
   "execution_count": 47,
   "metadata": {},
   "outputs": [],
   "source": [
    "# 사용하지 않는 컬럼은 삭제합니다.\n",
    "# df.head().filter(regex=\"EPS\")\n",
    "# df[df[\"EPS(원)\"].isnull()]"
   ]
  },
  {
   "cell_type": "code",
   "execution_count": null,
   "metadata": {},
   "outputs": [],
   "source": []
  },
  {
   "cell_type": "markdown",
   "metadata": {},
   "source": [
    "## PER(배) \n",
    "* _x 와 _y로 변수명이 생성된 이유는 기업실적 분석에 있는 PER(배) 와 투자정보에 있는 PER(배)가 합쳐졌기 때문입니다.\n",
    "* _x : 기업실적 분석의 최근분기실적에서 가져온 데이터\n",
    "* _y : 투자정보에서 가져온 데이터\n",
    "\n",
    "\n",
    "* `PER(Price Earnings Ratio)`\n",
    "* 주가수익률은 주가를 1주당 순이익 (EPS)으로 나눈 값이다. 예를 들어 주가 10,000 원짜리 기업이 주당 1,000 원의 순익을 거뒀다면 PER은 10배가 된다. 주가 5,000 원짜리 기업이 주당 1,000 원의 순익을 거뒀다면 PER은 5배가 된다. 즉 두 기업은 이익은 같은데도 전자의 기업은 주가가 두배로 평가되어 있는 셈이다.\n",
    "\n",
    "* PER는 당기순이익 크기에 관계없이 주식가치의 기업간, 기간간 비교를 가능하게 한다. **일반적으로 PER가 낮으면 이익에 비해 주가가 저평가된 종목으로, 높으면 고평가된 종목으로 간주된다. 따라서 가치투자에서는 PER가 낮은 종목을 매수하여 보유하는 방법이 자주 언급된다.**\n",
    "\n",
    "* 급격한 성장이 예상되는 혁신기업의 주식가치 판단에도 PER가 정확한 기준인가는 부정적인 의견이 많다. PER는 현재의 회계적 이익만을 기준으로 미래가치가 반영된 주식가치를 평가하기 때문이다. `성장이 안정기에 접어든 기업은 PER가 유용할 순 있어도, 급격한 성장이 예상되는 기업의 경우에는 PER가 미래 주식가치를 온전히 반영할 수가 없다.`\n",
    "\n",
    "* 특히, 성장이 빠른 업종에서 수익성보다 매출 성장이 중시되는 상황에서는 이익보다 매출이 더 중요한 기준이 되므로 PER은 유용하지 못한 지표가 된다. 예를 들어 앞의 예에서 PER 10배인 기업은 PER 5배인 기업과 순이익은 같지만 매출이 훨씬 크거나 시장점유율이 빨리 성장하기 때문에 주가가 더 고평가되어 있는 것일 수도 있다. 즉 미래의 가치는 주가에 선반영되어 있기 때문에, PER만을 투자에 활용하는 것은 좋지 못하다.\n",
    "\n",
    "* 출처 https://ko.wikipedia.org/wiki/%EC%A3%BC%EA%B0%80%EC%88%98%EC%9D%B5%EB%A5%A0"
   ]
  },
  {
   "cell_type": "code",
   "execution_count": 49,
   "metadata": {},
   "outputs": [
    {
     "data": {
      "text/html": [
       "<div>\n",
       "<style scoped>\n",
       "    .dataframe tbody tr th:only-of-type {\n",
       "        vertical-align: middle;\n",
       "    }\n",
       "\n",
       "    .dataframe tbody tr th {\n",
       "        vertical-align: top;\n",
       "    }\n",
       "\n",
       "    .dataframe thead th {\n",
       "        text-align: right;\n",
       "    }\n",
       "</style>\n",
       "<table border=\"1\" class=\"dataframe\">\n",
       "  <thead>\n",
       "    <tr style=\"text-align: right;\">\n",
       "      <th></th>\n",
       "      <th>동일업종 PER</th>\n",
       "      <th>PER(배)</th>\n",
       "    </tr>\n",
       "  </thead>\n",
       "  <tbody>\n",
       "    <tr>\n",
       "      <th>0</th>\n",
       "      <td>106.06</td>\n",
       "      <td>NaN</td>\n",
       "    </tr>\n",
       "    <tr>\n",
       "      <th>1</th>\n",
       "      <td>106.06</td>\n",
       "      <td>NaN</td>\n",
       "    </tr>\n",
       "    <tr>\n",
       "      <th>2</th>\n",
       "      <td>106.06</td>\n",
       "      <td>21.03</td>\n",
       "    </tr>\n",
       "    <tr>\n",
       "      <th>3</th>\n",
       "      <td>106.06</td>\n",
       "      <td>NaN</td>\n",
       "    </tr>\n",
       "    <tr>\n",
       "      <th>4</th>\n",
       "      <td>106.06</td>\n",
       "      <td>NaN</td>\n",
       "    </tr>\n",
       "    <tr>\n",
       "      <th>...</th>\n",
       "      <td>...</td>\n",
       "      <td>...</td>\n",
       "    </tr>\n",
       "    <tr>\n",
       "      <th>153</th>\n",
       "      <td>106.06</td>\n",
       "      <td>NaN</td>\n",
       "    </tr>\n",
       "    <tr>\n",
       "      <th>154</th>\n",
       "      <td>106.06</td>\n",
       "      <td>NaN</td>\n",
       "    </tr>\n",
       "    <tr>\n",
       "      <th>155</th>\n",
       "      <td>106.06</td>\n",
       "      <td>8.57</td>\n",
       "    </tr>\n",
       "    <tr>\n",
       "      <th>156</th>\n",
       "      <td>106.06</td>\n",
       "      <td>NaN</td>\n",
       "    </tr>\n",
       "    <tr>\n",
       "      <th>157</th>\n",
       "      <td>106.06</td>\n",
       "      <td>NaN</td>\n",
       "    </tr>\n",
       "  </tbody>\n",
       "</table>\n",
       "<p>158 rows × 2 columns</p>\n",
       "</div>"
      ],
      "text/plain": [
       "     동일업종 PER  PER(배)\n",
       "0      106.06     NaN\n",
       "1      106.06     NaN\n",
       "2      106.06   21.03\n",
       "3      106.06     NaN\n",
       "4      106.06     NaN\n",
       "..        ...     ...\n",
       "153    106.06     NaN\n",
       "154    106.06     NaN\n",
       "155    106.06    8.57\n",
       "156    106.06     NaN\n",
       "157    106.06     NaN\n",
       "\n",
       "[158 rows x 2 columns]"
      ]
     },
     "execution_count": 49,
     "metadata": {},
     "output_type": "execute_result"
    }
   ],
   "source": [
    "# \"PER(배)_x\"가 결측치가 아니고 \"PER(배)_y\" 가 결측치라면 \"PER(배)_x\" 로 _y의 결측치를 채우도록 합니다.\n",
    "# df[\"PER(배)\"]\n",
    "df.filter(regex=\"PER\")"
   ]
  },
  {
   "cell_type": "code",
   "execution_count": 48,
   "metadata": {},
   "outputs": [
    {
     "data": {
      "text/plain": [
       "0        NaN\n",
       "1        NaN\n",
       "2      21.03\n",
       "3        NaN\n",
       "4        NaN\n",
       "       ...  \n",
       "153      NaN\n",
       "154      NaN\n",
       "155     8.57\n",
       "156      NaN\n",
       "157      NaN\n",
       "Name: PER(배), Length: 158, dtype: float64"
      ]
     },
     "execution_count": 48,
     "metadata": {},
     "output_type": "execute_result"
    }
   ],
   "source": [
    "df[\"PER(배)\"]"
   ]
  },
  {
   "cell_type": "code",
   "execution_count": null,
   "metadata": {},
   "outputs": [],
   "source": []
  },
  {
   "cell_type": "markdown",
   "metadata": {},
   "source": [
    "## BPS(원)\n",
    "\n",
    "* _x 와 _y로 변수명이 생성된 이유는 기업실적 분석에 있는 BPS(원)과 투자정보에 있는 BPS(원)이 합쳐졌기 때문입니다.\n",
    "* _x : 기업실적 분석의 최근분기실적에서 가져온 데이터\n",
    "* _y : 투자정보에서 가져온 데이터\n",
    "\n",
    "\n",
    "* `주당순자산가치(BPS, Book-value Per Share)는 기업의 순자산을 발행 주식수로 나눈 것`\n",
    "\n",
    "* 주당순자산가치는, '청산가치' 라고도 불린다. 그 이유는 현재 시점에서 기업의 활동을 중단시키고 그 부를 모든 주주들에게 나눠줄 경우 한주당 얼마씩이 돌아가는가를 나타내는 수치이기 때문이다. 보통 주당순자산가치라는 말은 잘 쓰지 않고 BPS라고 하므로 이하 BPS로 쓴다.\n",
    "* 기업의 총자산에서 부채를 빼면 자기자본이 나온다. 어림셈법으로, 이것을 순자산으로 보고 총 발행주식수로 나누어서 BPS를 산출하는 방법도 있다. 예를 들어 회사에 순자산이 1억이 있고, 총 발행된 주식이 1만장 있다면 주당순자산은 1만원이 된다.\n",
    "\n",
    "* 주당순자산을 좀더 보수적으로 계산하려면, 여기서 상표권, 영업권 등의 무형고정자산과 배당금, 임원상여금 등 사외유출분을 뺀 것을 순자산으로 본다. 이것을 총 발행주식수로 나누면 BPS가 나온다.\n",
    "\n",
    "* 예를 들어 회사에 전체 자산이 2억 2천만 원이 있고, 이중 부채가 1억, 무형고정자산과 배당금, 상여금 등으로 나가야 할 돈이 총 2천만 원이라면 순자산은 1억원이 된다. 여기에 총 발행 주식이 1만장이라면 BPS는 1만 원이 된다. 즉 이 회사를 지금 당장 폐업시키고 자산을 모두 처분하여 주주 배당금과 상여금 등으로 쓸 돈을 제외하고 나머지를 모두 주주들에게 돌려준다면, 주주들은 한주당 1만 원씩을 받게 된다.\n",
    "\n",
    "* BPS가 높다는 것은 자기자본의 비중이 크거나 회사 가치가 높다는 것을 나타낸다. BPS에는 주가 정보가 고려되어 있지 않으므로, 이 회사의 **주가가 자산 가치에 비해 얼마나 저평가 혹은 고평가되어 있는지 판단하기 위해 PBR이라는 값을 사용한다.**\n",
    "\n",
    "* PBR 값은 BPS 값으로 현재 주가를 나눈 것이다. BPS가 1만원인 위 사례에서 주가가 5,000원이라면 PBR은 0.5가 되고, 주가가 20,000원이라면 PBR은 2가 된다. 즉 전자의 경우 주가는 실제의 자산에 비해 저평가되어 되어 있는 것이고, 후자의 경우 주가는 실제 자산에 비해 고평가 되어 있는 것이다.\n",
    "\n",
    "* 이렇게 되는 이유는 **BPS가 단지 현재 자산의 청산가치일 뿐, 현재의 현금흐름이나 미래의 가치를 반영하고 있지는 않기 때문이다. 예를 들어 BPS가 높은 즉 많은 자산을 보유하고 있는 기업도 순이익이 적거나 마이너스라면 주가는 낮을 것이고, BPS가 낮은 즉 자산이 적은 기업도 순이익이 크다면 주가는 높게 책정될 것이다.**\n",
    "\n",
    "* 출처 : https://ko.wikipedia.org/wiki/%EC%A3%BC%EB%8B%B9%EC%88%9C%EC%9E%90%EC%82%B0%EA%B0%80%EC%B9%98"
   ]
  },
  {
   "cell_type": "code",
   "execution_count": 53,
   "metadata": {},
   "outputs": [
    {
     "data": {
      "text/html": [
       "<div>\n",
       "<style scoped>\n",
       "    .dataframe tbody tr th:only-of-type {\n",
       "        vertical-align: middle;\n",
       "    }\n",
       "\n",
       "    .dataframe tbody tr th {\n",
       "        vertical-align: top;\n",
       "    }\n",
       "\n",
       "    .dataframe thead th {\n",
       "        text-align: right;\n",
       "    }\n",
       "</style>\n",
       "<table border=\"1\" class=\"dataframe\">\n",
       "  <thead>\n",
       "    <tr style=\"text-align: right;\">\n",
       "      <th></th>\n",
       "      <th>BPS</th>\n",
       "      <th>BPS(원)</th>\n",
       "    </tr>\n",
       "  </thead>\n",
       "  <tbody>\n",
       "    <tr>\n",
       "      <th>0</th>\n",
       "      <td>79원</td>\n",
       "      <td>79.0</td>\n",
       "    </tr>\n",
       "    <tr>\n",
       "      <th>1</th>\n",
       "      <td>7,471원</td>\n",
       "      <td>7471.0</td>\n",
       "    </tr>\n",
       "    <tr>\n",
       "      <th>2</th>\n",
       "      <td>3,391원</td>\n",
       "      <td>3391.0</td>\n",
       "    </tr>\n",
       "    <tr>\n",
       "      <th>3</th>\n",
       "      <td>NaN</td>\n",
       "      <td>1530.0</td>\n",
       "    </tr>\n",
       "    <tr>\n",
       "      <th>4</th>\n",
       "      <td>6,792원</td>\n",
       "      <td>6792.0</td>\n",
       "    </tr>\n",
       "    <tr>\n",
       "      <th>...</th>\n",
       "      <td>...</td>\n",
       "      <td>...</td>\n",
       "    </tr>\n",
       "    <tr>\n",
       "      <th>153</th>\n",
       "      <td>1,062원</td>\n",
       "      <td>1062.0</td>\n",
       "    </tr>\n",
       "    <tr>\n",
       "      <th>154</th>\n",
       "      <td>3,845원</td>\n",
       "      <td>3845.0</td>\n",
       "    </tr>\n",
       "    <tr>\n",
       "      <th>155</th>\n",
       "      <td>1,137원</td>\n",
       "      <td>1137.0</td>\n",
       "    </tr>\n",
       "    <tr>\n",
       "      <th>156</th>\n",
       "      <td>15,762원</td>\n",
       "      <td>15762.0</td>\n",
       "    </tr>\n",
       "    <tr>\n",
       "      <th>157</th>\n",
       "      <td>2,932원</td>\n",
       "      <td>2932.0</td>\n",
       "    </tr>\n",
       "  </tbody>\n",
       "</table>\n",
       "<p>158 rows × 2 columns</p>\n",
       "</div>"
      ],
      "text/plain": [
       "          BPS   BPS(원)\n",
       "0         79원     79.0\n",
       "1      7,471원   7471.0\n",
       "2      3,391원   3391.0\n",
       "3         NaN   1530.0\n",
       "4      6,792원   6792.0\n",
       "..        ...      ...\n",
       "153    1,062원   1062.0\n",
       "154    3,845원   3845.0\n",
       "155    1,137원   1137.0\n",
       "156   15,762원  15762.0\n",
       "157    2,932원   2932.0\n",
       "\n",
       "[158 rows x 2 columns]"
      ]
     },
     "execution_count": 53,
     "metadata": {},
     "output_type": "execute_result"
    }
   ],
   "source": [
    "# \"BPS(원)_x\"가 결측치가 아니고 \"BPS(원)_y\" 가 결측치라면 \"BPS(원)_x\" 로 _y의 결측치를 채우도록 합니다.\n",
    "df.filter(regex=\"BPS\")"
   ]
  },
  {
   "cell_type": "code",
   "execution_count": 56,
   "metadata": {},
   "outputs": [
    {
     "data": {
      "text/html": [
       "<div>\n",
       "<style scoped>\n",
       "    .dataframe tbody tr th:only-of-type {\n",
       "        vertical-align: middle;\n",
       "    }\n",
       "\n",
       "    .dataframe tbody tr th {\n",
       "        vertical-align: top;\n",
       "    }\n",
       "\n",
       "    .dataframe thead th {\n",
       "        text-align: right;\n",
       "    }\n",
       "</style>\n",
       "<table border=\"1\" class=\"dataframe\">\n",
       "  <thead>\n",
       "    <tr style=\"text-align: right;\">\n",
       "      <th></th>\n",
       "      <th>BPS</th>\n",
       "      <th>BPS(원)</th>\n",
       "    </tr>\n",
       "  </thead>\n",
       "  <tbody>\n",
       "    <tr>\n",
       "      <th>3</th>\n",
       "      <td>NaN</td>\n",
       "      <td>1530.0</td>\n",
       "    </tr>\n",
       "    <tr>\n",
       "      <th>7</th>\n",
       "      <td>NaN</td>\n",
       "      <td>3115.0</td>\n",
       "    </tr>\n",
       "    <tr>\n",
       "      <th>73</th>\n",
       "      <td>NaN</td>\n",
       "      <td>606.0</td>\n",
       "    </tr>\n",
       "    <tr>\n",
       "      <th>76</th>\n",
       "      <td>NaN</td>\n",
       "      <td>1049.0</td>\n",
       "    </tr>\n",
       "    <tr>\n",
       "      <th>80</th>\n",
       "      <td>NaN</td>\n",
       "      <td>1443.0</td>\n",
       "    </tr>\n",
       "    <tr>\n",
       "      <th>143</th>\n",
       "      <td>NaN</td>\n",
       "      <td>3886.0</td>\n",
       "    </tr>\n",
       "    <tr>\n",
       "      <th>145</th>\n",
       "      <td>NaN</td>\n",
       "      <td>5370.0</td>\n",
       "    </tr>\n",
       "    <tr>\n",
       "      <th>149</th>\n",
       "      <td>NaN</td>\n",
       "      <td>912.0</td>\n",
       "    </tr>\n",
       "  </tbody>\n",
       "</table>\n",
       "</div>"
      ],
      "text/plain": [
       "     BPS  BPS(원)\n",
       "3    NaN  1530.0\n",
       "7    NaN  3115.0\n",
       "73   NaN   606.0\n",
       "76   NaN  1049.0\n",
       "80   NaN  1443.0\n",
       "143  NaN  3886.0\n",
       "145  NaN  5370.0\n",
       "149  NaN   912.0"
      ]
     },
     "execution_count": 56,
     "metadata": {},
     "output_type": "execute_result"
    }
   ],
   "source": [
    "df[df[\"BPS\"].isnull()][[\"BPS\", \"BPS(원)\"]]"
   ]
  },
  {
   "cell_type": "code",
   "execution_count": 55,
   "metadata": {},
   "outputs": [
    {
     "data": {
      "text/plain": [
       "0"
      ]
     },
     "execution_count": 55,
     "metadata": {},
     "output_type": "execute_result"
    }
   ],
   "source": [
    "df[\"BPS(원)\"].isnull().sum()"
   ]
  },
  {
   "cell_type": "markdown",
   "metadata": {},
   "source": [
    "## PBR(배) \n",
    "* _x 와 _y로 변수명이 생성된 이유는 기업실적 분석에 있는 PBR(배) 와 투자정보에 있는 PBR(배)가 합쳐졌기 때문입니다.\n",
    "* _x : 기업실적 분석의 최근분기실적에서 가져온 데이터\n",
    "* _y : 투자정보에서 가져온 데이터\n",
    "\n",
    "\n",
    "* `PBR = 주가/BPS(주당순자산가치)`\n",
    "\n",
    "* PBR(주가순자산비율, price-to-book ratio, P/B ratio)는 주가를 BPS(주당순자산가치)로 나눈 것이다. 주가가 1주당 순자산의 몇 배로 매매되고 있는가를 표시하며 PER과 같이 주가의 상대적 수준을 나타낸다.\n",
    "\n",
    "\n",
    "* 주가는 그 회사의 종합적인 평가이므로 주주 소유분을 초과한 부분은 모두 그 회사의 잠재적인 프리미엄이 되기 때문에 경영의 종합력이 뛰어나면 뛰어날수록 배율이 높아진다고 할 수 있다. 일반적으로 이 지표는 PER과 함께 사용되는데, 이는 주가순자산배율이 그 회사를 정적인 상태 즉 스토크(stock)면에서 보고 있는데 반하여 주가수익률은 동적인 상태 즉 플로(flow)면에서 보고 있으므로 두 가지 지표가 서로 보완관계에 있다.\n",
    "\n",
    "* 다만 이 주가 순자산배율에도 주주소유분이 장부가격에 의해 계산되고 있어 반드시 정확하다고 할 수 없고 또 그 계산기준이 전기의 결산기가 된다는 등의 난점이 있다.\n",
    "\n",
    "* 출처 : https://ko.wikipedia.org/wiki/%EC%A3%BC%EA%B0%80%EC%88%9C%EC%9E%90%EC%82%B0%EB%B9%84%EC%9C%A8"
   ]
  },
  {
   "cell_type": "code",
   "execution_count": null,
   "metadata": {},
   "outputs": [],
   "source": [
    "# \"PBR(배)_x\"가 결측치가 아니고 \"PBR(배)_y\" 가 결측치라면 \"PBR(배)_x\" 로 _y의 결측치를 채우도록 합니다.\n",
    "# df[\"PBR(배)\"]"
   ]
  },
  {
   "cell_type": "code",
   "execution_count": 57,
   "metadata": {},
   "outputs": [
    {
     "data": {
      "text/html": [
       "<div>\n",
       "<style scoped>\n",
       "    .dataframe tbody tr th:only-of-type {\n",
       "        vertical-align: middle;\n",
       "    }\n",
       "\n",
       "    .dataframe tbody tr th {\n",
       "        vertical-align: top;\n",
       "    }\n",
       "\n",
       "    .dataframe thead th {\n",
       "        text-align: right;\n",
       "    }\n",
       "</style>\n",
       "<table border=\"1\" class=\"dataframe\">\n",
       "  <thead>\n",
       "    <tr style=\"text-align: right;\">\n",
       "      <th></th>\n",
       "      <th>PBR</th>\n",
       "      <th>PBR(배)</th>\n",
       "    </tr>\n",
       "  </thead>\n",
       "  <tbody>\n",
       "    <tr>\n",
       "      <th>0</th>\n",
       "      <td>125.82배</td>\n",
       "      <td>125.82</td>\n",
       "    </tr>\n",
       "    <tr>\n",
       "      <th>1</th>\n",
       "      <td>5.47배</td>\n",
       "      <td>5.47</td>\n",
       "    </tr>\n",
       "    <tr>\n",
       "      <th>2</th>\n",
       "      <td>1.87배</td>\n",
       "      <td>1.87</td>\n",
       "    </tr>\n",
       "    <tr>\n",
       "      <th>3</th>\n",
       "      <td>NaN</td>\n",
       "      <td>3.20</td>\n",
       "    </tr>\n",
       "    <tr>\n",
       "      <th>4</th>\n",
       "      <td>6.91배</td>\n",
       "      <td>6.91</td>\n",
       "    </tr>\n",
       "    <tr>\n",
       "      <th>...</th>\n",
       "      <td>...</td>\n",
       "      <td>...</td>\n",
       "    </tr>\n",
       "    <tr>\n",
       "      <th>153</th>\n",
       "      <td>1.99배</td>\n",
       "      <td>1.99</td>\n",
       "    </tr>\n",
       "    <tr>\n",
       "      <th>154</th>\n",
       "      <td>3.36배</td>\n",
       "      <td>3.36</td>\n",
       "    </tr>\n",
       "    <tr>\n",
       "      <th>155</th>\n",
       "      <td>1.74배</td>\n",
       "      <td>1.74</td>\n",
       "    </tr>\n",
       "    <tr>\n",
       "      <th>156</th>\n",
       "      <td>1.14배</td>\n",
       "      <td>1.14</td>\n",
       "    </tr>\n",
       "    <tr>\n",
       "      <th>157</th>\n",
       "      <td>5.08배</td>\n",
       "      <td>5.08</td>\n",
       "    </tr>\n",
       "  </tbody>\n",
       "</table>\n",
       "<p>158 rows × 2 columns</p>\n",
       "</div>"
      ],
      "text/plain": [
       "          PBR  PBR(배)\n",
       "0    125.82배   125.82\n",
       "1      5.47배     5.47\n",
       "2      1.87배     1.87\n",
       "3         NaN    3.20\n",
       "4      6.91배     6.91\n",
       "..        ...     ...\n",
       "153    1.99배     1.99\n",
       "154    3.36배     3.36\n",
       "155    1.74배     1.74\n",
       "156    1.14배     1.14\n",
       "157    5.08배     5.08\n",
       "\n",
       "[158 rows x 2 columns]"
      ]
     },
     "execution_count": 57,
     "metadata": {},
     "output_type": "execute_result"
    }
   ],
   "source": [
    "df.filter(regex=\"PBR\")"
   ]
  },
  {
   "cell_type": "code",
   "execution_count": 58,
   "metadata": {},
   "outputs": [
    {
     "data": {
      "text/plain": [
       "8"
      ]
     },
     "execution_count": 58,
     "metadata": {},
     "output_type": "execute_result"
    }
   ],
   "source": [
    "df[\"PBR\"].isnull().sum()"
   ]
  },
  {
   "cell_type": "code",
   "execution_count": 59,
   "metadata": {},
   "outputs": [
    {
     "data": {
      "text/plain": [
       "0"
      ]
     },
     "execution_count": 59,
     "metadata": {},
     "output_type": "execute_result"
    }
   ],
   "source": [
    "df[\"PBR(배)\"].isnull().sum()"
   ]
  },
  {
   "cell_type": "markdown",
   "metadata": {},
   "source": [
    "## 일부 컬럼만 사용하기"
   ]
  },
  {
   "cell_type": "code",
   "execution_count": 60,
   "metadata": {
    "scrolled": true
   },
   "outputs": [
    {
     "data": {
      "text/plain": [
       "Index(['종목명', '현재가', '전일비', '등락률', '매수호가', '매도호가', '거래량', '거래대금', '전일거래량',\n",
       "       '조회일자', '종목코드', '매출액', '영업이익', '당기순이익', '영업이익률', '순이익률', '상장주식수',\n",
       "       '외국인한도주식수(A)', '외국인보유주식수(B)', '외국인소진율(B/A)', '동일업종 PER', '동일업종 등락률',\n",
       "       '코스피/코스닥', '시가총액(억원)', '시가총액순위(전처리)', '52주최고', '52주최저', '52주차액',\n",
       "       '52주차액비율', '현재-최고가', '현재/최고가비율', '목표주가', '투자의견', '매수매도', 'PBR', 'PPS',\n",
       "       'BPS', 'PER(배)', 'EPS(원)', 'PBR(배)', 'BPS(원)', '배당수익률(%)'],\n",
       "      dtype='object')"
      ]
     },
     "execution_count": 60,
     "metadata": {},
     "output_type": "execute_result"
    }
   ],
   "source": [
    "# 전체 컬럼명 보기\n",
    "df.columns"
   ]
  },
  {
   "cell_type": "code",
   "execution_count": 64,
   "metadata": {},
   "outputs": [],
   "source": [
    "# cols 변수에 사용할 일부 컬럼만을 따로 리스트 형태로 만듭니다.\n",
    "cols = ['조회일자', '종목명', '종목코드', '52주차액비율', '거래대금', '거래량', \n",
    "        '배당수익률(%)', '목표주가', '상장주식수', '시가총액(억원)', '시가총액순위(전처리)', \n",
    "        '투자의견', '매수매도', '현재-최고가', '현재/최고가비율', '현재가', \n",
    "        'PER(배)', 'EPS(원)', 'PBR(배)', 'BPS(원)']"
   ]
  },
  {
   "cell_type": "code",
   "execution_count": 65,
   "metadata": {
    "scrolled": false
   },
   "outputs": [
    {
     "data": {
      "text/html": [
       "<div>\n",
       "<style scoped>\n",
       "    .dataframe tbody tr th:only-of-type {\n",
       "        vertical-align: middle;\n",
       "    }\n",
       "\n",
       "    .dataframe tbody tr th {\n",
       "        vertical-align: top;\n",
       "    }\n",
       "\n",
       "    .dataframe thead th {\n",
       "        text-align: right;\n",
       "    }\n",
       "</style>\n",
       "<table border=\"1\" class=\"dataframe\">\n",
       "  <thead>\n",
       "    <tr style=\"text-align: right;\">\n",
       "      <th></th>\n",
       "      <th>조회일자</th>\n",
       "      <th>종목명</th>\n",
       "      <th>종목코드</th>\n",
       "      <th>52주차액비율</th>\n",
       "      <th>거래대금</th>\n",
       "      <th>거래량</th>\n",
       "      <th>배당수익률(%)</th>\n",
       "      <th>목표주가</th>\n",
       "      <th>상장주식수</th>\n",
       "      <th>시가총액(억원)</th>\n",
       "      <th>시가총액순위(전처리)</th>\n",
       "      <th>투자의견</th>\n",
       "      <th>매수매도</th>\n",
       "      <th>현재-최고가</th>\n",
       "      <th>현재/최고가비율</th>\n",
       "      <th>현재가</th>\n",
       "      <th>PER(배)</th>\n",
       "      <th>EPS(원)</th>\n",
       "      <th>PBR(배)</th>\n",
       "      <th>BPS(원)</th>\n",
       "    </tr>\n",
       "  </thead>\n",
       "  <tbody>\n",
       "    <tr>\n",
       "      <th>0</th>\n",
       "      <td>2022-07-12</td>\n",
       "      <td>카이노스메드 *</td>\n",
       "      <td>284620</td>\n",
       "      <td>2.492757</td>\n",
       "      <td>1413.0</td>\n",
       "      <td>125641.0</td>\n",
       "      <td>NaN</td>\n",
       "      <td>NaN</td>\n",
       "      <td>22322396</td>\n",
       "      <td>2219</td>\n",
       "      <td>362</td>\n",
       "      <td>NaN</td>\n",
       "      <td>NaN</td>\n",
       "      <td>-10060.0</td>\n",
       "      <td>0.532311</td>\n",
       "      <td>11450.0</td>\n",
       "      <td>NaN</td>\n",
       "      <td>-770.0</td>\n",
       "      <td>125.82</td>\n",
       "      <td>79.0</td>\n",
       "    </tr>\n",
       "    <tr>\n",
       "      <th>1</th>\n",
       "      <td>2022-07-12</td>\n",
       "      <td>일동제약</td>\n",
       "      <td>249420</td>\n",
       "      <td>6.411290</td>\n",
       "      <td>49785.0</td>\n",
       "      <td>1291093.0</td>\n",
       "      <td>NaN</td>\n",
       "      <td>50000.0</td>\n",
       "      <td>26803285</td>\n",
       "      <td>1949</td>\n",
       "      <td>200</td>\n",
       "      <td>4.0</td>\n",
       "      <td>매수</td>\n",
       "      <td>-41150.0</td>\n",
       "      <td>0.482390</td>\n",
       "      <td>38350.0</td>\n",
       "      <td>NaN</td>\n",
       "      <td>-8637.0</td>\n",
       "      <td>5.47</td>\n",
       "      <td>7471.0</td>\n",
       "    </tr>\n",
       "    <tr>\n",
       "      <th>2</th>\n",
       "      <td>2022-07-12</td>\n",
       "      <td>이글벳 *</td>\n",
       "      <td>044960</td>\n",
       "      <td>1.732143</td>\n",
       "      <td>2395.0</td>\n",
       "      <td>362894.0</td>\n",
       "      <td>0.79</td>\n",
       "      <td>NaN</td>\n",
       "      <td>12641883</td>\n",
       "      <td>803</td>\n",
       "      <td>996</td>\n",
       "      <td>NaN</td>\n",
       "      <td>NaN</td>\n",
       "      <td>-3060.0</td>\n",
       "      <td>0.684536</td>\n",
       "      <td>6640.0</td>\n",
       "      <td>21.03</td>\n",
       "      <td>302.0</td>\n",
       "      <td>1.87</td>\n",
       "      <td>3391.0</td>\n",
       "    </tr>\n",
       "    <tr>\n",
       "      <th>3</th>\n",
       "      <td>2022-07-12</td>\n",
       "      <td>애드바이오텍 *</td>\n",
       "      <td>179530</td>\n",
       "      <td>2.541806</td>\n",
       "      <td>91.0</td>\n",
       "      <td>18666.0</td>\n",
       "      <td>NaN</td>\n",
       "      <td>NaN</td>\n",
       "      <td>9140444</td>\n",
       "      <td>448</td>\n",
       "      <td>1357</td>\n",
       "      <td>NaN</td>\n",
       "      <td>NaN</td>\n",
       "      <td>-6400.0</td>\n",
       "      <td>0.438596</td>\n",
       "      <td>5000.0</td>\n",
       "      <td>NaN</td>\n",
       "      <td>-347.0</td>\n",
       "      <td>3.20</td>\n",
       "      <td>1530.0</td>\n",
       "    </tr>\n",
       "    <tr>\n",
       "      <th>4</th>\n",
       "      <td>2022-07-12</td>\n",
       "      <td>신풍제약우</td>\n",
       "      <td>019175</td>\n",
       "      <td>4.361874</td>\n",
       "      <td>101.0</td>\n",
       "      <td>2085.0</td>\n",
       "      <td>NaN</td>\n",
       "      <td>NaN</td>\n",
       "      <td>2200000</td>\n",
       "      <td>1032</td>\n",
       "      <td>794</td>\n",
       "      <td>NaN</td>\n",
       "      <td>NaN</td>\n",
       "      <td>-86400.0</td>\n",
       "      <td>0.360000</td>\n",
       "      <td>48600.0</td>\n",
       "      <td>NaN</td>\n",
       "      <td>-333.0</td>\n",
       "      <td>6.91</td>\n",
       "      <td>6792.0</td>\n",
       "    </tr>\n",
       "    <tr>\n",
       "      <th>...</th>\n",
       "      <td>...</td>\n",
       "      <td>...</td>\n",
       "      <td>...</td>\n",
       "      <td>...</td>\n",
       "      <td>...</td>\n",
       "      <td>...</td>\n",
       "      <td>...</td>\n",
       "      <td>...</td>\n",
       "      <td>...</td>\n",
       "      <td>...</td>\n",
       "      <td>...</td>\n",
       "      <td>...</td>\n",
       "      <td>...</td>\n",
       "      <td>...</td>\n",
       "      <td>...</td>\n",
       "      <td>...</td>\n",
       "      <td>...</td>\n",
       "      <td>...</td>\n",
       "      <td>...</td>\n",
       "      <td>...</td>\n",
       "    </tr>\n",
       "    <tr>\n",
       "      <th>153</th>\n",
       "      <td>2022-07-12</td>\n",
       "      <td>우진비앤지 *</td>\n",
       "      <td>018620</td>\n",
       "      <td>1.997159</td>\n",
       "      <td>113.0</td>\n",
       "      <td>53924.0</td>\n",
       "      <td>NaN</td>\n",
       "      <td>NaN</td>\n",
       "      <td>28889293</td>\n",
       "      <td>611</td>\n",
       "      <td>1189</td>\n",
       "      <td>NaN</td>\n",
       "      <td>NaN</td>\n",
       "      <td>-1420.0</td>\n",
       "      <td>0.596017</td>\n",
       "      <td>2095.0</td>\n",
       "      <td>NaN</td>\n",
       "      <td>-29.0</td>\n",
       "      <td>1.99</td>\n",
       "      <td>1062.0</td>\n",
       "    </tr>\n",
       "    <tr>\n",
       "      <th>154</th>\n",
       "      <td>2022-07-12</td>\n",
       "      <td>HLB테라퓨틱스 *</td>\n",
       "      <td>115450</td>\n",
       "      <td>2.590604</td>\n",
       "      <td>799.0</td>\n",
       "      <td>64406.0</td>\n",
       "      <td>NaN</td>\n",
       "      <td>NaN</td>\n",
       "      <td>31335211</td>\n",
       "      <td>4042</td>\n",
       "      <td>158</td>\n",
       "      <td>NaN</td>\n",
       "      <td>NaN</td>\n",
       "      <td>-6900.0</td>\n",
       "      <td>0.642487</td>\n",
       "      <td>12400.0</td>\n",
       "      <td>NaN</td>\n",
       "      <td>-582.0</td>\n",
       "      <td>3.36</td>\n",
       "      <td>3845.0</td>\n",
       "    </tr>\n",
       "    <tr>\n",
       "      <th>155</th>\n",
       "      <td>2022-07-12</td>\n",
       "      <td>더블유에스아이 *</td>\n",
       "      <td>299170</td>\n",
       "      <td>2.071642</td>\n",
       "      <td>5.0</td>\n",
       "      <td>2316.0</td>\n",
       "      <td>NaN</td>\n",
       "      <td>NaN</td>\n",
       "      <td>30027963</td>\n",
       "      <td>595</td>\n",
       "      <td>1206</td>\n",
       "      <td>NaN</td>\n",
       "      <td>NaN</td>\n",
       "      <td>-1495.0</td>\n",
       "      <td>0.569164</td>\n",
       "      <td>1975.0</td>\n",
       "      <td>8.57</td>\n",
       "      <td>231.0</td>\n",
       "      <td>1.74</td>\n",
       "      <td>1137.0</td>\n",
       "    </tr>\n",
       "    <tr>\n",
       "      <th>156</th>\n",
       "      <td>2022-07-12</td>\n",
       "      <td>엔지켐생명과학 *</td>\n",
       "      <td>183490</td>\n",
       "      <td>6.223973</td>\n",
       "      <td>176.0</td>\n",
       "      <td>9839.0</td>\n",
       "      <td>NaN</td>\n",
       "      <td>NaN</td>\n",
       "      <td>13933768</td>\n",
       "      <td>2494</td>\n",
       "      <td>306</td>\n",
       "      <td>NaN</td>\n",
       "      <td>NaN</td>\n",
       "      <td>-74726.0</td>\n",
       "      <td>0.191505</td>\n",
       "      <td>17700.0</td>\n",
       "      <td>NaN</td>\n",
       "      <td>-2408.0</td>\n",
       "      <td>1.14</td>\n",
       "      <td>15762.0</td>\n",
       "    </tr>\n",
       "    <tr>\n",
       "      <th>157</th>\n",
       "      <td>2022-07-12</td>\n",
       "      <td>HLB제약 *</td>\n",
       "      <td>047920</td>\n",
       "      <td>3.842239</td>\n",
       "      <td>979.0</td>\n",
       "      <td>66838.0</td>\n",
       "      <td>NaN</td>\n",
       "      <td>NaN</td>\n",
       "      <td>27564264</td>\n",
       "      <td>4107</td>\n",
       "      <td>154</td>\n",
       "      <td>NaN</td>\n",
       "      <td>NaN</td>\n",
       "      <td>-15700.0</td>\n",
       "      <td>0.480132</td>\n",
       "      <td>14500.0</td>\n",
       "      <td>NaN</td>\n",
       "      <td>-550.0</td>\n",
       "      <td>5.08</td>\n",
       "      <td>2932.0</td>\n",
       "    </tr>\n",
       "  </tbody>\n",
       "</table>\n",
       "<p>158 rows × 20 columns</p>\n",
       "</div>"
      ],
      "text/plain": [
       "           조회일자         종목명    종목코드   52주차액비율     거래대금        거래량  배당수익률(%)  \\\n",
       "0    2022-07-12    카이노스메드 *  284620  2.492757   1413.0   125641.0       NaN   \n",
       "1    2022-07-12        일동제약  249420  6.411290  49785.0  1291093.0       NaN   \n",
       "2    2022-07-12       이글벳 *  044960  1.732143   2395.0   362894.0      0.79   \n",
       "3    2022-07-12    애드바이오텍 *  179530  2.541806     91.0    18666.0       NaN   \n",
       "4    2022-07-12       신풍제약우  019175  4.361874    101.0     2085.0       NaN   \n",
       "..          ...         ...     ...       ...      ...        ...       ...   \n",
       "153  2022-07-12     우진비앤지 *  018620  1.997159    113.0    53924.0       NaN   \n",
       "154  2022-07-12  HLB테라퓨틱스 *  115450  2.590604    799.0    64406.0       NaN   \n",
       "155  2022-07-12   더블유에스아이 *  299170  2.071642      5.0     2316.0       NaN   \n",
       "156  2022-07-12   엔지켐생명과학 *  183490  6.223973    176.0     9839.0       NaN   \n",
       "157  2022-07-12     HLB제약 *  047920  3.842239    979.0    66838.0       NaN   \n",
       "\n",
       "        목표주가     상장주식수  시가총액(억원)  시가총액순위(전처리)  투자의견 매수매도   현재-최고가  현재/최고가비율  \\\n",
       "0        NaN  22322396      2219          362   NaN  NaN -10060.0  0.532311   \n",
       "1    50000.0  26803285      1949          200   4.0   매수 -41150.0  0.482390   \n",
       "2        NaN  12641883       803          996   NaN  NaN  -3060.0  0.684536   \n",
       "3        NaN   9140444       448         1357   NaN  NaN  -6400.0  0.438596   \n",
       "4        NaN   2200000      1032          794   NaN  NaN -86400.0  0.360000   \n",
       "..       ...       ...       ...          ...   ...  ...      ...       ...   \n",
       "153      NaN  28889293       611         1189   NaN  NaN  -1420.0  0.596017   \n",
       "154      NaN  31335211      4042          158   NaN  NaN  -6900.0  0.642487   \n",
       "155      NaN  30027963       595         1206   NaN  NaN  -1495.0  0.569164   \n",
       "156      NaN  13933768      2494          306   NaN  NaN -74726.0  0.191505   \n",
       "157      NaN  27564264      4107          154   NaN  NaN -15700.0  0.480132   \n",
       "\n",
       "         현재가  PER(배)  EPS(원)  PBR(배)   BPS(원)  \n",
       "0    11450.0     NaN  -770.0  125.82     79.0  \n",
       "1    38350.0     NaN -8637.0    5.47   7471.0  \n",
       "2     6640.0   21.03   302.0    1.87   3391.0  \n",
       "3     5000.0     NaN  -347.0    3.20   1530.0  \n",
       "4    48600.0     NaN  -333.0    6.91   6792.0  \n",
       "..       ...     ...     ...     ...      ...  \n",
       "153   2095.0     NaN   -29.0    1.99   1062.0  \n",
       "154  12400.0     NaN  -582.0    3.36   3845.0  \n",
       "155   1975.0    8.57   231.0    1.74   1137.0  \n",
       "156  17700.0     NaN -2408.0    1.14  15762.0  \n",
       "157  14500.0     NaN  -550.0    5.08   2932.0  \n",
       "\n",
       "[158 rows x 20 columns]"
      ]
     },
     "execution_count": 65,
     "metadata": {},
     "output_type": "execute_result"
    }
   ],
   "source": [
    "# 전체 데이터프레임에서 cols 컬럼만 가져와서 봅니다.\n",
    "df[cols]"
   ]
  },
  {
   "cell_type": "markdown",
   "metadata": {},
   "source": [
    "## PER 상하위 10개 종목 찾기"
   ]
  },
  {
   "cell_type": "code",
   "execution_count": 70,
   "metadata": {},
   "outputs": [
    {
     "data": {
      "text/html": [
       "<div>\n",
       "<style scoped>\n",
       "    .dataframe tbody tr th:only-of-type {\n",
       "        vertical-align: middle;\n",
       "    }\n",
       "\n",
       "    .dataframe tbody tr th {\n",
       "        vertical-align: top;\n",
       "    }\n",
       "\n",
       "    .dataframe thead th {\n",
       "        text-align: right;\n",
       "    }\n",
       "</style>\n",
       "<table border=\"1\" class=\"dataframe\">\n",
       "  <thead>\n",
       "    <tr style=\"text-align: right;\">\n",
       "      <th></th>\n",
       "      <th>조회일자</th>\n",
       "      <th>종목명</th>\n",
       "      <th>종목코드</th>\n",
       "      <th>52주차액비율</th>\n",
       "      <th>거래대금</th>\n",
       "      <th>거래량</th>\n",
       "      <th>배당수익률(%)</th>\n",
       "      <th>목표주가</th>\n",
       "      <th>상장주식수</th>\n",
       "      <th>시가총액(억원)</th>\n",
       "      <th>시가총액순위(전처리)</th>\n",
       "      <th>투자의견</th>\n",
       "      <th>매수매도</th>\n",
       "      <th>현재-최고가</th>\n",
       "      <th>현재/최고가비율</th>\n",
       "      <th>현재가</th>\n",
       "      <th>PER(배)</th>\n",
       "      <th>EPS(원)</th>\n",
       "      <th>PBR(배)</th>\n",
       "      <th>BPS(원)</th>\n",
       "    </tr>\n",
       "  </thead>\n",
       "  <tbody>\n",
       "    <tr>\n",
       "      <th>27</th>\n",
       "      <td>2022-07-12</td>\n",
       "      <td>팜젠사이언스</td>\n",
       "      <td>004720</td>\n",
       "      <td>2.708688</td>\n",
       "      <td>704.0</td>\n",
       "      <td>83678.0</td>\n",
       "      <td>NaN</td>\n",
       "      <td>NaN</td>\n",
       "      <td>15477041</td>\n",
       "      <td>1299</td>\n",
       "      <td>705</td>\n",
       "      <td>NaN</td>\n",
       "      <td>NaN</td>\n",
       "      <td>-7580.0</td>\n",
       "      <td>0.523270</td>\n",
       "      <td>8320.0</td>\n",
       "      <td>1.84</td>\n",
       "      <td>4557.0</td>\n",
       "      <td>0.69</td>\n",
       "      <td>12225.0</td>\n",
       "    </tr>\n",
       "    <tr>\n",
       "      <th>81</th>\n",
       "      <td>2022-07-12</td>\n",
       "      <td>씨케이에이치 *</td>\n",
       "      <td>900120</td>\n",
       "      <td>2.119048</td>\n",
       "      <td>16.0</td>\n",
       "      <td>63334.0</td>\n",
       "      <td>NaN</td>\n",
       "      <td>NaN</td>\n",
       "      <td>123012232</td>\n",
       "      <td>311</td>\n",
       "      <td>1458</td>\n",
       "      <td>NaN</td>\n",
       "      <td>NaN</td>\n",
       "      <td>-191.0</td>\n",
       "      <td>0.570787</td>\n",
       "      <td>254.0</td>\n",
       "      <td>4.87</td>\n",
       "      <td>52.0</td>\n",
       "      <td>0.08</td>\n",
       "      <td>3296.0</td>\n",
       "    </tr>\n",
       "    <tr>\n",
       "      <th>112</th>\n",
       "      <td>2022-07-12</td>\n",
       "      <td>대한뉴팜 *</td>\n",
       "      <td>054670</td>\n",
       "      <td>1.545064</td>\n",
       "      <td>26.0</td>\n",
       "      <td>2542.0</td>\n",
       "      <td>0.79</td>\n",
       "      <td>NaN</td>\n",
       "      <td>14354920</td>\n",
       "      <td>1450</td>\n",
       "      <td>570</td>\n",
       "      <td>NaN</td>\n",
       "      <td>NaN</td>\n",
       "      <td>-4200.0</td>\n",
       "      <td>0.708333</td>\n",
       "      <td>10200.0</td>\n",
       "      <td>6.22</td>\n",
       "      <td>1625.0</td>\n",
       "      <td>1.59</td>\n",
       "      <td>6369.0</td>\n",
       "    </tr>\n",
       "    <tr>\n",
       "      <th>83</th>\n",
       "      <td>2022-07-12</td>\n",
       "      <td>코스맥스비티아이</td>\n",
       "      <td>044820</td>\n",
       "      <td>2.186813</td>\n",
       "      <td>2.0</td>\n",
       "      <td>312.0</td>\n",
       "      <td>2.82</td>\n",
       "      <td>NaN</td>\n",
       "      <td>9603921</td>\n",
       "      <td>885</td>\n",
       "      <td>857</td>\n",
       "      <td>NaN</td>\n",
       "      <td>NaN</td>\n",
       "      <td>-10400.0</td>\n",
       "      <td>0.477387</td>\n",
       "      <td>9500.0</td>\n",
       "      <td>6.75</td>\n",
       "      <td>1365.0</td>\n",
       "      <td>0.28</td>\n",
       "      <td>32816.0</td>\n",
       "    </tr>\n",
       "    <tr>\n",
       "      <th>108</th>\n",
       "      <td>2022-07-12</td>\n",
       "      <td>대한약품 *</td>\n",
       "      <td>023910</td>\n",
       "      <td>1.373469</td>\n",
       "      <td>69.0</td>\n",
       "      <td>2585.0</td>\n",
       "      <td>1.49</td>\n",
       "      <td>40000.0</td>\n",
       "      <td>6000000</td>\n",
       "      <td>1608</td>\n",
       "      <td>503</td>\n",
       "      <td>4.0</td>\n",
       "      <td>매수</td>\n",
       "      <td>-7150.0</td>\n",
       "      <td>0.787519</td>\n",
       "      <td>26500.0</td>\n",
       "      <td>6.79</td>\n",
       "      <td>3948.0</td>\n",
       "      <td>0.78</td>\n",
       "      <td>34473.0</td>\n",
       "    </tr>\n",
       "    <tr>\n",
       "      <th>97</th>\n",
       "      <td>2022-07-12</td>\n",
       "      <td>진양제약 *</td>\n",
       "      <td>007370</td>\n",
       "      <td>1.768199</td>\n",
       "      <td>22.0</td>\n",
       "      <td>3606.0</td>\n",
       "      <td>1.64</td>\n",
       "      <td>NaN</td>\n",
       "      <td>12000000</td>\n",
       "      <td>732</td>\n",
       "      <td>1063</td>\n",
       "      <td>NaN</td>\n",
       "      <td>NaN</td>\n",
       "      <td>-3140.0</td>\n",
       "      <td>0.659805</td>\n",
       "      <td>6090.0</td>\n",
       "      <td>6.97</td>\n",
       "      <td>875.0</td>\n",
       "      <td>1.03</td>\n",
       "      <td>5896.0</td>\n",
       "    </tr>\n",
       "    <tr>\n",
       "      <th>136</th>\n",
       "      <td>2022-07-12</td>\n",
       "      <td>뉴트리 *</td>\n",
       "      <td>270870</td>\n",
       "      <td>3.194805</td>\n",
       "      <td>10.0</td>\n",
       "      <td>770.0</td>\n",
       "      <td>1.99</td>\n",
       "      <td>NaN</td>\n",
       "      <td>9200224</td>\n",
       "      <td>1155</td>\n",
       "      <td>724</td>\n",
       "      <td>NaN</td>\n",
       "      <td>NaN</td>\n",
       "      <td>-24100.0</td>\n",
       "      <td>0.346883</td>\n",
       "      <td>12800.0</td>\n",
       "      <td>7.24</td>\n",
       "      <td>1734.0</td>\n",
       "      <td>1.17</td>\n",
       "      <td>10763.0</td>\n",
       "    </tr>\n",
       "    <tr>\n",
       "      <th>155</th>\n",
       "      <td>2022-07-12</td>\n",
       "      <td>더블유에스아이 *</td>\n",
       "      <td>299170</td>\n",
       "      <td>2.071642</td>\n",
       "      <td>5.0</td>\n",
       "      <td>2316.0</td>\n",
       "      <td>NaN</td>\n",
       "      <td>NaN</td>\n",
       "      <td>30027963</td>\n",
       "      <td>595</td>\n",
       "      <td>1206</td>\n",
       "      <td>NaN</td>\n",
       "      <td>NaN</td>\n",
       "      <td>-1495.0</td>\n",
       "      <td>0.569164</td>\n",
       "      <td>1975.0</td>\n",
       "      <td>8.57</td>\n",
       "      <td>231.0</td>\n",
       "      <td>1.74</td>\n",
       "      <td>1137.0</td>\n",
       "    </tr>\n",
       "    <tr>\n",
       "      <th>144</th>\n",
       "      <td>2022-07-12</td>\n",
       "      <td>고려제약 *</td>\n",
       "      <td>014570</td>\n",
       "      <td>1.781437</td>\n",
       "      <td>52.0</td>\n",
       "      <td>6957.0</td>\n",
       "      <td>2.22</td>\n",
       "      <td>NaN</td>\n",
       "      <td>11000000</td>\n",
       "      <td>840</td>\n",
       "      <td>962</td>\n",
       "      <td>NaN</td>\n",
       "      <td>NaN</td>\n",
       "      <td>-4390.0</td>\n",
       "      <td>0.631092</td>\n",
       "      <td>7510.0</td>\n",
       "      <td>8.90</td>\n",
       "      <td>858.0</td>\n",
       "      <td>1.06</td>\n",
       "      <td>7202.0</td>\n",
       "    </tr>\n",
       "    <tr>\n",
       "      <th>113</th>\n",
       "      <td>2022-07-12</td>\n",
       "      <td>옵투스제약 *</td>\n",
       "      <td>131030</td>\n",
       "      <td>1.522523</td>\n",
       "      <td>2.0</td>\n",
       "      <td>307.0</td>\n",
       "      <td>1.64</td>\n",
       "      <td>NaN</td>\n",
       "      <td>16153162</td>\n",
       "      <td>982</td>\n",
       "      <td>838</td>\n",
       "      <td>NaN</td>\n",
       "      <td>NaN</td>\n",
       "      <td>-2320.0</td>\n",
       "      <td>0.725444</td>\n",
       "      <td>6130.0</td>\n",
       "      <td>9.84</td>\n",
       "      <td>618.0</td>\n",
       "      <td>0.76</td>\n",
       "      <td>7957.0</td>\n",
       "    </tr>\n",
       "  </tbody>\n",
       "</table>\n",
       "</div>"
      ],
      "text/plain": [
       "           조회일자        종목명    종목코드   52주차액비율   거래대금      거래량  배당수익률(%)  \\\n",
       "27   2022-07-12     팜젠사이언스  004720  2.708688  704.0  83678.0       NaN   \n",
       "81   2022-07-12   씨케이에이치 *  900120  2.119048   16.0  63334.0       NaN   \n",
       "112  2022-07-12     대한뉴팜 *  054670  1.545064   26.0   2542.0      0.79   \n",
       "83   2022-07-12   코스맥스비티아이  044820  2.186813    2.0    312.0      2.82   \n",
       "108  2022-07-12     대한약품 *  023910  1.373469   69.0   2585.0      1.49   \n",
       "97   2022-07-12     진양제약 *  007370  1.768199   22.0   3606.0      1.64   \n",
       "136  2022-07-12      뉴트리 *  270870  3.194805   10.0    770.0      1.99   \n",
       "155  2022-07-12  더블유에스아이 *  299170  2.071642    5.0   2316.0       NaN   \n",
       "144  2022-07-12     고려제약 *  014570  1.781437   52.0   6957.0      2.22   \n",
       "113  2022-07-12    옵투스제약 *  131030  1.522523    2.0    307.0      1.64   \n",
       "\n",
       "        목표주가      상장주식수  시가총액(억원)  시가총액순위(전처리)  투자의견 매수매도   현재-최고가  현재/최고가비율  \\\n",
       "27       NaN   15477041      1299          705   NaN  NaN  -7580.0  0.523270   \n",
       "81       NaN  123012232       311         1458   NaN  NaN   -191.0  0.570787   \n",
       "112      NaN   14354920      1450          570   NaN  NaN  -4200.0  0.708333   \n",
       "83       NaN    9603921       885          857   NaN  NaN -10400.0  0.477387   \n",
       "108  40000.0    6000000      1608          503   4.0   매수  -7150.0  0.787519   \n",
       "97       NaN   12000000       732         1063   NaN  NaN  -3140.0  0.659805   \n",
       "136      NaN    9200224      1155          724   NaN  NaN -24100.0  0.346883   \n",
       "155      NaN   30027963       595         1206   NaN  NaN  -1495.0  0.569164   \n",
       "144      NaN   11000000       840          962   NaN  NaN  -4390.0  0.631092   \n",
       "113      NaN   16153162       982          838   NaN  NaN  -2320.0  0.725444   \n",
       "\n",
       "         현재가  PER(배)  EPS(원)  PBR(배)   BPS(원)  \n",
       "27    8320.0    1.84  4557.0    0.69  12225.0  \n",
       "81     254.0    4.87    52.0    0.08   3296.0  \n",
       "112  10200.0    6.22  1625.0    1.59   6369.0  \n",
       "83    9500.0    6.75  1365.0    0.28  32816.0  \n",
       "108  26500.0    6.79  3948.0    0.78  34473.0  \n",
       "97    6090.0    6.97   875.0    1.03   5896.0  \n",
       "136  12800.0    7.24  1734.0    1.17  10763.0  \n",
       "155   1975.0    8.57   231.0    1.74   1137.0  \n",
       "144   7510.0    8.90   858.0    1.06   7202.0  \n",
       "113   6130.0    9.84   618.0    0.76   7957.0  "
      ]
     },
     "execution_count": 70,
     "metadata": {},
     "output_type": "execute_result"
    }
   ],
   "source": [
    "# PER(배)가 낮은 하위 10개 종목을 정렬기능으로 찾습니다.\n",
    "per_low = df[cols].sort_values(\"PER(배)\").head(10)\n",
    "per_low"
   ]
  },
  {
   "cell_type": "code",
   "execution_count": 72,
   "metadata": {},
   "outputs": [
    {
     "data": {
      "text/plain": [
       "Text(0.5, 1.0, 'PER 하위 10개 종목')"
      ]
     },
     "execution_count": 72,
     "metadata": {},
     "output_type": "execute_result"
    },
    {
     "data": {
      "image/png": "[encoded data removed]",
      "text/plain": [
       "<Figure size 576x396 with 1 Axes>"
      ]
     },
     "metadata": {},
     "output_type": "display_data"
    }
   ],
   "source": [
    "# PER(배) 가 낮은 하위 10개 종목을 막대그래프로 시각화 합니다.\n",
    "sns.barplot(data=per_low, x=\"PER(배)\", y=\"종목명\", ci=None).set_title(\"PER 하위 10개 종목\")"
   ]
  },
  {
   "cell_type": "code",
   "execution_count": 78,
   "metadata": {},
   "outputs": [
    {
     "data": {
      "text/plain": [
       "<AxesSubplot:ylabel='종목명'>"
      ]
     },
     "execution_count": 78,
     "metadata": {},
     "output_type": "execute_result"
    },
    {
     "data": {
      "image/png": "[encoded data removed]",
      "text/plain": [
       "<Figure size 576x396 with 1 Axes>"
      ]
     },
     "metadata": {},
     "output_type": "display_data"
    }
   ],
   "source": [
    "per_low.set_index(\"종목명\")[\"PER(배)\"].plot.barh()"
   ]
  },
  {
   "cell_type": "code",
   "execution_count": 81,
   "metadata": {},
   "outputs": [
    {
     "data": {
      "text/html": [
       "<div>\n",
       "<style scoped>\n",
       "    .dataframe tbody tr th:only-of-type {\n",
       "        vertical-align: middle;\n",
       "    }\n",
       "\n",
       "    .dataframe tbody tr th {\n",
       "        vertical-align: top;\n",
       "    }\n",
       "\n",
       "    .dataframe thead th {\n",
       "        text-align: right;\n",
       "    }\n",
       "</style>\n",
       "<table border=\"1\" class=\"dataframe\">\n",
       "  <thead>\n",
       "    <tr style=\"text-align: right;\">\n",
       "      <th></th>\n",
       "      <th>조회일자</th>\n",
       "      <th>종목명</th>\n",
       "      <th>종목코드</th>\n",
       "      <th>52주차액비율</th>\n",
       "      <th>거래대금</th>\n",
       "      <th>거래량</th>\n",
       "      <th>배당수익률(%)</th>\n",
       "      <th>목표주가</th>\n",
       "      <th>상장주식수</th>\n",
       "      <th>시가총액(억원)</th>\n",
       "      <th>시가총액순위(전처리)</th>\n",
       "      <th>투자의견</th>\n",
       "      <th>매수매도</th>\n",
       "      <th>현재-최고가</th>\n",
       "      <th>현재/최고가비율</th>\n",
       "      <th>현재가</th>\n",
       "      <th>PER(배)</th>\n",
       "      <th>EPS(원)</th>\n",
       "      <th>PBR(배)</th>\n",
       "      <th>BPS(원)</th>\n",
       "    </tr>\n",
       "  </thead>\n",
       "  <tbody>\n",
       "    <tr>\n",
       "      <th>14</th>\n",
       "      <td>2022-07-12</td>\n",
       "      <td>부광약품</td>\n",
       "      <td>003000</td>\n",
       "      <td>2.982234</td>\n",
       "      <td>849.0</td>\n",
       "      <td>94223.0</td>\n",
       "      <td>1.11</td>\n",
       "      <td>NaN</td>\n",
       "      <td>71063049</td>\n",
       "      <td>6431</td>\n",
       "      <td>285</td>\n",
       "      <td>NaN</td>\n",
       "      <td>NaN</td>\n",
       "      <td>-14480.0</td>\n",
       "      <td>0.383830</td>\n",
       "      <td>9020.0</td>\n",
       "      <td>3016.67</td>\n",
       "      <td>3.0</td>\n",
       "      <td>2.38</td>\n",
       "      <td>3801.0</td>\n",
       "    </tr>\n",
       "    <tr>\n",
       "      <th>54</th>\n",
       "      <td>2022-07-12</td>\n",
       "      <td>JW중외제약2우B</td>\n",
       "      <td>001067</td>\n",
       "      <td>1.571309</td>\n",
       "      <td>0.0</td>\n",
       "      <td>0.0</td>\n",
       "      <td>0.46</td>\n",
       "      <td>35667.0</td>\n",
       "      <td>102927</td>\n",
       "      <td>72</td>\n",
       "      <td>1643</td>\n",
       "      <td>4.0</td>\n",
       "      <td>매수</td>\n",
       "      <td>-3000.0</td>\n",
       "      <td>0.959072</td>\n",
       "      <td>70300.0</td>\n",
       "      <td>360.51</td>\n",
       "      <td>195.0</td>\n",
       "      <td>8.04</td>\n",
       "      <td>8745.0</td>\n",
       "    </tr>\n",
       "    <tr>\n",
       "      <th>56</th>\n",
       "      <td>2022-07-12</td>\n",
       "      <td>한올바이오파마</td>\n",
       "      <td>009420</td>\n",
       "      <td>1.822742</td>\n",
       "      <td>174.0</td>\n",
       "      <td>9881.0</td>\n",
       "      <td>NaN</td>\n",
       "      <td>24333.0</td>\n",
       "      <td>52240638</td>\n",
       "      <td>9220</td>\n",
       "      <td>222</td>\n",
       "      <td>4.0</td>\n",
       "      <td>매수</td>\n",
       "      <td>-9600.0</td>\n",
       "      <td>0.647706</td>\n",
       "      <td>17650.0</td>\n",
       "      <td>215.24</td>\n",
       "      <td>82.0</td>\n",
       "      <td>5.79</td>\n",
       "      <td>3049.0</td>\n",
       "    </tr>\n",
       "    <tr>\n",
       "      <th>65</th>\n",
       "      <td>2022-07-12</td>\n",
       "      <td>JW중외제약우</td>\n",
       "      <td>001065</td>\n",
       "      <td>1.717333</td>\n",
       "      <td>0.0</td>\n",
       "      <td>5.0</td>\n",
       "      <td>0.96</td>\n",
       "      <td>35667.0</td>\n",
       "      <td>182735</td>\n",
       "      <td>66</td>\n",
       "      <td>1672</td>\n",
       "      <td>4.0</td>\n",
       "      <td>매수</td>\n",
       "      <td>-10711.0</td>\n",
       "      <td>0.773365</td>\n",
       "      <td>36550.0</td>\n",
       "      <td>186.41</td>\n",
       "      <td>195.0</td>\n",
       "      <td>4.16</td>\n",
       "      <td>8745.0</td>\n",
       "    </tr>\n",
       "    <tr>\n",
       "      <th>124</th>\n",
       "      <td>2022-07-12</td>\n",
       "      <td>CMG제약 *</td>\n",
       "      <td>058820</td>\n",
       "      <td>2.201717</td>\n",
       "      <td>138.0</td>\n",
       "      <td>52087.0</td>\n",
       "      <td>NaN</td>\n",
       "      <td>NaN</td>\n",
       "      <td>138892244</td>\n",
       "      <td>3639</td>\n",
       "      <td>181</td>\n",
       "      <td>NaN</td>\n",
       "      <td>NaN</td>\n",
       "      <td>-2495.0</td>\n",
       "      <td>0.513645</td>\n",
       "      <td>2635.0</td>\n",
       "      <td>174.67</td>\n",
       "      <td>15.0</td>\n",
       "      <td>1.97</td>\n",
       "      <td>1333.0</td>\n",
       "    </tr>\n",
       "    <tr>\n",
       "      <th>30</th>\n",
       "      <td>2022-07-12</td>\n",
       "      <td>에스티팜 *</td>\n",
       "      <td>237690</td>\n",
       "      <td>1.836784</td>\n",
       "      <td>455.0</td>\n",
       "      <td>4722.0</td>\n",
       "      <td>0.53</td>\n",
       "      <td>141111.0</td>\n",
       "      <td>18808775</td>\n",
       "      <td>17850</td>\n",
       "      <td>16</td>\n",
       "      <td>4.0</td>\n",
       "      <td>매수</td>\n",
       "      <td>-54300.0</td>\n",
       "      <td>0.639920</td>\n",
       "      <td>96500.0</td>\n",
       "      <td>173.18</td>\n",
       "      <td>548.0</td>\n",
       "      <td>5.67</td>\n",
       "      <td>16744.0</td>\n",
       "    </tr>\n",
       "    <tr>\n",
       "      <th>29</th>\n",
       "      <td>2022-07-12</td>\n",
       "      <td>한독</td>\n",
       "      <td>002390</td>\n",
       "      <td>1.721713</td>\n",
       "      <td>5.0</td>\n",
       "      <td>282.0</td>\n",
       "      <td>1.99</td>\n",
       "      <td>NaN</td>\n",
       "      <td>13763533</td>\n",
       "      <td>2422</td>\n",
       "      <td>514</td>\n",
       "      <td>NaN</td>\n",
       "      <td>NaN</td>\n",
       "      <td>-10050.0</td>\n",
       "      <td>0.642984</td>\n",
       "      <td>18100.0</td>\n",
       "      <td>139.68</td>\n",
       "      <td>126.0</td>\n",
       "      <td>0.66</td>\n",
       "      <td>26515.0</td>\n",
       "    </tr>\n",
       "    <tr>\n",
       "      <th>36</th>\n",
       "      <td>2022-07-12</td>\n",
       "      <td>JW중외제약</td>\n",
       "      <td>001060</td>\n",
       "      <td>1.752747</td>\n",
       "      <td>43.0</td>\n",
       "      <td>1781.0</td>\n",
       "      <td>1.31</td>\n",
       "      <td>35667.0</td>\n",
       "      <td>22178081</td>\n",
       "      <td>5345</td>\n",
       "      <td>311</td>\n",
       "      <td>4.0</td>\n",
       "      <td>매수</td>\n",
       "      <td>-7650.0</td>\n",
       "      <td>0.760188</td>\n",
       "      <td>24250.0</td>\n",
       "      <td>123.59</td>\n",
       "      <td>195.0</td>\n",
       "      <td>2.76</td>\n",
       "      <td>8745.0</td>\n",
       "    </tr>\n",
       "    <tr>\n",
       "      <th>60</th>\n",
       "      <td>2022-07-12</td>\n",
       "      <td>휴온스글로벌 *</td>\n",
       "      <td>084110</td>\n",
       "      <td>3.717481</td>\n",
       "      <td>24.0</td>\n",
       "      <td>1110.0</td>\n",
       "      <td>2.20</td>\n",
       "      <td>NaN</td>\n",
       "      <td>12621492</td>\n",
       "      <td>2739</td>\n",
       "      <td>269</td>\n",
       "      <td>NaN</td>\n",
       "      <td>NaN</td>\n",
       "      <td>-50555.0</td>\n",
       "      <td>0.300809</td>\n",
       "      <td>21750.0</td>\n",
       "      <td>120.56</td>\n",
       "      <td>180.0</td>\n",
       "      <td>0.50</td>\n",
       "      <td>43696.0</td>\n",
       "    </tr>\n",
       "    <tr>\n",
       "      <th>119</th>\n",
       "      <td>2022-07-12</td>\n",
       "      <td>진바이오텍 *</td>\n",
       "      <td>086060</td>\n",
       "      <td>1.753262</td>\n",
       "      <td>31.0</td>\n",
       "      <td>6459.0</td>\n",
       "      <td>NaN</td>\n",
       "      <td>NaN</td>\n",
       "      <td>8610587</td>\n",
       "      <td>403</td>\n",
       "      <td>1401</td>\n",
       "      <td>NaN</td>\n",
       "      <td>NaN</td>\n",
       "      <td>-2600.0</td>\n",
       "      <td>0.648173</td>\n",
       "      <td>4790.0</td>\n",
       "      <td>120.13</td>\n",
       "      <td>39.0</td>\n",
       "      <td>0.91</td>\n",
       "      <td>5124.0</td>\n",
       "    </tr>\n",
       "  </tbody>\n",
       "</table>\n",
       "</div>"
      ],
      "text/plain": [
       "           조회일자        종목명    종목코드   52주차액비율   거래대금      거래량  배당수익률(%)  \\\n",
       "14   2022-07-12       부광약품  003000  2.982234  849.0  94223.0      1.11   \n",
       "54   2022-07-12  JW중외제약2우B  001067  1.571309    0.0      0.0      0.46   \n",
       "56   2022-07-12    한올바이오파마  009420  1.822742  174.0   9881.0       NaN   \n",
       "65   2022-07-12    JW중외제약우  001065  1.717333    0.0      5.0      0.96   \n",
       "124  2022-07-12    CMG제약 *  058820  2.201717  138.0  52087.0       NaN   \n",
       "30   2022-07-12     에스티팜 *  237690  1.836784  455.0   4722.0      0.53   \n",
       "29   2022-07-12         한독  002390  1.721713    5.0    282.0      1.99   \n",
       "36   2022-07-12     JW중외제약  001060  1.752747   43.0   1781.0      1.31   \n",
       "60   2022-07-12   휴온스글로벌 *  084110  3.717481   24.0   1110.0      2.20   \n",
       "119  2022-07-12    진바이오텍 *  086060  1.753262   31.0   6459.0       NaN   \n",
       "\n",
       "         목표주가      상장주식수  시가총액(억원)  시가총액순위(전처리)  투자의견 매수매도   현재-최고가  현재/최고가비율  \\\n",
       "14        NaN   71063049      6431          285   NaN  NaN -14480.0  0.383830   \n",
       "54    35667.0     102927        72         1643   4.0   매수  -3000.0  0.959072   \n",
       "56    24333.0   52240638      9220          222   4.0   매수  -9600.0  0.647706   \n",
       "65    35667.0     182735        66         1672   4.0   매수 -10711.0  0.773365   \n",
       "124       NaN  138892244      3639          181   NaN  NaN  -2495.0  0.513645   \n",
       "30   141111.0   18808775     17850           16   4.0   매수 -54300.0  0.639920   \n",
       "29        NaN   13763533      2422          514   NaN  NaN -10050.0  0.642984   \n",
       "36    35667.0   22178081      5345          311   4.0   매수  -7650.0  0.760188   \n",
       "60        NaN   12621492      2739          269   NaN  NaN -50555.0  0.300809   \n",
       "119       NaN    8610587       403         1401   NaN  NaN  -2600.0  0.648173   \n",
       "\n",
       "         현재가   PER(배)  EPS(원)  PBR(배)   BPS(원)  \n",
       "14    9020.0  3016.67     3.0    2.38   3801.0  \n",
       "54   70300.0   360.51   195.0    8.04   8745.0  \n",
       "56   17650.0   215.24    82.0    5.79   3049.0  \n",
       "65   36550.0   186.41   195.0    4.16   8745.0  \n",
       "124   2635.0   174.67    15.0    1.97   1333.0  \n",
       "30   96500.0   173.18   548.0    5.67  16744.0  \n",
       "29   18100.0   139.68   126.0    0.66  26515.0  \n",
       "36   24250.0   123.59   195.0    2.76   8745.0  \n",
       "60   21750.0   120.56   180.0    0.50  43696.0  \n",
       "119   4790.0   120.13    39.0    0.91   5124.0  "
      ]
     },
     "execution_count": 81,
     "metadata": {},
     "output_type": "execute_result"
    }
   ],
   "source": [
    "# PER(배) 가 높은 상위 10개 종목을 정렬기능으로 찾습니다.\n",
    "per_high = df[cols].sort_values(by=\"PER(배)\", ascending=False).head(10)\n",
    "per_high"
   ]
  },
  {
   "cell_type": "code",
   "execution_count": 82,
   "metadata": {},
   "outputs": [
    {
     "data": {
      "text/plain": [
       "종목명\n",
       "진바이오텍 *       120.13\n",
       "휴온스글로벌 *      120.56\n",
       "JW중외제약        123.59\n",
       "한독            139.68\n",
       "에스티팜 *        173.18\n",
       "CMG제약 *       174.67\n",
       "JW중외제약우       186.41\n",
       "한올바이오파마       215.24\n",
       "JW중외제약2우B     360.51\n",
       "부광약품         3016.67\n",
       "Name: PER(배), dtype: float64"
      ]
     },
     "execution_count": 82,
     "metadata": {},
     "output_type": "execute_result"
    }
   ],
   "source": [
    "per_high.set_index(\"종목명\")[\"PER(배)\"].sort_values()"
   ]
  },
  {
   "cell_type": "code",
   "execution_count": 83,
   "metadata": {},
   "outputs": [
    {
     "data": {
      "text/plain": [
       "<AxesSubplot:ylabel='종목명'>"
      ]
     },
     "execution_count": 83,
     "metadata": {},
     "output_type": "execute_result"
    },
    {
     "data": {
      "image/png": "[encoded data removed]",
      "text/plain": [
       "<Figure size 576x396 with 1 Axes>"
      ]
     },
     "metadata": {},
     "output_type": "display_data"
    }
   ],
   "source": [
    "# per_high 변수에 담긴 \"종목명\", \"PER(배)\" 컬럼을 가져와 막대그래프로 시각화 합니다.\n",
    "per_high.set_index(\"종목명\")[\"PER(배)\"].sort_values().plot.barh()"
   ]
  },
  {
   "cell_type": "code",
   "execution_count": 84,
   "metadata": {},
   "outputs": [
    {
     "data": {
      "text/plain": [
       "Text(0.5, 1.0, 'PER 상위 10개 종목')"
      ]
     },
     "execution_count": 84,
     "metadata": {},
     "output_type": "execute_result"
    },
    {
     "data": {
      "image/png": "[encoded data removed]",
      "text/plain": [
       "<Figure size 576x396 with 1 Axes>"
      ]
     },
     "metadata": {},
     "output_type": "display_data"
    }
   ],
   "source": [
    "sns.barplot(data=per_high, x=\"PER(배)\", y=\"종목명\", ci=None).set_title(\"PER 상위 10개 종목\")"
   ]
  },
  {
   "cell_type": "markdown",
   "metadata": {},
   "source": [
    "## PBR 상하위 10개 종목 찾기\n",
    "\n",
    "\n",
    "* `PBR = 주가/BPS(주당순자산가치)`\n",
    "* PBR(주가순자산비율, price-to-book ratio, P/B ratio)"
   ]
  },
  {
   "cell_type": "code",
   "execution_count": 86,
   "metadata": {},
   "outputs": [
    {
     "data": {
      "text/html": [
       "<div>\n",
       "<style scoped>\n",
       "    .dataframe tbody tr th:only-of-type {\n",
       "        vertical-align: middle;\n",
       "    }\n",
       "\n",
       "    .dataframe tbody tr th {\n",
       "        vertical-align: top;\n",
       "    }\n",
       "\n",
       "    .dataframe thead th {\n",
       "        text-align: right;\n",
       "    }\n",
       "</style>\n",
       "<table border=\"1\" class=\"dataframe\">\n",
       "  <thead>\n",
       "    <tr style=\"text-align: right;\">\n",
       "      <th></th>\n",
       "      <th>조회일자</th>\n",
       "      <th>종목명</th>\n",
       "      <th>종목코드</th>\n",
       "      <th>52주차액비율</th>\n",
       "      <th>거래대금</th>\n",
       "      <th>거래량</th>\n",
       "      <th>배당수익률(%)</th>\n",
       "      <th>목표주가</th>\n",
       "      <th>상장주식수</th>\n",
       "      <th>시가총액(억원)</th>\n",
       "      <th>시가총액순위(전처리)</th>\n",
       "      <th>투자의견</th>\n",
       "      <th>매수매도</th>\n",
       "      <th>현재-최고가</th>\n",
       "      <th>현재/최고가비율</th>\n",
       "      <th>현재가</th>\n",
       "      <th>PER(배)</th>\n",
       "      <th>EPS(원)</th>\n",
       "      <th>PBR(배)</th>\n",
       "      <th>BPS(원)</th>\n",
       "    </tr>\n",
       "  </thead>\n",
       "  <tbody>\n",
       "    <tr>\n",
       "      <th>81</th>\n",
       "      <td>2022-07-12</td>\n",
       "      <td>씨케이에이치 *</td>\n",
       "      <td>900120</td>\n",
       "      <td>2.119048</td>\n",
       "      <td>16.0</td>\n",
       "      <td>63334.0</td>\n",
       "      <td>NaN</td>\n",
       "      <td>NaN</td>\n",
       "      <td>123012232</td>\n",
       "      <td>311</td>\n",
       "      <td>1458</td>\n",
       "      <td>NaN</td>\n",
       "      <td>NaN</td>\n",
       "      <td>-191.0</td>\n",
       "      <td>0.570787</td>\n",
       "      <td>254.0</td>\n",
       "      <td>4.87</td>\n",
       "      <td>52.0</td>\n",
       "      <td>0.08</td>\n",
       "      <td>3296.0</td>\n",
       "    </tr>\n",
       "    <tr>\n",
       "      <th>83</th>\n",
       "      <td>2022-07-12</td>\n",
       "      <td>코스맥스비티아이</td>\n",
       "      <td>044820</td>\n",
       "      <td>2.186813</td>\n",
       "      <td>2.0</td>\n",
       "      <td>312.0</td>\n",
       "      <td>2.82</td>\n",
       "      <td>NaN</td>\n",
       "      <td>9603921</td>\n",
       "      <td>885</td>\n",
       "      <td>857</td>\n",
       "      <td>NaN</td>\n",
       "      <td>NaN</td>\n",
       "      <td>-10400.0</td>\n",
       "      <td>0.477387</td>\n",
       "      <td>9500.0</td>\n",
       "      <td>6.75</td>\n",
       "      <td>1365.0</td>\n",
       "      <td>0.28</td>\n",
       "      <td>32816.0</td>\n",
       "    </tr>\n",
       "    <tr>\n",
       "      <th>64</th>\n",
       "      <td>2022-07-12</td>\n",
       "      <td>일성신약</td>\n",
       "      <td>003120</td>\n",
       "      <td>1.307692</td>\n",
       "      <td>0.0</td>\n",
       "      <td>2.0</td>\n",
       "      <td>0.98</td>\n",
       "      <td>NaN</td>\n",
       "      <td>2660000</td>\n",
       "      <td>2038</td>\n",
       "      <td>577</td>\n",
       "      <td>NaN</td>\n",
       "      <td>NaN</td>\n",
       "      <td>-12900.0</td>\n",
       "      <td>0.856826</td>\n",
       "      <td>77200.0</td>\n",
       "      <td>42.37</td>\n",
       "      <td>1808.0</td>\n",
       "      <td>0.33</td>\n",
       "      <td>229136.0</td>\n",
       "    </tr>\n",
       "    <tr>\n",
       "      <th>110</th>\n",
       "      <td>2022-07-12</td>\n",
       "      <td>에이프로젠 H&amp;G *</td>\n",
       "      <td>109960</td>\n",
       "      <td>2.404255</td>\n",
       "      <td>3.0</td>\n",
       "      <td>4801.0</td>\n",
       "      <td>NaN</td>\n",
       "      <td>NaN</td>\n",
       "      <td>178695217</td>\n",
       "      <td>933</td>\n",
       "      <td>882</td>\n",
       "      <td>NaN</td>\n",
       "      <td>NaN</td>\n",
       "      <td>-607.0</td>\n",
       "      <td>0.462832</td>\n",
       "      <td>523.0</td>\n",
       "      <td>23.73</td>\n",
       "      <td>22.0</td>\n",
       "      <td>0.42</td>\n",
       "      <td>1248.0</td>\n",
       "    </tr>\n",
       "    <tr>\n",
       "      <th>121</th>\n",
       "      <td>2022-07-12</td>\n",
       "      <td>제일파마홀딩스</td>\n",
       "      <td>002620</td>\n",
       "      <td>2.357143</td>\n",
       "      <td>8.0</td>\n",
       "      <td>710.0</td>\n",
       "      <td>0.53</td>\n",
       "      <td>NaN</td>\n",
       "      <td>15973355</td>\n",
       "      <td>1957</td>\n",
       "      <td>590</td>\n",
       "      <td>NaN</td>\n",
       "      <td>NaN</td>\n",
       "      <td>-12250.0</td>\n",
       "      <td>0.505051</td>\n",
       "      <td>12500.0</td>\n",
       "      <td>NaN</td>\n",
       "      <td>-411.0</td>\n",
       "      <td>0.46</td>\n",
       "      <td>26587.0</td>\n",
       "    </tr>\n",
       "    <tr>\n",
       "      <th>47</th>\n",
       "      <td>2022-07-12</td>\n",
       "      <td>에이프로젠제약</td>\n",
       "      <td>003060</td>\n",
       "      <td>2.619962</td>\n",
       "      <td>33.0</td>\n",
       "      <td>54592.0</td>\n",
       "      <td>NaN</td>\n",
       "      <td>NaN</td>\n",
       "      <td>398575882</td>\n",
       "      <td>2427</td>\n",
       "      <td>513</td>\n",
       "      <td>NaN</td>\n",
       "      <td>NaN</td>\n",
       "      <td>-750.0</td>\n",
       "      <td>0.450549</td>\n",
       "      <td>615.0</td>\n",
       "      <td>26.48</td>\n",
       "      <td>23.0</td>\n",
       "      <td>0.48</td>\n",
       "      <td>1279.0</td>\n",
       "    </tr>\n",
       "    <tr>\n",
       "      <th>60</th>\n",
       "      <td>2022-07-12</td>\n",
       "      <td>휴온스글로벌 *</td>\n",
       "      <td>084110</td>\n",
       "      <td>3.717481</td>\n",
       "      <td>24.0</td>\n",
       "      <td>1110.0</td>\n",
       "      <td>2.20</td>\n",
       "      <td>NaN</td>\n",
       "      <td>12621492</td>\n",
       "      <td>2739</td>\n",
       "      <td>269</td>\n",
       "      <td>NaN</td>\n",
       "      <td>NaN</td>\n",
       "      <td>-50555.0</td>\n",
       "      <td>0.300809</td>\n",
       "      <td>21750.0</td>\n",
       "      <td>120.56</td>\n",
       "      <td>180.0</td>\n",
       "      <td>0.50</td>\n",
       "      <td>43696.0</td>\n",
       "    </tr>\n",
       "    <tr>\n",
       "      <th>138</th>\n",
       "      <td>2022-07-12</td>\n",
       "      <td>삼아제약 *</td>\n",
       "      <td>009300</td>\n",
       "      <td>2.022388</td>\n",
       "      <td>9.0</td>\n",
       "      <td>632.0</td>\n",
       "      <td>1.69</td>\n",
       "      <td>NaN</td>\n",
       "      <td>6370000</td>\n",
       "      <td>943</td>\n",
       "      <td>877</td>\n",
       "      <td>NaN</td>\n",
       "      <td>NaN</td>\n",
       "      <td>-12350.0</td>\n",
       "      <td>0.544280</td>\n",
       "      <td>14750.0</td>\n",
       "      <td>13.47</td>\n",
       "      <td>1099.0</td>\n",
       "      <td>0.52</td>\n",
       "      <td>28486.0</td>\n",
       "    </tr>\n",
       "    <tr>\n",
       "      <th>107</th>\n",
       "      <td>2022-07-12</td>\n",
       "      <td>광동제약</td>\n",
       "      <td>009290</td>\n",
       "      <td>1.712803</td>\n",
       "      <td>18.0</td>\n",
       "      <td>2899.0</td>\n",
       "      <td>1.56</td>\n",
       "      <td>NaN</td>\n",
       "      <td>52420851</td>\n",
       "      <td>3365</td>\n",
       "      <td>420</td>\n",
       "      <td>NaN</td>\n",
       "      <td>NaN</td>\n",
       "      <td>-3490.0</td>\n",
       "      <td>0.647475</td>\n",
       "      <td>6410.0</td>\n",
       "      <td>13.21</td>\n",
       "      <td>486.0</td>\n",
       "      <td>0.52</td>\n",
       "      <td>12248.0</td>\n",
       "    </tr>\n",
       "    <tr>\n",
       "      <th>91</th>\n",
       "      <td>2022-07-12</td>\n",
       "      <td>종근당홀딩스</td>\n",
       "      <td>001630</td>\n",
       "      <td>1.961679</td>\n",
       "      <td>8.0</td>\n",
       "      <td>158.0</td>\n",
       "      <td>2.45</td>\n",
       "      <td>NaN</td>\n",
       "      <td>5009861</td>\n",
       "      <td>2861</td>\n",
       "      <td>463</td>\n",
       "      <td>NaN</td>\n",
       "      <td>NaN</td>\n",
       "      <td>-51200.0</td>\n",
       "      <td>0.523721</td>\n",
       "      <td>56300.0</td>\n",
       "      <td>22.69</td>\n",
       "      <td>2516.0</td>\n",
       "      <td>0.53</td>\n",
       "      <td>108546.0</td>\n",
       "    </tr>\n",
       "  </tbody>\n",
       "</table>\n",
       "</div>"
      ],
      "text/plain": [
       "           조회일자          종목명    종목코드   52주차액비율  거래대금      거래량  배당수익률(%)  목표주가  \\\n",
       "81   2022-07-12     씨케이에이치 *  900120  2.119048  16.0  63334.0       NaN   NaN   \n",
       "83   2022-07-12     코스맥스비티아이  044820  2.186813   2.0    312.0      2.82   NaN   \n",
       "64   2022-07-12         일성신약  003120  1.307692   0.0      2.0      0.98   NaN   \n",
       "110  2022-07-12  에이프로젠 H&G *  109960  2.404255   3.0   4801.0       NaN   NaN   \n",
       "121  2022-07-12      제일파마홀딩스  002620  2.357143   8.0    710.0      0.53   NaN   \n",
       "47   2022-07-12      에이프로젠제약  003060  2.619962  33.0  54592.0       NaN   NaN   \n",
       "60   2022-07-12     휴온스글로벌 *  084110  3.717481  24.0   1110.0      2.20   NaN   \n",
       "138  2022-07-12       삼아제약 *  009300  2.022388   9.0    632.0      1.69   NaN   \n",
       "107  2022-07-12         광동제약  009290  1.712803  18.0   2899.0      1.56   NaN   \n",
       "91   2022-07-12       종근당홀딩스  001630  1.961679   8.0    158.0      2.45   NaN   \n",
       "\n",
       "         상장주식수  시가총액(억원)  시가총액순위(전처리)  투자의견 매수매도   현재-최고가  현재/최고가비율      현재가  \\\n",
       "81   123012232       311         1458   NaN  NaN   -191.0  0.570787    254.0   \n",
       "83     9603921       885          857   NaN  NaN -10400.0  0.477387   9500.0   \n",
       "64     2660000      2038          577   NaN  NaN -12900.0  0.856826  77200.0   \n",
       "110  178695217       933          882   NaN  NaN   -607.0  0.462832    523.0   \n",
       "121   15973355      1957          590   NaN  NaN -12250.0  0.505051  12500.0   \n",
       "47   398575882      2427          513   NaN  NaN   -750.0  0.450549    615.0   \n",
       "60    12621492      2739          269   NaN  NaN -50555.0  0.300809  21750.0   \n",
       "138    6370000       943          877   NaN  NaN -12350.0  0.544280  14750.0   \n",
       "107   52420851      3365          420   NaN  NaN  -3490.0  0.647475   6410.0   \n",
       "91     5009861      2861          463   NaN  NaN -51200.0  0.523721  56300.0   \n",
       "\n",
       "     PER(배)  EPS(원)  PBR(배)    BPS(원)  \n",
       "81     4.87    52.0    0.08    3296.0  \n",
       "83     6.75  1365.0    0.28   32816.0  \n",
       "64    42.37  1808.0    0.33  229136.0  \n",
       "110   23.73    22.0    0.42    1248.0  \n",
       "121     NaN  -411.0    0.46   26587.0  \n",
       "47    26.48    23.0    0.48    1279.0  \n",
       "60   120.56   180.0    0.50   43696.0  \n",
       "138   13.47  1099.0    0.52   28486.0  \n",
       "107   13.21   486.0    0.52   12248.0  \n",
       "91    22.69  2516.0    0.53  108546.0  "
      ]
     },
     "execution_count": 86,
     "metadata": {},
     "output_type": "execute_result"
    }
   ],
   "source": [
    "# PBR(배) 가 낮은 하위 10개 종목을 찾습니다.\n",
    "pbr_low = df[cols].sort_values(by=\"PBR(배)\").head(10)\n",
    "pbr_low"
   ]
  },
  {
   "cell_type": "code",
   "execution_count": 87,
   "metadata": {},
   "outputs": [
    {
     "data": {
      "text/plain": [
       "종목명\n",
       "씨케이에이치 *       0.08\n",
       "코스맥스비티아이       0.28\n",
       "일성신약           0.33\n",
       "에이프로젠 H&G *    0.42\n",
       "제일파마홀딩스        0.46\n",
       "에이프로젠제약        0.48\n",
       "휴온스글로벌 *       0.50\n",
       "삼아제약 *         0.52\n",
       "광동제약           0.52\n",
       "종근당홀딩스         0.53\n",
       "Name: PBR(배), dtype: float64"
      ]
     },
     "execution_count": 87,
     "metadata": {},
     "output_type": "execute_result"
    }
   ],
   "source": [
    "pbr_low.set_index(\"종목명\")[\"PBR(배)\"]"
   ]
  },
  {
   "cell_type": "code",
   "execution_count": 88,
   "metadata": {},
   "outputs": [
    {
     "data": {
      "text/plain": [
       "<AxesSubplot:ylabel='종목명'>"
      ]
     },
     "execution_count": 88,
     "metadata": {},
     "output_type": "execute_result"
    },
    {
     "data": {
      "image/png": "[encoded data removed]",
      "text/plain": [
       "<Figure size 576x396 with 1 Axes>"
      ]
     },
     "metadata": {},
     "output_type": "display_data"
    }
   ],
   "source": [
    "pbr_low.set_index(\"종목명\")[\"PBR(배)\"].plot.barh()"
   ]
  },
  {
   "cell_type": "code",
   "execution_count": 90,
   "metadata": {},
   "outputs": [
    {
     "data": {
      "text/plain": [
       "Text(0.5, 1.0, 'PBR 하위 10개 종목')"
      ]
     },
     "execution_count": 90,
     "metadata": {},
     "output_type": "execute_result"
    },
    {
     "data": {
      "image/png": "[encoded data removed]",
      "text/plain": [
       "<Figure size 576x396 with 1 Axes>"
      ]
     },
     "metadata": {},
     "output_type": "display_data"
    }
   ],
   "source": [
    "sns.barplot(data=pbr_low, x=\"PBR(배)\", y=\"종목명\", ci=None).set_title(\"PBR 하위 10개 종목\")"
   ]
  },
  {
   "cell_type": "code",
   "execution_count": 92,
   "metadata": {},
   "outputs": [],
   "source": [
    "# PBR(배) 가 높은 상위 10개 종목을 찾습니다.\n",
    "pbr_high = df[cols].sort_values(by=\"PBR(배)\", ascending=False).head(10)"
   ]
  },
  {
   "cell_type": "code",
   "execution_count": 96,
   "metadata": {},
   "outputs": [
    {
     "data": {
      "text/plain": [
       "<AxesSubplot:ylabel='종목명'>"
      ]
     },
     "execution_count": 96,
     "metadata": {},
     "output_type": "execute_result"
    },
    {
     "data": {
      "image/png": "[encoded data removed]",
      "text/plain": [
       "<Figure size 576x396 with 1 Axes>"
      ]
     },
     "metadata": {},
     "output_type": "display_data"
    }
   ],
   "source": [
    "pbr_high.set_index(\"종목명\")[\"PBR(배)\"].sort_values().plot.barh()"
   ]
  },
  {
   "cell_type": "code",
   "execution_count": 95,
   "metadata": {},
   "outputs": [
    {
     "data": {
      "text/plain": [
       "Text(0.5, 1.0, 'PBR 상위 10개 종목')"
      ]
     },
     "execution_count": 95,
     "metadata": {},
     "output_type": "execute_result"
    },
    {
     "data": {
      "image/png": "[encoded data removed]",
      "text/plain": [
       "<Figure size 576x396 with 1 Axes>"
      ]
     },
     "metadata": {},
     "output_type": "display_data"
    }
   ],
   "source": [
    "sns.barplot(data=pbr_high, x=\"PBR(배)\", y=\"종목명\", ci=None).set_title(\"PBR 상위 10개 종목\")"
   ]
  },
  {
   "cell_type": "markdown",
   "metadata": {},
   "source": [
    "## PER 와 PBR의 상관 분석\n",
    "\n",
    "### 상관 분석\n",
    "\n",
    "상관 분석(相關 分析, Correlation analysis) 또는 '상관관계' 또는 '상관'은 확률론과 통계학에서 두 변수간에 어떤 선형적 또는 비선형적 관계를 갖고 있는지를 분석하는 방법이다. 두 변수는 서로 독립적인 관계이거나 상관된 관계일 수 있으며 이때 두 변수간의 관계의 강도를 상관관계(Correlation, Correlation coefficient)라 한다. 상관분석에서는 상관관계의 정도를 나타내는 단위로 모상관계수로 ρ를 사용하며 표본 상관 계수로 r 을 사용한다.\n",
    "\n",
    "상관관계의 정도를 파악하는 상관 계수(相關係數, Correlation coefficient)는 <font color=\"red\">두 변수간의 연관된 정도를 나타낼 뿐 인과관계를 설명하는 것은 아니다.</font> 두 변수간에 원인과 결과의 인과관계가 있는지에 대한 것은 회귀분석을 통해 인과관계의 방향, 정도와 수학적 모델을 확인해 볼 수 있다.\n",
    "\n",
    "* 출처 : https://ko.wikipedia.org/wiki/%EC%83%81%EA%B4%80_%EB%B6%84%EC%84%9D\n",
    "\n",
    "### 피어슨 상관계수\n",
    "\n",
    "* r 값은 X 와 Y 가 완전히 동일하면 +1, 전혀 다르면 0, 반대방향으로 완전히 동일 하면 –1 을 가진다. \n",
    "* 결정계수(coefficient of determination)는 r^2 로 계산하며 이것은 X 로부터 Y 를 예측할 수 있는 정도를 의미한다.\n",
    "\n",
    "<img src=\"https://upload.wikimedia.org/wikipedia/commons/thumb/d/d4/Correlation_examples2.svg/800px-Correlation_examples2.svg.png\" width=\"500\">\n",
    "\n",
    "```\n",
    "일반적으로\n",
    "r이 -1.0과 -0.7 사이이면, 강한 음적 선형관계,\n",
    "r이 -0.7과 -0.3 사이이면, 뚜렷한 음적 선형관계,\n",
    "r이 -0.3과 -0.1 사이이면, 약한 음적 선형관계,\n",
    "r이 -0.1과 +0.1 사이이면, 거의 무시될 수 있는 선형관계,\n",
    "r이 +0.1과 +0.3 사이이면, 약한 양적 선형관계,\n",
    "r이 +0.3과 +0.7 사이이면, 뚜렷한 양적 선형관계,\n",
    "r이 +0.7과 +1.0 사이이면, 강한 양적 선형관계\n",
    "```\n",
    "\n",
    "<img src=\"https://upload.wikimedia.org/wikipedia/commons/3/34/Correlation_coefficient.png\" width=500>\n",
    "\n",
    "* 출처 :  https://ko.wikipedia.org/wiki/%EC%83%81%EA%B4%80_%EB%B6%84%EC%84%9D#%ED%94%BC%EC%96%B4%EC%8A%A8_%EC%83%81%EA%B4%80_%EA%B3%84%EC%88%98\n",
    "\n",
    "\n",
    "* PER : 주가수익률, Price Earnings Ratio\n",
    "* PBR : 주가순자산비율, price-to-book ratio, P/B ratio"
   ]
  },
  {
   "cell_type": "code",
   "execution_count": 97,
   "metadata": {},
   "outputs": [
    {
     "data": {
      "text/html": [
       "<div>\n",
       "<style scoped>\n",
       "    .dataframe tbody tr th:only-of-type {\n",
       "        vertical-align: middle;\n",
       "    }\n",
       "\n",
       "    .dataframe tbody tr th {\n",
       "        vertical-align: top;\n",
       "    }\n",
       "\n",
       "    .dataframe thead th {\n",
       "        text-align: right;\n",
       "    }\n",
       "</style>\n",
       "<table border=\"1\" class=\"dataframe\">\n",
       "  <thead>\n",
       "    <tr style=\"text-align: right;\">\n",
       "      <th></th>\n",
       "      <th>PER(배)</th>\n",
       "      <th>PBR(배)</th>\n",
       "    </tr>\n",
       "  </thead>\n",
       "  <tbody>\n",
       "    <tr>\n",
       "      <th>PER(배)</th>\n",
       "      <td>1.000000</td>\n",
       "      <td>0.104105</td>\n",
       "    </tr>\n",
       "    <tr>\n",
       "      <th>PBR(배)</th>\n",
       "      <td>0.104105</td>\n",
       "      <td>1.000000</td>\n",
       "    </tr>\n",
       "  </tbody>\n",
       "</table>\n",
       "</div>"
      ],
      "text/plain": [
       "          PER(배)    PBR(배)\n",
       "PER(배)  1.000000  0.104105\n",
       "PBR(배)  0.104105  1.000000"
      ]
     },
     "execution_count": 97,
     "metadata": {},
     "output_type": "execute_result"
    }
   ],
   "source": [
    "#  PER와 PBR의 상관계수를 구합니다.\n",
    "df[[\"PER(배)\", \"PBR(배)\"]].corr()"
   ]
  },
  {
   "cell_type": "code",
   "execution_count": 98,
   "metadata": {},
   "outputs": [
    {
     "data": {
      "text/plain": [
       "<AxesSubplot:xlabel='PBR(배)', ylabel='PER(배)'>"
      ]
     },
     "execution_count": 98,
     "metadata": {},
     "output_type": "execute_result"
    },
    {
     "data": {
      "image/png": "[encoded data removed]",
      "text/plain": [
       "<Figure size 576x396 with 1 Axes>"
      ]
     },
     "metadata": {},
     "output_type": "display_data"
    }
   ],
   "source": [
    "# scatterplot 을 통해 PER와 PBR이 선형성이 있는지 봅니다.\n",
    "sns.scatterplot(data=df, y=\"PER(배)\", x=\"PBR(배)\")"
   ]
  },
  {
   "cell_type": "code",
   "execution_count": 99,
   "metadata": {},
   "outputs": [
    {
     "data": {
      "text/plain": [
       "<AxesSubplot:xlabel='PBR(배)', ylabel='PER(배)'>"
      ]
     },
     "execution_count": 99,
     "metadata": {},
     "output_type": "execute_result"
    },
    {
     "data": {
      "image/png": "[encoded data removed]",
      "text/plain": [
       "<Figure size 576x396 with 1 Axes>"
      ]
     },
     "metadata": {},
     "output_type": "display_data"
    }
   ],
   "source": [
    "# regplot 을 통해 PER와 PBR이 선형성이 있는지 봅니다.\n",
    "sns.regplot(data=df, y=\"PER(배)\", x=\"PBR(배)\", ci=None)"
   ]
  },
  {
   "cell_type": "markdown",
   "metadata": {},
   "source": [
    "### 이상치 찾기"
   ]
  },
  {
   "cell_type": "code",
   "execution_count": 100,
   "metadata": {},
   "outputs": [
    {
     "data": {
      "text/plain": [
       "count      88.000000\n",
       "mean       77.829659\n",
       "std       321.761602\n",
       "min         1.840000\n",
       "25%        13.515000\n",
       "50%        22.585000\n",
       "75%        49.742500\n",
       "max      3016.670000\n",
       "Name: PER(배), dtype: float64"
      ]
     },
     "execution_count": 100,
     "metadata": {},
     "output_type": "execute_result"
    }
   ],
   "source": [
    "# \"PER(배)\"의 이상치를 찾습니다.\n",
    "df[\"PER(배)\"].describe()"
   ]
  },
  {
   "cell_type": "code",
   "execution_count": 101,
   "metadata": {},
   "outputs": [
    {
     "data": {
      "text/html": [
       "<div>\n",
       "<style scoped>\n",
       "    .dataframe tbody tr th:only-of-type {\n",
       "        vertical-align: middle;\n",
       "    }\n",
       "\n",
       "    .dataframe tbody tr th {\n",
       "        vertical-align: top;\n",
       "    }\n",
       "\n",
       "    .dataframe thead th {\n",
       "        text-align: right;\n",
       "    }\n",
       "</style>\n",
       "<table border=\"1\" class=\"dataframe\">\n",
       "  <thead>\n",
       "    <tr style=\"text-align: right;\">\n",
       "      <th></th>\n",
       "      <th>조회일자</th>\n",
       "      <th>종목명</th>\n",
       "      <th>종목코드</th>\n",
       "      <th>52주차액비율</th>\n",
       "      <th>거래대금</th>\n",
       "      <th>거래량</th>\n",
       "      <th>배당수익률(%)</th>\n",
       "      <th>목표주가</th>\n",
       "      <th>상장주식수</th>\n",
       "      <th>시가총액(억원)</th>\n",
       "      <th>시가총액순위(전처리)</th>\n",
       "      <th>투자의견</th>\n",
       "      <th>매수매도</th>\n",
       "      <th>현재-최고가</th>\n",
       "      <th>현재/최고가비율</th>\n",
       "      <th>현재가</th>\n",
       "      <th>PER(배)</th>\n",
       "      <th>EPS(원)</th>\n",
       "      <th>PBR(배)</th>\n",
       "      <th>BPS(원)</th>\n",
       "    </tr>\n",
       "  </thead>\n",
       "  <tbody>\n",
       "    <tr>\n",
       "      <th>14</th>\n",
       "      <td>2022-07-12</td>\n",
       "      <td>부광약품</td>\n",
       "      <td>003000</td>\n",
       "      <td>2.982234</td>\n",
       "      <td>849.0</td>\n",
       "      <td>94223.0</td>\n",
       "      <td>1.11</td>\n",
       "      <td>NaN</td>\n",
       "      <td>71063049</td>\n",
       "      <td>6431</td>\n",
       "      <td>285</td>\n",
       "      <td>NaN</td>\n",
       "      <td>NaN</td>\n",
       "      <td>-14480.0</td>\n",
       "      <td>0.383830</td>\n",
       "      <td>9020.0</td>\n",
       "      <td>3016.67</td>\n",
       "      <td>3.0</td>\n",
       "      <td>2.38</td>\n",
       "      <td>3801.0</td>\n",
       "    </tr>\n",
       "    <tr>\n",
       "      <th>54</th>\n",
       "      <td>2022-07-12</td>\n",
       "      <td>JW중외제약2우B</td>\n",
       "      <td>001067</td>\n",
       "      <td>1.571309</td>\n",
       "      <td>0.0</td>\n",
       "      <td>0.0</td>\n",
       "      <td>0.46</td>\n",
       "      <td>35667.0</td>\n",
       "      <td>102927</td>\n",
       "      <td>72</td>\n",
       "      <td>1643</td>\n",
       "      <td>4.0</td>\n",
       "      <td>매수</td>\n",
       "      <td>-3000.0</td>\n",
       "      <td>0.959072</td>\n",
       "      <td>70300.0</td>\n",
       "      <td>360.51</td>\n",
       "      <td>195.0</td>\n",
       "      <td>8.04</td>\n",
       "      <td>8745.0</td>\n",
       "    </tr>\n",
       "    <tr>\n",
       "      <th>56</th>\n",
       "      <td>2022-07-12</td>\n",
       "      <td>한올바이오파마</td>\n",
       "      <td>009420</td>\n",
       "      <td>1.822742</td>\n",
       "      <td>174.0</td>\n",
       "      <td>9881.0</td>\n",
       "      <td>NaN</td>\n",
       "      <td>24333.0</td>\n",
       "      <td>52240638</td>\n",
       "      <td>9220</td>\n",
       "      <td>222</td>\n",
       "      <td>4.0</td>\n",
       "      <td>매수</td>\n",
       "      <td>-9600.0</td>\n",
       "      <td>0.647706</td>\n",
       "      <td>17650.0</td>\n",
       "      <td>215.24</td>\n",
       "      <td>82.0</td>\n",
       "      <td>5.79</td>\n",
       "      <td>3049.0</td>\n",
       "    </tr>\n",
       "  </tbody>\n",
       "</table>\n",
       "</div>"
      ],
      "text/plain": [
       "          조회일자        종목명    종목코드   52주차액비율   거래대금      거래량  배당수익률(%)  \\\n",
       "14  2022-07-12       부광약품  003000  2.982234  849.0  94223.0      1.11   \n",
       "54  2022-07-12  JW중외제약2우B  001067  1.571309    0.0      0.0      0.46   \n",
       "56  2022-07-12    한올바이오파마  009420  1.822742  174.0   9881.0       NaN   \n",
       "\n",
       "       목표주가     상장주식수  시가총액(억원)  시가총액순위(전처리)  투자의견 매수매도   현재-최고가  현재/최고가비율  \\\n",
       "14      NaN  71063049      6431          285   NaN  NaN -14480.0  0.383830   \n",
       "54  35667.0    102927        72         1643   4.0   매수  -3000.0  0.959072   \n",
       "56  24333.0  52240638      9220          222   4.0   매수  -9600.0  0.647706   \n",
       "\n",
       "        현재가   PER(배)  EPS(원)  PBR(배)  BPS(원)  \n",
       "14   9020.0  3016.67     3.0    2.38  3801.0  \n",
       "54  70300.0   360.51   195.0    8.04  8745.0  \n",
       "56  17650.0   215.24    82.0    5.79  3049.0  "
      ]
     },
     "execution_count": 101,
     "metadata": {},
     "output_type": "execute_result"
    }
   ],
   "source": [
    "df.loc[df[\"PER(배)\"] > 200, cols]"
   ]
  },
  {
   "cell_type": "code",
   "execution_count": 103,
   "metadata": {},
   "outputs": [
    {
     "data": {
      "text/html": [
       "<div>\n",
       "<style scoped>\n",
       "    .dataframe tbody tr th:only-of-type {\n",
       "        vertical-align: middle;\n",
       "    }\n",
       "\n",
       "    .dataframe tbody tr th {\n",
       "        vertical-align: top;\n",
       "    }\n",
       "\n",
       "    .dataframe thead th {\n",
       "        text-align: right;\n",
       "    }\n",
       "</style>\n",
       "<table border=\"1\" class=\"dataframe\">\n",
       "  <thead>\n",
       "    <tr style=\"text-align: right;\">\n",
       "      <th></th>\n",
       "      <th>조회일자</th>\n",
       "      <th>종목명</th>\n",
       "      <th>종목코드</th>\n",
       "      <th>52주차액비율</th>\n",
       "      <th>거래대금</th>\n",
       "      <th>거래량</th>\n",
       "      <th>배당수익률(%)</th>\n",
       "      <th>목표주가</th>\n",
       "      <th>상장주식수</th>\n",
       "      <th>시가총액(억원)</th>\n",
       "      <th>시가총액순위(전처리)</th>\n",
       "      <th>투자의견</th>\n",
       "      <th>매수매도</th>\n",
       "      <th>현재-최고가</th>\n",
       "      <th>현재/최고가비율</th>\n",
       "      <th>현재가</th>\n",
       "      <th>PER(배)</th>\n",
       "      <th>EPS(원)</th>\n",
       "      <th>PBR(배)</th>\n",
       "      <th>BPS(원)</th>\n",
       "    </tr>\n",
       "  </thead>\n",
       "  <tbody>\n",
       "    <tr>\n",
       "      <th>0</th>\n",
       "      <td>2022-07-12</td>\n",
       "      <td>카이노스메드 *</td>\n",
       "      <td>284620</td>\n",
       "      <td>2.492757</td>\n",
       "      <td>1413.0</td>\n",
       "      <td>125641.0</td>\n",
       "      <td>NaN</td>\n",
       "      <td>NaN</td>\n",
       "      <td>22322396</td>\n",
       "      <td>2219</td>\n",
       "      <td>362</td>\n",
       "      <td>NaN</td>\n",
       "      <td>NaN</td>\n",
       "      <td>-10060.0</td>\n",
       "      <td>0.532311</td>\n",
       "      <td>11450.0</td>\n",
       "      <td>NaN</td>\n",
       "      <td>-770.0</td>\n",
       "      <td>125.82</td>\n",
       "      <td>79.0</td>\n",
       "    </tr>\n",
       "    <tr>\n",
       "      <th>76</th>\n",
       "      <td>2022-07-12</td>\n",
       "      <td>보로노이 *</td>\n",
       "      <td>310210</td>\n",
       "      <td>1.807560</td>\n",
       "      <td>3664.0</td>\n",
       "      <td>80371.0</td>\n",
       "      <td>NaN</td>\n",
       "      <td>NaN</td>\n",
       "      <td>12638949</td>\n",
       "      <td>5511</td>\n",
       "      <td>108</td>\n",
       "      <td>NaN</td>\n",
       "      <td>NaN</td>\n",
       "      <td>-7250.0</td>\n",
       "      <td>0.862167</td>\n",
       "      <td>45350.0</td>\n",
       "      <td>NaN</td>\n",
       "      <td>NaN</td>\n",
       "      <td>41.56</td>\n",
       "      <td>1049.0</td>\n",
       "    </tr>\n",
       "    <tr>\n",
       "      <th>141</th>\n",
       "      <td>2022-07-12</td>\n",
       "      <td>박셀바이오 *</td>\n",
       "      <td>323990</td>\n",
       "      <td>3.234646</td>\n",
       "      <td>588.0</td>\n",
       "      <td>14319.0</td>\n",
       "      <td>NaN</td>\n",
       "      <td>NaN</td>\n",
       "      <td>15223000</td>\n",
       "      <td>6295</td>\n",
       "      <td>89</td>\n",
       "      <td>NaN</td>\n",
       "      <td>NaN</td>\n",
       "      <td>-61800.0</td>\n",
       "      <td>0.398247</td>\n",
       "      <td>40900.0</td>\n",
       "      <td>NaN</td>\n",
       "      <td>-373.0</td>\n",
       "      <td>22.16</td>\n",
       "      <td>1866.0</td>\n",
       "    </tr>\n",
       "  </tbody>\n",
       "</table>\n",
       "</div>"
      ],
      "text/plain": [
       "           조회일자       종목명    종목코드   52주차액비율    거래대금       거래량  배당수익률(%)  목표주가  \\\n",
       "0    2022-07-12  카이노스메드 *  284620  2.492757  1413.0  125641.0       NaN   NaN   \n",
       "76   2022-07-12    보로노이 *  310210  1.807560  3664.0   80371.0       NaN   NaN   \n",
       "141  2022-07-12   박셀바이오 *  323990  3.234646   588.0   14319.0       NaN   NaN   \n",
       "\n",
       "        상장주식수  시가총액(억원)  시가총액순위(전처리)  투자의견 매수매도   현재-최고가  현재/최고가비율      현재가  \\\n",
       "0    22322396      2219          362   NaN  NaN -10060.0  0.532311  11450.0   \n",
       "76   12638949      5511          108   NaN  NaN  -7250.0  0.862167  45350.0   \n",
       "141  15223000      6295           89   NaN  NaN -61800.0  0.398247  40900.0   \n",
       "\n",
       "     PER(배)  EPS(원)  PBR(배)  BPS(원)  \n",
       "0       NaN  -770.0  125.82    79.0  \n",
       "76      NaN     NaN   41.56  1049.0  \n",
       "141     NaN  -373.0   22.16  1866.0  "
      ]
     },
     "execution_count": 103,
     "metadata": {},
     "output_type": "execute_result"
    }
   ],
   "source": [
    "# \"PBR(배)\"의 이상치를 찾습니다.\n",
    "df.loc[df[\"PBR(배)\"] > 20, cols]"
   ]
  },
  {
   "cell_type": "markdown",
   "metadata": {},
   "source": [
    "## 배당수익률이 높은 종목을 찾기"
   ]
  },
  {
   "cell_type": "code",
   "execution_count": 120,
   "metadata": {},
   "outputs": [],
   "source": [
    "# 배당수익률% 컬럼이 결측치가 아닌 데이터 중 배당수익률% 가 높은 종목을 찾습니다.\n",
    "# fil = df[\"배당수익률(%)\"].notna()\n",
    "# df[fil].sort_values(by=\"배당수익률(%)\", ascending=False)\n",
    "배당수익률 = df[df[\"배당수익률(%)\"].notnull()].sort_values(by='배당수익률(%)', ascending=False).head(10)"
   ]
  },
  {
   "cell_type": "code",
   "execution_count": 123,
   "metadata": {},
   "outputs": [
    {
     "data": {
      "image/png": "[encoded data removed]",
      "text/plain": [
       "<Figure size 576x396 with 1 Axes>"
      ]
     },
     "metadata": {},
     "output_type": "display_data"
    }
   ],
   "source": [
    "# 위에서 구한 배당수익률이 높은 종목이 상단에 위치하도록 막대그래프로 시각화 합니다.\n",
    "# set_index(기준 축이 될 컬럼명으로 인덱스로 만들어 줍니다.)\n",
    "# sort_values(특정 컬럼 기준으로 순차정렬합니다.)\n",
    "g = 배당수익률.set_index(\"종목명\")[\"배당수익률(%)\"].sort_values().plot.barh(title=\"배당수익률\")"
   ]
  },
  {
   "cell_type": "markdown",
   "metadata": {
    "id": "bTZN6M7D3W3j"
   },
   "source": [
    "## 코스피에서 해당 업종/테마의 시가총액이 가장 많은 종목을 찾아주세요."
   ]
  },
  {
   "cell_type": "code",
   "execution_count": 134,
   "metadata": {},
   "outputs": [],
   "source": [
    "# 코스피에 해당 여부를 인덱싱 합니다.\n",
    "kospi = df['코스피/코스닥'] == '코스피'"
   ]
  },
  {
   "cell_type": "code",
   "execution_count": 137,
   "metadata": {},
   "outputs": [],
   "source": [
    "# 코스피중에서 시가총액(억원) 상위 20개 종목을 찾습니다.\n",
    "시가총액 = df[kospi].sort_values(by=\"시가총액(억원)\", ascending=False).head(20)"
   ]
  },
  {
   "cell_type": "code",
   "execution_count": 140,
   "metadata": {},
   "outputs": [
    {
     "data": {
      "text/plain": [
       "<AxesSubplot:title={'center':'시가총액'}, ylabel='종목명'>"
      ]
     },
     "execution_count": 140,
     "metadata": {},
     "output_type": "execute_result"
    },
    {
     "data": {
      "image/png": "[encoded data removed]",
      "text/plain": [
       "<Figure size 720x432 with 1 Axes>"
      ]
     },
     "metadata": {},
     "output_type": "display_data"
    }
   ],
   "source": [
    "시가총액.set_index(\"종목명\")[\"시가총액(억원)\"].sort_values().plot.barh(\n",
    "    figsize=(10, 6), title=\"시가총액\")"
   ]
  },
  {
   "cell_type": "markdown",
   "metadata": {
    "id": "YDccj8293W3j"
   },
   "source": [
    "## 코스피에서 해당 업종/테마의 거래량이 가장 많은 종목을 찾아주세요."
   ]
  },
  {
   "cell_type": "code",
   "execution_count": 159,
   "metadata": {
    "id": "DLk40LjQ3W3j",
    "scrolled": false
   },
   "outputs": [],
   "source": [
    "# 거래량 column으로 sorting을 해보면 확인할 수 있습니다.\n",
    "# 거래량을 볼 때는 가격을 함께 참고해 보세요.\n",
    "거래량 = df[kospi].sort_values(by=\"거래량\", ascending=False).head(20)"
   ]
  },
  {
   "cell_type": "code",
   "execution_count": 160,
   "metadata": {},
   "outputs": [
    {
     "data": {
      "text/plain": [
       "<AxesSubplot:title={'center':'거래량'}, ylabel='종목명'>"
      ]
     },
     "execution_count": 160,
     "metadata": {},
     "output_type": "execute_result"
    },
    {
     "data": {
      "image/png": "[encoded data removed]",
      "text/plain": [
       "<Figure size 720x432 with 1 Axes>"
      ]
     },
     "metadata": {},
     "output_type": "display_data"
    }
   ],
   "source": [
    "거래량.set_index(\"종목명\")[\"거래량\"].sort_values().plot.barh(\n",
    "    figsize=(10, 6), title=\"거래량\")"
   ]
  },
  {
   "cell_type": "markdown",
   "metadata": {
    "id": "DLk40LjQ3W3j"
   },
   "source": [
    "## 코스피 해당 업종/테마 종목 중 최근 52주 최고가에서 현재가 기준으로 가장 손실이 크게 난 종목은 어떤 종목일까요?"
   ]
  },
  {
   "cell_type": "code",
   "execution_count": 163,
   "metadata": {
    "id": "wIr4XKk33W3j",
    "scrolled": false
   },
   "outputs": [
    {
     "data": {
      "text/html": [
       "<div>\n",
       "<style scoped>\n",
       "    .dataframe tbody tr th:only-of-type {\n",
       "        vertical-align: middle;\n",
       "    }\n",
       "\n",
       "    .dataframe tbody tr th {\n",
       "        vertical-align: top;\n",
       "    }\n",
       "\n",
       "    .dataframe thead th {\n",
       "        text-align: right;\n",
       "    }\n",
       "</style>\n",
       "<table border=\"1\" class=\"dataframe\">\n",
       "  <thead>\n",
       "    <tr style=\"text-align: right;\">\n",
       "      <th></th>\n",
       "      <th>종목명</th>\n",
       "      <th>현재/최고가비율</th>\n",
       "    </tr>\n",
       "  </thead>\n",
       "  <tbody>\n",
       "    <tr>\n",
       "      <th>63</th>\n",
       "      <td>프레스티지바이오파마</td>\n",
       "      <td>0.290086</td>\n",
       "    </tr>\n",
       "    <tr>\n",
       "      <th>17</th>\n",
       "      <td>신풍제약</td>\n",
       "      <td>0.329114</td>\n",
       "    </tr>\n",
       "    <tr>\n",
       "      <th>12</th>\n",
       "      <td>이연제약</td>\n",
       "      <td>0.355479</td>\n",
       "    </tr>\n",
       "    <tr>\n",
       "      <th>4</th>\n",
       "      <td>신풍제약우</td>\n",
       "      <td>0.360000</td>\n",
       "    </tr>\n",
       "    <tr>\n",
       "      <th>14</th>\n",
       "      <td>부광약품</td>\n",
       "      <td>0.383830</td>\n",
       "    </tr>\n",
       "    <tr>\n",
       "      <th>16</th>\n",
       "      <td>유나이티드제약</td>\n",
       "      <td>0.386435</td>\n",
       "    </tr>\n",
       "    <tr>\n",
       "      <th>39</th>\n",
       "      <td>SK바이오사이언스</td>\n",
       "      <td>0.406077</td>\n",
       "    </tr>\n",
       "    <tr>\n",
       "      <th>126</th>\n",
       "      <td>삼성제약</td>\n",
       "      <td>0.425599</td>\n",
       "    </tr>\n",
       "    <tr>\n",
       "      <th>47</th>\n",
       "      <td>에이프로젠제약</td>\n",
       "      <td>0.450549</td>\n",
       "    </tr>\n",
       "    <tr>\n",
       "      <th>92</th>\n",
       "      <td>녹십자</td>\n",
       "      <td>0.454774</td>\n",
       "    </tr>\n",
       "    <tr>\n",
       "      <th>50</th>\n",
       "      <td>초록뱀헬스케어</td>\n",
       "      <td>0.456613</td>\n",
       "    </tr>\n",
       "    <tr>\n",
       "      <th>66</th>\n",
       "      <td>경보제약</td>\n",
       "      <td>0.464052</td>\n",
       "    </tr>\n",
       "    <tr>\n",
       "      <th>23</th>\n",
       "      <td>종근당바이오</td>\n",
       "      <td>0.474068</td>\n",
       "    </tr>\n",
       "    <tr>\n",
       "      <th>129</th>\n",
       "      <td>제일약품</td>\n",
       "      <td>0.476344</td>\n",
       "    </tr>\n",
       "    <tr>\n",
       "      <th>83</th>\n",
       "      <td>코스맥스비티아이</td>\n",
       "      <td>0.477387</td>\n",
       "    </tr>\n",
       "    <tr>\n",
       "      <th>1</th>\n",
       "      <td>일동제약</td>\n",
       "      <td>0.482390</td>\n",
       "    </tr>\n",
       "    <tr>\n",
       "      <th>86</th>\n",
       "      <td>한미사이언스</td>\n",
       "      <td>0.497688</td>\n",
       "    </tr>\n",
       "    <tr>\n",
       "      <th>121</th>\n",
       "      <td>제일파마홀딩스</td>\n",
       "      <td>0.505051</td>\n",
       "    </tr>\n",
       "    <tr>\n",
       "      <th>52</th>\n",
       "      <td>유유제약2우B</td>\n",
       "      <td>0.508955</td>\n",
       "    </tr>\n",
       "    <tr>\n",
       "      <th>40</th>\n",
       "      <td>명문제약</td>\n",
       "      <td>0.512500</td>\n",
       "    </tr>\n",
       "  </tbody>\n",
       "</table>\n",
       "</div>"
      ],
      "text/plain": [
       "            종목명  현재/최고가비율\n",
       "63   프레스티지바이오파마  0.290086\n",
       "17         신풍제약  0.329114\n",
       "12         이연제약  0.355479\n",
       "4         신풍제약우  0.360000\n",
       "14         부광약품  0.383830\n",
       "16      유나이티드제약  0.386435\n",
       "39    SK바이오사이언스  0.406077\n",
       "126        삼성제약  0.425599\n",
       "47      에이프로젠제약  0.450549\n",
       "92          녹십자  0.454774\n",
       "50      초록뱀헬스케어  0.456613\n",
       "66         경보제약  0.464052\n",
       "23       종근당바이오  0.474068\n",
       "129        제일약품  0.476344\n",
       "83     코스맥스비티아이  0.477387\n",
       "1          일동제약  0.482390\n",
       "86       한미사이언스  0.497688\n",
       "121     제일파마홀딩스  0.505051\n",
       "52      유유제약2우B  0.508955\n",
       "40         명문제약  0.512500"
      ]
     },
     "execution_count": 163,
     "metadata": {},
     "output_type": "execute_result"
    }
   ],
   "source": [
    "# df[\"현재/최고가비율\"] = df[\"현재가\"] / df[\"52주최고\"]\n",
    "# 현재/최고가비율 을 정렬합니다.\n",
    "# 현재/최고가비율이 낮은 순으로 손실이 크게 난 종목을 찾아봅니다.\n",
    "down_top = df[kospi].sort_values(by=\"현재/최고가비율\")[[\"종목명\", \"현재/최고가비율\"]].head(20)\n",
    "down_top"
   ]
  },
  {
   "cell_type": "code",
   "execution_count": 165,
   "metadata": {},
   "outputs": [
    {
     "data": {
      "text/plain": [
       "<AxesSubplot:title={'center':'현재/최고가 비율'}, ylabel='종목명'>"
      ]
     },
     "execution_count": 165,
     "metadata": {},
     "output_type": "execute_result"
    },
    {
     "data": {
      "image/png": "[encoded data removed]",
      "text/plain": [
       "<Figure size 720x432 with 1 Axes>"
      ]
     },
     "metadata": {},
     "output_type": "display_data"
    }
   ],
   "source": [
    "# 현재/최고가비율로 손실이 큰 순서대로 막대그래프로 시각화 합니다.\n",
    "down_top.set_index(\"종목명\")[\"현재/최고가비율\"].sort_values(ascending=False).plot.barh(\n",
    "    figsize=(10, 6), title=\"현재/최고가 비율\")"
   ]
  },
  {
   "cell_type": "code",
   "execution_count": 168,
   "metadata": {},
   "outputs": [
    {
     "data": {
      "text/plain": [
       "Text(0.5, 1.0, '현재/최고가 비율')"
      ]
     },
     "execution_count": 168,
     "metadata": {},
     "output_type": "execute_result"
    },
    {
     "data": {
      "image/png": "[encoded data removed]",
      "text/plain": [
       "<Figure size 720x432 with 1 Axes>"
      ]
     },
     "metadata": {},
     "output_type": "display_data"
    }
   ],
   "source": [
    "plt.figure(figsize = (10, 6))\n",
    "sns.barplot(data=down_top, x=\"현재/최고가비율\", y=\"종목명\", ci=None).set_title(\"현재/최고가 비율\")"
   ]
  },
  {
   "cell_type": "markdown",
   "metadata": {},
   "source": [
    "## 코스피 해당 업종/테마 종목 중 최근 52주 차액 비율이 가장 높은 종목은 무엇일까요?"
   ]
  },
  {
   "cell_type": "code",
   "execution_count": null,
   "metadata": {
    "scrolled": false
   },
   "outputs": [],
   "source": [
    "# df[\"52주차액비율\"] = df[\"52주최고\"] / df[\"52주최저\"]\n",
    "# \"52주차액비율\"이 높은 순으로 정렬합니다.\n"
   ]
  },
  {
   "cell_type": "code",
   "execution_count": null,
   "metadata": {},
   "outputs": [],
   "source": [
    "# 종목명에 대한 52주차액비율을 시각화 합니다.  \n"
   ]
  },
  {
   "cell_type": "markdown",
   "metadata": {},
   "source": [
    "\n",
    "### 손실 낙폭(Drawdown)\n",
    "거래 계좌 또는 펀드의 특정 기간 동안 최고치에서 최저치까지 감소하는 것입니다. 드로 다운은 일반적으로 최고점과 후속 최저점 사이의 백분율로 표시됩니다.\n",
    "\n",
    "드로 다운은 다른 투자의 역사적 위험을 측정하고 펀드 성과를 비교하거나 개인 거래 성과를 모니터링하는 데 중요합니다.\n",
    "* 드로 다운은 투자 또는 거래 계정이 최고점으로 회복되기 전에 최고점에서 얼마나 하락했는지를 나타냅니다.\n",
    "* 하락은 하락 변동성의 척도입니다.\n",
    "* 드로 다운을 평가할 때 드로 다운을 복구하는 데 걸리는 시간도 고려해야합니다.\n",
    "* 감소와 손실이 반드시 같은 것은 아닙니다.\n",
    "* 대부분의 거래자들은 하락을 최고점에서 최저점으로 보는 반면, 손실은 일반적으로 현재 또는 종료 가격과 관련된 구매 가격을 나타냅니다.\n",
    "\n",
    "* 참고 : https://www.investopedia.com/terms/d/drawdown.asp\n",
    "\n",
    "### 최대 손실 낙폭 (MDD: Maximum Drawdown)\n",
    "\n",
    "* 새로운 최고점에 도달하기 전에 포트폴리오의 최고점에서 최저점까지 관찰 된 최대 손실입니다. 최대 손실은 지정된 기간 동안의 하락 위험을 나타내는 지표입니다.\n",
    "* MDD (Maximum drawdown)는 최고점에서 최저점까지 자산의 최대 가격 하락을 측정 한 것입니다.\n",
    "* 최대 하락은 하락 위험의 지표로 간주되며 큰 MDD는 하락 움직임이 변동성이있을 수 있음을 시사합니다.\n",
    "* MDD는 가장 큰 손실을 측정하지만 손실의 빈도는 고려하지 않으며 이익의 크기는 고려하지 않습니다.\n",
    "\n",
    "```\n",
    "MDD = (저점값 - 고점값) / 고점값\n",
    "```\n",
    "\n",
    "* 참고 : https://www.investopedia.com/terms/m/maximum-drawdown-mdd.asp\n",
    "\n",
    "* 더 읽어보기 : [가상화폐 투자 마법 공식(5) - MDD(최대 낙폭) 에 대한 고찰 — Steemit](https://steemit.com/kr/@kangcfa/5-mdd)\n",
    "\n",
    "### 최대 손실 낙폭(MDD)이 큰 종목 순으로 찾아주세요."
   ]
  },
  {
   "cell_type": "code",
   "execution_count": null,
   "metadata": {},
   "outputs": [],
   "source": [
    "# MDD 값을 구하고 MDD 값으로 정렬합니다.\n",
    "# df[\"MDD\"]"
   ]
  },
  {
   "cell_type": "code",
   "execution_count": null,
   "metadata": {},
   "outputs": [],
   "source": []
  },
  {
   "cell_type": "markdown",
   "metadata": {},
   "source": [
    "## 코스피 해당 업종/테마에서 거래대금이 20위 안에 있는 코스피 종목 중에 \"PER(배)\"가 가장 높은 종목은 무엇일까요?"
   ]
  },
  {
   "cell_type": "code",
   "execution_count": null,
   "metadata": {
    "id": "ejEydf0r3W3j",
    "scrolled": false
   },
   "outputs": [],
   "source": [
    "# 거래대금 상위 20위 목록을 찾고\n",
    "# PER(배)가 높은 순으로 정렬합니다.\n",
    "# kospi_20\n",
    "# kospi_20_per\n"
   ]
  },
  {
   "cell_type": "code",
   "execution_count": null,
   "metadata": {},
   "outputs": [],
   "source": [
    "# kospi_20_per 변수에서 \"종목명\", \"거래대금\", \"PER(배)\" 만 따로 봅니다.\n"
   ]
  },
  {
   "cell_type": "markdown",
   "metadata": {
    "id": "gwUdEA5U3W3j"
   },
   "source": [
    "## 코스피 해당 업종/테마에서 거래대금이 20위 안에 있는 코스피 종목 중에 \"PER(배)\"가 가장 낮은 종목은 무엇일까요?"
   ]
  },
  {
   "cell_type": "code",
   "execution_count": null,
   "metadata": {
    "id": "Kn5ZQbgD3W3j",
    "scrolled": false
   },
   "outputs": [],
   "source": [
    "# 거래대금 상위 20개에 대한 데이터를 코스피거래대금 DataFrame에 할당합니다.\n",
    "# PER(배)가 낮은 순으로 정렬해 주세요.\n",
    "# kospi_20_per_low"
   ]
  },
  {
   "cell_type": "markdown",
   "metadata": {
    "id": "5wApMYvX3W3j"
   },
   "source": [
    "## 전체 변수에 대한 상관계수 구하기"
   ]
  },
  {
   "cell_type": "code",
   "execution_count": null,
   "metadata": {
    "id": "Wx4fxYDr3W3j"
   },
   "outputs": [],
   "source": [
    "# 데이터가 row 방향이나 column방향으로 모두 결측치일 경우 그 row나 colmun을 지우고,\n",
    "# corr()를 통해 column들 간의 상관계수를 구합니다.\n",
    "# kospi_corr"
   ]
  },
  {
   "cell_type": "markdown",
   "metadata": {
    "id": "N-3vITcz3W3j"
   },
   "source": [
    "### 상관계수 시각화"
   ]
  },
  {
   "cell_type": "code",
   "execution_count": null,
   "metadata": {
    "id": "MlD3Xtc73W3j"
   },
   "outputs": [],
   "source": [
    "# np.triu : matrix를 상삼각행렬로 만드는 numpy math\n",
    "# [1 2 3]   np.triu  [1 2 3]\n",
    "# [4 5 6]   -------> [0 5 6]\n",
    "# [2 3 4]            [0 0 4]\n",
    "# np.ones_like(x) : x와 크기만 같은 1로 이루어진 array를 만듭니다.\n",
    "\n",
    "# 수식적으로 어려워 보일수도 있지만 간단합니다.\n",
    "# 자기상관계수는 대각행렬을 기준으로 대칭되어 같은 값이 출력되므로,\n",
    "# 이대로 전체를 heatmap을 plot하면 오히려 가독성이 떨어질 수 있습니다.\n",
    "# 이에, 가독성을 높이기 위해 대각행렬 기준으로 한쪽의 데이터들만 masking 기법을 통해 plot하여 \n",
    "# 가독성을 높이는 효과를 가질수 있습니다.\n",
    "# mask"
   ]
  },
  {
   "cell_type": "code",
   "execution_count": null,
   "metadata": {
    "id": "MlD3Xtc73W3j"
   },
   "outputs": [],
   "source": [
    "# 대비되는 표현을 하고자 할 때는 seismic cmap을 사용하면 좋습니다.\n"
   ]
  },
  {
   "cell_type": "code",
   "execution_count": null,
   "metadata": {},
   "outputs": [],
   "source": [
    "# matplotlib의 pyplot에서 사용할 수 있는 컬러맵을 찾아봅니다.\n",
    "# print(plt.colormaps())"
   ]
  },
  {
   "cell_type": "markdown",
   "metadata": {
    "id": "Va_iaKQe3W3j"
   },
   "source": [
    "## 종목별 상관계수 구하기\n",
    "* 특정 일자의 주가를 통해 구하는 상관계수 입니다.\n",
    "* 장기간의 데이터를 사용하거나 다른 변수를 추가해서 사용하게 되면 좀 더 의미있는 상관계수를 구할 수 있습니다.\n",
    "* <font color=\"red\">상관 계수 수치는 인과 관계와는 무관합니다.</font>"
   ]
  },
  {
   "cell_type": "code",
   "execution_count": null,
   "metadata": {
    "id": "b5Zz6koW3W3j"
   },
   "outputs": [],
   "source": [
    "# 종목명과 수치형 데이터 column들로 list작성합니다.\n",
    "# df_nums \n",
    "# df.dtypes[df.dtypes != object]\n"
   ]
  },
  {
   "cell_type": "code",
   "execution_count": null,
   "metadata": {
    "id": "b5Zz6koW3W3j"
   },
   "outputs": [],
   "source": [
    "# df_nums 에 종목명을 추가합니다.\n"
   ]
  },
  {
   "cell_type": "code",
   "execution_count": null,
   "metadata": {},
   "outputs": [],
   "source": [
    "# 종목명을 인덱스로 설정하고 다시 transpose를 하면 종목명이 컬럼으로 오게 됩니다.\n",
    "# df_item"
   ]
  },
  {
   "cell_type": "code",
   "execution_count": null,
   "metadata": {
    "id": "cxZ_JfOt3W3j"
   },
   "outputs": [],
   "source": [
    "# set_index로 종목명 column으로 만들고,\n",
    "# trainpose(T)로 종목명 column 안에 있던 각각 종목명들이 개별 변수 컬럼으로 변경됩니다.\n",
    "# corr()로 각 변수들간의 상관 계수를 구합니다.\n",
    "# df_item_corr"
   ]
  },
  {
   "cell_type": "code",
   "execution_count": null,
   "metadata": {
    "id": "FBvbelv6oXKv",
    "scrolled": false
   },
   "outputs": [],
   "source": [
    "# df_item_corr"
   ]
  },
  {
   "cell_type": "code",
   "execution_count": null,
   "metadata": {
    "id": "3RiUIx633W3j",
    "scrolled": false
   },
   "outputs": [],
   "source": [
    "# 특정 주가와 상관관계가 높은 순으로 내림차순으로 정렬합니다.\n"
   ]
  },
  {
   "cell_type": "code",
   "execution_count": null,
   "metadata": {},
   "outputs": [],
   "source": []
  },
  {
   "cell_type": "markdown",
   "metadata": {
    "id": "8EvB6xG-3W3j"
   },
   "source": [
    "* 실습결과에 다른 테마를 적용해 보면 같은 방식으로 여러 테마를 분석해 보실 수 있습니다."
   ]
  },
  {
   "cell_type": "code",
   "execution_count": null,
   "metadata": {
    "id": "o2R_ETLb3W3j"
   },
   "outputs": [],
   "source": []
  },
  {
   "cell_type": "code",
   "execution_count": null,
   "metadata": {},
   "outputs": [],
   "source": []
  }
 ],
 "metadata": {
  "colab": {
   "collapsed_sections": [],
   "name": "5. 테마분석.ipynb",
   "provenance": []
  },
  "kernelspec": {
   "display_name": "Python 3 (ipykernel)",
   "language": "python",
   "name": "python3"
  },
  "language_info": {
   "codemirror_mode": {
    "name": "ipython",
    "version": 3
   },
   "file_extension": ".py",
   "mimetype": "text/x-python",
   "name": "python",
   "nbconvert_exporter": "python",
   "pygments_lexer": "ipython3",
   "version": "3.10.4"
  },
  "toc": {
   "base_numbering": 1,
   "nav_menu": {},
   "number_sections": true,
   "sideBar": true,
   "skip_h1_title": false,
   "title_cell": "Table of Contents",
   "title_sidebar": "Contents",
   "toc_cell": false,
   "toc_position": {
    "height": "calc(100% - 180px)",
    "left": "10px",
    "top": "150px",
    "width": "208px"
   },
   "toc_section_display": true,
   "toc_window_display": true
  },
  "varInspector": {
   "cols": {
    "lenName": 16,
    "lenType": 16,
    "lenVar": 40
   },
   "kernels_config": {
    "python": {
     "delete_cmd_postfix": "",
     "delete_cmd_prefix": "del ",
     "library": "var_list.py",
     "varRefreshCmd": "print(var_dic_list())"
    },
    "r": {
     "delete_cmd_postfix": ") ",
     "delete_cmd_prefix": "rm(",
     "library": "var_list.r",
     "varRefreshCmd": "cat(var_dic_list()) "
    }
   },
   "position": {
    "height": "144px",
    "left": "910px",
    "right": "20px",
    "top": "119px",
    "width": "350px"
   },
   "types_to_exclude": [
    "module",
    "function",
    "builtin_function_or_method",
    "instance",
    "_Feature"
   ],
   "window_display": false
  }
 },
 "nbformat": 4,
 "nbformat_minor": 1
}

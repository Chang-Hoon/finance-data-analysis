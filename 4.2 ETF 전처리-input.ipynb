{
 "cells": [
  {
   "cell_type": "markdown",
   "metadata": {
    "id": "t3V7lAmnBYko"
   },
   "source": [
    "[![Open In Colab](https://colab.research.google.com/assets/colab-badge.svg)](https://colab.research.google.com/github/corazzon/finance-data-analysis/blob/main/4.2%20ETF%20%EC%A0%84%EC%B2%98%EB%A6%AC-input.ipynb)\n",
    "\n",
    "* [ETF : 네이버 금융](https://finance.naver.com/sise/etf.nhn) 에서 수집한 데이터를 전처리 합니다.\n",
    "* keyword\n",
    "    * rename column\n",
    "    * .map(lambda x : x)\n",
    "    * text data\n",
    "        * str.contains()\n",
    "        * str.replace()\n",
    "        * str.split(\"구분자\", expand=True)\n",
    "        * str[:]\n",
    "\n",
    "## 데이터 로드와 요약"
   ]
  },
  {
   "cell_type": "code",
   "execution_count": 1,
   "metadata": {
    "id": "sUwAAMjsBYko"
   },
   "outputs": [],
   "source": [
    "# 데이터 분석을 위한 pandas, 수치계산을 위한 numpy라이브러리를 로드합니다.\n",
    "import pandas as pd\n",
    "import numpy as np"
   ]
  },
  {
   "cell_type": "code",
   "execution_count": 2,
   "metadata": {},
   "outputs": [
    {
     "data": {
      "text/plain": [
       "'etf_2022-06-24_raw.csv'"
      ]
     },
     "execution_count": 2,
     "metadata": {},
     "output_type": "execute_result"
    }
   ],
   "source": [
    "# 이전 실습에서 저장한 파일명을 file_name에 적어주세요.\n",
    "file_name = 'etf_2022-06-24_raw.csv'\n",
    "file_name"
   ]
  },
  {
   "cell_type": "code",
   "execution_count": 7,
   "metadata": {
    "id": "cyivYjVFBYkp"
   },
   "outputs": [
    {
     "data": {
      "text/plain": [
       "(575, 12)"
      ]
     },
     "execution_count": 7,
     "metadata": {},
     "output_type": "execute_result"
    }
   ],
   "source": [
    "# 이전 수업에서 수집해서 저장해둔 csv 파일을 읽어옵니다.\n",
    "# itemcode 숫자 앞의 0 이 지워진다면 dtype={\"itemcode\": np.object} 로 타입을 지정해 주면 문자형태로 읽어옵니다.\n",
    "df = pd.read_csv(file_name, dtype={\"itemcode\": object})\n",
    "df.shape"
   ]
  },
  {
   "cell_type": "code",
   "execution_count": 8,
   "metadata": {
    "id": "VgCji4_wBYkp"
   },
   "outputs": [
    {
     "data": {
      "text/html": [
       "<div>\n",
       "<style scoped>\n",
       "    .dataframe tbody tr th:only-of-type {\n",
       "        vertical-align: middle;\n",
       "    }\n",
       "\n",
       "    .dataframe tbody tr th {\n",
       "        vertical-align: top;\n",
       "    }\n",
       "\n",
       "    .dataframe thead th {\n",
       "        text-align: right;\n",
       "    }\n",
       "</style>\n",
       "<table border=\"1\" class=\"dataframe\">\n",
       "  <thead>\n",
       "    <tr style=\"text-align: right;\">\n",
       "      <th></th>\n",
       "      <th>itemcode</th>\n",
       "      <th>etfTabCode</th>\n",
       "      <th>itemname</th>\n",
       "      <th>nowVal</th>\n",
       "      <th>risefall</th>\n",
       "      <th>changeVal</th>\n",
       "      <th>changeRate</th>\n",
       "      <th>nav</th>\n",
       "      <th>threeMonthEarnRate</th>\n",
       "      <th>quant</th>\n",
       "      <th>amonut</th>\n",
       "      <th>marketSum</th>\n",
       "    </tr>\n",
       "  </thead>\n",
       "  <tbody>\n",
       "    <tr>\n",
       "      <th>0</th>\n",
       "      <td>069500</td>\n",
       "      <td>1</td>\n",
       "      <td>KODEX 200</td>\n",
       "      <td>30640</td>\n",
       "      <td>5</td>\n",
       "      <td>-250</td>\n",
       "      <td>-0.81</td>\n",
       "      <td>30607.0</td>\n",
       "      <td>-14.4298</td>\n",
       "      <td>9784052</td>\n",
       "      <td>301620</td>\n",
       "      <td>47247</td>\n",
       "    </tr>\n",
       "    <tr>\n",
       "      <th>1</th>\n",
       "      <td>371460</td>\n",
       "      <td>4</td>\n",
       "      <td>TIGER 차이나전기차SOLACTIVE</td>\n",
       "      <td>17700</td>\n",
       "      <td>2</td>\n",
       "      <td>700</td>\n",
       "      <td>4.12</td>\n",
       "      <td>17844.0</td>\n",
       "      <td>12.6573</td>\n",
       "      <td>13690582</td>\n",
       "      <td>238235</td>\n",
       "      <td>42388</td>\n",
       "    </tr>\n",
       "    <tr>\n",
       "      <th>2</th>\n",
       "      <td>122630</td>\n",
       "      <td>3</td>\n",
       "      <td>KODEX 레버리지</td>\n",
       "      <td>14135</td>\n",
       "      <td>5</td>\n",
       "      <td>-185</td>\n",
       "      <td>-1.29</td>\n",
       "      <td>14147.0</td>\n",
       "      <td>-28.0583</td>\n",
       "      <td>57013787</td>\n",
       "      <td>815169</td>\n",
       "      <td>21909</td>\n",
       "    </tr>\n",
       "    <tr>\n",
       "      <th>3</th>\n",
       "      <td>133690</td>\n",
       "      <td>4</td>\n",
       "      <td>TIGER 미국나스닥100</td>\n",
       "      <td>67055</td>\n",
       "      <td>2</td>\n",
       "      <td>955</td>\n",
       "      <td>1.44</td>\n",
       "      <td>67176.0</td>\n",
       "      <td>-15.3487</td>\n",
       "      <td>118882</td>\n",
       "      <td>7959</td>\n",
       "      <td>19929</td>\n",
       "    </tr>\n",
       "    <tr>\n",
       "      <th>4</th>\n",
       "      <td>252670</td>\n",
       "      <td>3</td>\n",
       "      <td>KODEX 200선물인버스2X</td>\n",
       "      <td>3385</td>\n",
       "      <td>2</td>\n",
       "      <td>40</td>\n",
       "      <td>1.20</td>\n",
       "      <td>3386.0</td>\n",
       "      <td>34.3373</td>\n",
       "      <td>390559840</td>\n",
       "      <td>1305629</td>\n",
       "      <td>19779</td>\n",
       "    </tr>\n",
       "  </tbody>\n",
       "</table>\n",
       "</div>"
      ],
      "text/plain": [
       "  itemcode  etfTabCode               itemname  nowVal  risefall  changeVal  \\\n",
       "0   069500           1              KODEX 200   30640         5       -250   \n",
       "1   371460           4  TIGER 차이나전기차SOLACTIVE   17700         2        700   \n",
       "2   122630           3             KODEX 레버리지   14135         5       -185   \n",
       "3   133690           4         TIGER 미국나스닥100   67055         2        955   \n",
       "4   252670           3       KODEX 200선물인버스2X    3385         2         40   \n",
       "\n",
       "   changeRate      nav  threeMonthEarnRate      quant   amonut  marketSum  \n",
       "0       -0.81  30607.0            -14.4298    9784052   301620      47247  \n",
       "1        4.12  17844.0             12.6573   13690582   238235      42388  \n",
       "2       -1.29  14147.0            -28.0583   57013787   815169      21909  \n",
       "3        1.44  67176.0            -15.3487     118882     7959      19929  \n",
       "4        1.20   3386.0             34.3373  390559840  1305629      19779  "
      ]
     },
     "execution_count": 8,
     "metadata": {},
     "output_type": "execute_result"
    }
   ],
   "source": [
    "# 인덱스 번호 상단 5개의 데이터를 가져옵니다.\n",
    "# 데이터를 잘 읽어왔는지 확인합니다.\n",
    "df.head()"
   ]
  },
  {
   "cell_type": "code",
   "execution_count": 9,
   "metadata": {
    "id": "sFWU55-NBYkp"
   },
   "outputs": [
    {
     "data": {
      "text/html": [
       "<div>\n",
       "<style scoped>\n",
       "    .dataframe tbody tr th:only-of-type {\n",
       "        vertical-align: middle;\n",
       "    }\n",
       "\n",
       "    .dataframe tbody tr th {\n",
       "        vertical-align: top;\n",
       "    }\n",
       "\n",
       "    .dataframe thead th {\n",
       "        text-align: right;\n",
       "    }\n",
       "</style>\n",
       "<table border=\"1\" class=\"dataframe\">\n",
       "  <thead>\n",
       "    <tr style=\"text-align: right;\">\n",
       "      <th></th>\n",
       "      <th>itemcode</th>\n",
       "      <th>etfTabCode</th>\n",
       "      <th>itemname</th>\n",
       "      <th>nowVal</th>\n",
       "      <th>risefall</th>\n",
       "      <th>changeVal</th>\n",
       "      <th>changeRate</th>\n",
       "      <th>nav</th>\n",
       "      <th>threeMonthEarnRate</th>\n",
       "      <th>quant</th>\n",
       "      <th>amonut</th>\n",
       "      <th>marketSum</th>\n",
       "    </tr>\n",
       "  </thead>\n",
       "  <tbody>\n",
       "    <tr>\n",
       "      <th>570</th>\n",
       "      <td>252720</td>\n",
       "      <td>2</td>\n",
       "      <td>KBSTAR 모멘텀밸류</td>\n",
       "      <td>11940</td>\n",
       "      <td>5</td>\n",
       "      <td>-220</td>\n",
       "      <td>-1.81</td>\n",
       "      <td>11943.0</td>\n",
       "      <td>-12.1324</td>\n",
       "      <td>51</td>\n",
       "      <td>0</td>\n",
       "      <td>12</td>\n",
       "    </tr>\n",
       "    <tr>\n",
       "      <th>571</th>\n",
       "      <td>284990</td>\n",
       "      <td>2</td>\n",
       "      <td>KBSTAR 200에너지화학</td>\n",
       "      <td>10570</td>\n",
       "      <td>5</td>\n",
       "      <td>-230</td>\n",
       "      <td>-2.13</td>\n",
       "      <td>10535.0</td>\n",
       "      <td>-1.1442</td>\n",
       "      <td>1033</td>\n",
       "      <td>11</td>\n",
       "      <td>11</td>\n",
       "    </tr>\n",
       "    <tr>\n",
       "      <th>572</th>\n",
       "      <td>287330</td>\n",
       "      <td>2</td>\n",
       "      <td>KBSTAR 200생활소비재</td>\n",
       "      <td>6405</td>\n",
       "      <td>3</td>\n",
       "      <td>0</td>\n",
       "      <td>0.00</td>\n",
       "      <td>6398.0</td>\n",
       "      <td>-9.3675</td>\n",
       "      <td>39</td>\n",
       "      <td>0</td>\n",
       "      <td>9</td>\n",
       "    </tr>\n",
       "    <tr>\n",
       "      <th>573</th>\n",
       "      <td>287320</td>\n",
       "      <td>2</td>\n",
       "      <td>KBSTAR 200산업재</td>\n",
       "      <td>10720</td>\n",
       "      <td>5</td>\n",
       "      <td>-280</td>\n",
       "      <td>-2.55</td>\n",
       "      <td>10728.0</td>\n",
       "      <td>-6.5103</td>\n",
       "      <td>244</td>\n",
       "      <td>2</td>\n",
       "      <td>9</td>\n",
       "    </tr>\n",
       "    <tr>\n",
       "      <th>574</th>\n",
       "      <td>287310</td>\n",
       "      <td>2</td>\n",
       "      <td>KBSTAR 200경기소비재</td>\n",
       "      <td>9030</td>\n",
       "      <td>5</td>\n",
       "      <td>-65</td>\n",
       "      <td>-0.71</td>\n",
       "      <td>9033.0</td>\n",
       "      <td>-4.7046</td>\n",
       "      <td>510</td>\n",
       "      <td>4</td>\n",
       "      <td>7</td>\n",
       "    </tr>\n",
       "  </tbody>\n",
       "</table>\n",
       "</div>"
      ],
      "text/plain": [
       "    itemcode  etfTabCode         itemname  nowVal  risefall  changeVal  \\\n",
       "570   252720           2     KBSTAR 모멘텀밸류   11940         5       -220   \n",
       "571   284990           2  KBSTAR 200에너지화학   10570         5       -230   \n",
       "572   287330           2  KBSTAR 200생활소비재    6405         3          0   \n",
       "573   287320           2    KBSTAR 200산업재   10720         5       -280   \n",
       "574   287310           2  KBSTAR 200경기소비재    9030         5        -65   \n",
       "\n",
       "     changeRate      nav  threeMonthEarnRate  quant  amonut  marketSum  \n",
       "570       -1.81  11943.0            -12.1324     51       0         12  \n",
       "571       -2.13  10535.0             -1.1442   1033      11         11  \n",
       "572        0.00   6398.0             -9.3675     39       0          9  \n",
       "573       -2.55  10728.0             -6.5103    244       2          9  \n",
       "574       -0.71   9033.0             -4.7046    510       4          7  "
      ]
     },
     "execution_count": 9,
     "metadata": {},
     "output_type": "execute_result"
    }
   ],
   "source": [
    "# 인덱스 하단의 5개 데이터를 가져옵니다.\n",
    "# 데이터를 잘 읽어왔는지 확인합니다.\n",
    "df.tail()"
   ]
  },
  {
   "cell_type": "code",
   "execution_count": 10,
   "metadata": {
    "id": "LxSJgh3rBYkq",
    "scrolled": true
   },
   "outputs": [
    {
     "name": "stdout",
     "output_type": "stream",
     "text": [
      "<class 'pandas.core.frame.DataFrame'>\n",
      "RangeIndex: 575 entries, 0 to 574\n",
      "Data columns (total 12 columns):\n",
      " #   Column              Non-Null Count  Dtype  \n",
      "---  ------              --------------  -----  \n",
      " 0   itemcode            575 non-null    object \n",
      " 1   etfTabCode          575 non-null    int64  \n",
      " 2   itemname            575 non-null    object \n",
      " 3   nowVal              575 non-null    int64  \n",
      " 4   risefall            575 non-null    int64  \n",
      " 5   changeVal           575 non-null    int64  \n",
      " 6   changeRate          575 non-null    float64\n",
      " 7   nav                 575 non-null    float64\n",
      " 8   threeMonthEarnRate  547 non-null    float64\n",
      " 9   quant               575 non-null    int64  \n",
      " 10  amonut              575 non-null    int64  \n",
      " 11  marketSum           575 non-null    int64  \n",
      "dtypes: float64(3), int64(7), object(2)\n",
      "memory usage: 54.0+ KB\n"
     ]
    }
   ],
   "source": [
    "# info를 통해서 각 column들의 데이터타입과 결측치, 메모리 사용량 등을 볼 수 있습니다.\n",
    "df.info()"
   ]
  },
  {
   "cell_type": "markdown",
   "metadata": {},
   "source": [
    "* 웹사이트의 ETF 정보와 비교하며 어떤 컬럼이 어떤 값인지 확인합니다. \n",
    "* https://finance.naver.com/sise/etf.nhn "
   ]
  },
  {
   "cell_type": "code",
   "execution_count": 12,
   "metadata": {
    "id": "cdS2JB71BYkq"
   },
   "outputs": [
    {
     "data": {
      "text/html": [
       "<div>\n",
       "<style scoped>\n",
       "    .dataframe tbody tr th:only-of-type {\n",
       "        vertical-align: middle;\n",
       "    }\n",
       "\n",
       "    .dataframe tbody tr th {\n",
       "        vertical-align: top;\n",
       "    }\n",
       "\n",
       "    .dataframe thead th {\n",
       "        text-align: right;\n",
       "    }\n",
       "</style>\n",
       "<table border=\"1\" class=\"dataframe\">\n",
       "  <thead>\n",
       "    <tr style=\"text-align: right;\">\n",
       "      <th></th>\n",
       "      <th>itemcode</th>\n",
       "      <th>etfTabCode</th>\n",
       "      <th>itemname</th>\n",
       "      <th>nowVal</th>\n",
       "      <th>risefall</th>\n",
       "      <th>changeVal</th>\n",
       "      <th>changeRate</th>\n",
       "      <th>nav</th>\n",
       "      <th>threeMonthEarnRate</th>\n",
       "      <th>quant</th>\n",
       "      <th>amonut</th>\n",
       "      <th>marketSum</th>\n",
       "    </tr>\n",
       "  </thead>\n",
       "  <tbody>\n",
       "    <tr>\n",
       "      <th>4</th>\n",
       "      <td>252670</td>\n",
       "      <td>3</td>\n",
       "      <td>KODEX 200선물인버스2X</td>\n",
       "      <td>3385</td>\n",
       "      <td>2</td>\n",
       "      <td>40</td>\n",
       "      <td>1.20</td>\n",
       "      <td>3386.0</td>\n",
       "      <td>34.3373</td>\n",
       "      <td>390559840</td>\n",
       "      <td>1305629</td>\n",
       "      <td>19779</td>\n",
       "    </tr>\n",
       "    <tr>\n",
       "      <th>46</th>\n",
       "      <td>251340</td>\n",
       "      <td>3</td>\n",
       "      <td>KODEX 코스닥150선물인버스</td>\n",
       "      <td>5480</td>\n",
       "      <td>2</td>\n",
       "      <td>175</td>\n",
       "      <td>3.30</td>\n",
       "      <td>5492.0</td>\n",
       "      <td>18.2831</td>\n",
       "      <td>131286036</td>\n",
       "      <td>703527</td>\n",
       "      <td>3743</td>\n",
       "    </tr>\n",
       "    <tr>\n",
       "      <th>21</th>\n",
       "      <td>114800</td>\n",
       "      <td>3</td>\n",
       "      <td>KODEX 인버스</td>\n",
       "      <td>5060</td>\n",
       "      <td>2</td>\n",
       "      <td>35</td>\n",
       "      <td>0.70</td>\n",
       "      <td>5062.0</td>\n",
       "      <td>16.3194</td>\n",
       "      <td>60215412</td>\n",
       "      <td>302568</td>\n",
       "      <td>8840</td>\n",
       "    </tr>\n",
       "    <tr>\n",
       "      <th>2</th>\n",
       "      <td>122630</td>\n",
       "      <td>3</td>\n",
       "      <td>KODEX 레버리지</td>\n",
       "      <td>14135</td>\n",
       "      <td>5</td>\n",
       "      <td>-185</td>\n",
       "      <td>-1.29</td>\n",
       "      <td>14147.0</td>\n",
       "      <td>-28.0583</td>\n",
       "      <td>57013787</td>\n",
       "      <td>815169</td>\n",
       "      <td>21909</td>\n",
       "    </tr>\n",
       "    <tr>\n",
       "      <th>22</th>\n",
       "      <td>233740</td>\n",
       "      <td>3</td>\n",
       "      <td>KODEX 코스닥150레버리지</td>\n",
       "      <td>7505</td>\n",
       "      <td>5</td>\n",
       "      <td>-475</td>\n",
       "      <td>-5.95</td>\n",
       "      <td>7483.0</td>\n",
       "      <td>-33.1939</td>\n",
       "      <td>47523187</td>\n",
       "      <td>371663</td>\n",
       "      <td>8165</td>\n",
       "    </tr>\n",
       "    <tr>\n",
       "      <th>92</th>\n",
       "      <td>252710</td>\n",
       "      <td>3</td>\n",
       "      <td>TIGER 200선물인버스2X</td>\n",
       "      <td>3540</td>\n",
       "      <td>2</td>\n",
       "      <td>45</td>\n",
       "      <td>1.29</td>\n",
       "      <td>3541.0</td>\n",
       "      <td>34.4230</td>\n",
       "      <td>15983270</td>\n",
       "      <td>55963</td>\n",
       "      <td>1274</td>\n",
       "    </tr>\n",
       "    <tr>\n",
       "      <th>31</th>\n",
       "      <td>229200</td>\n",
       "      <td>1</td>\n",
       "      <td>KODEX 코스닥150</td>\n",
       "      <td>10265</td>\n",
       "      <td>5</td>\n",
       "      <td>-350</td>\n",
       "      <td>-3.30</td>\n",
       "      <td>10347.0</td>\n",
       "      <td>-17.4316</td>\n",
       "      <td>15724946</td>\n",
       "      <td>164848</td>\n",
       "      <td>5343</td>\n",
       "    </tr>\n",
       "    <tr>\n",
       "      <th>1</th>\n",
       "      <td>371460</td>\n",
       "      <td>4</td>\n",
       "      <td>TIGER 차이나전기차SOLACTIVE</td>\n",
       "      <td>17700</td>\n",
       "      <td>2</td>\n",
       "      <td>700</td>\n",
       "      <td>4.12</td>\n",
       "      <td>17844.0</td>\n",
       "      <td>12.6573</td>\n",
       "      <td>13690582</td>\n",
       "      <td>238235</td>\n",
       "      <td>42388</td>\n",
       "    </tr>\n",
       "    <tr>\n",
       "      <th>0</th>\n",
       "      <td>069500</td>\n",
       "      <td>1</td>\n",
       "      <td>KODEX 200</td>\n",
       "      <td>30640</td>\n",
       "      <td>5</td>\n",
       "      <td>-250</td>\n",
       "      <td>-0.81</td>\n",
       "      <td>30607.0</td>\n",
       "      <td>-14.4298</td>\n",
       "      <td>9784052</td>\n",
       "      <td>301620</td>\n",
       "      <td>47247</td>\n",
       "    </tr>\n",
       "    <tr>\n",
       "      <th>60</th>\n",
       "      <td>271050</td>\n",
       "      <td>5</td>\n",
       "      <td>KODEX WTI원유선물인버스(H)</td>\n",
       "      <td>4265</td>\n",
       "      <td>2</td>\n",
       "      <td>10</td>\n",
       "      <td>0.24</td>\n",
       "      <td>4263.0</td>\n",
       "      <td>-2.7429</td>\n",
       "      <td>7550148</td>\n",
       "      <td>32475</td>\n",
       "      <td>2469</td>\n",
       "    </tr>\n",
       "  </tbody>\n",
       "</table>\n",
       "</div>"
      ],
      "text/plain": [
       "   itemcode  etfTabCode               itemname  nowVal  risefall  changeVal  \\\n",
       "4    252670           3       KODEX 200선물인버스2X    3385         2         40   \n",
       "46   251340           3      KODEX 코스닥150선물인버스    5480         2        175   \n",
       "21   114800           3              KODEX 인버스    5060         2         35   \n",
       "2    122630           3             KODEX 레버리지   14135         5       -185   \n",
       "22   233740           3       KODEX 코스닥150레버리지    7505         5       -475   \n",
       "92   252710           3       TIGER 200선물인버스2X    3540         2         45   \n",
       "31   229200           1           KODEX 코스닥150   10265         5       -350   \n",
       "1    371460           4  TIGER 차이나전기차SOLACTIVE   17700         2        700   \n",
       "0    069500           1              KODEX 200   30640         5       -250   \n",
       "60   271050           5    KODEX WTI원유선물인버스(H)    4265         2         10   \n",
       "\n",
       "    changeRate      nav  threeMonthEarnRate      quant   amonut  marketSum  \n",
       "4         1.20   3386.0             34.3373  390559840  1305629      19779  \n",
       "46        3.30   5492.0             18.2831  131286036   703527       3743  \n",
       "21        0.70   5062.0             16.3194   60215412   302568       8840  \n",
       "2        -1.29  14147.0            -28.0583   57013787   815169      21909  \n",
       "22       -5.95   7483.0            -33.1939   47523187   371663       8165  \n",
       "92        1.29   3541.0             34.4230   15983270    55963       1274  \n",
       "31       -3.30  10347.0            -17.4316   15724946   164848       5343  \n",
       "1         4.12  17844.0             12.6573   13690582   238235      42388  \n",
       "0        -0.81  30607.0            -14.4298    9784052   301620      47247  \n",
       "60        0.24   4263.0             -2.7429    7550148    32475       2469  "
      ]
     },
     "execution_count": 12,
     "metadata": {},
     "output_type": "execute_result"
    }
   ],
   "source": [
    "# https://finance.naver.com/sise/etf.nhn 에서 값을 비교해보면 quant는 거래량임을 알 수 있습니다.\n",
    "# 거래량(quant) 기준으로 내림차순으로 정렬하여 상위 10개의 데이터를 봅니다.\n",
    "df.sort_values(\"quant\", ascending=False).head(10)"
   ]
  },
  {
   "cell_type": "code",
   "execution_count": 15,
   "metadata": {
    "id": "_65UmaWzBYkq"
   },
   "outputs": [
    {
     "data": {
      "text/plain": [
       "1     64\n",
       "2    207\n",
       "3     37\n",
       "4    147\n",
       "5     18\n",
       "6     62\n",
       "7     40\n",
       "Name: etfTabCode, dtype: int64"
      ]
     },
     "execution_count": 15,
     "metadata": {},
     "output_type": "execute_result"
    }
   ],
   "source": [
    "# etfTabCode column의 데이터 구성을 살펴봅니다.\n",
    "# 추후 알게되겠지만 etfTabCode는 해당 사이트에서 \n",
    "# 전체(0), 국내 시장지수(1), 국내 업종/테마(2), 국내 파생(3) ~\n",
    "# 해외 주식(4), 원자재(5), 채권(6), 기타(7)로 자료가 구분되어 있습니다.\n",
    "df[\"etfTabCode\"].value_counts().sort_index()"
   ]
  },
  {
   "cell_type": "code",
   "execution_count": 16,
   "metadata": {
    "id": "k61c2Hr1BYkq"
   },
   "outputs": [
    {
     "data": {
      "text/html": [
       "<div>\n",
       "<style scoped>\n",
       "    .dataframe tbody tr th:only-of-type {\n",
       "        vertical-align: middle;\n",
       "    }\n",
       "\n",
       "    .dataframe tbody tr th {\n",
       "        vertical-align: top;\n",
       "    }\n",
       "\n",
       "    .dataframe thead th {\n",
       "        text-align: right;\n",
       "    }\n",
       "</style>\n",
       "<table border=\"1\" class=\"dataframe\">\n",
       "  <thead>\n",
       "    <tr style=\"text-align: right;\">\n",
       "      <th></th>\n",
       "      <th>itemcode</th>\n",
       "      <th>etfTabCode</th>\n",
       "      <th>itemname</th>\n",
       "      <th>nowVal</th>\n",
       "      <th>risefall</th>\n",
       "      <th>changeVal</th>\n",
       "      <th>changeRate</th>\n",
       "      <th>nav</th>\n",
       "      <th>threeMonthEarnRate</th>\n",
       "      <th>quant</th>\n",
       "      <th>amonut</th>\n",
       "      <th>marketSum</th>\n",
       "    </tr>\n",
       "  </thead>\n",
       "  <tbody>\n",
       "    <tr>\n",
       "      <th>0</th>\n",
       "      <td>069500</td>\n",
       "      <td>1</td>\n",
       "      <td>KODEX 200</td>\n",
       "      <td>30640</td>\n",
       "      <td>5</td>\n",
       "      <td>-250</td>\n",
       "      <td>-0.81</td>\n",
       "      <td>30607.0</td>\n",
       "      <td>-14.4298</td>\n",
       "      <td>9784052</td>\n",
       "      <td>301620</td>\n",
       "      <td>47247</td>\n",
       "    </tr>\n",
       "    <tr>\n",
       "      <th>6</th>\n",
       "      <td>102110</td>\n",
       "      <td>1</td>\n",
       "      <td>TIGER 200</td>\n",
       "      <td>30725</td>\n",
       "      <td>5</td>\n",
       "      <td>-220</td>\n",
       "      <td>-0.71</td>\n",
       "      <td>30666.0</td>\n",
       "      <td>-14.4244</td>\n",
       "      <td>2772518</td>\n",
       "      <td>85635</td>\n",
       "      <td>18481</td>\n",
       "    </tr>\n",
       "    <tr>\n",
       "      <th>17</th>\n",
       "      <td>310970</td>\n",
       "      <td>1</td>\n",
       "      <td>TIGER MSCI Korea TR</td>\n",
       "      <td>12495</td>\n",
       "      <td>5</td>\n",
       "      <td>-120</td>\n",
       "      <td>-0.95</td>\n",
       "      <td>12496.0</td>\n",
       "      <td>-14.1253</td>\n",
       "      <td>7088</td>\n",
       "      <td>89</td>\n",
       "      <td>11558</td>\n",
       "    </tr>\n",
       "    <tr>\n",
       "      <th>18</th>\n",
       "      <td>278530</td>\n",
       "      <td>1</td>\n",
       "      <td>KODEX 200TR</td>\n",
       "      <td>10215</td>\n",
       "      <td>5</td>\n",
       "      <td>-80</td>\n",
       "      <td>-0.78</td>\n",
       "      <td>10193.0</td>\n",
       "      <td>-14.3511</td>\n",
       "      <td>99373</td>\n",
       "      <td>1022</td>\n",
       "      <td>10634</td>\n",
       "    </tr>\n",
       "    <tr>\n",
       "      <th>20</th>\n",
       "      <td>148020</td>\n",
       "      <td>1</td>\n",
       "      <td>KBSTAR 200</td>\n",
       "      <td>30785</td>\n",
       "      <td>5</td>\n",
       "      <td>-150</td>\n",
       "      <td>-0.48</td>\n",
       "      <td>30711.0</td>\n",
       "      <td>-14.8383</td>\n",
       "      <td>835207</td>\n",
       "      <td>25804</td>\n",
       "      <td>10144</td>\n",
       "    </tr>\n",
       "    <tr>\n",
       "      <th>...</th>\n",
       "      <td>...</td>\n",
       "      <td>...</td>\n",
       "      <td>...</td>\n",
       "      <td>...</td>\n",
       "      <td>...</td>\n",
       "      <td>...</td>\n",
       "      <td>...</td>\n",
       "      <td>...</td>\n",
       "      <td>...</td>\n",
       "      <td>...</td>\n",
       "      <td>...</td>\n",
       "      <td>...</td>\n",
       "    </tr>\n",
       "    <tr>\n",
       "      <th>504</th>\n",
       "      <td>226980</td>\n",
       "      <td>1</td>\n",
       "      <td>KODEX 200 중소형</td>\n",
       "      <td>10835</td>\n",
       "      <td>5</td>\n",
       "      <td>-275</td>\n",
       "      <td>-2.48</td>\n",
       "      <td>10834.0</td>\n",
       "      <td>-14.8268</td>\n",
       "      <td>1627</td>\n",
       "      <td>17</td>\n",
       "      <td>54</td>\n",
       "    </tr>\n",
       "    <tr>\n",
       "      <th>511</th>\n",
       "      <td>391670</td>\n",
       "      <td>1</td>\n",
       "      <td>HK 베스트일레븐액티브</td>\n",
       "      <td>7550</td>\n",
       "      <td>5</td>\n",
       "      <td>-35</td>\n",
       "      <td>-0.46</td>\n",
       "      <td>7567.0</td>\n",
       "      <td>-12.9662</td>\n",
       "      <td>27</td>\n",
       "      <td>0</td>\n",
       "      <td>53</td>\n",
       "    </tr>\n",
       "    <tr>\n",
       "      <th>523</th>\n",
       "      <td>295820</td>\n",
       "      <td>1</td>\n",
       "      <td>ARIRANG 200동일가중</td>\n",
       "      <td>9065</td>\n",
       "      <td>5</td>\n",
       "      <td>-170</td>\n",
       "      <td>-1.84</td>\n",
       "      <td>9094.0</td>\n",
       "      <td>-12.5971</td>\n",
       "      <td>134</td>\n",
       "      <td>1</td>\n",
       "      <td>50</td>\n",
       "    </tr>\n",
       "    <tr>\n",
       "      <th>540</th>\n",
       "      <td>391680</td>\n",
       "      <td>1</td>\n",
       "      <td>HK 하이볼액티브</td>\n",
       "      <td>7180</td>\n",
       "      <td>5</td>\n",
       "      <td>-45</td>\n",
       "      <td>-0.62</td>\n",
       "      <td>7125.0</td>\n",
       "      <td>-14.8999</td>\n",
       "      <td>31</td>\n",
       "      <td>0</td>\n",
       "      <td>43</td>\n",
       "    </tr>\n",
       "    <tr>\n",
       "      <th>567</th>\n",
       "      <td>301400</td>\n",
       "      <td>1</td>\n",
       "      <td>ARIRANG 코스닥150</td>\n",
       "      <td>10390</td>\n",
       "      <td>5</td>\n",
       "      <td>-365</td>\n",
       "      <td>-3.39</td>\n",
       "      <td>10441.0</td>\n",
       "      <td>-17.3138</td>\n",
       "      <td>5095</td>\n",
       "      <td>53</td>\n",
       "      <td>21</td>\n",
       "    </tr>\n",
       "  </tbody>\n",
       "</table>\n",
       "<p>64 rows × 12 columns</p>\n",
       "</div>"
      ],
      "text/plain": [
       "    itemcode  etfTabCode             itemname  nowVal  risefall  changeVal  \\\n",
       "0     069500           1            KODEX 200   30640         5       -250   \n",
       "6     102110           1            TIGER 200   30725         5       -220   \n",
       "17    310970           1  TIGER MSCI Korea TR   12495         5       -120   \n",
       "18    278530           1          KODEX 200TR   10215         5        -80   \n",
       "20    148020           1           KBSTAR 200   30785         5       -150   \n",
       "..       ...         ...                  ...     ...       ...        ...   \n",
       "504   226980           1        KODEX 200 중소형   10835         5       -275   \n",
       "511   391670           1         HK 베스트일레븐액티브    7550         5        -35   \n",
       "523   295820           1      ARIRANG 200동일가중    9065         5       -170   \n",
       "540   391680           1            HK 하이볼액티브    7180         5        -45   \n",
       "567   301400           1       ARIRANG 코스닥150   10390         5       -365   \n",
       "\n",
       "     changeRate      nav  threeMonthEarnRate    quant  amonut  marketSum  \n",
       "0         -0.81  30607.0            -14.4298  9784052  301620      47247  \n",
       "6         -0.71  30666.0            -14.4244  2772518   85635      18481  \n",
       "17        -0.95  12496.0            -14.1253     7088      89      11558  \n",
       "18        -0.78  10193.0            -14.3511    99373    1022      10634  \n",
       "20        -0.48  30711.0            -14.8383   835207   25804      10144  \n",
       "..          ...      ...                 ...      ...     ...        ...  \n",
       "504       -2.48  10834.0            -14.8268     1627      17         54  \n",
       "511       -0.46   7567.0            -12.9662       27       0         53  \n",
       "523       -1.84   9094.0            -12.5971      134       1         50  \n",
       "540       -0.62   7125.0            -14.8999       31       0         43  \n",
       "567       -3.39  10441.0            -17.3138     5095      53         21  \n",
       "\n",
       "[64 rows x 12 columns]"
      ]
     },
     "execution_count": 16,
     "metadata": {},
     "output_type": "execute_result"
    }
   ],
   "source": [
    "# pandas 의 boolean Indexing을 사용해서\n",
    "# 국내 시장지수(etfTabCode == 1)의 데이터들만 확인하여 봅니다.\n",
    "# 조건문의 결과가 Index와  True, False 로 나오기 때문에 boolean Indexing 이라 부릅니다.\n",
    "df[df[\"etfTabCode\"] == 1]"
   ]
  },
  {
   "cell_type": "markdown",
   "metadata": {
    "id": "SAp8CMEYNw8H"
   },
   "source": [
    "## 데이터 전처리\n",
    "### etfTabName 만들기"
   ]
  },
  {
   "cell_type": "code",
   "execution_count": 20,
   "metadata": {
    "id": "8YTSMwXgBYkq"
   },
   "outputs": [
    {
     "data": {
      "text/plain": [
       "'전체\\n국내 시장지수\\n국내 업종/테마\\n국내 파생\\n해외 주식\\n원자재\\n채권\\n기타'"
      ]
     },
     "execution_count": 20,
     "metadata": {},
     "output_type": "execute_result"
    }
   ],
   "source": [
    "# etf name을 구분하기 위한 list를 만듭니다.\n",
    "# \"\"\" 를 이용해 \\n을 포함하는 string을 만들고 split으로 나누어서 list를 간편히 만들수 있습니다.\n",
    "etfcode = \"\"\"전체\n",
    "국내 시장지수\n",
    "국내 업종/테마\n",
    "국내 파생\n",
    "해외 주식\n",
    "원자재\n",
    "채권\n",
    "기타\"\"\"\n",
    "etfcode"
   ]
  },
  {
   "cell_type": "code",
   "execution_count": 21,
   "metadata": {
    "id": "H7AFA9ftBYkq"
   },
   "outputs": [
    {
     "data": {
      "text/plain": [
       "['전체', '국내 시장지수', '국내 업종/테마', '국내 파생', '해외 주식', '원자재', '채권', '기타']"
      ]
     },
     "execution_count": 21,
     "metadata": {},
     "output_type": "execute_result"
    }
   ],
   "source": [
    "# split으로 나누어 list형 데이터를 만듭니다.\n",
    "etf_tab_name = etfcode.split('\\n')\n",
    "etf_tab_name"
   ]
  },
  {
   "cell_type": "code",
   "execution_count": 23,
   "metadata": {},
   "outputs": [
    {
     "data": {
      "text/plain": [
       "'국내 업종/테마'"
      ]
     },
     "execution_count": 23,
     "metadata": {},
     "output_type": "execute_result"
    }
   ],
   "source": [
    "def find_etf_tab_name(no):\n",
    "        return etf_tab_name[no]\n",
    "find_etf_tab_name(2)"
   ]
  },
  {
   "cell_type": "code",
   "execution_count": 27,
   "metadata": {
    "id": "LrmLD2j0BYkq"
   },
   "outputs": [
    {
     "data": {
      "text/plain": [
       "0       국내 시장지수\n",
       "1         해외 주식\n",
       "2         국내 파생\n",
       "3         해외 주식\n",
       "4         국내 파생\n",
       "         ...   \n",
       "570    국내 업종/테마\n",
       "571    국내 업종/테마\n",
       "572    국내 업종/테마\n",
       "573    국내 업종/테마\n",
       "574    국내 업종/테마\n",
       "Name: etfTabName, Length: 575, dtype: object"
      ]
     },
     "execution_count": 27,
     "metadata": {},
     "output_type": "execute_result"
    }
   ],
   "source": [
    "# etfTabName 이름이 직관적이지 않기 때문에 한글로 변경해 줍니다.\n",
    "# map과 lambda 함수를 이용하여 eftTabCode column들의 각 cell의 내용에 따라\n",
    "# etf_tab_name list의 원소값에 따라 이름을 만들어 주고 etfTabName 이라는 새로운 컬럼을 생성합니다.\n",
    "# 즉 etfTabCode 숫자 -> list의 원소 인덱스로 한글 이름을 매핑해 줍니다. -> etfTabName에 한글로 저장\n",
    "\n",
    "# df['etfTabCode'].map(find_etf_tab_name)\n",
    "df[\"etfTabName\"] = df['etfTabCode'].map(lambda x: etf_tab_name[x])\n",
    "df[\"etfTabName\"]"
   ]
  },
  {
   "cell_type": "code",
   "execution_count": 30,
   "metadata": {
    "id": "ked6jOdgBYkq"
   },
   "outputs": [
    {
     "data": {
      "text/html": [
       "<div>\n",
       "<style scoped>\n",
       "    .dataframe tbody tr th:only-of-type {\n",
       "        vertical-align: middle;\n",
       "    }\n",
       "\n",
       "    .dataframe tbody tr th {\n",
       "        vertical-align: top;\n",
       "    }\n",
       "\n",
       "    .dataframe thead th {\n",
       "        text-align: right;\n",
       "    }\n",
       "</style>\n",
       "<table border=\"1\" class=\"dataframe\">\n",
       "  <thead>\n",
       "    <tr style=\"text-align: right;\">\n",
       "      <th></th>\n",
       "      <th>itemname</th>\n",
       "      <th>etfTabName</th>\n",
       "    </tr>\n",
       "  </thead>\n",
       "  <tbody>\n",
       "    <tr>\n",
       "      <th>2</th>\n",
       "      <td>KODEX 레버리지</td>\n",
       "      <td>국내 파생</td>\n",
       "    </tr>\n",
       "    <tr>\n",
       "      <th>4</th>\n",
       "      <td>KODEX 200선물인버스2X</td>\n",
       "      <td>국내 파생</td>\n",
       "    </tr>\n",
       "    <tr>\n",
       "      <th>21</th>\n",
       "      <td>KODEX 인버스</td>\n",
       "      <td>국내 파생</td>\n",
       "    </tr>\n",
       "    <tr>\n",
       "      <th>22</th>\n",
       "      <td>KODEX 코스닥150레버리지</td>\n",
       "      <td>국내 파생</td>\n",
       "    </tr>\n",
       "    <tr>\n",
       "      <th>46</th>\n",
       "      <td>KODEX 코스닥150선물인버스</td>\n",
       "      <td>국내 파생</td>\n",
       "    </tr>\n",
       "  </tbody>\n",
       "</table>\n",
       "</div>"
      ],
      "text/plain": [
       "             itemname etfTabName\n",
       "2          KODEX 레버리지      국내 파생\n",
       "4    KODEX 200선물인버스2X      국내 파생\n",
       "21          KODEX 인버스      국내 파생\n",
       "22   KODEX 코스닥150레버리지      국내 파생\n",
       "46  KODEX 코스닥150선물인버스      국내 파생"
      ]
     },
     "execution_count": 30,
     "metadata": {},
     "output_type": "execute_result"
    }
   ],
   "source": [
    "# etfTabName column이 제대로 만들어졌는지 확인합니다.\n",
    "df.loc[df['etfTabCode'] == 3, [\"itemname\", \"etfTabName\"]].head()"
   ]
  },
  {
   "cell_type": "markdown",
   "metadata": {},
   "source": [
    "* map : \n",
    "    * Series에서만 사용가능\n",
    "    * [Essential basic functionality — pandas documentation](https://pandas.pydata.org/docs/user_guide/basics.html?#applying-elementwise-functions)\n",
    "\n",
    "* apply :\n",
    "    * Series와 DataFrame 둘 다 사용가능\n",
    "    * [Essential basic functionality — pandas documentation](https://pandas.pydata.org/docs/user_guide/basics.html?#row-or-column-wise-function-application)"
   ]
  },
  {
   "cell_type": "markdown",
   "metadata": {},
   "source": [
    "### 컬럼명 변경하기"
   ]
  },
  {
   "cell_type": "code",
   "execution_count": 31,
   "metadata": {},
   "outputs": [
    {
     "data": {
      "text/plain": [
       "'종목명\\n현재가\\n전일비\\n등락률\\nNAV\\n3개월수익률\\n거래량\\n거래대금(백만)\\n시가총액(억)\\n'"
      ]
     },
     "execution_count": 31,
     "metadata": {},
     "output_type": "execute_result"
    }
   ],
   "source": [
    "\"\"\"종목명\n",
    "현재가\n",
    "전일비\n",
    "등락률\n",
    "NAV\n",
    "3개월수익률\n",
    "거래량\n",
    "거래대금(백만)\n",
    "시가총액(억)\n",
    "\"\"\""
   ]
  },
  {
   "cell_type": "code",
   "execution_count": 32,
   "metadata": {
    "id": "hmI_1aqBBYkq"
   },
   "outputs": [
    {
     "data": {
      "text/plain": [
       "['itemcode',\n",
       " 'etfTabCode',\n",
       " 'itemname',\n",
       " 'nowVal',\n",
       " 'risefall',\n",
       " 'changeVal',\n",
       " 'changeRate',\n",
       " 'nav',\n",
       " 'threeMonthEarnRate',\n",
       " 'quant',\n",
       " 'amonut',\n",
       " 'marketSum',\n",
       " 'etfTabName']"
      ]
     },
     "execution_count": 32,
     "metadata": {},
     "output_type": "execute_result"
    }
   ],
   "source": [
    "# DataFrame df의 column 이름을 list로 만들어서 cols 라는 변수에 담습니다.\n",
    "cols = df.columns.tolist()\n",
    "cols"
   ]
  },
  {
   "cell_type": "code",
   "execution_count": 34,
   "metadata": {
    "id": "1TF4kMp1BYkq"
   },
   "outputs": [],
   "source": [
    "# 영어로 되어있는 column 이름을 한글로 바꾸기 위한 list를 만듭니다.\n",
    "# 빠진 column이 있는지 리스트와 길이를 확인합니다.\n",
    "col_name = \"\"\"종목코드\n",
    "탭코드\n",
    "종목명\n",
    "현재가\n",
    "등락구분\n",
    "전일비\n",
    "등락률\n",
    "순자산가치(NAV)\n",
    "3개월수익률\n",
    "거래량\n",
    "거래대금(백만)\n",
    "시가총액(억)\n",
    "유형\"\"\"\n",
    "col_name = col_name.split('\\n')"
   ]
  },
  {
   "cell_type": "code",
   "execution_count": 36,
   "metadata": {
    "id": "3N22l3f6BYkr"
   },
   "outputs": [
    {
     "data": {
      "text/plain": [
       "{'itemcode': '종목코드',\n",
       " 'etfTabCode': '탭코드',\n",
       " 'itemname': '종목명',\n",
       " 'nowVal': '현재가',\n",
       " 'risefall': '등락구분',\n",
       " 'changeVal': '전일비',\n",
       " 'changeRate': '등락률',\n",
       " 'nav': '순자산가치(NAV)',\n",
       " 'threeMonthEarnRate': '3개월수익률',\n",
       " 'quant': '거래량',\n",
       " 'amonut': '거래대금(백만)',\n",
       " 'marketSum': '시가총액(억)',\n",
       " 'etfTabName': '유형'}"
      ]
     },
     "execution_count": 36,
     "metadata": {},
     "output_type": "execute_result"
    }
   ],
   "source": [
    "# 컬럼 영문명과 한글명을 딕셔너리 형태로 만들어 비교해 볼 수도 있습니다.\n",
    "# 하지만 좀 더 간단하게 여기에서는 리스트 값을 그대로 컬럼에 넣어주는 방법을 사용할거에요.\n",
    "# 딕셔너리로 키-값 쌍을 만들어 컬럼의 키와 값이 잘 매치되었는지 확인해 봅니다.\n",
    "dict(zip(cols, col_name))"
   ]
  },
  {
   "cell_type": "code",
   "execution_count": 38,
   "metadata": {
    "id": "ieQ9S3L-BYkr"
   },
   "outputs": [
    {
     "data": {
      "text/plain": [
       "Index(['종목코드', '탭코드', '종목명', '현재가', '등락구분', '전일비', '등락률', '순자산가치(NAV)',\n",
       "       '3개월수익률', '거래량', '거래대금(백만)', '시가총액(억)', '유형'],\n",
       "      dtype='object')"
      ]
     },
     "execution_count": 38,
     "metadata": {},
     "output_type": "execute_result"
    }
   ],
   "source": [
    "# 기존의 데이터프레임 컬럼명에 위에서 만든 컬럼명을 할당연산자로 대입해 주면 컬럼명이 변경됩니다.\n",
    "# 컬럼 변경 후 한글로 컬럼명이 잘 변경되었는지 확인해 봅니다.\n",
    "df.columns = col_name\n",
    "df.columns"
   ]
  },
  {
   "cell_type": "markdown",
   "metadata": {},
   "source": [
    "### 파생변수 만들기\n",
    "* 브랜드, 인버스, 레버리지, 환헤지H 변수 만들기\n",
    "* [Working with text data — pandas documentation](https://pandas.pydata.org/docs/user_guide/text.html)"
   ]
  },
  {
   "cell_type": "code",
   "execution_count": null,
   "metadata": {
    "id": "F-8P7v-3BYkr",
    "scrolled": true
   },
   "outputs": [],
   "source": [
    "# 종목명 column의 데이터를 space(\" \")를 이용해 나누고 제일 앞부분[0]을 새로운 column을 만들어 저장하고 확인합니다.\n",
    "# expand = True 옵션을 사용하면 문자열을 나눈 값을 인덱스 순서대로 가져와서 사용할 수 있습니다.\n",
    "# df[\"브랜드\"]\n"
   ]
  },
  {
   "cell_type": "code",
   "execution_count": null,
   "metadata": {},
   "outputs": [],
   "source": []
  },
  {
   "cell_type": "markdown",
   "metadata": {
    "id": "d0YQdJoABYkr"
   },
   "source": [
    "* 종목명 column의 내용중이 '인버스'라는 단어가 있으면 새로운 column '인버스'에 True 값이 들어가게 됩니다.\n",
    "* contains는 bool type을 반환하기 때문에 새로운 column에는 True나 False가 들어가게 됩니다.\n",
    "* 마찬가지로 '레버리지'와 '환헤지H'에 대해서도 동일하게 만들어 줍니다. \n",
    "* H라는 단어가 종목명에 들어갈 수도 있기 때문에 H뒤에 닫는 소괄호\")\"까지 확인합니다.\n",
    "* 소괄호는 정규표현식에서 의미를 가지는 문자이기 때문에 문자 그대로 읽어오기 위해서는 \"\\\"로 전처리가 필요합니다."
   ]
  },
  {
   "cell_type": "code",
   "execution_count": null,
   "metadata": {
    "id": "d0YQdJoABYkr"
   },
   "outputs": [],
   "source": [
    "# 인버스ETF는 지수가 하락하면 오히려 수익률이 오르도록 설계된 상품입니다.\n",
    "# df[\"인버스\"]\n"
   ]
  },
  {
   "cell_type": "markdown",
   "metadata": {},
   "source": [
    "레버리지(leverage)는 타인의 자본을 지렛대처럼 이용하여 자기 자본의 이익률을 높이는 것이다. 고정비용이 있을 때 매출액의 변화가 기업의 손익에 미치는 영향을 분석하는 데에 쓰인다. 이는 고정영업비용과 고정재무비용의 부담정도에 따라 기업에게 귀속되는 최종적인 주당이익에 어떤 영향을 미치는지 분석할 수 있게 한다.\n",
    "\n",
    "* 출처 : [레버리지 - 위키백과, 우리 모두의 백과사전](https://ko.wikipedia.org/wiki/%EB%A0%88%EB%B2%84%EB%A6%AC%EC%A7%80)"
   ]
  },
  {
   "cell_type": "code",
   "execution_count": null,
   "metadata": {
    "id": "d0YQdJoABYkr"
   },
   "outputs": [],
   "source": [
    "# df[\"레버리지\"]\n"
   ]
  },
  {
   "cell_type": "markdown",
   "metadata": {},
   "source": [
    "헤지(hedge)란 환율, 금리 또는 다른 자산에 대한 투자등을 통해 보유하고 있는 위험자산의 가격변동을 제거하는 것을 말한다. 즉, 확정되지 않은 자산을 확정된 자산으로 편입하는 과정이라 할 수 있으며, 주로 선물 옵션과 같은 파생상품을 이용한다. 이를 통해 체계적 위험을 제거할 수 있다.\n",
    "\n",
    "부(wealth)를 결정하는 변수값의 변화와 관계없이 항상 일정한 부를 유지하게 하는 헤지를 완전헤지라고 하고, 그렇지 못한 것을 불완전헤지라고 한다.\n",
    "* 출처 : [헤지 - 위키백과, 우리 모두의 백과사전](https://ko.wikipedia.org/wiki/%ED%97%A4%EC%A7%80)"
   ]
  },
  {
   "cell_type": "code",
   "execution_count": null,
   "metadata": {
    "id": "d0YQdJoABYkr"
   },
   "outputs": [],
   "source": [
    "# (H)의 의미는 환율변동 위험을 막기 위해 Hedge를 한다는 뜻입니다.\n",
    "# df[\"환헤지H\"]\n"
   ]
  },
  {
   "cell_type": "markdown",
   "metadata": {},
   "source": [
    "### 전처리가 잘 되었는지 확인하기"
   ]
  },
  {
   "cell_type": "code",
   "execution_count": null,
   "metadata": {},
   "outputs": [],
   "source": [
    "# 등락구분에 있는 값의 빈도수를 세어봅니다.\n"
   ]
  },
  {
   "cell_type": "code",
   "execution_count": null,
   "metadata": {
    "id": "MCaYBOfYBYkr"
   },
   "outputs": [],
   "source": [
    "# 전체적으로 데이터 전처리가 끝났다면 info를 통해 데이터 요약정보 보기\n"
   ]
  },
  {
   "cell_type": "markdown",
   "metadata": {},
   "source": [
    "## 파일로 저장하기"
   ]
  },
  {
   "cell_type": "code",
   "execution_count": null,
   "metadata": {},
   "outputs": [],
   "source": [
    "# 기존에 불러왔던 파일명에서 _raw를 제거하고 새로운 파일명으로 저장합니다.\n",
    "# save_file_name \n"
   ]
  },
  {
   "cell_type": "code",
   "execution_count": null,
   "metadata": {
    "id": "WTKYc0eBBYkt"
   },
   "outputs": [],
   "source": [
    "# pandas의 to_csv로 파일을 저장합니다.\n",
    "# index=False로 인덱스값은 저장하지 않습니다.\n"
   ]
  },
  {
   "cell_type": "code",
   "execution_count": null,
   "metadata": {},
   "outputs": [],
   "source": [
    "# 저장한 파일을 읽어와서 제대로 저장되었는지 확인합니다.\n",
    "# 또, 종목코드는 그냥 읽어오면 숫자 맨 앞의 0이 생략될 수 있으니 object 타입으로 불러옵니다.\n"
   ]
  },
  {
   "cell_type": "code",
   "execution_count": null,
   "metadata": {},
   "outputs": [],
   "source": []
  }
 ],
 "metadata": {
  "colab": {
   "collapsed_sections": [],
   "name": "8. naver-etf-eda.ipynb",
   "provenance": [],
   "toc_visible": true
  },
  "kernelspec": {
   "display_name": "Python 3 (ipykernel)",
   "language": "python",
   "name": "python3"
  },
  "language_info": {
   "codemirror_mode": {
    "name": "ipython",
    "version": 3
   },
   "file_extension": ".py",
   "mimetype": "text/x-python",
   "name": "python",
   "nbconvert_exporter": "python",
   "pygments_lexer": "ipython3",
   "version": "3.10.4"
  },
  "toc": {
   "base_numbering": 1,
   "nav_menu": {},
   "number_sections": true,
   "sideBar": true,
   "skip_h1_title": false,
   "title_cell": "Table of Contents",
   "title_sidebar": "Contents",
   "toc_cell": false,
   "toc_position": {
    "height": "calc(100% - 180px)",
    "left": "10px",
    "top": "150px",
    "width": "202px"
   },
   "toc_section_display": true,
   "toc_window_display": true
  },
  "varInspector": {
   "cols": {
    "lenName": 16,
    "lenType": 16,
    "lenVar": 40
   },
   "kernels_config": {
    "python": {
     "delete_cmd_postfix": "",
     "delete_cmd_prefix": "del ",
     "library": "var_list.py",
     "varRefreshCmd": "print(var_dic_list())"
    },
    "r": {
     "delete_cmd_postfix": ") ",
     "delete_cmd_prefix": "rm(",
     "library": "var_list.r",
     "varRefreshCmd": "cat(var_dic_list()) "
    }
   },
   "types_to_exclude": [
    "module",
    "function",
    "builtin_function_or_method",
    "instance",
    "_Feature"
   ],
   "window_display": false
  }
 },
 "nbformat": 4,
 "nbformat_minor": 1
}
